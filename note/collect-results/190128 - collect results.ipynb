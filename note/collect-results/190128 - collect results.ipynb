{
 "cells": [
  {
   "cell_type": "markdown",
   "metadata": {},
   "source": [
    "# Collect Results\n",
    "\n",
    "Here I collect the results of conduceted experiments. This needs to happen after you run. Running experiments just generates raw data."
   ]
  },
  {
   "cell_type": "markdown",
   "metadata": {
    "heading_collapsed": true
   },
   "source": [
    "## Imports"
   ]
  },
  {
   "cell_type": "code",
   "execution_count": 3,
   "metadata": {
    "collapsed": true,
    "hidden": true
   },
   "outputs": [],
   "source": [
    "# Imports\n",
    "import os\n",
    "import numpy as np\n",
    "import pandas as pd\n",
    "import json\n",
    "import sys\n",
    "import pickle as pkl\n",
    "import warnings\n",
    "\n",
    "from os.path import dirname\n",
    "\n",
    "# Custom\n",
    "\n",
    "root_dir = dirname(dirname(os.getcwd()))\n",
    "src_dir = os.path.join(root_dir, \"src\")\n",
    "sys.path.append(src_dir)\n",
    "\n",
    "import exp\n",
    "from exp.utils.extra import mem_usage\n",
    "from exp.runner.RunExp import RunExp\n",
    "from exp.runner.RunMercs import RunMercs"
   ]
  },
  {
   "cell_type": "markdown",
   "metadata": {
    "heading_collapsed": true
   },
   "source": [
    "## Methods\n",
    "\n",
    "It works like this."
   ]
  },
  {
   "cell_type": "code",
   "execution_count": 4,
   "metadata": {
    "code_folding": [
     0
    ],
    "collapsed": true,
    "hidden": true
   },
   "outputs": [],
   "source": [
    "def load_or_make_runner(idx=None, kind=\"RunExp\", root_dir=None, **kwargs):\n",
    "\n",
    "    if kind in {\"RunExp\"}:\n",
    "        helper = RunExp()\n",
    "    elif kind in {\"RunMercs\"}:\n",
    "        helper = RunMercs()\n",
    "    else:\n",
    "        msg = \"\"\"\n",
    "        Did not recognize kind:    {}\n",
    "        \"\"\".format(\n",
    "            kind\n",
    "        )\n",
    "        raise ValueError(msg)\n",
    "\n",
    "    helper.make_config(idx=idx, root_dir=root_dir, **kwargs)\n",
    "    runner_fname = helper.get_fname(kind)\n",
    "\n",
    "    if os.path.isfile(runner_fname):\n",
    "        with open(runner_fname, \"rb\") as f:\n",
    "            runner = pkl.load(f)\n",
    "        del helper\n",
    "    else:\n",
    "        msg = \"\"\"\n",
    "        Could not load the actual runner. Using the self-made helper.\n",
    "        \"\"\"\n",
    "        warnings.warn(msg)\n",
    "        runner = helper\n",
    "    return runner"
   ]
  },
  {
   "cell_type": "markdown",
   "metadata": {},
   "source": [
    "## Factory Floor\n",
    "\n",
    "Here, you fill in the ID of the `RunExp` runner. This is then found, and contains all the information on where the experimental outputs were saved. "
   ]
  },
  {
   "cell_type": "code",
   "execution_count": 5,
   "metadata": {},
   "outputs": [
    {
     "name": "stdout",
     "output_type": "stream",
     "text": [
      "\n",
      "        Model was loaded from disk: /cw/dtailocal/Repos/random-walks-random-forests/resc/models/nltcs/config/nltcs_mod_config_Mercs_md4.json\n",
      "        \n",
      "\n",
      "        Model was loaded from disk: /cw/dtailocal/Repos/random-walks-random-forests/resc/models/msnbc/config/msnbc_mod_config_Mercs_md4.json\n",
      "        \n",
      "\n",
      "        Model was loaded from disk: /cw/dtailocal/Repos/random-walks-random-forests/resc/models/nltcs/config/nltcs_mod_config_Mercs_md4.json\n",
      "        \n",
      "\n",
      "        Model was loaded from disk: /cw/dtailocal/Repos/random-walks-random-forests/resc/models/msnbc/config/msnbc_mod_config_Mercs_md4.json\n",
      "        \n"
     ]
    }
   ],
   "source": [
    "idx = 1\n",
    "runner = load_or_make_runner(idx=idx, kind=\"RunExp\", root_dir=root_dir)\n",
    "runner.aggregate_outputs(save=True)"
   ]
  },
  {
   "cell_type": "markdown",
   "metadata": {},
   "source": [
    "This is how we aggregate the outputs of this experiment."
   ]
  }
 ],
 "metadata": {
  "kernelspec": {
   "display_name": "rwrf",
   "language": "python",
   "name": "rwrf"
  },
  "language_info": {
   "codemirror_mode": {
    "name": "ipython",
    "version": 3
   },
   "file_extension": ".py",
   "mimetype": "text/x-python",
   "name": "python",
   "nbconvert_exporter": "python",
   "pygments_lexer": "ipython3",
   "version": "3.6.8"
  },
  "toc": {
   "nav_menu": {},
   "number_sections": true,
   "sideBar": true,
   "skip_h1_title": true,
   "toc_cell": false,
   "toc_position": {},
   "toc_section_display": "block",
   "toc_window_display": false
  }
 },
 "nbformat": 4,
 "nbformat_minor": 2
}
