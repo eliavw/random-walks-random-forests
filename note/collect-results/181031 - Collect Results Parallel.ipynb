{
 "cells": [
  {
   "cell_type": "markdown",
   "metadata": {},
   "source": [
    "# Collect Results Parallel\n",
    "\n",
    "In this notebook, I make sure that aggregation of results also works in the case of parallel experiments."
   ]
  },
  {
   "cell_type": "markdown",
   "metadata": {
    "heading_collapsed": true
   },
   "source": [
    "## Imports"
   ]
  },
  {
   "cell_type": "code",
   "execution_count": 1,
   "metadata": {
    "collapsed": true,
    "hidden": true
   },
   "outputs": [],
   "source": [
    "# Imports\n",
    "import os\n",
    "import numpy as np\n",
    "import pandas as pd\n",
    "import json\n",
    "import sys\n",
    "import pickle as pkl\n",
    "import warnings\n",
    "\n",
    "from os.path import dirname"
   ]
  },
  {
   "cell_type": "code",
   "execution_count": 2,
   "metadata": {
    "collapsed": true,
    "hidden": true
   },
   "outputs": [],
   "source": [
    "# Custom\n",
    "\n",
    "root_dir = dirname(dirname(os.getcwd()))\n",
    "src_dir = os.path.join(root_dir, 'src')\n",
    "sys.path.append(src_dir)\n",
    "\n",
    "import exp\n",
    "from exp.utils.extra import mem_usage\n",
    "from exp.runner.RunExp import RunExp\n",
    "from exp.runner.RunMercs import RunMercs"
   ]
  },
  {
   "cell_type": "markdown",
   "metadata": {
    "heading_collapsed": true
   },
   "source": [
    "## Methods\n",
    "\n",
    "It works like this."
   ]
  },
  {
   "cell_type": "code",
   "execution_count": 3,
   "metadata": {
    "collapsed": true,
    "hidden": true
   },
   "outputs": [],
   "source": [
    "def load_or_make_runner(idx=None, kind='RunExp', root_dir=None, **kwargs):\n",
    "    \n",
    "    if kind in {'RunExp'}:\n",
    "        helper = RunExp()\n",
    "    elif kind in {'RunMercs'}:\n",
    "        helper = RunMercs()\n",
    "    else:\n",
    "        msg = \"\"\"\n",
    "        Did not recognize kind:    {}\n",
    "        \"\"\".format(kind)\n",
    "        raise ValueError(msg)\n",
    "\n",
    "    helper.make_config(idx=idx, root_dir=root_dir, **kwargs)\n",
    "    runner_fname = helper.get_fname(kind)\n",
    "\n",
    "    if os.path.isfile(runner_fname):\n",
    "        with open(runner_fname, 'rb') as f:\n",
    "            runner = pkl.load(f)\n",
    "        del helper\n",
    "    else:\n",
    "        msg = \"\"\"\n",
    "        Could not load the actual runner. Using the self-made helper.\n",
    "        \"\"\"\n",
    "        warnings.warn(msg)\n",
    "        runner = helper\n",
    "    return runner"
   ]
  },
  {
   "cell_type": "markdown",
   "metadata": {},
   "source": [
    "## Factory Floor"
   ]
  },
  {
   "cell_type": "code",
   "execution_count": 4,
   "metadata": {
    "collapsed": true
   },
   "outputs": [],
   "source": [
    "idx = 80\n",
    "runner = load_or_make_runner(idx=idx, kind='RunExp', root_dir=root_dir)\n",
    "runner.aggregate_outputs(save=True)"
   ]
  },
  {
   "cell_type": "markdown",
   "metadata": {},
   "source": [
    "This is how we aggregate the outputs of this experiment."
   ]
  }
 ],
 "metadata": {
  "kernelspec": {
   "display_name": "Python [default]",
   "language": "python",
   "name": "python3"
  },
  "language_info": {
   "codemirror_mode": {
    "name": "ipython",
    "version": 3
   },
   "file_extension": ".py",
   "mimetype": "text/x-python",
   "name": "python",
   "nbconvert_exporter": "python",
   "pygments_lexer": "ipython3",
   "version": "3.6.8"
  },
  "toc": {
   "nav_menu": {},
   "number_sections": true,
   "sideBar": true,
   "skip_h1_title": true,
   "toc_cell": false,
   "toc_position": {},
   "toc_section_display": "block",
   "toc_window_display": false
  }
 },
 "nbformat": 4,
 "nbformat_minor": 2
}
