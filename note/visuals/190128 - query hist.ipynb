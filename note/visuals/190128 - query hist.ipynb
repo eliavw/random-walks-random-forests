{
 "cells": [
  {
   "cell_type": "markdown",
   "metadata": {},
   "source": [
    "# Visualization - Query Histogram\n",
    "\n",
    "Query Histogram Visuals"
   ]
  },
  {
   "cell_type": "markdown",
   "metadata": {},
   "source": [
    "## Preliminaries"
   ]
  },
  {
   "cell_type": "markdown",
   "metadata": {
    "heading_collapsed": true
   },
   "source": [
    "### Imports"
   ]
  },
  {
   "cell_type": "code",
   "execution_count": 1,
   "metadata": {
    "collapsed": true,
    "hidden": true
   },
   "outputs": [],
   "source": [
    "# Imports\n",
    "import os\n",
    "import numpy as np\n",
    "import pandas as pd\n",
    "import json\n",
    "import sys\n",
    "import pickle as pkl\n",
    "import warnings\n",
    "\n",
    "from os.path import dirname\n",
    "\n",
    "# Dash\n",
    "import dash\n",
    "import dash_core_components as dcc\n",
    "import dash_html_components as html\n",
    "import plotly.graph_objs as go\n",
    "from dash.dependencies import Input, Output, State"
   ]
  },
  {
   "cell_type": "code",
   "execution_count": 2,
   "metadata": {
    "collapsed": true,
    "hidden": true
   },
   "outputs": [],
   "source": [
    "# Custom\n",
    "\n",
    "root_dir = dirname(dirname(os.getcwd()))\n",
    "src_dir = os.path.join(root_dir, 'src')\n",
    "sys.path.append(src_dir)\n",
    "\n",
    "import exp\n",
    "from exp.utils.extra import mem_usage\n",
    "from exp.runner.RunExp import RunExp\n",
    "from exp.runner.RunMercs import RunMercs\n",
    "from exp.eval.preprocess import (preprocess_aggr_df,\n",
    "                                 build_df_plt,\n",
    "                                 build_df_lineplot)\n",
    "from exp.visual.menus import (generate_dropdown_menu,\n",
    "                              generate_dropdown_menus_from_df,\n",
    "                              generate_slider_menu)\n",
    "from exp.visual.plots import (generate_graph)\n",
    "from exp.visual.callback import (extract_menu_inputs_menu_names_from_layout,\n",
    "                                filter_dataframe)"
   ]
  },
  {
   "cell_type": "code",
   "execution_count": 3,
   "metadata": {
    "hidden": true
   },
   "outputs": [
    {
     "data": {
      "text/plain": [
       "'/cw/dtailocal/Dropbox/Files/KUL/research/codebases/homework'"
      ]
     },
     "execution_count": 3,
     "metadata": {},
     "output_type": "execute_result"
    }
   ],
   "source": [
    "root_dir"
   ]
  },
  {
   "cell_type": "markdown",
   "metadata": {
    "heading_collapsed": true
   },
   "source": [
    "### Methods\n",
    "\n",
    "Some custom methods I need in this notebook."
   ]
  },
  {
   "cell_type": "code",
   "execution_count": 3,
   "metadata": {
    "code_folding": [],
    "collapsed": true,
    "hidden": true
   },
   "outputs": [],
   "source": [
    "def merge_aggregated_outputs_multiple_exps(exp_idxs, **kwargs):\n",
    "    \"\"\"\n",
    "    Merge aggregated outputs from multiple experiments.\n",
    "    \"\"\"\n",
    "    \n",
    "    f = collect_aggregated_outputs_from_exp\n",
    "    \n",
    "    gen = (f(exp_idx, **kwargs) for exp_idx in exp_idxs)\n",
    "    \n",
    "    result = {}\n",
    "    for g in gen:\n",
    "        result = {k: pd.concat([result.get(k, None),v], sort=False)\n",
    "                  for k,v in g.items()}    \n",
    "        \n",
    "    return result\n",
    "\n",
    "def collect_aggregated_outputs_from_exp(exp_idx, **kwargs):\n",
    "    \"\"\"\n",
    "    Load the aggregated outputs by a single experiment.\n",
    "    \"\"\"\n",
    "    \n",
    "    # Preliminaries\n",
    "    dfs = {}\n",
    "    \n",
    "    # Actions\n",
    "    re = RunExp.load(idx=exp_idx, **kwargs)\n",
    "    for output in re.aggr_outputs:\n",
    "        dfs[output] = re.load_output(kind=output)\n",
    "    return dfs"
   ]
  },
  {
   "cell_type": "markdown",
   "metadata": {},
   "source": [
    "## Global Parameters\n",
    "\n",
    "This is the single most important thing you need to specify, i.e., from which experiments do you want to collect the results?"
   ]
  },
  {
   "cell_type": "code",
   "execution_count": 4,
   "metadata": {
    "collapsed": true
   },
   "outputs": [],
   "source": [
    "exp_idxs = [1,2,3]"
   ]
  },
  {
   "cell_type": "markdown",
   "metadata": {},
   "source": [
    "## Collect Data\n",
    "\n",
    "Now, the actual work starts."
   ]
  },
  {
   "cell_type": "code",
   "execution_count": 5,
   "metadata": {
    "collapsed": true
   },
   "outputs": [],
   "source": [
    "dfs = merge_aggregated_outputs_multiple_exps(exp_idxs, root_dir=root_dir)"
   ]
  },
  {
   "cell_type": "code",
   "execution_count": 6,
   "metadata": {
    "collapsed": true
   },
   "outputs": [],
   "source": [
    "df_res = preprocess_aggr_df(dfs['results'], kind='res')\n",
    "df_qry = preprocess_aggr_df(dfs['qry_codes'], kind='qry')\n",
    "df_cfg = preprocess_aggr_df(dfs['mod_config'], kind='cfg')"
   ]
  },
  {
   "cell_type": "code",
   "execution_count": 7,
   "metadata": {},
   "outputs": [
    {
     "name": "stdout",
     "output_type": "stream",
     "text": [
      "\n",
      "    99.14 kiloB\n",
      "    \n"
     ]
    },
    {
     "data": {
      "text/html": [
       "<div>\n",
       "<style scoped>\n",
       "    .dataframe tbody tr th:only-of-type {\n",
       "        vertical-align: middle;\n",
       "    }\n",
       "\n",
       "    .dataframe tbody tr th {\n",
       "        vertical-align: top;\n",
       "    }\n",
       "\n",
       "    .dataframe thead th {\n",
       "        text-align: right;\n",
       "    }\n",
       "</style>\n",
       "<table border=\"1\" class=\"dataframe\">\n",
       "  <thead>\n",
       "    <tr style=\"text-align: right;\">\n",
       "      <th></th>\n",
       "      <th></th>\n",
       "      <th></th>\n",
       "      <th>score</th>\n",
       "      <th>t_idx</th>\n",
       "      <th>perc_miss</th>\n",
       "      <th>base_perf</th>\n",
       "      <th>dataset</th>\n",
       "    </tr>\n",
       "    <tr>\n",
       "      <th>idx</th>\n",
       "      <th>name</th>\n",
       "      <th>q_idx</th>\n",
       "      <th></th>\n",
       "      <th></th>\n",
       "      <th></th>\n",
       "      <th></th>\n",
       "      <th></th>\n",
       "    </tr>\n",
       "  </thead>\n",
       "  <tbody>\n",
       "    <tr>\n",
       "      <th rowspan=\"5\" valign=\"top\">108</th>\n",
       "      <th rowspan=\"5\" valign=\"top\">pred.param=2.0|sel.its=4|pred.type=RW|ind.max_depth=16|ind.type=DT|sel.param=2|pred.its=16.0</th>\n",
       "      <th>0</th>\n",
       "      <td>0.758511</td>\n",
       "      <td>4</td>\n",
       "      <td>0.00</td>\n",
       "      <td>75.8511</td>\n",
       "      <td>nltcs</td>\n",
       "    </tr>\n",
       "    <tr>\n",
       "      <th>1</th>\n",
       "      <td>0.789473</td>\n",
       "      <td>4</td>\n",
       "      <td>6.25</td>\n",
       "      <td>75.8511</td>\n",
       "      <td>nltcs</td>\n",
       "    </tr>\n",
       "    <tr>\n",
       "      <th>2</th>\n",
       "      <td>0.804446</td>\n",
       "      <td>4</td>\n",
       "      <td>18.75</td>\n",
       "      <td>75.8511</td>\n",
       "      <td>nltcs</td>\n",
       "    </tr>\n",
       "    <tr>\n",
       "      <th>3</th>\n",
       "      <td>0.799150</td>\n",
       "      <td>4</td>\n",
       "      <td>25.00</td>\n",
       "      <td>75.8511</td>\n",
       "      <td>nltcs</td>\n",
       "    </tr>\n",
       "    <tr>\n",
       "      <th>4</th>\n",
       "      <td>0.763447</td>\n",
       "      <td>4</td>\n",
       "      <td>37.50</td>\n",
       "      <td>75.8511</td>\n",
       "      <td>nltcs</td>\n",
       "    </tr>\n",
       "  </tbody>\n",
       "</table>\n",
       "</div>"
      ],
      "text/plain": [
       "                                                                 score  t_idx  \\\n",
       "idx name                                               q_idx                    \n",
       "108 pred.param=2.0|sel.its=4|pred.type=RW|ind.max_d... 0      0.758511      4   \n",
       "                                                       1      0.789473      4   \n",
       "                                                       2      0.804446      4   \n",
       "                                                       3      0.799150      4   \n",
       "                                                       4      0.763447      4   \n",
       "\n",
       "                                                              perc_miss  \\\n",
       "idx name                                               q_idx              \n",
       "108 pred.param=2.0|sel.its=4|pred.type=RW|ind.max_d... 0           0.00   \n",
       "                                                       1           6.25   \n",
       "                                                       2          18.75   \n",
       "                                                       3          25.00   \n",
       "                                                       4          37.50   \n",
       "\n",
       "                                                              base_perf  \\\n",
       "idx name                                               q_idx              \n",
       "108 pred.param=2.0|sel.its=4|pred.type=RW|ind.max_d... 0        75.8511   \n",
       "                                                       1        75.8511   \n",
       "                                                       2        75.8511   \n",
       "                                                       3        75.8511   \n",
       "                                                       4        75.8511   \n",
       "\n",
       "                                                             dataset  \n",
       "idx name                                               q_idx          \n",
       "108 pred.param=2.0|sel.its=4|pred.type=RW|ind.max_d... 0       nltcs  \n",
       "                                                       1       nltcs  \n",
       "                                                       2       nltcs  \n",
       "                                                       3       nltcs  \n",
       "                                                       4       nltcs  "
      ]
     },
     "execution_count": 7,
     "metadata": {},
     "output_type": "execute_result"
    }
   ],
   "source": [
    "df_plt = build_df_plt(df_res, df_qry, df_cfg)\n",
    "df_plt.rename(columns={'macro_f1': 'score'}, inplace=True)\n",
    "mem_usage(df_plt)\n",
    "df_plt.head()"
   ]
  },
  {
   "cell_type": "code",
   "execution_count": 8,
   "metadata": {},
   "outputs": [
    {
     "data": {
      "text/html": [
       "<div>\n",
       "<style scoped>\n",
       "    .dataframe tbody tr th:only-of-type {\n",
       "        vertical-align: middle;\n",
       "    }\n",
       "\n",
       "    .dataframe tbody tr th {\n",
       "        vertical-align: top;\n",
       "    }\n",
       "\n",
       "    .dataframe thead th {\n",
       "        text-align: right;\n",
       "    }\n",
       "</style>\n",
       "<table border=\"1\" class=\"dataframe\">\n",
       "  <thead>\n",
       "    <tr style=\"text-align: right;\">\n",
       "      <th></th>\n",
       "      <th></th>\n",
       "      <th>perc_miss</th>\n",
       "      <th>global_aligned_rank</th>\n",
       "      <th>score</th>\n",
       "      <th>rank</th>\n",
       "      <th>global_dataset_aligned_rank</th>\n",
       "      <th>aligned_rank</th>\n",
       "    </tr>\n",
       "    <tr>\n",
       "      <th>range_index</th>\n",
       "      <th>name</th>\n",
       "      <th></th>\n",
       "      <th></th>\n",
       "      <th></th>\n",
       "      <th></th>\n",
       "      <th></th>\n",
       "      <th></th>\n",
       "    </tr>\n",
       "  </thead>\n",
       "  <tbody>\n",
       "    <tr>\n",
       "      <th>0</th>\n",
       "      <th>pred.param=0.1|sel.its=4|pred.type=IT|ind.max_depth=16|ind.type=DT|sel.param=2|pred.its=8.0</th>\n",
       "      <td>0.0</td>\n",
       "      <td>163.492857</td>\n",
       "      <td>0.700156</td>\n",
       "      <td>2.807143</td>\n",
       "      <td>23.764286</td>\n",
       "      <td>16.892857</td>\n",
       "    </tr>\n",
       "    <tr>\n",
       "      <th>1</th>\n",
       "      <th>pred.param=0.1|sel.its=4|pred.type=IT|ind.max_depth=16|ind.type=DT|sel.param=2|pred.its=8.0</th>\n",
       "      <td>10.0</td>\n",
       "      <td>158.614286</td>\n",
       "      <td>0.685910</td>\n",
       "      <td>2.814286</td>\n",
       "      <td>23.514286</td>\n",
       "      <td>16.371429</td>\n",
       "    </tr>\n",
       "    <tr>\n",
       "      <th>2</th>\n",
       "      <th>pred.param=0.1|sel.its=4|pred.type=IT|ind.max_depth=16|ind.type=DT|sel.param=2|pred.its=8.0</th>\n",
       "      <td>20.0</td>\n",
       "      <td>184.085714</td>\n",
       "      <td>0.663228</td>\n",
       "      <td>2.635714</td>\n",
       "      <td>26.178571</td>\n",
       "      <td>14.478571</td>\n",
       "    </tr>\n",
       "    <tr>\n",
       "      <th>3</th>\n",
       "      <th>pred.param=0.1|sel.its=4|pred.type=IT|ind.max_depth=16|ind.type=DT|sel.param=2|pred.its=8.0</th>\n",
       "      <td>30.0</td>\n",
       "      <td>96.910000</td>\n",
       "      <td>0.639165</td>\n",
       "      <td>2.530000</td>\n",
       "      <td>19.810000</td>\n",
       "      <td>13.870000</td>\n",
       "    </tr>\n",
       "    <tr>\n",
       "      <th>4</th>\n",
       "      <th>pred.param=0.1|sel.its=4|pred.type=IT|ind.max_depth=16|ind.type=DT|sel.param=2|pred.its=8.0</th>\n",
       "      <td>40.0</td>\n",
       "      <td>145.807143</td>\n",
       "      <td>0.645064</td>\n",
       "      <td>2.314286</td>\n",
       "      <td>20.964286</td>\n",
       "      <td>13.257143</td>\n",
       "    </tr>\n",
       "  </tbody>\n",
       "</table>\n",
       "</div>"
      ],
      "text/plain": [
       "                                                                perc_miss  \\\n",
       "range_index name                                                            \n",
       "0           pred.param=0.1|sel.its=4|pred.type=IT|ind.max_d...        0.0   \n",
       "1           pred.param=0.1|sel.its=4|pred.type=IT|ind.max_d...       10.0   \n",
       "2           pred.param=0.1|sel.its=4|pred.type=IT|ind.max_d...       20.0   \n",
       "3           pred.param=0.1|sel.its=4|pred.type=IT|ind.max_d...       30.0   \n",
       "4           pred.param=0.1|sel.its=4|pred.type=IT|ind.max_d...       40.0   \n",
       "\n",
       "                                                                global_aligned_rank  \\\n",
       "range_index name                                                                      \n",
       "0           pred.param=0.1|sel.its=4|pred.type=IT|ind.max_d...           163.492857   \n",
       "1           pred.param=0.1|sel.its=4|pred.type=IT|ind.max_d...           158.614286   \n",
       "2           pred.param=0.1|sel.its=4|pred.type=IT|ind.max_d...           184.085714   \n",
       "3           pred.param=0.1|sel.its=4|pred.type=IT|ind.max_d...            96.910000   \n",
       "4           pred.param=0.1|sel.its=4|pred.type=IT|ind.max_d...           145.807143   \n",
       "\n",
       "                                                                   score  \\\n",
       "range_index name                                                           \n",
       "0           pred.param=0.1|sel.its=4|pred.type=IT|ind.max_d...  0.700156   \n",
       "1           pred.param=0.1|sel.its=4|pred.type=IT|ind.max_d...  0.685910   \n",
       "2           pred.param=0.1|sel.its=4|pred.type=IT|ind.max_d...  0.663228   \n",
       "3           pred.param=0.1|sel.its=4|pred.type=IT|ind.max_d...  0.639165   \n",
       "4           pred.param=0.1|sel.its=4|pred.type=IT|ind.max_d...  0.645064   \n",
       "\n",
       "                                                                    rank  \\\n",
       "range_index name                                                           \n",
       "0           pred.param=0.1|sel.its=4|pred.type=IT|ind.max_d...  2.807143   \n",
       "1           pred.param=0.1|sel.its=4|pred.type=IT|ind.max_d...  2.814286   \n",
       "2           pred.param=0.1|sel.its=4|pred.type=IT|ind.max_d...  2.635714   \n",
       "3           pred.param=0.1|sel.its=4|pred.type=IT|ind.max_d...  2.530000   \n",
       "4           pred.param=0.1|sel.its=4|pred.type=IT|ind.max_d...  2.314286   \n",
       "\n",
       "                                                                global_dataset_aligned_rank  \\\n",
       "range_index name                                                                              \n",
       "0           pred.param=0.1|sel.its=4|pred.type=IT|ind.max_d...                    23.764286   \n",
       "1           pred.param=0.1|sel.its=4|pred.type=IT|ind.max_d...                    23.514286   \n",
       "2           pred.param=0.1|sel.its=4|pred.type=IT|ind.max_d...                    26.178571   \n",
       "3           pred.param=0.1|sel.its=4|pred.type=IT|ind.max_d...                    19.810000   \n",
       "4           pred.param=0.1|sel.its=4|pred.type=IT|ind.max_d...                    20.964286   \n",
       "\n",
       "                                                                aligned_rank  \n",
       "range_index name                                                              \n",
       "0           pred.param=0.1|sel.its=4|pred.type=IT|ind.max_d...     16.892857  \n",
       "1           pred.param=0.1|sel.its=4|pred.type=IT|ind.max_d...     16.371429  \n",
       "2           pred.param=0.1|sel.its=4|pred.type=IT|ind.max_d...     14.478571  \n",
       "3           pred.param=0.1|sel.its=4|pred.type=IT|ind.max_d...     13.870000  \n",
       "4           pred.param=0.1|sel.its=4|pred.type=IT|ind.max_d...     13.257143  "
      ]
     },
     "execution_count": 8,
     "metadata": {},
     "output_type": "execute_result"
    }
   ],
   "source": [
    "df_lpt = build_df_lineplot(df_plt)\n",
    "df_lpt.head()"
   ]
  },
  {
   "cell_type": "code",
   "execution_count": 10,
   "metadata": {},
   "outputs": [
    {
     "name": "stdout",
     "output_type": "stream",
     "text": [
      "\n",
      "    4.60 kiloB\n",
      "    \n"
     ]
    }
   ],
   "source": [
    "mem_usage(df_lpt)"
   ]
  },
  {
   "cell_type": "code",
   "execution_count": 11,
   "metadata": {},
   "outputs": [
    {
     "data": {
      "text/plain": [
       "dataset          category\n",
       "pred.param        float64\n",
       "sel.its           float64\n",
       "pred.type        category\n",
       "ind.max_depth     float64\n",
       "ind.type         category\n",
       "sel.param         float64\n",
       "pred.its          float64\n",
       "name             category\n",
       "dtype: object"
      ]
     },
     "execution_count": 11,
     "metadata": {},
     "output_type": "execute_result"
    }
   ],
   "source": [
    "df_cfg.dtypes"
   ]
  },
  {
   "cell_type": "markdown",
   "metadata": {},
   "source": [
    "## Plot Config"
   ]
  },
  {
   "cell_type": "markdown",
   "metadata": {
    "heading_collapsed": true
   },
   "source": [
    "### Layout"
   ]
  },
  {
   "cell_type": "code",
   "execution_count": 12,
   "metadata": {
    "collapsed": true,
    "hidden": true
   },
   "outputs": [],
   "source": [
    "graph_style = {'width':             '85%',\n",
    "               'float':             'right',\n",
    "               'z-index':            1,\n",
    "               'position':           'relative',\n",
    "               'margin-bottom':      '2cm'}\n",
    "\n",
    "dropdown_menu_style = {'width':            '14%',\n",
    "                       'backgroundColor':  'rgb(250, 250, 250)',\n",
    "                       'float':            'left',\n",
    "                       'z-index':            0,\n",
    "                       'position':          'relative',\n",
    "                       'border':            '1px solid gray'}\n",
    "\n",
    "slider_menu_style = {'width':             '95%',\n",
    "                     'backgroundColor':  'rgb(250, 250, 250)',\n",
    "                     'float':            'left',\n",
    "                     'margin-left':       '1cm',\n",
    "                     'margin-bottom':     '2cm'}\n",
    "\n",
    "extra_style = {'border':            '1px solid black'}\n",
    "\n",
    "sep = html.Div(style={'clear': 'both'})\n",
    "\n",
    "txt_box_style = {'width':             '25%',\n",
    "                 'float':             'left',\n",
    "                 'z-index':            1,\n",
    "                 'position':           'relative',\n",
    "                 'margin-left':       '2cm',\n",
    "                 'border':            '1px solid gray'}"
   ]
  },
  {
   "cell_type": "markdown",
   "metadata": {
    "heading_collapsed": true
   },
   "source": [
    "### Menus"
   ]
  },
  {
   "cell_type": "markdown",
   "metadata": {
    "heading_collapsed": true,
    "hidden": true
   },
   "source": [
    "#### Dropdown"
   ]
  },
  {
   "cell_type": "code",
   "execution_count": 13,
   "metadata": {
    "hidden": true
   },
   "outputs": [
    {
     "name": "stderr",
     "output_type": "stream",
     "text": [
      "/cw/dtailocal/Dropbox/Files/KUL/research/codebases/homework/src/exp/visual/menus.py:84: UserWarning:\n",
      "\n",
      "\n",
      "            Could not sort this column. Typically because there is a mix\n",
      "            of int/float and strings.\n",
      "            \n",
      "\n"
     ]
    }
   ],
   "source": [
    "# Dropdown Menus\n",
    "perf_dd_menus = generate_dropdown_menus_from_df(df_cfg, ignore_columns=['name'])"
   ]
  },
  {
   "cell_type": "code",
   "execution_count": 14,
   "metadata": {
    "collapsed": true,
    "hidden": true
   },
   "outputs": [],
   "source": [
    "# Extra DropDown menus\n",
    "targ_idx_dd = generate_dropdown_menus_from_df(df_qry, relevant_columns=['t_idx'])\n",
    "show_data_dd = generate_dropdown_menu(\"show_data\", [False, True], labels=['No', 'Yes'], default=0, multi=False)\n",
    "rank_score_dd = generate_dropdown_menu(\"y_field\",\n",
    "                                       ['rank',\n",
    "                                        'score',\n",
    "                                        'aligned_rank',\n",
    "                                        'global_aligned_rank',\n",
    "                                        'global_dataset_aligned_rank'],\n",
    "                                       labels=['Avg. Rank', 'Avg. F1-Score','Aligned Rank','Global Aligned Rank', 'GDS Aligned Rank'],\n",
    "                                       default='score',\n",
    "                                       multi=False)\n",
    "\n",
    "perf_dd_menus.extend(targ_idx_dd)\n",
    "perf_dd_menus.extend(show_data_dd)\n",
    "perf_dd_menus.extend(rank_score_dd)\n",
    "\n",
    "perf_dd_menus = html.Div(perf_dd_menus,\n",
    "                         style=dropdown_menu_style)"
   ]
  },
  {
   "cell_type": "markdown",
   "metadata": {
    "heading_collapsed": true,
    "hidden": true
   },
   "source": [
    "#### Sliders"
   ]
  },
  {
   "cell_type": "code",
   "execution_count": 15,
   "metadata": {
    "collapsed": true,
    "hidden": true
   },
   "outputs": [],
   "source": [
    "perf_sl_menus = generate_slider_menu('perc_miss')\n",
    "perf_sl_menus.extend(generate_slider_menu('base_perf'))\n",
    "\n",
    "perf_sl_menus = html.Div(perf_sl_menus,\n",
    "                         style=slider_menu_style)"
   ]
  },
  {
   "cell_type": "markdown",
   "metadata": {},
   "source": [
    "## Static App"
   ]
  },
  {
   "cell_type": "code",
   "execution_count": 16,
   "metadata": {
    "collapsed": true
   },
   "outputs": [],
   "source": [
    "perf_graph = dcc.Graph(id='lineplot', \n",
    "                       figure=generate_graph(df_lpt, kind='line', show_data=False))\n",
    "\n",
    "stat_perf_contents = html.Div([perf_graph],\n",
    "                              style=graph_style)"
   ]
  },
  {
   "cell_type": "markdown",
   "metadata": {},
   "source": [
    "## Dynamic App\n",
    "\n",
    "Re-uses some stuff from the static configuration."
   ]
  },
  {
   "cell_type": "markdown",
   "metadata": {},
   "source": [
    "### Initialization"
   ]
  },
  {
   "cell_type": "code",
   "execution_count": 17,
   "metadata": {
    "collapsed": true
   },
   "outputs": [],
   "source": [
    "dyn_perf_contents = [perf_dd_menus,\n",
    "                     stat_perf_contents,\n",
    "                     sep,\n",
    "                     perf_sl_menus]"
   ]
  },
  {
   "cell_type": "code",
   "execution_count": 18,
   "metadata": {
    "collapsed": true
   },
   "outputs": [],
   "source": [
    "# Init App.\n",
    "app = dash.Dash()\n",
    "app.layout = html.Div(dyn_perf_contents)"
   ]
  },
  {
   "cell_type": "code",
   "execution_count": 19,
   "metadata": {
    "collapsed": true
   },
   "outputs": [],
   "source": [
    "menu_inputs, menu_names = extract_menu_inputs_menu_names_from_layout(app.layout)\n",
    "#menu_names"
   ]
  },
  {
   "cell_type": "markdown",
   "metadata": {},
   "source": [
    "### Main Callback\n",
    "\n",
    "This callback method needs to handle everything at once."
   ]
  },
  {
   "cell_type": "code",
   "execution_count": null,
   "metadata": {
    "collapsed": true
   },
   "outputs": [],
   "source": [
    "kind='line' # Hardcoded here.\n",
    "\n",
    "@app.callback(\n",
    "    Output('lineplot', 'figure'),\n",
    "    menu_inputs)\n",
    "def update_lineplot(*args):\n",
    "    \n",
    "    menus = zip(menu_names, args)\n",
    "    \n",
    "    # Initializations\n",
    "    filt_df = df_plt\n",
    "    filt_df_params = df_cfg\n",
    "    y_field = 'score'\n",
    "    y_title = 'Average '+ str(y_field)\n",
    "    \n",
    "    for name, values in menus:\n",
    "\n",
    "        if name in {'t_idx'}:\n",
    "            filt_df = filter_dataframe(filt_df, name, values)\n",
    "        elif name in {'perc_miss'}:\n",
    "            filt_df = filter_dataframe(filt_df, name, values, kind='range')\n",
    "        elif name in {'base_perf'}:\n",
    "            filt_df = filter_dataframe(filt_df, name, values, kind='range')\n",
    "        elif name in {'show_data'}:\n",
    "            show_data = values\n",
    "            #print(\"show_data value: {}\".format(values))\n",
    "        elif name in {'baseline'}:\n",
    "            baseline_name = values\n",
    "        elif name in {'y_field'}:\n",
    "            y_field = values\n",
    "            y_title = 'Average '+ str(y_field)\n",
    "        else:\n",
    "            filt_df_params = filter_dataframe(filt_df_params, name, values)\n",
    "    \n",
    "    try:\n",
    "        #print(filt_df.head())\n",
    "        filt_df = filt_df.loc[filt_df_params.index.values]  # Only keep the entries with indices present in df_params\n",
    "        plot_df = build_df_lineplot(filt_df)\n",
    "        \n",
    "    except ValueError as e: \n",
    "        msg = \"Caught ValueError, this -sometimes- happens whenever no data is present in the plot: {}\".format(e)\n",
    "        print(msg)\n",
    "        plot_df = filt_df\n",
    "        pass\n",
    "\n",
    "    figure_parameters = generate_graph(plot_df,\n",
    "                                       kind=kind,\n",
    "                                       show_data=show_data,\n",
    "                                       y_title=y_title,\n",
    "                                       x_title='Missing Attributes (%)',\n",
    "                                       y_field=y_field)\n",
    "    \n",
    "    return figure_parameters"
   ]
  },
  {
   "cell_type": "markdown",
   "metadata": {},
   "source": [
    "### Run App\n",
    "\n",
    "Run the actual browser applet."
   ]
  },
  {
   "cell_type": "code",
   "execution_count": null,
   "metadata": {},
   "outputs": [
    {
     "name": "stderr",
     "output_type": "stream",
     "text": [
      " * Running on http://127.0.0.1:8885/ (Press CTRL+C to quit)\n",
      "127.0.0.1 - - [28/Jan/2019 16:10:10] \"GET / HTTP/1.1\" 200 -\n",
      "127.0.0.1 - - [28/Jan/2019 16:10:11] \"GET /_dash-layout HTTP/1.1\" 200 -\n",
      "127.0.0.1 - - [28/Jan/2019 16:10:11] \"GET /_dash-dependencies HTTP/1.1\" 200 -\n",
      "127.0.0.1 - - [28/Jan/2019 16:10:11] \"POST /_dash-update-component HTTP/1.1\" 200 -\n"
     ]
    },
    {
     "name": "stdout",
     "output_type": "stream",
     "text": [
      "Caught ValueError, this -sometimes- happens whenever no data is present in the plot: Cannot set a frame with no defined index and a value that cannot be converted to a Series\n"
     ]
    },
    {
     "name": "stderr",
     "output_type": "stream",
     "text": [
      "127.0.0.1 - - [28/Jan/2019 16:10:14] \"POST /_dash-update-component HTTP/1.1\" 200 -\n"
     ]
    },
    {
     "name": "stdout",
     "output_type": "stream",
     "text": [
      "Caught ValueError, this -sometimes- happens whenever no data is present in the plot: Cannot set a frame with no defined index and a value that cannot be converted to a Series\n"
     ]
    },
    {
     "name": "stderr",
     "output_type": "stream",
     "text": [
      "127.0.0.1 - - [28/Jan/2019 16:10:15] \"POST /_dash-update-component HTTP/1.1\" 200 -\n"
     ]
    },
    {
     "name": "stdout",
     "output_type": "stream",
     "text": [
      "Caught ValueError, this -sometimes- happens whenever no data is present in the plot: Cannot set a frame with no defined index and a value that cannot be converted to a Series\n"
     ]
    },
    {
     "name": "stderr",
     "output_type": "stream",
     "text": [
      "127.0.0.1 - - [28/Jan/2019 16:10:16] \"POST /_dash-update-component HTTP/1.1\" 200 -\n"
     ]
    },
    {
     "name": "stdout",
     "output_type": "stream",
     "text": [
      "Caught ValueError, this -sometimes- happens whenever no data is present in the plot: Cannot set a frame with no defined index and a value that cannot be converted to a Series\n"
     ]
    },
    {
     "name": "stderr",
     "output_type": "stream",
     "text": [
      "127.0.0.1 - - [28/Jan/2019 16:10:18] \"POST /_dash-update-component HTTP/1.1\" 200 -\n"
     ]
    },
    {
     "name": "stdout",
     "output_type": "stream",
     "text": [
      "Caught ValueError, this -sometimes- happens whenever no data is present in the plot: Cannot set a frame with no defined index and a value that cannot be converted to a Series\n"
     ]
    },
    {
     "name": "stderr",
     "output_type": "stream",
     "text": [
      "127.0.0.1 - - [28/Jan/2019 16:10:19] \"POST /_dash-update-component HTTP/1.1\" 200 -\n"
     ]
    },
    {
     "name": "stdout",
     "output_type": "stream",
     "text": [
      "Caught ValueError, this -sometimes- happens whenever no data is present in the plot: Cannot set a frame with no defined index and a value that cannot be converted to a Series\n"
     ]
    },
    {
     "name": "stderr",
     "output_type": "stream",
     "text": [
      "127.0.0.1 - - [28/Jan/2019 16:10:20] \"POST /_dash-update-component HTTP/1.1\" 200 -\n"
     ]
    },
    {
     "name": "stdout",
     "output_type": "stream",
     "text": [
      "Caught ValueError, this -sometimes- happens whenever no data is present in the plot: Cannot set a frame with no defined index and a value that cannot be converted to a Series\n"
     ]
    },
    {
     "name": "stderr",
     "output_type": "stream",
     "text": [
      "127.0.0.1 - - [28/Jan/2019 16:10:22] \"POST /_dash-update-component HTTP/1.1\" 200 -\n"
     ]
    },
    {
     "name": "stdout",
     "output_type": "stream",
     "text": [
      "Caught ValueError, this -sometimes- happens whenever no data is present in the plot: Cannot set a frame with no defined index and a value that cannot be converted to a Series\n"
     ]
    },
    {
     "name": "stderr",
     "output_type": "stream",
     "text": [
      "127.0.0.1 - - [28/Jan/2019 16:10:23] \"POST /_dash-update-component HTTP/1.1\" 200 -\n"
     ]
    },
    {
     "name": "stdout",
     "output_type": "stream",
     "text": [
      "Caught ValueError, this -sometimes- happens whenever no data is present in the plot: Cannot set a frame with no defined index and a value that cannot be converted to a Series\n"
     ]
    },
    {
     "name": "stderr",
     "output_type": "stream",
     "text": [
      "127.0.0.1 - - [28/Jan/2019 16:10:24] \"POST /_dash-update-component HTTP/1.1\" 200 -\n"
     ]
    },
    {
     "name": "stdout",
     "output_type": "stream",
     "text": [
      "Caught ValueError, this -sometimes- happens whenever no data is present in the plot: Cannot set a frame with no defined index and a value that cannot be converted to a Series\n"
     ]
    },
    {
     "name": "stderr",
     "output_type": "stream",
     "text": [
      "127.0.0.1 - - [28/Jan/2019 16:10:25] \"POST /_dash-update-component HTTP/1.1\" 200 -\n",
      "127.0.0.1 - - [28/Jan/2019 16:10:26] \"POST /_dash-update-component HTTP/1.1\" 200 -\n"
     ]
    },
    {
     "name": "stdout",
     "output_type": "stream",
     "text": [
      "Caught ValueError, this -sometimes- happens whenever no data is present in the plot: Cannot set a frame with no defined index and a value that cannot be converted to a Series\n"
     ]
    },
    {
     "name": "stderr",
     "output_type": "stream",
     "text": [
      "127.0.0.1 - - [28/Jan/2019 16:10:27] \"POST /_dash-update-component HTTP/1.1\" 200 -\n",
      "127.0.0.1 - - [28/Jan/2019 16:10:28] \"POST /_dash-update-component HTTP/1.1\" 200 -\n"
     ]
    },
    {
     "name": "stdout",
     "output_type": "stream",
     "text": [
      "Caught ValueError, this -sometimes- happens whenever no data is present in the plot: Cannot set a frame with no defined index and a value that cannot be converted to a Series\n"
     ]
    },
    {
     "name": "stderr",
     "output_type": "stream",
     "text": [
      "127.0.0.1 - - [28/Jan/2019 16:10:29] \"POST /_dash-update-component HTTP/1.1\" 200 -\n",
      "127.0.0.1 - - [28/Jan/2019 16:10:30] \"POST /_dash-update-component HTTP/1.1\" 200 -\n"
     ]
    },
    {
     "name": "stdout",
     "output_type": "stream",
     "text": [
      "Caught ValueError, this -sometimes- happens whenever no data is present in the plot: Cannot set a frame with no defined index and a value that cannot be converted to a Series\n"
     ]
    },
    {
     "name": "stderr",
     "output_type": "stream",
     "text": [
      "127.0.0.1 - - [28/Jan/2019 16:10:32] \"POST /_dash-update-component HTTP/1.1\" 200 -\n",
      "127.0.0.1 - - [28/Jan/2019 16:10:52] \"POST /_dash-update-component HTTP/1.1\" 200 -\n",
      "127.0.0.1 - - [28/Jan/2019 16:11:06] \"POST /_dash-update-component HTTP/1.1\" 200 -\n",
      "127.0.0.1 - - [28/Jan/2019 16:11:09] \"POST /_dash-update-component HTTP/1.1\" 200 -\n",
      "127.0.0.1 - - [28/Jan/2019 16:11:30] \"POST /_dash-update-component HTTP/1.1\" 200 -\n"
     ]
    }
   ],
   "source": [
    "app.run_server(port=8885)"
   ]
  }
 ],
 "metadata": {
  "kernelspec": {
   "display_name": "Python [default]",
   "language": "python",
   "name": "python3"
  },
  "language_info": {
   "codemirror_mode": {
    "name": "ipython",
    "version": 3
   },
   "file_extension": ".py",
   "mimetype": "text/x-python",
   "name": "python",
   "nbconvert_exporter": "python",
   "pygments_lexer": "ipython3",
   "version": "3.6.8"
  },
  "toc": {
   "nav_menu": {},
   "number_sections": true,
   "sideBar": true,
   "skip_h1_title": true,
   "toc_cell": false,
   "toc_position": {
    "height": "calc(100% - 180px)",
    "left": "10px",
    "top": "150px",
    "width": "241px"
   },
   "toc_section_display": "block",
   "toc_window_display": true
  }
 },
 "nbformat": 4,
 "nbformat_minor": 2
}
