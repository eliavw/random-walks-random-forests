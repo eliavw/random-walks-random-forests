{
 "cells": [
  {
   "cell_type": "markdown",
   "metadata": {
    "toc-hr-collapsed": false
   },
   "source": [
    "# Visualization - Relative Performance App\n",
    "\n",
    "Dietterich-inspired visuals. Performance relative to the 0% one.\n",
    "\n",
    "Now also with better sliders for different kinds of analysis."
   ]
  },
  {
   "cell_type": "markdown",
   "metadata": {
    "toc-hr-collapsed": true
   },
   "source": [
    "## Preliminaries"
   ]
  },
  {
   "cell_type": "markdown",
   "metadata": {},
   "source": [
    "### Imports"
   ]
  },
  {
   "cell_type": "code",
   "execution_count": 1,
   "metadata": {
    "collapsed": true
   },
   "outputs": [],
   "source": [
    "# Imports\n",
    "import os\n",
    "import numpy as np\n",
    "import pandas as pd\n",
    "import json\n",
    "import sys\n",
    "import pickle as pkl\n",
    "import warnings\n",
    "\n",
    "from os.path import dirname\n",
    "\n",
    "# Dash\n",
    "import dash\n",
    "import dash_core_components as dcc\n",
    "import dash_html_components as html\n",
    "import plotly.graph_objs as go\n",
    "from dash.dependencies import Input, Output, State"
   ]
  },
  {
   "cell_type": "code",
   "execution_count": 2,
   "metadata": {
    "collapsed": true
   },
   "outputs": [],
   "source": [
    "# Custom\n",
    "\n",
    "root_dir = dirname(dirname(os.getcwd()))\n",
    "src_dir = os.path.join(root_dir, 'src')\n",
    "sys.path.append(src_dir)\n",
    "\n",
    "import exp\n",
    "from exp.utils.extra import mem_usage\n",
    "from exp.runner.RunExp import RunExp\n",
    "from exp.runner.RunMercs import RunMercs\n",
    "from exp.eval.preprocess import *\n",
    "from exp.eval.preprocess import _insert_inf_time_base,_insert_inf_time_relative\n",
    "from exp.visual.menus import (generate_dropdown_menu,\n",
    "                              generate_dropdown_menus_from_df,\n",
    "                              generate_slider_menu)\n",
    "from exp.visual.plots import (generate_graph)\n",
    "from exp.visual.callback import (extract_menu_inputs_menu_names_from_layout,\n",
    "                                filter_dataframe)"
   ]
  },
  {
   "cell_type": "code",
   "execution_count": 3,
   "metadata": {},
   "outputs": [
    {
     "data": {
      "text/plain": [
       "'/cw/dtailocal/Repos/random-walks-random-forests'"
      ]
     },
     "execution_count": 3,
     "metadata": {},
     "output_type": "execute_result"
    }
   ],
   "source": [
    "root_dir"
   ]
  },
  {
   "cell_type": "markdown",
   "metadata": {
    "heading_collapsed": true
   },
   "source": [
    "### Methods\n",
    "\n",
    "Some custom methods I need in this notebook."
   ]
  },
  {
   "cell_type": "code",
   "execution_count": 4,
   "metadata": {
    "code_folding": [],
    "collapsed": true,
    "hidden": true
   },
   "outputs": [],
   "source": [
    "def merge_aggregated_outputs_multiple_exps(exp_idxs, new_root, **kwargs):\n",
    "    \"\"\"\n",
    "    Merge aggregated outputs from multiple experiments.\n",
    "    \"\"\"\n",
    "    \n",
    "    f = collect_aggregated_outputs_from_exp\n",
    "    \n",
    "    gen = (f(exp_idx, new_root, **kwargs) for exp_idx in exp_idxs)\n",
    "    \n",
    "    result = {}\n",
    "    for g in gen:\n",
    "        result = {k: pd.concat([result.get(k, None),v], sort=False)\n",
    "                  for k,v in g.items()}    \n",
    "        \n",
    "    return result\n",
    "\n",
    "def collect_aggregated_outputs_from_exp(exp_idx, new_root, **kwargs):\n",
    "    \"\"\"\n",
    "    Load the aggregated outputs by a single experiment.\n",
    "    \"\"\"\n",
    "    \n",
    "    # Preliminaries\n",
    "    dfs = {}\n",
    "    \n",
    "    # Actions\n",
    "    re = RunExp.load(idx=exp_idx, **kwargs)\n",
    "    for output in re.aggr_outputs:\n",
    "        dfs[output] = re.load_output(kind=output, new_root=new_root)\n",
    "    return dfs"
   ]
  },
  {
   "cell_type": "markdown",
   "metadata": {},
   "source": [
    "## Global Parameters\n",
    "\n",
    "This is the single most important thing you need to specify, i.e., from which experiments do you want to collect the results?"
   ]
  },
  {
   "cell_type": "code",
   "execution_count": 5,
   "metadata": {
    "collapsed": true
   },
   "outputs": [],
   "source": [
    "exp_idxs = [1]\n",
    "#exp_idxs = [15, 100]"
   ]
  },
  {
   "cell_type": "markdown",
   "metadata": {},
   "source": [
    "## Collect Data\n",
    "\n",
    "Now, the actual work starts."
   ]
  },
  {
   "cell_type": "code",
   "execution_count": 6,
   "metadata": {
    "collapsed": true,
    "scrolled": false
   },
   "outputs": [],
   "source": [
    "dfs = merge_aggregated_outputs_multiple_exps(exp_idxs, new_root=root_dir)"
   ]
  },
  {
   "cell_type": "code",
   "execution_count": 7,
   "metadata": {},
   "outputs": [
    {
     "data": {
      "text/plain": [
       "dict_keys(['results', 'timings', 'mod_config', 'qry_codes'])"
      ]
     },
     "execution_count": 7,
     "metadata": {},
     "output_type": "execute_result"
    }
   ],
   "source": [
    "dfs.keys()"
   ]
  },
  {
   "cell_type": "code",
   "execution_count": 8,
   "metadata": {},
   "outputs": [
    {
     "data": {
      "text/html": [
       "<div>\n",
       "<style scoped>\n",
       "    .dataframe tbody tr th:only-of-type {\n",
       "        vertical-align: middle;\n",
       "    }\n",
       "\n",
       "    .dataframe tbody tr th {\n",
       "        vertical-align: top;\n",
       "    }\n",
       "\n",
       "    .dataframe thead th {\n",
       "        text-align: right;\n",
       "    }\n",
       "</style>\n",
       "<table border=\"1\" class=\"dataframe\">\n",
       "  <thead>\n",
       "    <tr style=\"text-align: right;\">\n",
       "      <th></th>\n",
       "      <th></th>\n",
       "      <th>dataset</th>\n",
       "      <th>predict.algo</th>\n",
       "      <th>predict.its</th>\n",
       "      <th>predict.param</th>\n",
       "      <th>fit.sel.param</th>\n",
       "      <th>fit.ind.max_depth</th>\n",
       "      <th>fit.ind.type</th>\n",
       "      <th>fit.sel.its</th>\n",
       "      <th>mod.type</th>\n",
       "      <th>mod.keyword</th>\n",
       "    </tr>\n",
       "    <tr>\n",
       "      <th>idx</th>\n",
       "      <th>f_idx</th>\n",
       "      <th></th>\n",
       "      <th></th>\n",
       "      <th></th>\n",
       "      <th></th>\n",
       "      <th></th>\n",
       "      <th></th>\n",
       "      <th></th>\n",
       "      <th></th>\n",
       "      <th></th>\n",
       "      <th></th>\n",
       "    </tr>\n",
       "  </thead>\n",
       "  <tbody>\n",
       "    <tr>\n",
       "      <th>2</th>\n",
       "      <th>0</th>\n",
       "      <td>nltcs</td>\n",
       "      <td>MI</td>\n",
       "      <td>0.1</td>\n",
       "      <td>0.95</td>\n",
       "      <td>2</td>\n",
       "      <td>4</td>\n",
       "      <td>DT</td>\n",
       "      <td>4</td>\n",
       "      <td>Mercs</td>\n",
       "      <td>md4</td>\n",
       "    </tr>\n",
       "    <tr>\n",
       "      <th>3</th>\n",
       "      <th>0</th>\n",
       "      <td>msnbc</td>\n",
       "      <td>MI</td>\n",
       "      <td>0.1</td>\n",
       "      <td>0.95</td>\n",
       "      <td>2</td>\n",
       "      <td>4</td>\n",
       "      <td>DT</td>\n",
       "      <td>4</td>\n",
       "      <td>Mercs</td>\n",
       "      <td>md4</td>\n",
       "    </tr>\n",
       "    <tr>\n",
       "      <th>4</th>\n",
       "      <th>0</th>\n",
       "      <td>nltcs</td>\n",
       "      <td>MAFI</td>\n",
       "      <td>0.1</td>\n",
       "      <td>0.95</td>\n",
       "      <td>2</td>\n",
       "      <td>4</td>\n",
       "      <td>DT</td>\n",
       "      <td>4</td>\n",
       "      <td>Mercs</td>\n",
       "      <td>md4</td>\n",
       "    </tr>\n",
       "    <tr>\n",
       "      <th>5</th>\n",
       "      <th>0</th>\n",
       "      <td>msnbc</td>\n",
       "      <td>MAFI</td>\n",
       "      <td>0.1</td>\n",
       "      <td>0.95</td>\n",
       "      <td>2</td>\n",
       "      <td>4</td>\n",
       "      <td>DT</td>\n",
       "      <td>4</td>\n",
       "      <td>Mercs</td>\n",
       "      <td>md4</td>\n",
       "    </tr>\n",
       "  </tbody>\n",
       "</table>\n",
       "</div>"
      ],
      "text/plain": [
       "          dataset predict.algo  predict.its  predict.param  fit.sel.param  \\\n",
       "idx f_idx                                                                   \n",
       "2   0       nltcs           MI          0.1           0.95              2   \n",
       "3   0       msnbc           MI          0.1           0.95              2   \n",
       "4   0       nltcs         MAFI          0.1           0.95              2   \n",
       "5   0       msnbc         MAFI          0.1           0.95              2   \n",
       "\n",
       "           fit.ind.max_depth fit.ind.type  fit.sel.its mod.type mod.keyword  \n",
       "idx f_idx                                                                    \n",
       "2   0                      4           DT            4    Mercs         md4  \n",
       "3   0                      4           DT            4    Mercs         md4  \n",
       "4   0                      4           DT            4    Mercs         md4  \n",
       "5   0                      4           DT            4    Mercs         md4  "
      ]
     },
     "execution_count": 8,
     "metadata": {},
     "output_type": "execute_result"
    }
   ],
   "source": [
    "dfs['mod_config'].head()"
   ]
  },
  {
   "cell_type": "code",
   "execution_count": 9,
   "metadata": {
    "collapsed": true
   },
   "outputs": [],
   "source": [
    "name_contains = ('predict.algo', 'predict.its', 'predict.param')"
   ]
  },
  {
   "cell_type": "code",
   "execution_count": 10,
   "metadata": {
    "collapsed": true
   },
   "outputs": [],
   "source": [
    "df_res = preprocess_aggr_df(dfs['results'], kind='res')\n",
    "df_qry = preprocess_aggr_df(dfs['qry_codes'], kind='qry')\n",
    "df_cfg = preprocess_aggr_df(dfs['mod_config'],\n",
    "                            kind='cfg',\n",
    "                            include_columns=name_contains)\n",
    "df_tmg = preprocess_aggr_df(dfs['timings'], kind='tmg')"
   ]
  },
  {
   "cell_type": "code",
   "execution_count": 11,
   "metadata": {},
   "outputs": [
    {
     "data": {
      "text/html": [
       "<div>\n",
       "<style scoped>\n",
       "    .dataframe tbody tr th:only-of-type {\n",
       "        vertical-align: middle;\n",
       "    }\n",
       "\n",
       "    .dataframe tbody tr th {\n",
       "        vertical-align: top;\n",
       "    }\n",
       "\n",
       "    .dataframe thead th {\n",
       "        text-align: right;\n",
       "    }\n",
       "</style>\n",
       "<table border=\"1\" class=\"dataframe\">\n",
       "  <thead>\n",
       "    <tr style=\"text-align: right;\">\n",
       "      <th></th>\n",
       "      <th>dataset</th>\n",
       "      <th>predict.algo</th>\n",
       "      <th>predict.its</th>\n",
       "      <th>predict.param</th>\n",
       "      <th>fit.sel.param</th>\n",
       "      <th>fit.ind.max_depth</th>\n",
       "      <th>fit.ind.type</th>\n",
       "      <th>fit.sel.its</th>\n",
       "      <th>mod.type</th>\n",
       "      <th>mod.keyword</th>\n",
       "      <th>name</th>\n",
       "    </tr>\n",
       "    <tr>\n",
       "      <th>idx</th>\n",
       "      <th></th>\n",
       "      <th></th>\n",
       "      <th></th>\n",
       "      <th></th>\n",
       "      <th></th>\n",
       "      <th></th>\n",
       "      <th></th>\n",
       "      <th></th>\n",
       "      <th></th>\n",
       "      <th></th>\n",
       "      <th></th>\n",
       "    </tr>\n",
       "  </thead>\n",
       "  <tbody>\n",
       "    <tr>\n",
       "      <th>2</th>\n",
       "      <td>nltcs</td>\n",
       "      <td>MI</td>\n",
       "      <td>0.1</td>\n",
       "      <td>0.95</td>\n",
       "      <td>2</td>\n",
       "      <td>4</td>\n",
       "      <td>DT</td>\n",
       "      <td>4</td>\n",
       "      <td>Mercs</td>\n",
       "      <td>md4</td>\n",
       "      <td>predict.algo=MI|predict.its=0.1|predict.param=...</td>\n",
       "    </tr>\n",
       "    <tr>\n",
       "      <th>3</th>\n",
       "      <td>msnbc</td>\n",
       "      <td>MI</td>\n",
       "      <td>0.1</td>\n",
       "      <td>0.95</td>\n",
       "      <td>2</td>\n",
       "      <td>4</td>\n",
       "      <td>DT</td>\n",
       "      <td>4</td>\n",
       "      <td>Mercs</td>\n",
       "      <td>md4</td>\n",
       "      <td>predict.algo=MI|predict.its=0.1|predict.param=...</td>\n",
       "    </tr>\n",
       "    <tr>\n",
       "      <th>4</th>\n",
       "      <td>nltcs</td>\n",
       "      <td>MAFI</td>\n",
       "      <td>0.1</td>\n",
       "      <td>0.95</td>\n",
       "      <td>2</td>\n",
       "      <td>4</td>\n",
       "      <td>DT</td>\n",
       "      <td>4</td>\n",
       "      <td>Mercs</td>\n",
       "      <td>md4</td>\n",
       "      <td>predict.algo=MAFI|predict.its=0.1|predict.para...</td>\n",
       "    </tr>\n",
       "    <tr>\n",
       "      <th>5</th>\n",
       "      <td>msnbc</td>\n",
       "      <td>MAFI</td>\n",
       "      <td>0.1</td>\n",
       "      <td>0.95</td>\n",
       "      <td>2</td>\n",
       "      <td>4</td>\n",
       "      <td>DT</td>\n",
       "      <td>4</td>\n",
       "      <td>Mercs</td>\n",
       "      <td>md4</td>\n",
       "      <td>predict.algo=MAFI|predict.its=0.1|predict.para...</td>\n",
       "    </tr>\n",
       "  </tbody>\n",
       "</table>\n",
       "</div>"
      ],
      "text/plain": [
       "    dataset predict.algo  predict.its  predict.param  fit.sel.param  \\\n",
       "idx                                                                   \n",
       "2     nltcs           MI          0.1           0.95              2   \n",
       "3     msnbc           MI          0.1           0.95              2   \n",
       "4     nltcs         MAFI          0.1           0.95              2   \n",
       "5     msnbc         MAFI          0.1           0.95              2   \n",
       "\n",
       "     fit.ind.max_depth fit.ind.type  fit.sel.its mod.type mod.keyword  \\\n",
       "idx                                                                     \n",
       "2                    4           DT            4    Mercs         md4   \n",
       "3                    4           DT            4    Mercs         md4   \n",
       "4                    4           DT            4    Mercs         md4   \n",
       "5                    4           DT            4    Mercs         md4   \n",
       "\n",
       "                                                  name  \n",
       "idx                                                     \n",
       "2    predict.algo=MI|predict.its=0.1|predict.param=...  \n",
       "3    predict.algo=MI|predict.its=0.1|predict.param=...  \n",
       "4    predict.algo=MAFI|predict.its=0.1|predict.para...  \n",
       "5    predict.algo=MAFI|predict.its=0.1|predict.para...  "
      ]
     },
     "execution_count": 11,
     "metadata": {},
     "output_type": "execute_result"
    }
   ],
   "source": [
    "df_cfg.head()"
   ]
  },
  {
   "cell_type": "code",
   "execution_count": 12,
   "metadata": {
    "code_folding": []
   },
   "outputs": [
    {
     "data": {
      "text/html": [
       "<div>\n",
       "<style scoped>\n",
       "    .dataframe tbody tr th:only-of-type {\n",
       "        vertical-align: middle;\n",
       "    }\n",
       "\n",
       "    .dataframe tbody tr th {\n",
       "        vertical-align: top;\n",
       "    }\n",
       "\n",
       "    .dataframe thead th {\n",
       "        text-align: right;\n",
       "    }\n",
       "</style>\n",
       "<table border=\"1\" class=\"dataframe\">\n",
       "  <thead>\n",
       "    <tr style=\"text-align: right;\">\n",
       "      <th></th>\n",
       "      <th></th>\n",
       "      <th>ind_time</th>\n",
       "      <th>inf_time</th>\n",
       "    </tr>\n",
       "    <tr>\n",
       "      <th>idx</th>\n",
       "      <th>q_idx</th>\n",
       "      <th></th>\n",
       "      <th></th>\n",
       "    </tr>\n",
       "  </thead>\n",
       "  <tbody>\n",
       "    <tr>\n",
       "      <th rowspan=\"5\" valign=\"top\">2</th>\n",
       "      <th>0</th>\n",
       "      <td>1.845375</td>\n",
       "      <td>0.008549</td>\n",
       "    </tr>\n",
       "    <tr>\n",
       "      <th>1</th>\n",
       "      <td>1.845375</td>\n",
       "      <td>0.007563</td>\n",
       "    </tr>\n",
       "    <tr>\n",
       "      <th>2</th>\n",
       "      <td>1.845375</td>\n",
       "      <td>0.008263</td>\n",
       "    </tr>\n",
       "    <tr>\n",
       "      <th>3</th>\n",
       "      <td>1.845375</td>\n",
       "      <td>0.008458</td>\n",
       "    </tr>\n",
       "    <tr>\n",
       "      <th>4</th>\n",
       "      <td>1.845375</td>\n",
       "      <td>0.009107</td>\n",
       "    </tr>\n",
       "  </tbody>\n",
       "</table>\n",
       "</div>"
      ],
      "text/plain": [
       "           ind_time  inf_time\n",
       "idx q_idx                    \n",
       "2   0      1.845375  0.008549\n",
       "    1      1.845375  0.007563\n",
       "    2      1.845375  0.008263\n",
       "    3      1.845375  0.008458\n",
       "    4      1.845375  0.009107"
      ]
     },
     "execution_count": 12,
     "metadata": {},
     "output_type": "execute_result"
    }
   ],
   "source": [
    "df_tmg.head()"
   ]
  },
  {
   "cell_type": "code",
   "execution_count": 13,
   "metadata": {
    "collapsed": true
   },
   "outputs": [],
   "source": [
    "df_cfg_f = df_cfg[['dataset', 'predict.algo', 'predict.its', 'predict.param']]\n",
    "join_idx_names = ['idx']\n",
    "df_1 = df_tmg.join(df_cfg_f, how='inner', on=join_idx_names)\n",
    "#df_1.head()"
   ]
  },
  {
   "cell_type": "code",
   "execution_count": 14,
   "metadata": {
    "scrolled": true
   },
   "outputs": [
    {
     "data": {
      "text/html": [
       "<div>\n",
       "<style scoped>\n",
       "    .dataframe tbody tr th:only-of-type {\n",
       "        vertical-align: middle;\n",
       "    }\n",
       "\n",
       "    .dataframe tbody tr th {\n",
       "        vertical-align: top;\n",
       "    }\n",
       "\n",
       "    .dataframe thead th {\n",
       "        text-align: right;\n",
       "    }\n",
       "</style>\n",
       "<table border=\"1\" class=\"dataframe\">\n",
       "  <thead>\n",
       "    <tr style=\"text-align: right;\">\n",
       "      <th></th>\n",
       "      <th></th>\n",
       "      <th>ind_time</th>\n",
       "      <th>inf_time</th>\n",
       "      <th>dataset</th>\n",
       "      <th>predict.algo</th>\n",
       "      <th>predict.its</th>\n",
       "      <th>predict.param</th>\n",
       "    </tr>\n",
       "    <tr>\n",
       "      <th>idx</th>\n",
       "      <th>q_idx</th>\n",
       "      <th></th>\n",
       "      <th></th>\n",
       "      <th></th>\n",
       "      <th></th>\n",
       "      <th></th>\n",
       "      <th></th>\n",
       "    </tr>\n",
       "  </thead>\n",
       "  <tbody>\n",
       "    <tr>\n",
       "      <th rowspan=\"5\" valign=\"top\">2</th>\n",
       "      <th>0</th>\n",
       "      <td>1.845375</td>\n",
       "      <td>0.008549</td>\n",
       "      <td>nltcs</td>\n",
       "      <td>MI</td>\n",
       "      <td>0.1</td>\n",
       "      <td>0.95</td>\n",
       "    </tr>\n",
       "    <tr>\n",
       "      <th>1</th>\n",
       "      <td>1.845375</td>\n",
       "      <td>0.007563</td>\n",
       "      <td>nltcs</td>\n",
       "      <td>MI</td>\n",
       "      <td>0.1</td>\n",
       "      <td>0.95</td>\n",
       "    </tr>\n",
       "    <tr>\n",
       "      <th>2</th>\n",
       "      <td>1.845375</td>\n",
       "      <td>0.008263</td>\n",
       "      <td>nltcs</td>\n",
       "      <td>MI</td>\n",
       "      <td>0.1</td>\n",
       "      <td>0.95</td>\n",
       "    </tr>\n",
       "    <tr>\n",
       "      <th>3</th>\n",
       "      <td>1.845375</td>\n",
       "      <td>0.008458</td>\n",
       "      <td>nltcs</td>\n",
       "      <td>MI</td>\n",
       "      <td>0.1</td>\n",
       "      <td>0.95</td>\n",
       "    </tr>\n",
       "    <tr>\n",
       "      <th>4</th>\n",
       "      <td>1.845375</td>\n",
       "      <td>0.009107</td>\n",
       "      <td>nltcs</td>\n",
       "      <td>MI</td>\n",
       "      <td>0.1</td>\n",
       "      <td>0.95</td>\n",
       "    </tr>\n",
       "  </tbody>\n",
       "</table>\n",
       "</div>"
      ],
      "text/plain": [
       "           ind_time  inf_time dataset predict.algo  predict.its  predict.param\n",
       "idx q_idx                                                                     \n",
       "2   0      1.845375  0.008549   nltcs           MI          0.1           0.95\n",
       "    1      1.845375  0.007563   nltcs           MI          0.1           0.95\n",
       "    2      1.845375  0.008263   nltcs           MI          0.1           0.95\n",
       "    3      1.845375  0.008458   nltcs           MI          0.1           0.95\n",
       "    4      1.845375  0.009107   nltcs           MI          0.1           0.95"
      ]
     },
     "execution_count": 14,
     "metadata": {},
     "output_type": "execute_result"
    }
   ],
   "source": [
    "df_1.head()"
   ]
  },
  {
   "cell_type": "code",
   "execution_count": 15,
   "metadata": {},
   "outputs": [
    {
     "data": {
      "text/html": [
       "<div>\n",
       "<style scoped>\n",
       "    .dataframe tbody tr th:only-of-type {\n",
       "        vertical-align: middle;\n",
       "    }\n",
       "\n",
       "    .dataframe tbody tr th {\n",
       "        vertical-align: top;\n",
       "    }\n",
       "\n",
       "    .dataframe thead th {\n",
       "        text-align: right;\n",
       "    }\n",
       "</style>\n",
       "<table border=\"1\" class=\"dataframe\">\n",
       "  <thead>\n",
       "    <tr style=\"text-align: right;\">\n",
       "      <th></th>\n",
       "      <th></th>\n",
       "      <th>ind_time</th>\n",
       "      <th>inf_time</th>\n",
       "      <th>dataset</th>\n",
       "      <th>predict.algo</th>\n",
       "      <th>predict.its</th>\n",
       "      <th>predict.param</th>\n",
       "      <th>inf_time_base</th>\n",
       "    </tr>\n",
       "    <tr>\n",
       "      <th>idx</th>\n",
       "      <th>q_idx</th>\n",
       "      <th></th>\n",
       "      <th></th>\n",
       "      <th></th>\n",
       "      <th></th>\n",
       "      <th></th>\n",
       "      <th></th>\n",
       "      <th></th>\n",
       "    </tr>\n",
       "  </thead>\n",
       "  <tbody>\n",
       "    <tr>\n",
       "      <th rowspan=\"5\" valign=\"top\">2</th>\n",
       "      <th>0</th>\n",
       "      <td>1.845375</td>\n",
       "      <td>0.008549</td>\n",
       "      <td>nltcs</td>\n",
       "      <td>MI</td>\n",
       "      <td>0.1</td>\n",
       "      <td>0.95</td>\n",
       "      <td>0.008549</td>\n",
       "    </tr>\n",
       "    <tr>\n",
       "      <th>1</th>\n",
       "      <td>1.845375</td>\n",
       "      <td>0.007563</td>\n",
       "      <td>nltcs</td>\n",
       "      <td>MI</td>\n",
       "      <td>0.1</td>\n",
       "      <td>0.95</td>\n",
       "      <td>0.007563</td>\n",
       "    </tr>\n",
       "    <tr>\n",
       "      <th>2</th>\n",
       "      <td>1.845375</td>\n",
       "      <td>0.008263</td>\n",
       "      <td>nltcs</td>\n",
       "      <td>MI</td>\n",
       "      <td>0.1</td>\n",
       "      <td>0.95</td>\n",
       "      <td>0.008263</td>\n",
       "    </tr>\n",
       "    <tr>\n",
       "      <th>3</th>\n",
       "      <td>1.845375</td>\n",
       "      <td>0.008458</td>\n",
       "      <td>nltcs</td>\n",
       "      <td>MI</td>\n",
       "      <td>0.1</td>\n",
       "      <td>0.95</td>\n",
       "      <td>0.008458</td>\n",
       "    </tr>\n",
       "    <tr>\n",
       "      <th>4</th>\n",
       "      <td>1.845375</td>\n",
       "      <td>0.009107</td>\n",
       "      <td>nltcs</td>\n",
       "      <td>MI</td>\n",
       "      <td>0.1</td>\n",
       "      <td>0.95</td>\n",
       "      <td>0.009107</td>\n",
       "    </tr>\n",
       "  </tbody>\n",
       "</table>\n",
       "</div>"
      ],
      "text/plain": [
       "           ind_time  inf_time dataset predict.algo  predict.its  \\\n",
       "idx q_idx                                                         \n",
       "2   0      1.845375  0.008549   nltcs           MI          0.1   \n",
       "    1      1.845375  0.007563   nltcs           MI          0.1   \n",
       "    2      1.845375  0.008263   nltcs           MI          0.1   \n",
       "    3      1.845375  0.008458   nltcs           MI          0.1   \n",
       "    4      1.845375  0.009107   nltcs           MI          0.1   \n",
       "\n",
       "           predict.param  inf_time_base  \n",
       "idx q_idx                                \n",
       "2   0               0.95       0.008549  \n",
       "    1               0.95       0.007563  \n",
       "    2               0.95       0.008263  \n",
       "    3               0.95       0.008458  \n",
       "    4               0.95       0.009107  "
      ]
     },
     "execution_count": 15,
     "metadata": {},
     "output_type": "execute_result"
    }
   ],
   "source": [
    "df_2 = _insert_inf_time_base(df_1, baseline=('predict.algo', 'MI'))\n",
    "df_2.head()"
   ]
  },
  {
   "cell_type": "code",
   "execution_count": 16,
   "metadata": {},
   "outputs": [
    {
     "data": {
      "text/html": [
       "<div>\n",
       "<style scoped>\n",
       "    .dataframe tbody tr th:only-of-type {\n",
       "        vertical-align: middle;\n",
       "    }\n",
       "\n",
       "    .dataframe tbody tr th {\n",
       "        vertical-align: top;\n",
       "    }\n",
       "\n",
       "    .dataframe thead th {\n",
       "        text-align: right;\n",
       "    }\n",
       "</style>\n",
       "<table border=\"1\" class=\"dataframe\">\n",
       "  <thead>\n",
       "    <tr style=\"text-align: right;\">\n",
       "      <th></th>\n",
       "      <th></th>\n",
       "      <th>ind_time</th>\n",
       "      <th>inf_time</th>\n",
       "      <th>predict.algo</th>\n",
       "      <th>predict.its</th>\n",
       "      <th>predict.param</th>\n",
       "      <th>inf_time_base</th>\n",
       "      <th>inf_time_rel</th>\n",
       "    </tr>\n",
       "    <tr>\n",
       "      <th>idx</th>\n",
       "      <th>q_idx</th>\n",
       "      <th></th>\n",
       "      <th></th>\n",
       "      <th></th>\n",
       "      <th></th>\n",
       "      <th></th>\n",
       "      <th></th>\n",
       "      <th></th>\n",
       "    </tr>\n",
       "  </thead>\n",
       "  <tbody>\n",
       "    <tr>\n",
       "      <th rowspan=\"5\" valign=\"top\">2</th>\n",
       "      <th>0</th>\n",
       "      <td>1.845375</td>\n",
       "      <td>0.008549</td>\n",
       "      <td>MI</td>\n",
       "      <td>0.1</td>\n",
       "      <td>0.95</td>\n",
       "      <td>0.008549</td>\n",
       "      <td>1.0</td>\n",
       "    </tr>\n",
       "    <tr>\n",
       "      <th>1</th>\n",
       "      <td>1.845375</td>\n",
       "      <td>0.007563</td>\n",
       "      <td>MI</td>\n",
       "      <td>0.1</td>\n",
       "      <td>0.95</td>\n",
       "      <td>0.007563</td>\n",
       "      <td>1.0</td>\n",
       "    </tr>\n",
       "    <tr>\n",
       "      <th>2</th>\n",
       "      <td>1.845375</td>\n",
       "      <td>0.008263</td>\n",
       "      <td>MI</td>\n",
       "      <td>0.1</td>\n",
       "      <td>0.95</td>\n",
       "      <td>0.008263</td>\n",
       "      <td>1.0</td>\n",
       "    </tr>\n",
       "    <tr>\n",
       "      <th>3</th>\n",
       "      <td>1.845375</td>\n",
       "      <td>0.008458</td>\n",
       "      <td>MI</td>\n",
       "      <td>0.1</td>\n",
       "      <td>0.95</td>\n",
       "      <td>0.008458</td>\n",
       "      <td>1.0</td>\n",
       "    </tr>\n",
       "    <tr>\n",
       "      <th>4</th>\n",
       "      <td>1.845375</td>\n",
       "      <td>0.009107</td>\n",
       "      <td>MI</td>\n",
       "      <td>0.1</td>\n",
       "      <td>0.95</td>\n",
       "      <td>0.009107</td>\n",
       "      <td>1.0</td>\n",
       "    </tr>\n",
       "  </tbody>\n",
       "</table>\n",
       "</div>"
      ],
      "text/plain": [
       "           ind_time  inf_time predict.algo  predict.its  predict.param  \\\n",
       "idx q_idx                                                                \n",
       "2   0      1.845375  0.008549           MI          0.1           0.95   \n",
       "    1      1.845375  0.007563           MI          0.1           0.95   \n",
       "    2      1.845375  0.008263           MI          0.1           0.95   \n",
       "    3      1.845375  0.008458           MI          0.1           0.95   \n",
       "    4      1.845375  0.009107           MI          0.1           0.95   \n",
       "\n",
       "           inf_time_base  inf_time_rel  \n",
       "idx q_idx                               \n",
       "2   0           0.008549           1.0  \n",
       "    1           0.007563           1.0  \n",
       "    2           0.008263           1.0  \n",
       "    3           0.008458           1.0  \n",
       "    4           0.009107           1.0  "
      ]
     },
     "execution_count": 16,
     "metadata": {},
     "output_type": "execute_result"
    }
   ],
   "source": [
    "df_3 = _insert_inf_time_relative(df_2)\n",
    "df_3.drop(columns=['dataset'], inplace=True)\n",
    "df_3.head()"
   ]
  },
  {
   "cell_type": "code",
   "execution_count": 17,
   "metadata": {
    "scrolled": false
   },
   "outputs": [
    {
     "name": "stdout",
     "output_type": "stream",
     "text": [
      "\n",
      "    35.27 kiloB\n",
      "    \n"
     ]
    },
    {
     "data": {
      "text/html": [
       "<div>\n",
       "<style scoped>\n",
       "    .dataframe tbody tr th:only-of-type {\n",
       "        vertical-align: middle;\n",
       "    }\n",
       "\n",
       "    .dataframe tbody tr th {\n",
       "        vertical-align: top;\n",
       "    }\n",
       "\n",
       "    .dataframe thead th {\n",
       "        text-align: right;\n",
       "    }\n",
       "</style>\n",
       "<table border=\"1\" class=\"dataframe\">\n",
       "  <thead>\n",
       "    <tr style=\"text-align: right;\">\n",
       "      <th></th>\n",
       "      <th></th>\n",
       "      <th></th>\n",
       "      <th>score</th>\n",
       "      <th>ind_time</th>\n",
       "      <th>inf_time</th>\n",
       "      <th>predict.algo</th>\n",
       "      <th>predict.its</th>\n",
       "      <th>predict.param</th>\n",
       "      <th>inf_time_base</th>\n",
       "      <th>inf_time_rel</th>\n",
       "      <th>t_idx</th>\n",
       "      <th>perc_miss</th>\n",
       "      <th>score_base</th>\n",
       "      <th>score_rel</th>\n",
       "      <th>dataset</th>\n",
       "    </tr>\n",
       "    <tr>\n",
       "      <th>idx</th>\n",
       "      <th>name</th>\n",
       "      <th>q_idx</th>\n",
       "      <th></th>\n",
       "      <th></th>\n",
       "      <th></th>\n",
       "      <th></th>\n",
       "      <th></th>\n",
       "      <th></th>\n",
       "      <th></th>\n",
       "      <th></th>\n",
       "      <th></th>\n",
       "      <th></th>\n",
       "      <th></th>\n",
       "      <th></th>\n",
       "      <th></th>\n",
       "    </tr>\n",
       "  </thead>\n",
       "  <tbody>\n",
       "    <tr>\n",
       "      <th rowspan=\"5\" valign=\"top\">2</th>\n",
       "      <th rowspan=\"5\" valign=\"top\">predict.algo=MI|predict.its=0.1|predict.param=0.95</th>\n",
       "      <th>0</th>\n",
       "      <td>0.805131</td>\n",
       "      <td>1.845375</td>\n",
       "      <td>0.008549</td>\n",
       "      <td>MI</td>\n",
       "      <td>0.1</td>\n",
       "      <td>0.95</td>\n",
       "      <td>0.008549</td>\n",
       "      <td>1.0</td>\n",
       "      <td>4</td>\n",
       "      <td>0.00</td>\n",
       "      <td>80.5131</td>\n",
       "      <td>1.000000</td>\n",
       "      <td>nltcs</td>\n",
       "    </tr>\n",
       "    <tr>\n",
       "      <th>1</th>\n",
       "      <td>0.795946</td>\n",
       "      <td>1.845375</td>\n",
       "      <td>0.007563</td>\n",
       "      <td>MI</td>\n",
       "      <td>0.1</td>\n",
       "      <td>0.95</td>\n",
       "      <td>0.007563</td>\n",
       "      <td>1.0</td>\n",
       "      <td>4</td>\n",
       "      <td>6.25</td>\n",
       "      <td>80.5131</td>\n",
       "      <td>0.988592</td>\n",
       "      <td>nltcs</td>\n",
       "    </tr>\n",
       "    <tr>\n",
       "      <th>2</th>\n",
       "      <td>0.792489</td>\n",
       "      <td>1.845375</td>\n",
       "      <td>0.008263</td>\n",
       "      <td>MI</td>\n",
       "      <td>0.1</td>\n",
       "      <td>0.95</td>\n",
       "      <td>0.008263</td>\n",
       "      <td>1.0</td>\n",
       "      <td>4</td>\n",
       "      <td>18.75</td>\n",
       "      <td>80.5131</td>\n",
       "      <td>0.984298</td>\n",
       "      <td>nltcs</td>\n",
       "    </tr>\n",
       "    <tr>\n",
       "      <th>3</th>\n",
       "      <td>0.494750</td>\n",
       "      <td>1.845375</td>\n",
       "      <td>0.008458</td>\n",
       "      <td>MI</td>\n",
       "      <td>0.1</td>\n",
       "      <td>0.95</td>\n",
       "      <td>0.008458</td>\n",
       "      <td>1.0</td>\n",
       "      <td>4</td>\n",
       "      <td>25.00</td>\n",
       "      <td>80.5131</td>\n",
       "      <td>0.614496</td>\n",
       "      <td>nltcs</td>\n",
       "    </tr>\n",
       "    <tr>\n",
       "      <th>4</th>\n",
       "      <td>0.328801</td>\n",
       "      <td>1.845375</td>\n",
       "      <td>0.009107</td>\n",
       "      <td>MI</td>\n",
       "      <td>0.1</td>\n",
       "      <td>0.95</td>\n",
       "      <td>0.009107</td>\n",
       "      <td>1.0</td>\n",
       "      <td>4</td>\n",
       "      <td>37.50</td>\n",
       "      <td>80.5131</td>\n",
       "      <td>0.408382</td>\n",
       "      <td>nltcs</td>\n",
       "    </tr>\n",
       "  </tbody>\n",
       "</table>\n",
       "</div>"
      ],
      "text/plain": [
       "                                                                 score  \\\n",
       "idx name                                               q_idx             \n",
       "2   predict.algo=MI|predict.its=0.1|predict.param=0.95 0      0.805131   \n",
       "                                                       1      0.795946   \n",
       "                                                       2      0.792489   \n",
       "                                                       3      0.494750   \n",
       "                                                       4      0.328801   \n",
       "\n",
       "                                                              ind_time  \\\n",
       "idx name                                               q_idx             \n",
       "2   predict.algo=MI|predict.its=0.1|predict.param=0.95 0      1.845375   \n",
       "                                                       1      1.845375   \n",
       "                                                       2      1.845375   \n",
       "                                                       3      1.845375   \n",
       "                                                       4      1.845375   \n",
       "\n",
       "                                                              inf_time  \\\n",
       "idx name                                               q_idx             \n",
       "2   predict.algo=MI|predict.its=0.1|predict.param=0.95 0      0.008549   \n",
       "                                                       1      0.007563   \n",
       "                                                       2      0.008263   \n",
       "                                                       3      0.008458   \n",
       "                                                       4      0.009107   \n",
       "\n",
       "                                                             predict.algo  \\\n",
       "idx name                                               q_idx                \n",
       "2   predict.algo=MI|predict.its=0.1|predict.param=0.95 0               MI   \n",
       "                                                       1               MI   \n",
       "                                                       2               MI   \n",
       "                                                       3               MI   \n",
       "                                                       4               MI   \n",
       "\n",
       "                                                              predict.its  \\\n",
       "idx name                                               q_idx                \n",
       "2   predict.algo=MI|predict.its=0.1|predict.param=0.95 0              0.1   \n",
       "                                                       1              0.1   \n",
       "                                                       2              0.1   \n",
       "                                                       3              0.1   \n",
       "                                                       4              0.1   \n",
       "\n",
       "                                                              predict.param  \\\n",
       "idx name                                               q_idx                  \n",
       "2   predict.algo=MI|predict.its=0.1|predict.param=0.95 0               0.95   \n",
       "                                                       1               0.95   \n",
       "                                                       2               0.95   \n",
       "                                                       3               0.95   \n",
       "                                                       4               0.95   \n",
       "\n",
       "                                                              inf_time_base  \\\n",
       "idx name                                               q_idx                  \n",
       "2   predict.algo=MI|predict.its=0.1|predict.param=0.95 0           0.008549   \n",
       "                                                       1           0.007563   \n",
       "                                                       2           0.008263   \n",
       "                                                       3           0.008458   \n",
       "                                                       4           0.009107   \n",
       "\n",
       "                                                              inf_time_rel  \\\n",
       "idx name                                               q_idx                 \n",
       "2   predict.algo=MI|predict.its=0.1|predict.param=0.95 0               1.0   \n",
       "                                                       1               1.0   \n",
       "                                                       2               1.0   \n",
       "                                                       3               1.0   \n",
       "                                                       4               1.0   \n",
       "\n",
       "                                                              t_idx  \\\n",
       "idx name                                               q_idx          \n",
       "2   predict.algo=MI|predict.its=0.1|predict.param=0.95 0          4   \n",
       "                                                       1          4   \n",
       "                                                       2          4   \n",
       "                                                       3          4   \n",
       "                                                       4          4   \n",
       "\n",
       "                                                              perc_miss  \\\n",
       "idx name                                               q_idx              \n",
       "2   predict.algo=MI|predict.its=0.1|predict.param=0.95 0           0.00   \n",
       "                                                       1           6.25   \n",
       "                                                       2          18.75   \n",
       "                                                       3          25.00   \n",
       "                                                       4          37.50   \n",
       "\n",
       "                                                              score_base  \\\n",
       "idx name                                               q_idx               \n",
       "2   predict.algo=MI|predict.its=0.1|predict.param=0.95 0         80.5131   \n",
       "                                                       1         80.5131   \n",
       "                                                       2         80.5131   \n",
       "                                                       3         80.5131   \n",
       "                                                       4         80.5131   \n",
       "\n",
       "                                                              score_rel  \\\n",
       "idx name                                               q_idx              \n",
       "2   predict.algo=MI|predict.its=0.1|predict.param=0.95 0       1.000000   \n",
       "                                                       1       0.988592   \n",
       "                                                       2       0.984298   \n",
       "                                                       3       0.614496   \n",
       "                                                       4       0.408382   \n",
       "\n",
       "                                                             dataset  \n",
       "idx name                                               q_idx          \n",
       "2   predict.algo=MI|predict.its=0.1|predict.param=0.95 0       nltcs  \n",
       "                                                       1       nltcs  \n",
       "                                                       2       nltcs  \n",
       "                                                       3       nltcs  \n",
       "                                                       4       nltcs  "
      ]
     },
     "execution_count": 17,
     "metadata": {},
     "output_type": "execute_result"
    }
   ],
   "source": [
    "df_plt = build_df_plt(df_res, df_qry, df_cfg, df_3)\n",
    "mem_usage(df_plt)\n",
    "df_plt.head()"
   ]
  },
  {
   "cell_type": "code",
   "execution_count": 18,
   "metadata": {
    "scrolled": false
   },
   "outputs": [
    {
     "data": {
      "text/html": [
       "<div>\n",
       "<style scoped>\n",
       "    .dataframe tbody tr th:only-of-type {\n",
       "        vertical-align: middle;\n",
       "    }\n",
       "\n",
       "    .dataframe tbody tr th {\n",
       "        vertical-align: top;\n",
       "    }\n",
       "\n",
       "    .dataframe thead th {\n",
       "        text-align: right;\n",
       "    }\n",
       "</style>\n",
       "<table border=\"1\" class=\"dataframe\">\n",
       "  <thead>\n",
       "    <tr style=\"text-align: right;\">\n",
       "      <th></th>\n",
       "      <th></th>\n",
       "      <th>perc_miss</th>\n",
       "      <th>inf_time</th>\n",
       "      <th>global_aligned_rank</th>\n",
       "      <th>ind_time</th>\n",
       "      <th>score_rel</th>\n",
       "      <th>score</th>\n",
       "      <th>aligned_rank</th>\n",
       "      <th>rank</th>\n",
       "      <th>global_dataset_aligned_rank</th>\n",
       "    </tr>\n",
       "    <tr>\n",
       "      <th>range_index</th>\n",
       "      <th>name</th>\n",
       "      <th></th>\n",
       "      <th></th>\n",
       "      <th></th>\n",
       "      <th></th>\n",
       "      <th></th>\n",
       "      <th></th>\n",
       "      <th></th>\n",
       "      <th></th>\n",
       "      <th></th>\n",
       "    </tr>\n",
       "  </thead>\n",
       "  <tbody>\n",
       "    <tr>\n",
       "      <th>0</th>\n",
       "      <th>predict.algo=MAFI|predict.its=0.1|predict.param=0.95</th>\n",
       "      <td>0.0</td>\n",
       "      <td>0.021514</td>\n",
       "      <td>20.5000</td>\n",
       "      <td>8.889205</td>\n",
       "      <td>1.000000</td>\n",
       "      <td>0.648898</td>\n",
       "      <td>2.5000</td>\n",
       "      <td>1.5000</td>\n",
       "      <td>10.5000</td>\n",
       "    </tr>\n",
       "    <tr>\n",
       "      <th>1</th>\n",
       "      <th>predict.algo=MAFI|predict.its=0.1|predict.param=0.95</th>\n",
       "      <td>10.0</td>\n",
       "      <td>0.019092</td>\n",
       "      <td>18.6000</td>\n",
       "      <td>8.889205</td>\n",
       "      <td>0.995961</td>\n",
       "      <td>0.646821</td>\n",
       "      <td>2.3000</td>\n",
       "      <td>1.4500</td>\n",
       "      <td>9.5500</td>\n",
       "    </tr>\n",
       "    <tr>\n",
       "      <th>2</th>\n",
       "      <th>predict.algo=MAFI|predict.its=0.1|predict.param=0.95</th>\n",
       "      <td>20.0</td>\n",
       "      <td>0.018508</td>\n",
       "      <td>36.6125</td>\n",
       "      <td>8.889205</td>\n",
       "      <td>0.907878</td>\n",
       "      <td>0.576979</td>\n",
       "      <td>2.3375</td>\n",
       "      <td>1.4375</td>\n",
       "      <td>18.7625</td>\n",
       "    </tr>\n",
       "    <tr>\n",
       "      <th>3</th>\n",
       "      <th>predict.algo=MAFI|predict.its=0.1|predict.param=0.95</th>\n",
       "      <td>40.0</td>\n",
       "      <td>0.018401</td>\n",
       "      <td>27.4875</td>\n",
       "      <td>8.889205</td>\n",
       "      <td>0.863944</td>\n",
       "      <td>0.542574</td>\n",
       "      <td>2.3625</td>\n",
       "      <td>1.4375</td>\n",
       "      <td>13.9125</td>\n",
       "    </tr>\n",
       "    <tr>\n",
       "      <th>4</th>\n",
       "      <th>predict.algo=MAFI|predict.its=0.1|predict.param=0.95</th>\n",
       "      <td>50.0</td>\n",
       "      <td>0.033418</td>\n",
       "      <td>19.5250</td>\n",
       "      <td>15.933035</td>\n",
       "      <td>0.941027</td>\n",
       "      <td>0.474241</td>\n",
       "      <td>2.4750</td>\n",
       "      <td>1.4750</td>\n",
       "      <td>19.5250</td>\n",
       "    </tr>\n",
       "  </tbody>\n",
       "</table>\n",
       "</div>"
      ],
      "text/plain": [
       "                                                                perc_miss  \\\n",
       "range_index name                                                            \n",
       "0           predict.algo=MAFI|predict.its=0.1|predict.param...        0.0   \n",
       "1           predict.algo=MAFI|predict.its=0.1|predict.param...       10.0   \n",
       "2           predict.algo=MAFI|predict.its=0.1|predict.param...       20.0   \n",
       "3           predict.algo=MAFI|predict.its=0.1|predict.param...       40.0   \n",
       "4           predict.algo=MAFI|predict.its=0.1|predict.param...       50.0   \n",
       "\n",
       "                                                                inf_time  \\\n",
       "range_index name                                                           \n",
       "0           predict.algo=MAFI|predict.its=0.1|predict.param...  0.021514   \n",
       "1           predict.algo=MAFI|predict.its=0.1|predict.param...  0.019092   \n",
       "2           predict.algo=MAFI|predict.its=0.1|predict.param...  0.018508   \n",
       "3           predict.algo=MAFI|predict.its=0.1|predict.param...  0.018401   \n",
       "4           predict.algo=MAFI|predict.its=0.1|predict.param...  0.033418   \n",
       "\n",
       "                                                                global_aligned_rank  \\\n",
       "range_index name                                                                      \n",
       "0           predict.algo=MAFI|predict.its=0.1|predict.param...              20.5000   \n",
       "1           predict.algo=MAFI|predict.its=0.1|predict.param...              18.6000   \n",
       "2           predict.algo=MAFI|predict.its=0.1|predict.param...              36.6125   \n",
       "3           predict.algo=MAFI|predict.its=0.1|predict.param...              27.4875   \n",
       "4           predict.algo=MAFI|predict.its=0.1|predict.param...              19.5250   \n",
       "\n",
       "                                                                 ind_time  \\\n",
       "range_index name                                                            \n",
       "0           predict.algo=MAFI|predict.its=0.1|predict.param...   8.889205   \n",
       "1           predict.algo=MAFI|predict.its=0.1|predict.param...   8.889205   \n",
       "2           predict.algo=MAFI|predict.its=0.1|predict.param...   8.889205   \n",
       "3           predict.algo=MAFI|predict.its=0.1|predict.param...   8.889205   \n",
       "4           predict.algo=MAFI|predict.its=0.1|predict.param...  15.933035   \n",
       "\n",
       "                                                                score_rel  \\\n",
       "range_index name                                                            \n",
       "0           predict.algo=MAFI|predict.its=0.1|predict.param...   1.000000   \n",
       "1           predict.algo=MAFI|predict.its=0.1|predict.param...   0.995961   \n",
       "2           predict.algo=MAFI|predict.its=0.1|predict.param...   0.907878   \n",
       "3           predict.algo=MAFI|predict.its=0.1|predict.param...   0.863944   \n",
       "4           predict.algo=MAFI|predict.its=0.1|predict.param...   0.941027   \n",
       "\n",
       "                                                                   score  \\\n",
       "range_index name                                                           \n",
       "0           predict.algo=MAFI|predict.its=0.1|predict.param...  0.648898   \n",
       "1           predict.algo=MAFI|predict.its=0.1|predict.param...  0.646821   \n",
       "2           predict.algo=MAFI|predict.its=0.1|predict.param...  0.576979   \n",
       "3           predict.algo=MAFI|predict.its=0.1|predict.param...  0.542574   \n",
       "4           predict.algo=MAFI|predict.its=0.1|predict.param...  0.474241   \n",
       "\n",
       "                                                                aligned_rank  \\\n",
       "range_index name                                                               \n",
       "0           predict.algo=MAFI|predict.its=0.1|predict.param...        2.5000   \n",
       "1           predict.algo=MAFI|predict.its=0.1|predict.param...        2.3000   \n",
       "2           predict.algo=MAFI|predict.its=0.1|predict.param...        2.3375   \n",
       "3           predict.algo=MAFI|predict.its=0.1|predict.param...        2.3625   \n",
       "4           predict.algo=MAFI|predict.its=0.1|predict.param...        2.4750   \n",
       "\n",
       "                                                                  rank  \\\n",
       "range_index name                                                         \n",
       "0           predict.algo=MAFI|predict.its=0.1|predict.param...  1.5000   \n",
       "1           predict.algo=MAFI|predict.its=0.1|predict.param...  1.4500   \n",
       "2           predict.algo=MAFI|predict.its=0.1|predict.param...  1.4375   \n",
       "3           predict.algo=MAFI|predict.its=0.1|predict.param...  1.4375   \n",
       "4           predict.algo=MAFI|predict.its=0.1|predict.param...  1.4750   \n",
       "\n",
       "                                                                global_dataset_aligned_rank  \n",
       "range_index name                                                                             \n",
       "0           predict.algo=MAFI|predict.its=0.1|predict.param...                      10.5000  \n",
       "1           predict.algo=MAFI|predict.its=0.1|predict.param...                       9.5500  \n",
       "2           predict.algo=MAFI|predict.its=0.1|predict.param...                      18.7625  \n",
       "3           predict.algo=MAFI|predict.its=0.1|predict.param...                      13.9125  \n",
       "4           predict.algo=MAFI|predict.its=0.1|predict.param...                      19.5250  "
      ]
     },
     "execution_count": 18,
     "metadata": {},
     "output_type": "execute_result"
    }
   ],
   "source": [
    "df_lpt = build_df_lineplot(df_plt)\n",
    "df_lpt.head()"
   ]
  },
  {
   "cell_type": "code",
   "execution_count": 19,
   "metadata": {},
   "outputs": [
    {
     "name": "stdout",
     "output_type": "stream",
     "text": [
      "\n",
      "    1.70 kiloB\n",
      "    \n"
     ]
    }
   ],
   "source": [
    "mem_usage(df_lpt)"
   ]
  },
  {
   "cell_type": "code",
   "execution_count": 20,
   "metadata": {},
   "outputs": [
    {
     "data": {
      "text/plain": [
       "dataset              category\n",
       "predict.algo         category\n",
       "predict.its           float64\n",
       "predict.param         float64\n",
       "fit.sel.param           int64\n",
       "fit.ind.max_depth       int64\n",
       "fit.ind.type         category\n",
       "fit.sel.its             int64\n",
       "mod.type             category\n",
       "mod.keyword          category\n",
       "name                 category\n",
       "dtype: object"
      ]
     },
     "execution_count": 20,
     "metadata": {},
     "output_type": "execute_result"
    }
   ],
   "source": [
    "df_cfg.dtypes"
   ]
  },
  {
   "cell_type": "markdown",
   "metadata": {
    "heading_collapsed": true
   },
   "source": [
    "## Plot Layout"
   ]
  },
  {
   "cell_type": "code",
   "execution_count": 21,
   "metadata": {
    "collapsed": true,
    "hidden": true
   },
   "outputs": [],
   "source": [
    "graph_style = {'width':             '85%',\n",
    "               'float':             'right',\n",
    "               'z-index':            1,\n",
    "               'position':           'relative',\n",
    "               'margin-bottom':      '2cm'}\n",
    "\n",
    "dropdown_menu_style = {'width':            '14%',\n",
    "                       'backgroundColor':  'rgb(250, 250, 250)',\n",
    "                       'float':            'left',\n",
    "                       'z-index':            0,\n",
    "                       'position':          'relative',\n",
    "                       'border':            '1px solid gray'}\n",
    "\n",
    "slider_menu_style = {'width':             '95%',\n",
    "                     'backgroundColor':  'rgb(250, 250, 250)',\n",
    "                     'float':            'left',\n",
    "                     'margin-left':       '1cm',\n",
    "                     'margin-bottom':     '2cm'}\n",
    "\n",
    "extra_style = {'border':            '1px solid black'}\n",
    "\n",
    "sep = html.Div(style={'clear': 'both'})\n",
    "\n",
    "txt_box_style = {'width':             '25%',\n",
    "                 'float':             'left',\n",
    "                 'z-index':            1,\n",
    "                 'position':           'relative',\n",
    "                 'margin-left':       '2cm',\n",
    "                 'border':            '1px solid gray'}"
   ]
  },
  {
   "cell_type": "markdown",
   "metadata": {
    "heading_collapsed": true,
    "toc-hr-collapsed": true
   },
   "source": [
    "## Menus"
   ]
  },
  {
   "cell_type": "markdown",
   "metadata": {
    "hidden": true
   },
   "source": [
    "### Dropdown"
   ]
  },
  {
   "cell_type": "code",
   "execution_count": 22,
   "metadata": {
    "hidden": true
   },
   "outputs": [],
   "source": [
    "# Dropdown Menus\n",
    "perf_dd_menus = generate_dropdown_menus_from_df(df_cfg, ignore_columns=['name'])"
   ]
  },
  {
   "cell_type": "code",
   "execution_count": 23,
   "metadata": {},
   "outputs": [
    {
     "data": {
      "text/plain": [
       "[Label('dataset'),\n",
       " Dropdown(id='dataset', options=[{'label': 'msnbc', 'value': 'msnbc'}, {'label': 'nltcs', 'value': 'nltcs'}, {'label': 'IDC', 'value': 'IDC'}], value='IDC', multi=True),\n",
       " Label('predict-algo'),\n",
       " Dropdown(id='predict-algo', options=[{'label': 'MAFI', 'value': 'MAFI'}, {'label': 'MI', 'value': 'MI'}, {'label': 'IDC', 'value': 'IDC'}], value='IDC', multi=True),\n",
       " Label('predict-its'),\n",
       " Dropdown(id='predict-its', options=[{'label': '0.1', 'value': 0.1}, {'label': 'IDC', 'value': 'IDC'}], value='IDC', multi=True),\n",
       " Label('predict-param'),\n",
       " Dropdown(id='predict-param', options=[{'label': '0.95', 'value': 0.95}, {'label': 'IDC', 'value': 'IDC'}], value='IDC', multi=True),\n",
       " Label('fit-sel-param'),\n",
       " Dropdown(id='fit-sel-param', options=[{'label': '2', 'value': 2}, {'label': 'IDC', 'value': 'IDC'}], value='IDC', multi=True),\n",
       " Label('fit-ind-max_depth'),\n",
       " Dropdown(id='fit-ind-max_depth', options=[{'label': '4', 'value': 4}, {'label': 'IDC', 'value': 'IDC'}], value='IDC', multi=True),\n",
       " Label('fit-ind-type'),\n",
       " Dropdown(id='fit-ind-type', options=[{'label': 'DT', 'value': 'DT'}, {'label': 'IDC', 'value': 'IDC'}], value='IDC', multi=True),\n",
       " Label('fit-sel-its'),\n",
       " Dropdown(id='fit-sel-its', options=[{'label': '4', 'value': 4}, {'label': 'IDC', 'value': 'IDC'}], value='IDC', multi=True),\n",
       " Label('mod-type'),\n",
       " Dropdown(id='mod-type', options=[{'label': 'Mercs', 'value': 'Mercs'}, {'label': 'IDC', 'value': 'IDC'}], value='IDC', multi=True),\n",
       " Label('mod-keyword'),\n",
       " Dropdown(id='mod-keyword', options=[{'label': 'md4', 'value': 'md4'}, {'label': 'IDC', 'value': 'IDC'}], value='IDC', multi=True)]"
      ]
     },
     "execution_count": 23,
     "metadata": {},
     "output_type": "execute_result"
    }
   ],
   "source": [
    "perf_dd_menus"
   ]
  },
  {
   "cell_type": "code",
   "execution_count": 24,
   "metadata": {
    "collapsed": true,
    "hidden": true
   },
   "outputs": [],
   "source": [
    "# Extra DropDown menus\n",
    "targ_idx_dd = generate_dropdown_menus_from_df(df_qry, relevant_columns=[\"t_idx\"])\n",
    "show_data_dd = generate_dropdown_menu(\n",
    "    \"show_data\", [False, True], labels=[\"No\", \"Yes\"], default=0, multi=False\n",
    ")\n",
    "\n",
    "rank_score_dd = generate_dropdown_menu(\n",
    "    \"y_field\",\n",
    "    [\n",
    "        \"rank\",\n",
    "        \"score\",\n",
    "        \"score_rel\",\n",
    "        \"aligned_rank\",\n",
    "        \"global_aligned_rank\",\n",
    "        \"global_dataset_aligned_rank\",\n",
    "    ],\n",
    "    labels=[\n",
    "        \"Avg. Rank\",\n",
    "        \"Avg. F1-Score\",\n",
    "        \"Avg. Rel. F1-Score\",\n",
    "        \"Aligned Rank\",\n",
    "        \"Global Aligned Rank\",\n",
    "        \"GDS Aligned Rank\",\n",
    "    ],\n",
    "    default=\"score\",\n",
    "    multi=False,\n",
    ")\n",
    "\n",
    "perf_dd_menus.extend(targ_idx_dd)\n",
    "perf_dd_menus.extend(show_data_dd)\n",
    "perf_dd_menus.extend(rank_score_dd)\n",
    "\n",
    "perf_dd_menus = html.Div(perf_dd_menus, style=dropdown_menu_style)"
   ]
  },
  {
   "cell_type": "markdown",
   "metadata": {
    "hidden": true
   },
   "source": [
    "### Sliders"
   ]
  },
  {
   "cell_type": "code",
   "execution_count": 25,
   "metadata": {
    "collapsed": true,
    "hidden": true
   },
   "outputs": [],
   "source": [
    "perf_sl_menus = generate_slider_menu(\"perc_miss\")\n",
    "perf_sl_menus.extend(generate_slider_menu(\"score_base\", kind=\"range\"))\n",
    "perf_sl_menus.extend(generate_slider_menu(\"inf_time_rel\", kind=\"log\"))\n",
    "\n",
    "\n",
    "perf_sl_menus = html.Div(perf_sl_menus, style=slider_menu_style)\n",
    "\n",
    "\n",
    "disp_01 = html.Div(id=\"inf_time_rel-display\", style={\"margin-top\": 20})\n",
    "disp_02 = html.Div(id=\"score_base-display\", style={\"margin-top\": 20})\n",
    "disp_03 = html.Div(id=\"perc_miss-display\", style={\"margin-top\": 20})"
   ]
  },
  {
   "cell_type": "markdown",
   "metadata": {
    "heading_collapsed": true
   },
   "source": [
    "## Static App"
   ]
  },
  {
   "cell_type": "code",
   "execution_count": 26,
   "metadata": {
    "collapsed": true,
    "hidden": true
   },
   "outputs": [],
   "source": [
    "perf_graph = dcc.Graph(id='lineplot', \n",
    "                       figure=generate_graph(df_lpt, kind='line', show_data=False))\n",
    "\n",
    "stat_perf_contents = html.Div([perf_graph],\n",
    "                              style=graph_style)"
   ]
  },
  {
   "cell_type": "code",
   "execution_count": 27,
   "metadata": {},
   "outputs": [],
   "source": [
    "app = dash.Dash()\n",
    "app.layout = html.Div(stat_perf_contents)"
   ]
  },
  {
   "cell_type": "markdown",
   "metadata": {
    "heading_collapsed": true,
    "toc-hr-collapsed": false
   },
   "source": [
    "## Dynamic App\n",
    "\n",
    "Re-uses some stuff from the static configuration."
   ]
  },
  {
   "cell_type": "markdown",
   "metadata": {
    "heading_collapsed": true,
    "hidden": true
   },
   "source": [
    "### Initialization"
   ]
  },
  {
   "cell_type": "code",
   "execution_count": 28,
   "metadata": {
    "collapsed": true,
    "hidden": true
   },
   "outputs": [],
   "source": [
    "dyn_perf_contents = [\n",
    "    perf_dd_menus,\n",
    "    stat_perf_contents,\n",
    "    sep,\n",
    "    perf_sl_menus,\n",
    "    disp_01,\n",
    "    disp_02,\n",
    "    disp_03,\n",
    "]"
   ]
  },
  {
   "cell_type": "code",
   "execution_count": 42,
   "metadata": {
    "collapsed": true,
    "hidden": true
   },
   "outputs": [],
   "source": [
    "# Init App.\n",
    "app = dash.Dash()\n",
    "app.layout = html.Div(dyn_perf_contents)"
   ]
  },
  {
   "cell_type": "code",
   "execution_count": 45,
   "metadata": {
    "collapsed": true,
    "hidden": true
   },
   "outputs": [],
   "source": [
    "menu_inputs, menu_names = extract_menu_inputs_menu_names_from_layout(app.layout)\n",
    "# menu_names"
   ]
  },
  {
   "cell_type": "markdown",
   "metadata": {
    "heading_collapsed": true,
    "hidden": true
   },
   "source": [
    "### Callbacks for Text Updates.\n",
    "\n",
    "This callback method needs to handle everything at once."
   ]
  },
  {
   "cell_type": "code",
   "execution_count": 46,
   "metadata": {},
   "outputs": [],
   "source": [
    "@app.callback(Output('inf_time_rel-display', 'children'),\n",
    "              [Input('inf_time_rel', 'value')])\n",
    "def display_value(value):\n",
    "    msg = \"\"\"\n",
    "    Relative Inference Time \\n\n",
    "    Value = {:0.2f} \\n\n",
    "    (N.b. Linear slider value = {})\n",
    "    \"\"\".format(10 ** value, value)\n",
    "    \n",
    "    return msg\n",
    "\n",
    "@app.callback(Output('perc_miss-display', 'children'),\n",
    "              [Input('perc_miss', 'value')])\n",
    "def display_value(value):\n",
    "    msg = \"\"\"\n",
    "    Percentage Missing Attributes \\n\n",
    "    Value = {} \\n\n",
    "    \"\"\".format(value)\n",
    "    \n",
    "    return msg\n",
    "\n",
    "\n",
    "@app.callback(Output('score_base-display', 'children'),\n",
    "              [Input('score_base', 'value')])\n",
    "def display_value(value):\n",
    "    msg = \"\"\"\n",
    "    Percentage Missing Attributes \\n\n",
    "    Value = {} \\n\n",
    "    \"\"\".format(value)\n",
    "    \n",
    "    return msg"
   ]
  },
  {
   "cell_type": "markdown",
   "metadata": {},
   "source": [
    "### Plot Callback\n",
    "\n",
    "This callback updates the entire plot."
   ]
  },
  {
   "cell_type": "code",
   "execution_count": 47,
   "metadata": {},
   "outputs": [],
   "source": [
    "df_plt.columns = [c.replace('.', '-') for c in df_plt.columns]\n",
    "df_cfg.columns = [c.replace('.', '-') for c in df_cfg.columns]"
   ]
  },
  {
   "cell_type": "code",
   "execution_count": 48,
   "metadata": {},
   "outputs": [],
   "source": [
    "kind='line' # Hardcoded here.\n",
    "\n",
    "\n",
    "@app.callback(\n",
    "    Output('lineplot', 'figure'),\n",
    "    menu_inputs)\n",
    "def update_lineplot(*args):\n",
    "    \n",
    "    menus = zip(menu_names, args)\n",
    "    \n",
    "    # Initializations\n",
    "    filt_df = df_plt\n",
    "    filt_df_params = df_cfg\n",
    "    y_field = 'score'\n",
    "    y_title = 'Average '+ str(y_field)\n",
    "    \n",
    "    for name, values in menus:\n",
    "\n",
    "        if name in {'t_idx'}:\n",
    "            filt_df = filter_dataframe(filt_df, name, values)\n",
    "        elif name in {'perc_miss'}:\n",
    "            filt_df = filter_dataframe(filt_df, name, values, kind='Slider')\n",
    "        elif name in {'inf_time_rel'}:\n",
    "            print(\"Values: inf_time_rel: {}\".format(values))\n",
    "            values = 10**values\n",
    "            filt_df = filter_dataframe(filt_df, name, values, kind='timeout')\n",
    "        elif name in {'score_base'}:\n",
    "            print(\"Values: perc_miss: {}\".format(values))\n",
    "            filt_df = filter_dataframe(filt_df, name, values, kind='RangeSlider')\n",
    "        elif name in {'show_data'}:\n",
    "            show_data = values\n",
    "            #print(\"show_data value: {}\".format(values))\n",
    "        elif name in {'baseline'}:\n",
    "            baseline_name = values\n",
    "        elif name in {'y_field'}:\n",
    "            y_field = values\n",
    "            y_title = 'Average '+ str(y_field)\n",
    "        else:\n",
    "            filt_df_params = filter_dataframe(filt_df_params, name, values)\n",
    "    \n",
    "    try:\n",
    "        #print(filt_df.head())\n",
    "        filt_df = filt_df.loc[filt_df_params.index.values]  # Only keep the entries with indices present in df_params\n",
    "        plot_df = build_df_lineplot(filt_df)\n",
    "        \n",
    "    except ValueError as e: \n",
    "        msg = \"Caught ValueError, this -sometimes- happens whenever no data is present in the plot: {}\".format(e)\n",
    "        print(msg)\n",
    "        plot_df = filt_df\n",
    "        pass\n",
    "\n",
    "    figure_parameters = generate_graph(plot_df,\n",
    "                                       kind=kind,\n",
    "                                       show_data=show_data,\n",
    "                                       y_title=y_title,\n",
    "                                       x_title='Missing Attributes (%)',\n",
    "                                       y_field=y_field)\n",
    "    \n",
    "    return figure_parameters"
   ]
  },
  {
   "cell_type": "markdown",
   "metadata": {
    "toc-hr-collapsed": false
   },
   "source": [
    "## Run App\n",
    "\n",
    "Run the actual browser applet."
   ]
  },
  {
   "cell_type": "code",
   "execution_count": 49,
   "metadata": {
    "scrolled": false
   },
   "outputs": [
    {
     "name": "stdout",
     "output_type": "stream",
     "text": [
      " * Serving Flask app \"__main__\" (lazy loading)\n",
      " * Environment: production\n",
      "   WARNING: This is a development server. Do not use it in a production deployment.\n",
      "   Use a production WSGI server instead.\n",
      " * Debug mode: off\n"
     ]
    },
    {
     "name": "stderr",
     "output_type": "stream",
     "text": [
      " * Running on http://127.0.0.1:8881/ (Press CTRL+C to quit)\n",
      "127.0.0.1 - - [10/Jul/2019 15:55:49] \"GET / HTTP/1.1\" 200 -\n",
      "127.0.0.1 - - [10/Jul/2019 15:55:49] \"GET /_dash-component-suites/dash_renderer/react@16.8.6.min.js?v=1.0.0&m=1562757267 HTTP/1.1\" 200 -\n",
      "127.0.0.1 - - [10/Jul/2019 15:55:49] \"GET /_dash-component-suites/dash_renderer/prop-types@15.7.2.min.js?v=1.0.0&m=1562757267 HTTP/1.1\" 200 -\n",
      "127.0.0.1 - - [10/Jul/2019 15:55:49] \"GET /_dash-component-suites/dash_renderer/react-dom@16.8.6.min.js?v=1.0.0&m=1562757267 HTTP/1.1\" 200 -\n",
      "127.0.0.1 - - [10/Jul/2019 15:55:49] \"GET /_dash-component-suites/dash_html_components/dash_html_components.min.js?v=1.0.0&m=1562757268 HTTP/1.1\" 200 -\n",
      "127.0.0.1 - - [10/Jul/2019 15:55:49] \"GET /_dash-component-suites/dash_core_components/highlight.pack.js?v=1.0.0&m=1562757267 HTTP/1.1\" 200 -\n",
      "127.0.0.1 - - [10/Jul/2019 15:55:49] \"GET /_dash-component-suites/dash_renderer/dash_renderer.min.js?v=1.0.0&m=1562757267 HTTP/1.1\" 200 -\n",
      "127.0.0.1 - - [10/Jul/2019 15:55:49] \"GET /_dash-component-suites/dash_core_components/dash_core_components.min.js?v=1.0.0&m=1562757267 HTTP/1.1\" 200 -\n",
      "127.0.0.1 - - [10/Jul/2019 15:55:49] \"GET /_dash-component-suites/dash_core_components/plotly-1.48.3.min.js?v=1.0.0&m=1562757267 HTTP/1.1\" 200 -\n",
      "127.0.0.1 - - [10/Jul/2019 15:55:50] \"GET /_dash-layout HTTP/1.1\" 200 -\n",
      "127.0.0.1 - - [10/Jul/2019 15:55:50] \"GET /_dash-dependencies HTTP/1.1\" 200 -\n",
      "127.0.0.1 - - [10/Jul/2019 15:55:50] \"POST /_dash-update-component HTTP/1.1\" 200 -\n",
      "127.0.0.1 - - [10/Jul/2019 15:55:50] \"POST /_dash-update-component HTTP/1.1\" 200 -\n",
      "127.0.0.1 - - [10/Jul/2019 15:55:50] \"POST /_dash-update-component HTTP/1.1\" 200 -\n"
     ]
    },
    {
     "name": "stdout",
     "output_type": "stream",
     "text": [
      "Values: perc_miss: [0, 100]\n",
      "Values: inf_time_rel: 2\n"
     ]
    },
    {
     "name": "stderr",
     "output_type": "stream",
     "text": [
      "127.0.0.1 - - [10/Jul/2019 15:55:50] \"POST /_dash-update-component HTTP/1.1\" 200 -\n",
      "127.0.0.1 - - [10/Jul/2019 15:55:53] \"POST /_dash-update-component HTTP/1.1\" 200 -\n"
     ]
    },
    {
     "name": "stdout",
     "output_type": "stream",
     "text": [
      "Values: perc_miss: [0, 100]\n",
      "Values: inf_time_rel: 2\n",
      "Values: perc_miss: [0, 100]\n",
      "Values: inf_time_rel: 2\n"
     ]
    },
    {
     "name": "stderr",
     "output_type": "stream",
     "text": [
      "127.0.0.1 - - [10/Jul/2019 15:55:56] \"POST /_dash-update-component HTTP/1.1\" 200 -\n",
      "127.0.0.1 - - [10/Jul/2019 15:56:01] \"POST /_dash-update-component HTTP/1.1\" 200 -\n"
     ]
    },
    {
     "name": "stdout",
     "output_type": "stream",
     "text": [
      "Values: perc_miss: [0, 100]\n",
      "Values: inf_time_rel: 2\n",
      "Caught ValueError, this -sometimes- happens whenever no data is present in the plot: Cannot set a frame with no defined index and a value that cannot be converted to a Series\n"
     ]
    },
    {
     "name": "stderr",
     "output_type": "stream",
     "text": [
      "127.0.0.1 - - [10/Jul/2019 15:56:02] \"POST /_dash-update-component HTTP/1.1\" 200 -\n"
     ]
    },
    {
     "name": "stdout",
     "output_type": "stream",
     "text": [
      "Values: perc_miss: [0, 100]\n",
      "Values: inf_time_rel: 2\n"
     ]
    },
    {
     "name": "stderr",
     "output_type": "stream",
     "text": [
      "127.0.0.1 - - [10/Jul/2019 15:56:04] \"POST /_dash-update-component HTTP/1.1\" 200 -\n"
     ]
    },
    {
     "name": "stdout",
     "output_type": "stream",
     "text": [
      "Values: perc_miss: [0, 100]\n",
      "Values: inf_time_rel: 2\n",
      "Caught ValueError, this -sometimes- happens whenever no data is present in the plot: Cannot set a frame with no defined index and a value that cannot be converted to a Series\n"
     ]
    },
    {
     "name": "stderr",
     "output_type": "stream",
     "text": [
      "127.0.0.1 - - [10/Jul/2019 15:56:05] \"POST /_dash-update-component HTTP/1.1\" 200 -\n"
     ]
    },
    {
     "name": "stdout",
     "output_type": "stream",
     "text": [
      "Values: perc_miss: [0, 100]\n",
      "Values: inf_time_rel: 2\n"
     ]
    },
    {
     "name": "stderr",
     "output_type": "stream",
     "text": [
      "127.0.0.1 - - [10/Jul/2019 15:56:13] \"POST /_dash-update-component HTTP/1.1\" 200 -\n",
      "127.0.0.1 - - [10/Jul/2019 15:56:13] \"POST /_dash-update-component HTTP/1.1\" 200 -\n"
     ]
    },
    {
     "name": "stdout",
     "output_type": "stream",
     "text": [
      "Values: perc_miss: [0, 100]\n",
      "Values: inf_time_rel: 2\n"
     ]
    },
    {
     "name": "stderr",
     "output_type": "stream",
     "text": [
      "127.0.0.1 - - [10/Jul/2019 15:56:16] \"POST /_dash-update-component HTTP/1.1\" 200 -\n",
      "127.0.0.1 - - [10/Jul/2019 15:56:16] \"POST /_dash-update-component HTTP/1.1\" 200 -\n"
     ]
    },
    {
     "name": "stdout",
     "output_type": "stream",
     "text": [
      "Values: perc_miss: [0, 100]\n",
      "Values: inf_time_rel: 2\n"
     ]
    },
    {
     "name": "stderr",
     "output_type": "stream",
     "text": [
      "127.0.0.1 - - [10/Jul/2019 15:56:18] \"POST /_dash-update-component HTTP/1.1\" 200 -\n",
      "127.0.0.1 - - [10/Jul/2019 15:56:18] \"POST /_dash-update-component HTTP/1.1\" 200 -\n"
     ]
    },
    {
     "name": "stdout",
     "output_type": "stream",
     "text": [
      "Values: perc_miss: [52, 100]\n",
      "Values: inf_time_rel: 2\n"
     ]
    },
    {
     "name": "stderr",
     "output_type": "stream",
     "text": [
      "127.0.0.1 - - [10/Jul/2019 15:56:22] \"POST /_dash-update-component HTTP/1.1\" 200 -\n",
      "127.0.0.1 - - [10/Jul/2019 15:56:23] \"POST /_dash-update-component HTTP/1.1\" 200 -\n"
     ]
    },
    {
     "name": "stdout",
     "output_type": "stream",
     "text": [
      "Values: perc_miss: [69, 100]\n",
      "Values: inf_time_rel: 2\n"
     ]
    },
    {
     "name": "stderr",
     "output_type": "stream",
     "text": [
      "127.0.0.1 - - [10/Jul/2019 15:56:25] \"POST /_dash-update-component HTTP/1.1\" 200 -\n",
      "127.0.0.1 - - [10/Jul/2019 15:56:26] \"POST /_dash-update-component HTTP/1.1\" 200 -\n"
     ]
    },
    {
     "name": "stdout",
     "output_type": "stream",
     "text": [
      "Values: perc_miss: [0, 100]\n",
      "Values: inf_time_rel: 2\n"
     ]
    },
    {
     "name": "stderr",
     "output_type": "stream",
     "text": [
      "127.0.0.1 - - [10/Jul/2019 15:56:27] \"POST /_dash-update-component HTTP/1.1\" 200 -\n",
      "127.0.0.1 - - [10/Jul/2019 15:56:27] \"POST /_dash-update-component HTTP/1.1\" 200 -\n"
     ]
    },
    {
     "name": "stdout",
     "output_type": "stream",
     "text": [
      "Values: perc_miss: [0, 100]\n",
      "Values: inf_time_rel: 7\n"
     ]
    },
    {
     "name": "stderr",
     "output_type": "stream",
     "text": [
      "127.0.0.1 - - [10/Jul/2019 16:01:03] \"POST /_dash-update-component HTTP/1.1\" 200 -\n",
      "127.0.0.1 - - [10/Jul/2019 16:01:03] \"POST /_dash-update-component HTTP/1.1\" 200 -\n"
     ]
    },
    {
     "name": "stdout",
     "output_type": "stream",
     "text": [
      "Values: perc_miss: [0, 100]\n",
      "Values: inf_time_rel: 7\n"
     ]
    }
   ],
   "source": [
    "app.run_server(port=8881)"
   ]
  }
 ],
 "metadata": {
  "kernelspec": {
   "display_name": "rwrf",
   "language": "python",
   "name": "rwrf"
  },
  "language_info": {
   "codemirror_mode": {
    "name": "ipython",
    "version": 3
   },
   "file_extension": ".py",
   "mimetype": "text/x-python",
   "name": "python",
   "nbconvert_exporter": "python",
   "pygments_lexer": "ipython3",
   "version": "3.6.8"
  },
  "toc": {
   "nav_menu": {},
   "number_sections": true,
   "sideBar": true,
   "skip_h1_title": true,
   "toc_cell": false,
   "toc_position": {
    "height": "887px",
    "left": "0px",
    "right": "1462px",
    "top": "107px",
    "width": "196px"
   },
   "toc_section_display": "block",
   "toc_window_display": true
  }
 },
 "nbformat": 4,
 "nbformat_minor": 2
}
