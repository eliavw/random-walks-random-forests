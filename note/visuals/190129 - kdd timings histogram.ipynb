{
 "cells": [
  {
   "cell_type": "markdown",
   "metadata": {},
   "source": [
    "# Visualization - Relative Performance App\n",
    "\n",
    "Dietterich-inspired visuals. Performance relative to the 0% one."
   ]
  },
  {
   "cell_type": "markdown",
   "metadata": {},
   "source": [
    "## Preliminaries"
   ]
  },
  {
   "cell_type": "markdown",
   "metadata": {
    "heading_collapsed": true
   },
   "source": [
    "### Imports"
   ]
  },
  {
   "cell_type": "code",
   "execution_count": 17,
   "metadata": {
    "collapsed": true,
    "hidden": true
   },
   "outputs": [],
   "source": [
    "# Imports\n",
    "import os\n",
    "import numpy as np\n",
    "import pandas as pd\n",
    "import json\n",
    "import sys\n",
    "import pickle as pkl\n",
    "import warnings\n",
    "\n",
    "from os.path import dirname\n",
    "\n",
    "# Dash\n",
    "import dash\n",
    "import dash_core_components as dcc\n",
    "import dash_html_components as html\n",
    "import plotly.graph_objs as go\n",
    "from dash.dependencies import Input, Output, State"
   ]
  },
  {
   "cell_type": "code",
   "execution_count": 18,
   "metadata": {
    "collapsed": true,
    "hidden": true
   },
   "outputs": [],
   "source": [
    "# Custom\n",
    "\n",
    "root_dir = dirname(dirname(os.getcwd()))\n",
    "src_dir = os.path.join(root_dir, 'src')\n",
    "sys.path.append(src_dir)\n",
    "\n",
    "import exp\n",
    "from exp.utils.extra import mem_usage\n",
    "from exp.runner.RunExp import RunExp\n",
    "from exp.runner.RunMercs import RunMercs\n",
    "from exp.eval.preprocess import *\n",
    "from exp.visual.menus import (generate_dropdown_menu,\n",
    "                              generate_dropdown_menus_from_df,\n",
    "                              generate_slider_menu)\n",
    "from exp.visual.plots import (generate_graph)\n",
    "from exp.visual.callback import (extract_menu_inputs_menu_names_from_layout,\n",
    "                                filter_dataframe)"
   ]
  },
  {
   "cell_type": "code",
   "execution_count": 19,
   "metadata": {
    "hidden": true
   },
   "outputs": [
    {
     "data": {
      "text/plain": [
       "'/cw/dtailocal/Dropbox/Files/KUL/research/codebases/homework'"
      ]
     },
     "execution_count": 19,
     "metadata": {},
     "output_type": "execute_result"
    }
   ],
   "source": [
    "root_dir"
   ]
  },
  {
   "cell_type": "markdown",
   "metadata": {
    "heading_collapsed": true
   },
   "source": [
    "### Methods\n",
    "\n",
    "Some custom methods I need in this notebook."
   ]
  },
  {
   "cell_type": "code",
   "execution_count": 20,
   "metadata": {
    "code_folding": [],
    "collapsed": true,
    "hidden": true
   },
   "outputs": [],
   "source": [
    "def merge_aggregated_outputs_multiple_exps(exp_idxs, **kwargs):\n",
    "    \"\"\"\n",
    "    Merge aggregated outputs from multiple experiments.\n",
    "    \"\"\"\n",
    "    \n",
    "    f = collect_aggregated_outputs_from_exp\n",
    "    \n",
    "    gen = (f(exp_idx, **kwargs) for exp_idx in exp_idxs)\n",
    "    \n",
    "    result = {}\n",
    "    for g in gen:\n",
    "        result = {k: pd.concat([result.get(k, None),v], sort=False)\n",
    "                  for k,v in g.items()}    \n",
    "        \n",
    "    return result\n",
    "\n",
    "def collect_aggregated_outputs_from_exp(exp_idx, **kwargs):\n",
    "    \"\"\"\n",
    "    Load the aggregated outputs by a single experiment.\n",
    "    \"\"\"\n",
    "    \n",
    "    # Preliminaries\n",
    "    dfs = {}\n",
    "    \n",
    "    # Actions\n",
    "    re = RunExp.load(idx=exp_idx, **kwargs)\n",
    "    for output in re.aggr_outputs:\n",
    "        dfs[output] = re.load_output(kind=output)\n",
    "    return dfs"
   ]
  },
  {
   "cell_type": "markdown",
   "metadata": {},
   "source": [
    "## Sandbox"
   ]
  },
  {
   "cell_type": "code",
   "execution_count": 21,
   "metadata": {},
   "outputs": [
    {
     "data": {
      "text/html": [
       "<script>requirejs.config({paths: { 'plotly': ['https://cdn.plot.ly/plotly-latest.min']},});if(!window.Plotly) {{require(['plotly'],function(plotly) {window.Plotly=plotly;});}}</script>"
      ],
      "text/vnd.plotly.v1+html": [
       "<script>requirejs.config({paths: { 'plotly': ['https://cdn.plot.ly/plotly-latest.min']},});if(!window.Plotly) {{require(['plotly'],function(plotly) {window.Plotly=plotly;});}}</script>"
      ]
     },
     "metadata": {},
     "output_type": "display_data"
    }
   ],
   "source": [
    "import plotly\n",
    "from plotly.offline import iplot\n",
    "plotly.offline.init_notebook_mode(connected=True)\n",
    "\n",
    "x0 = np.random.randn(500)\n",
    "x1 = np.random.randn(500)+1\n",
    "\n",
    "trace1 = go.Histogram(\n",
    "    x=x0,\n",
    "    opacity=0.75\n",
    ")\n",
    "trace2 = go.Histogram(\n",
    "    x=x1,\n",
    "    opacity=0.75\n",
    ")\n",
    "\n",
    "data = [trace1, trace2]\n",
    "layout = go.Layout(barmode='overlay')\n",
    "fig = go.Figure(data=data, layout=layout)\n",
    "\n",
    "#iplot(fig, filename='overlaid histogram')"
   ]
  },
  {
   "cell_type": "markdown",
   "metadata": {},
   "source": [
    "## Global Parameters\n",
    "\n",
    "This is the single most important thing you need to specify, i.e., from which experiments do you want to collect the results?"
   ]
  },
  {
   "cell_type": "code",
   "execution_count": 22,
   "metadata": {
    "collapsed": true
   },
   "outputs": [],
   "source": [
    "exp_idxs = [1,2,3,100]"
   ]
  },
  {
   "cell_type": "markdown",
   "metadata": {},
   "source": [
    "## Collect Data\n",
    "\n",
    "Now, the actual work starts."
   ]
  },
  {
   "cell_type": "code",
   "execution_count": 23,
   "metadata": {
    "collapsed": true
   },
   "outputs": [],
   "source": [
    "dfs = merge_aggregated_outputs_multiple_exps(exp_idxs, root_dir=root_dir)"
   ]
  },
  {
   "cell_type": "code",
   "execution_count": 24,
   "metadata": {},
   "outputs": [],
   "source": [
    "df_res = preprocess_aggr_df(dfs['results'], kind='res')\n",
    "df_qry = preprocess_aggr_df(dfs['qry_codes'], kind='qry')\n",
    "df_cfg = preprocess_aggr_df(dfs['mod_config'], kind='cfg')\n",
    "df_tmg = preprocess_aggr_df(dfs['timings'], kind='tmg')"
   ]
  },
  {
   "cell_type": "code",
   "execution_count": 25,
   "metadata": {},
   "outputs": [
    {
     "data": {
      "text/html": [
       "<div>\n",
       "<style scoped>\n",
       "    .dataframe tbody tr th:only-of-type {\n",
       "        vertical-align: middle;\n",
       "    }\n",
       "\n",
       "    .dataframe tbody tr th {\n",
       "        vertical-align: top;\n",
       "    }\n",
       "\n",
       "    .dataframe thead th {\n",
       "        text-align: right;\n",
       "    }\n",
       "</style>\n",
       "<table border=\"1\" class=\"dataframe\">\n",
       "  <thead>\n",
       "    <tr style=\"text-align: right;\">\n",
       "      <th></th>\n",
       "      <th></th>\n",
       "      <th>ind_time</th>\n",
       "      <th>inf_time</th>\n",
       "    </tr>\n",
       "    <tr>\n",
       "      <th>idx</th>\n",
       "      <th>q_idx</th>\n",
       "      <th></th>\n",
       "      <th></th>\n",
       "    </tr>\n",
       "  </thead>\n",
       "  <tbody>\n",
       "    <tr>\n",
       "      <th rowspan=\"5\" valign=\"top\">108</th>\n",
       "      <th>0</th>\n",
       "      <td>0.737374</td>\n",
       "      <td>0.012517</td>\n",
       "    </tr>\n",
       "    <tr>\n",
       "      <th>1</th>\n",
       "      <td>0.737374</td>\n",
       "      <td>0.013914</td>\n",
       "    </tr>\n",
       "    <tr>\n",
       "      <th>2</th>\n",
       "      <td>0.737374</td>\n",
       "      <td>0.028757</td>\n",
       "    </tr>\n",
       "    <tr>\n",
       "      <th>3</th>\n",
       "      <td>0.737374</td>\n",
       "      <td>0.034269</td>\n",
       "    </tr>\n",
       "    <tr>\n",
       "      <th>4</th>\n",
       "      <td>0.737374</td>\n",
       "      <td>0.033578</td>\n",
       "    </tr>\n",
       "  </tbody>\n",
       "</table>\n",
       "</div>"
      ],
      "text/plain": [
       "           ind_time  inf_time\n",
       "idx q_idx                    \n",
       "108 0      0.737374  0.012517\n",
       "    1      0.737374  0.013914\n",
       "    2      0.737374  0.028757\n",
       "    3      0.737374  0.034269\n",
       "    4      0.737374  0.033578"
      ]
     },
     "execution_count": 25,
     "metadata": {},
     "output_type": "execute_result"
    }
   ],
   "source": [
    "df_tmg.head()"
   ]
  },
  {
   "cell_type": "code",
   "execution_count": 26,
   "metadata": {},
   "outputs": [
    {
     "data": {
      "text/html": [
       "<div>\n",
       "<style scoped>\n",
       "    .dataframe tbody tr th:only-of-type {\n",
       "        vertical-align: middle;\n",
       "    }\n",
       "\n",
       "    .dataframe tbody tr th {\n",
       "        vertical-align: top;\n",
       "    }\n",
       "\n",
       "    .dataframe thead th {\n",
       "        text-align: right;\n",
       "    }\n",
       "</style>\n",
       "<table border=\"1\" class=\"dataframe\">\n",
       "  <thead>\n",
       "    <tr style=\"text-align: right;\">\n",
       "      <th></th>\n",
       "      <th></th>\n",
       "      <th>q_idx</th>\n",
       "      <th>ind_time</th>\n",
       "      <th>inf_time</th>\n",
       "      <th>dataset</th>\n",
       "    </tr>\n",
       "    <tr>\n",
       "      <th>idx</th>\n",
       "      <th>name</th>\n",
       "      <th></th>\n",
       "      <th></th>\n",
       "      <th></th>\n",
       "      <th></th>\n",
       "    </tr>\n",
       "  </thead>\n",
       "  <tbody>\n",
       "    <tr>\n",
       "      <th rowspan=\"5\" valign=\"top\">108</th>\n",
       "      <th>RW</th>\n",
       "      <td>0</td>\n",
       "      <td>0.737374</td>\n",
       "      <td>0.012517</td>\n",
       "      <td>nltcs</td>\n",
       "    </tr>\n",
       "    <tr>\n",
       "      <th>RW</th>\n",
       "      <td>1</td>\n",
       "      <td>0.737374</td>\n",
       "      <td>0.013914</td>\n",
       "      <td>nltcs</td>\n",
       "    </tr>\n",
       "    <tr>\n",
       "      <th>RW</th>\n",
       "      <td>2</td>\n",
       "      <td>0.737374</td>\n",
       "      <td>0.028757</td>\n",
       "      <td>nltcs</td>\n",
       "    </tr>\n",
       "    <tr>\n",
       "      <th>RW</th>\n",
       "      <td>3</td>\n",
       "      <td>0.737374</td>\n",
       "      <td>0.034269</td>\n",
       "      <td>nltcs</td>\n",
       "    </tr>\n",
       "    <tr>\n",
       "      <th>RW</th>\n",
       "      <td>4</td>\n",
       "      <td>0.737374</td>\n",
       "      <td>0.033578</td>\n",
       "      <td>nltcs</td>\n",
       "    </tr>\n",
       "  </tbody>\n",
       "</table>\n",
       "</div>"
      ],
      "text/plain": [
       "          q_idx  ind_time  inf_time dataset\n",
       "idx name                                   \n",
       "108 RW        0  0.737374  0.012517   nltcs\n",
       "    RW        1  0.737374  0.013914   nltcs\n",
       "    RW        2  0.737374  0.028757   nltcs\n",
       "    RW        3  0.737374  0.034269   nltcs\n",
       "    RW        4  0.737374  0.033578   nltcs"
      ]
     },
     "execution_count": 26,
     "metadata": {},
     "output_type": "execute_result"
    }
   ],
   "source": [
    "df_hst = build_tmg_histogram(df_tmg, df_cfg)\n",
    "df_hst.head()"
   ]
  },
  {
   "cell_type": "code",
   "execution_count": 40,
   "metadata": {},
   "outputs": [
    {
     "ename": "PlotlyDictValueError",
     "evalue": "'cumulative' has invalid value inside 'histogram'\n\nPath To Error: ['cumulative']\n\nCurrent path: []\nCurrent parent object_names: []\n\nWith the current parents, 'cumulative' can be used as follows:\n\nUnder ('figure', 'data', 'histogram'):\n\n    editType: calc\n    role: object\n\n\n",
     "output_type": "error",
     "traceback": [
      "\u001b[0;31m---------------------------------------------------------------------------\u001b[0m",
      "\u001b[0;31mPlotlyDictValueError\u001b[0m                      Traceback (most recent call last)",
      "\u001b[0;32m<ipython-input-40-19a6a3a0cc60>\u001b[0m in \u001b[0;36m<module>\u001b[0;34m()\u001b[0m\n\u001b[1;32m      5\u001b[0m     \u001b[0mx\u001b[0m\u001b[0;34m=\u001b[0m\u001b[0mx0\u001b[0m\u001b[0;34m,\u001b[0m\u001b[0;34m\u001b[0m\u001b[0;34m\u001b[0m\u001b[0m\n\u001b[1;32m      6\u001b[0m     \u001b[0mopacity\u001b[0m\u001b[0;34m=\u001b[0m\u001b[0;36m0.75\u001b[0m\u001b[0;34m,\u001b[0m\u001b[0;34m\u001b[0m\u001b[0;34m\u001b[0m\u001b[0m\n\u001b[0;32m----> 7\u001b[0;31m     \u001b[0mcumulative\u001b[0m\u001b[0;34m=\u001b[0m\u001b[0;32mTrue\u001b[0m\u001b[0;34m\u001b[0m\u001b[0;34m\u001b[0m\u001b[0m\n\u001b[0m\u001b[1;32m      8\u001b[0m )\n\u001b[1;32m      9\u001b[0m trace2 = go.Histogram(\n",
      "\u001b[0;32m/home/elia/Software/anaconda3/lib/python3.6/site-packages/plotly/graph_objs/graph_objs.py\u001b[0m in \u001b[0;36m__init__\u001b[0;34m(self, *args, **kwargs)\u001b[0m\n\u001b[1;32m    375\u001b[0m         \u001b[0md\u001b[0m \u001b[0;34m=\u001b[0m \u001b[0;34m{\u001b[0m\u001b[0mkey\u001b[0m\u001b[0;34m:\u001b[0m \u001b[0mval\u001b[0m \u001b[0;32mfor\u001b[0m \u001b[0mkey\u001b[0m\u001b[0;34m,\u001b[0m \u001b[0mval\u001b[0m \u001b[0;32min\u001b[0m \u001b[0mdict\u001b[0m\u001b[0;34m(\u001b[0m\u001b[0;34m*\u001b[0m\u001b[0margs\u001b[0m\u001b[0;34m,\u001b[0m \u001b[0;34m**\u001b[0m\u001b[0mkwargs\u001b[0m\u001b[0;34m)\u001b[0m\u001b[0;34m.\u001b[0m\u001b[0mitems\u001b[0m\u001b[0;34m(\u001b[0m\u001b[0;34m)\u001b[0m\u001b[0;34m}\u001b[0m\u001b[0;34m\u001b[0m\u001b[0;34m\u001b[0m\u001b[0m\n\u001b[1;32m    376\u001b[0m         \u001b[0;32mfor\u001b[0m \u001b[0mkey\u001b[0m\u001b[0;34m,\u001b[0m \u001b[0mval\u001b[0m \u001b[0;32min\u001b[0m \u001b[0md\u001b[0m\u001b[0;34m.\u001b[0m\u001b[0mitems\u001b[0m\u001b[0;34m(\u001b[0m\u001b[0;34m)\u001b[0m\u001b[0;34m:\u001b[0m\u001b[0;34m\u001b[0m\u001b[0;34m\u001b[0m\u001b[0m\n\u001b[0;32m--> 377\u001b[0;31m             \u001b[0mself\u001b[0m\u001b[0;34m.\u001b[0m\u001b[0m__setitem__\u001b[0m\u001b[0;34m(\u001b[0m\u001b[0mkey\u001b[0m\u001b[0;34m,\u001b[0m \u001b[0mval\u001b[0m\u001b[0;34m,\u001b[0m \u001b[0m_raise\u001b[0m\u001b[0;34m=\u001b[0m\u001b[0m_raise\u001b[0m\u001b[0;34m)\u001b[0m\u001b[0;34m\u001b[0m\u001b[0;34m\u001b[0m\u001b[0m\n\u001b[0m\u001b[1;32m    378\u001b[0m \u001b[0;34m\u001b[0m\u001b[0m\n\u001b[1;32m    379\u001b[0m     \u001b[0;32mdef\u001b[0m \u001b[0m__dir__\u001b[0m\u001b[0;34m(\u001b[0m\u001b[0mself\u001b[0m\u001b[0;34m)\u001b[0m\u001b[0;34m:\u001b[0m\u001b[0;34m\u001b[0m\u001b[0;34m\u001b[0m\u001b[0m\n",
      "\u001b[0;32m/home/elia/Software/anaconda3/lib/python3.6/site-packages/plotly/graph_objs/graph_objs.py\u001b[0m in \u001b[0;36m__setitem__\u001b[0;34m(self, key, value, _raise)\u001b[0m\n\u001b[1;32m    430\u001b[0m \u001b[0;34m\u001b[0m\u001b[0m\n\u001b[1;32m    431\u001b[0m         \u001b[0;32mif\u001b[0m \u001b[0mself\u001b[0m\u001b[0;34m.\u001b[0m\u001b[0m_get_attribute_role\u001b[0m\u001b[0;34m(\u001b[0m\u001b[0mkey\u001b[0m\u001b[0;34m)\u001b[0m \u001b[0;34m==\u001b[0m \u001b[0;34m'object'\u001b[0m\u001b[0;34m:\u001b[0m\u001b[0;34m\u001b[0m\u001b[0;34m\u001b[0m\u001b[0m\n\u001b[0;32m--> 432\u001b[0;31m             \u001b[0mvalue\u001b[0m \u001b[0;34m=\u001b[0m \u001b[0mself\u001b[0m\u001b[0;34m.\u001b[0m\u001b[0m_value_to_graph_object\u001b[0m\u001b[0;34m(\u001b[0m\u001b[0mkey\u001b[0m\u001b[0;34m,\u001b[0m \u001b[0mvalue\u001b[0m\u001b[0;34m,\u001b[0m \u001b[0m_raise\u001b[0m\u001b[0;34m=\u001b[0m\u001b[0m_raise\u001b[0m\u001b[0;34m)\u001b[0m\u001b[0;34m\u001b[0m\u001b[0;34m\u001b[0m\u001b[0m\n\u001b[0m\u001b[1;32m    433\u001b[0m             \u001b[0;32mif\u001b[0m \u001b[0;32mnot\u001b[0m \u001b[0misinstance\u001b[0m\u001b[0;34m(\u001b[0m\u001b[0mvalue\u001b[0m\u001b[0;34m,\u001b[0m \u001b[0;34m(\u001b[0m\u001b[0mPlotlyDict\u001b[0m\u001b[0;34m,\u001b[0m \u001b[0mPlotlyList\u001b[0m\u001b[0;34m)\u001b[0m\u001b[0;34m)\u001b[0m\u001b[0;34m:\u001b[0m\u001b[0;34m\u001b[0m\u001b[0;34m\u001b[0m\u001b[0m\n\u001b[1;32m    434\u001b[0m                 \u001b[0;32mreturn\u001b[0m\u001b[0;34m\u001b[0m\u001b[0;34m\u001b[0m\u001b[0m\n",
      "\u001b[0;32m/home/elia/Software/anaconda3/lib/python3.6/site-packages/plotly/graph_objs/graph_objs.py\u001b[0m in \u001b[0;36m_value_to_graph_object\u001b[0;34m(self, key, value, _raise)\u001b[0m\n\u001b[1;32m    535\u001b[0m             \u001b[0;32mif\u001b[0m \u001b[0m_raise\u001b[0m\u001b[0;34m:\u001b[0m\u001b[0;34m\u001b[0m\u001b[0;34m\u001b[0m\u001b[0m\n\u001b[1;32m    536\u001b[0m                 \u001b[0mpath\u001b[0m \u001b[0;34m=\u001b[0m \u001b[0mself\u001b[0m\u001b[0;34m.\u001b[0m\u001b[0m_get_path\u001b[0m\u001b[0;34m(\u001b[0m\u001b[0;34m)\u001b[0m \u001b[0;34m+\u001b[0m \u001b[0;34m(\u001b[0m\u001b[0mkey\u001b[0m\u001b[0;34m,\u001b[0m \u001b[0;34m)\u001b[0m\u001b[0;34m\u001b[0m\u001b[0;34m\u001b[0m\u001b[0m\n\u001b[0;32m--> 537\u001b[0;31m                 \u001b[0;32mraise\u001b[0m \u001b[0mexceptions\u001b[0m\u001b[0;34m.\u001b[0m\u001b[0mPlotlyDictValueError\u001b[0m\u001b[0;34m(\u001b[0m\u001b[0mself\u001b[0m\u001b[0;34m,\u001b[0m \u001b[0mpath\u001b[0m\u001b[0;34m)\u001b[0m\u001b[0;34m\u001b[0m\u001b[0;34m\u001b[0m\u001b[0m\n\u001b[0m\u001b[1;32m    538\u001b[0m             \u001b[0;32melse\u001b[0m\u001b[0;34m:\u001b[0m\u001b[0;34m\u001b[0m\u001b[0;34m\u001b[0m\u001b[0m\n\u001b[1;32m    539\u001b[0m                 \u001b[0;32mreturn\u001b[0m\u001b[0;34m\u001b[0m\u001b[0;34m\u001b[0m\u001b[0m\n",
      "\u001b[0;31mPlotlyDictValueError\u001b[0m: 'cumulative' has invalid value inside 'histogram'\n\nPath To Error: ['cumulative']\n\nCurrent path: []\nCurrent parent object_names: []\n\nWith the current parents, 'cumulative' can be used as follows:\n\nUnder ('figure', 'data', 'histogram'):\n\n    editType: calc\n    role: object\n\n\n"
     ]
    }
   ],
   "source": [
    "x0 = df_hst.xs('RW', level='name')['inf_time']\n",
    "x1 = df_hst.xs('PGM', level='name')['inf_time']\n",
    "\n",
    "trace1 = go.Histogram(\n",
    "    x=x0,\n",
    "    opacity=0.75,\n",
    "    cumulative=True\n",
    ")\n",
    "trace2 = go.Histogram(\n",
    "    x=x1,\n",
    "    opacity=0.75,\n",
    "    histnorm='probability density'\n",
    ")\n",
    "\n",
    "data = [trace1, trace2]\n",
    "layout = go.Layout(barmode='overlay')\n",
    "fig = go.Figure(data=data, layout=layout)\n",
    "\n",
    "iplot(fig, filename='overlaid histogram')"
   ]
  },
  {
   "cell_type": "code",
   "execution_count": 11,
   "metadata": {},
   "outputs": [
    {
     "data": {
      "text/html": [
       "<div>\n",
       "<style scoped>\n",
       "    .dataframe tbody tr th:only-of-type {\n",
       "        vertical-align: middle;\n",
       "    }\n",
       "\n",
       "    .dataframe tbody tr th {\n",
       "        vertical-align: top;\n",
       "    }\n",
       "\n",
       "    .dataframe thead th {\n",
       "        text-align: right;\n",
       "    }\n",
       "</style>\n",
       "<table border=\"1\" class=\"dataframe\">\n",
       "  <thead>\n",
       "    <tr style=\"text-align: right;\">\n",
       "      <th></th>\n",
       "      <th></th>\n",
       "      <th>ind_time</th>\n",
       "      <th>inf_time</th>\n",
       "      <th>dataset</th>\n",
       "      <th>inf_time_base</th>\n",
       "      <th>inf_time_rel</th>\n",
       "    </tr>\n",
       "    <tr>\n",
       "      <th>idx</th>\n",
       "      <th>name</th>\n",
       "      <th></th>\n",
       "      <th></th>\n",
       "      <th></th>\n",
       "      <th></th>\n",
       "      <th></th>\n",
       "    </tr>\n",
       "  </thead>\n",
       "  <tbody>\n",
       "    <tr>\n",
       "      <th>108</th>\n",
       "      <th>RW</th>\n",
       "      <td>0.737374</td>\n",
       "      <td>0.036755</td>\n",
       "      <td>nltcs</td>\n",
       "      <td>0.010513</td>\n",
       "      <td>3.496265</td>\n",
       "    </tr>\n",
       "    <tr>\n",
       "      <th>109</th>\n",
       "      <th>RW</th>\n",
       "      <td>24.488404</td>\n",
       "      <td>0.156875</td>\n",
       "      <td>msnbc</td>\n",
       "      <td>0.059858</td>\n",
       "      <td>2.620773</td>\n",
       "    </tr>\n",
       "    <tr>\n",
       "      <th>110</th>\n",
       "      <th>RW</th>\n",
       "      <td>40.633083</td>\n",
       "      <td>0.159274</td>\n",
       "      <td>jester</td>\n",
       "      <td>0.036793</td>\n",
       "      <td>4.328947</td>\n",
       "    </tr>\n",
       "    <tr>\n",
       "      <th>111</th>\n",
       "      <th>RW</th>\n",
       "      <td>142.025769</td>\n",
       "      <td>0.333592</td>\n",
       "      <td>kdd</td>\n",
       "      <td>0.091520</td>\n",
       "      <td>3.645035</td>\n",
       "    </tr>\n",
       "    <tr>\n",
       "      <th>112</th>\n",
       "      <th>RW</th>\n",
       "      <td>17.931461</td>\n",
       "      <td>0.117207</td>\n",
       "      <td>plants</td>\n",
       "      <td>0.026130</td>\n",
       "      <td>4.485555</td>\n",
       "    </tr>\n",
       "  </tbody>\n",
       "</table>\n",
       "</div>"
      ],
      "text/plain": [
       "            ind_time  inf_time dataset  inf_time_base  inf_time_rel\n",
       "idx name                                                           \n",
       "108 RW      0.737374  0.036755   nltcs       0.010513      3.496265\n",
       "109 RW     24.488404  0.156875   msnbc       0.059858      2.620773\n",
       "110 RW     40.633083  0.159274  jester       0.036793      4.328947\n",
       "111 RW    142.025769  0.333592     kdd       0.091520      3.645035\n",
       "112 RW     17.931461  0.117207  plants       0.026130      4.485555"
      ]
     },
     "execution_count": 11,
     "metadata": {},
     "output_type": "execute_result"
    }
   ],
   "source": [
    "df_lpt = build_df_tmg_default(df_tmg, df_cfg)\n",
    "df_lpt.head()"
   ]
  },
  {
   "cell_type": "markdown",
   "metadata": {
    "heading_collapsed": true
   },
   "source": [
    "## Plot Config"
   ]
  },
  {
   "cell_type": "markdown",
   "metadata": {
    "heading_collapsed": true,
    "hidden": true
   },
   "source": [
    "### Layout"
   ]
  },
  {
   "cell_type": "code",
   "execution_count": null,
   "metadata": {
    "collapsed": true,
    "hidden": true
   },
   "outputs": [],
   "source": [
    "graph_style = {'width':             '85%',\n",
    "               'float':             'right',\n",
    "               'z-index':            1,\n",
    "               'position':           'relative',\n",
    "               'margin-bottom':      '2cm'}\n",
    "\n",
    "dropdown_menu_style = {'width':            '14%',\n",
    "                       'backgroundColor':  'rgb(250, 250, 250)',\n",
    "                       'float':            'left',\n",
    "                       'z-index':            0,\n",
    "                       'position':          'relative',\n",
    "                       'border':            '1px solid gray'}\n",
    "\n",
    "slider_menu_style = {'width':             '95%',\n",
    "                     'backgroundColor':  'rgb(250, 250, 250)',\n",
    "                     'float':            'left',\n",
    "                     'margin-left':       '1cm',\n",
    "                     'margin-bottom':     '2cm'}\n",
    "\n",
    "extra_style = {'border':            '1px solid black'}\n",
    "\n",
    "sep = html.Div(style={'clear': 'both'})\n",
    "\n",
    "txt_box_style = {'width':             '25%',\n",
    "                 'float':             'left',\n",
    "                 'z-index':            1,\n",
    "                 'position':           'relative',\n",
    "                 'margin-left':       '2cm',\n",
    "                 'border':            '1px solid gray'}"
   ]
  },
  {
   "cell_type": "markdown",
   "metadata": {
    "hidden": true
   },
   "source": [
    "### Menus"
   ]
  },
  {
   "cell_type": "markdown",
   "metadata": {
    "heading_collapsed": true,
    "hidden": true
   },
   "source": [
    "#### Dropdown"
   ]
  },
  {
   "cell_type": "code",
   "execution_count": null,
   "metadata": {
    "hidden": true
   },
   "outputs": [],
   "source": [
    "# Dropdown Menus\n",
    "perf_dd_menus = generate_dropdown_menus_from_df(df_cfg, ignore_columns=['name'])"
   ]
  },
  {
   "cell_type": "code",
   "execution_count": null,
   "metadata": {
    "collapsed": true,
    "hidden": true
   },
   "outputs": [],
   "source": [
    "# Extra DropDown menus\n",
    "targ_idx_dd = generate_dropdown_menus_from_df(df_qry, relevant_columns=['t_idx'])\n",
    "show_data_dd = generate_dropdown_menu(\"show_data\", [False, True], labels=['No', 'Yes'], default=0, multi=False)\n",
    "rank_score_dd = generate_dropdown_menu(\"y_field\",\n",
    "                                       ['rank',\n",
    "                                        'score',\n",
    "                                        'score_rel',\n",
    "                                        'aligned_rank',\n",
    "                                        'global_aligned_rank',\n",
    "                                        'global_dataset_aligned_rank'],\n",
    "                                       labels=['Avg. Rank', 'Avg. F1-Score', 'Avg. Rel. F1-Score','Aligned Rank','Global Aligned Rank', 'GDS Aligned Rank'],\n",
    "                                       default='score',\n",
    "                                       multi=False)\n",
    "\n",
    "perf_dd_menus.extend(targ_idx_dd)\n",
    "perf_dd_menus.extend(show_data_dd)\n",
    "perf_dd_menus.extend(rank_score_dd)\n",
    "\n",
    "perf_dd_menus = html.Div(perf_dd_menus,\n",
    "                         style=dropdown_menu_style)"
   ]
  },
  {
   "cell_type": "markdown",
   "metadata": {
    "heading_collapsed": true,
    "hidden": true
   },
   "source": [
    "#### Sliders"
   ]
  },
  {
   "cell_type": "code",
   "execution_count": null,
   "metadata": {
    "collapsed": true,
    "hidden": true
   },
   "outputs": [],
   "source": [
    "perf_sl_menus = generate_slider_menu('perc_miss')\n",
    "perf_sl_menus.extend(generate_slider_menu('score_base'))\n",
    "\n",
    "perf_sl_menus = html.Div(perf_sl_menus,\n",
    "                         style=slider_menu_style)"
   ]
  },
  {
   "cell_type": "markdown",
   "metadata": {},
   "source": [
    "## Static App"
   ]
  },
  {
   "cell_type": "code",
   "execution_count": null,
   "metadata": {
    "collapsed": true
   },
   "outputs": [],
   "source": [
    "histogram_fig = generate_graph(df_hst,\n",
    "                               kind='hist',\n",
    "                               x_field='inf_time')\n",
    "\n",
    "perf_graph = dcc.Graph(id='histogram', \n",
    "                       figure=histogram_fig)\n",
    "\n",
    "stat_perf_contents = html.Div([perf_graph],\n",
    "                              style=graph_style)"
   ]
  },
  {
   "cell_type": "code",
   "execution_count": null,
   "metadata": {
    "collapsed": true
   },
   "outputs": [],
   "source": [
    "perf_graph = dcc.Graph(id='lineplot', \n",
    "                       figure=generate_graph(df_lpt, kind='line', show_data=False))\n",
    "\n",
    "stat_perf_contents = html.Div([perf_graph],\n",
    "                              style=graph_style)"
   ]
  },
  {
   "cell_type": "markdown",
   "metadata": {
    "heading_collapsed": true
   },
   "source": [
    "## Dynamic App\n",
    "\n",
    "Re-uses some stuff from the static configuration."
   ]
  },
  {
   "cell_type": "markdown",
   "metadata": {
    "hidden": true
   },
   "source": [
    "### Initialization"
   ]
  },
  {
   "cell_type": "code",
   "execution_count": null,
   "metadata": {
    "collapsed": true,
    "hidden": true
   },
   "outputs": [],
   "source": [
    "dyn_perf_contents = [perf_dd_menus,\n",
    "                     stat_perf_contents,\n",
    "                     sep,\n",
    "                     perf_sl_menus]"
   ]
  },
  {
   "cell_type": "code",
   "execution_count": null,
   "metadata": {
    "collapsed": true,
    "hidden": true
   },
   "outputs": [],
   "source": [
    "# Init App.\n",
    "app = dash.Dash()\n",
    "app.layout = html.Div(dyn_perf_contents)"
   ]
  },
  {
   "cell_type": "code",
   "execution_count": null,
   "metadata": {
    "collapsed": true,
    "hidden": true
   },
   "outputs": [],
   "source": [
    "menu_inputs, menu_names = extract_menu_inputs_menu_names_from_layout(app.layout)\n",
    "#menu_names"
   ]
  },
  {
   "cell_type": "markdown",
   "metadata": {
    "hidden": true
   },
   "source": [
    "### Main Callback\n",
    "\n",
    "This callback method needs to handle everything at once."
   ]
  },
  {
   "cell_type": "code",
   "execution_count": null,
   "metadata": {
    "collapsed": true,
    "hidden": true
   },
   "outputs": [],
   "source": [
    "kind='line' # Hardcoded here.\n",
    "\n",
    "@app.callback(\n",
    "    Output('lineplot', 'figure'),\n",
    "    menu_inputs)\n",
    "def update_lineplot(*args):\n",
    "    \n",
    "    menus = zip(menu_names, args)\n",
    "    \n",
    "    # Initializations\n",
    "    filt_df = df_plt\n",
    "    filt_df_params = df_cfg\n",
    "    y_field = 'score'\n",
    "    y_title = 'Average '+ str(y_field)\n",
    "    \n",
    "    for name, values in menus:\n",
    "\n",
    "        if name in {'t_idx'}:\n",
    "            filt_df = filter_dataframe(filt_df, name, values)\n",
    "        elif name in {'perc_miss'}:\n",
    "            filt_df = filter_dataframe(filt_df, name, values, kind='range')\n",
    "        elif name in {'score_base'}:\n",
    "            filt_df = filter_dataframe(filt_df, name, values, kind='range')\n",
    "        elif name in {'show_data'}:\n",
    "            show_data = values\n",
    "            #print(\"show_data value: {}\".format(values))\n",
    "        elif name in {'baseline'}:\n",
    "            baseline_name = values\n",
    "        elif name in {'y_field'}:\n",
    "            y_field = values\n",
    "            y_title = 'Average '+ str(y_field)\n",
    "        else:\n",
    "            filt_df_params = filter_dataframe(filt_df_params, name, values)\n",
    "    \n",
    "    try:\n",
    "        #print(filt_df.head())\n",
    "        filt_df = filt_df.loc[filt_df_params.index.values]  # Only keep the entries with indices present in df_params\n",
    "        plot_df = build_df_lineplot(filt_df)\n",
    "        \n",
    "    except ValueError as e: \n",
    "        msg = \"Caught ValueError, this -sometimes- happens whenever no data is present in the plot: {}\".format(e)\n",
    "        print(msg)\n",
    "        plot_df = filt_df\n",
    "        pass\n",
    "\n",
    "    figure_parameters = generate_graph(plot_df,\n",
    "                                       kind=kind,\n",
    "                                       show_data=show_data,\n",
    "                                       y_title=y_title,\n",
    "                                       x_title='Missing Attributes (%)',\n",
    "                                       y_field=y_field)\n",
    "    \n",
    "    return figure_parameters"
   ]
  },
  {
   "cell_type": "markdown",
   "metadata": {
    "hidden": true
   },
   "source": [
    "### Run App\n",
    "\n",
    "Run the actual browser applet."
   ]
  },
  {
   "cell_type": "code",
   "execution_count": null,
   "metadata": {
    "hidden": true
   },
   "outputs": [],
   "source": [
    "app.run_server(port=8885)"
   ]
  }
 ],
 "metadata": {
  "kernelspec": {
   "display_name": "Python [default]",
   "language": "python",
   "name": "python3"
  },
  "language_info": {
   "codemirror_mode": {
    "name": "ipython",
    "version": 3
   },
   "file_extension": ".py",
   "mimetype": "text/x-python",
   "name": "python",
   "nbconvert_exporter": "python",
   "pygments_lexer": "ipython3",
   "version": "3.6.8"
  },
  "toc": {
   "nav_menu": {},
   "number_sections": true,
   "sideBar": true,
   "skip_h1_title": true,
   "toc_cell": false,
   "toc_position": {
    "height": "calc(100% - 180px)",
    "left": "10px",
    "top": "150px",
    "width": "241px"
   },
   "toc_section_display": "block",
   "toc_window_display": true
  }
 },
 "nbformat": 4,
 "nbformat_minor": 2
}
