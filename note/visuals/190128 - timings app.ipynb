{
 "cells": [
  {
   "cell_type": "markdown",
   "metadata": {},
   "source": [
    "# Visualization - Relative Timings App\n",
    "\n",
    "Relative timings between different methods.\n",
    "\n",
    "A plot inspired by one in the COBRAS paper."
   ]
  },
  {
   "cell_type": "markdown",
   "metadata": {
    "heading_collapsed": true
   },
   "source": [
    "## Preliminaries"
   ]
  },
  {
   "cell_type": "markdown",
   "metadata": {
    "hidden": true
   },
   "source": [
    "### Imports"
   ]
  },
  {
   "cell_type": "code",
   "execution_count": 1,
   "metadata": {
    "collapsed": true,
    "hidden": true
   },
   "outputs": [],
   "source": [
    "# Imports\n",
    "import os\n",
    "import numpy as np\n",
    "import pandas as pd\n",
    "import json\n",
    "import sys\n",
    "import pickle as pkl\n",
    "import warnings\n",
    "\n",
    "from os.path import dirname\n",
    "\n",
    "# Dash\n",
    "import dash\n",
    "import dash_core_components as dcc\n",
    "import dash_html_components as html\n",
    "import plotly.graph_objs as go\n",
    "from dash.dependencies import Input, Output, State"
   ]
  },
  {
   "cell_type": "code",
   "execution_count": 2,
   "metadata": {
    "collapsed": true,
    "hidden": true
   },
   "outputs": [],
   "source": [
    "# Custom\n",
    "\n",
    "root_dir = dirname(dirname(os.getcwd()))\n",
    "src_dir = os.path.join(root_dir, 'src')\n",
    "sys.path.append(src_dir)\n",
    "\n",
    "import exp\n",
    "from exp.utils.extra import mem_usage\n",
    "from exp.runner.RunExp import RunExp\n",
    "from exp.runner.RunMercs import RunMercs\n",
    "\n",
    "from exp.visual.menus import (generate_dropdown_menu,\n",
    "                              generate_dropdown_menus_from_df,\n",
    "                              generate_slider_menu)\n",
    "from exp.visual.plots import (generate_graph)\n",
    "from exp.visual.callback import (extract_menu_inputs_menu_names_from_layout,\n",
    "                                filter_dataframe)"
   ]
  },
  {
   "cell_type": "code",
   "execution_count": 3,
   "metadata": {
    "collapsed": true,
    "hidden": true
   },
   "outputs": [],
   "source": [
    "from exp.eval.relative_time_plot import *\n",
    "from exp.eval.preprocess import *"
   ]
  },
  {
   "cell_type": "code",
   "execution_count": 4,
   "metadata": {
    "hidden": true
   },
   "outputs": [
    {
     "data": {
      "text/plain": [
       "'/cw/dtailocal/Dropbox/Files/KUL/research/codebases/homework'"
      ]
     },
     "execution_count": 4,
     "metadata": {},
     "output_type": "execute_result"
    }
   ],
   "source": [
    "root_dir"
   ]
  },
  {
   "cell_type": "markdown",
   "metadata": {
    "heading_collapsed": true,
    "hidden": true
   },
   "source": [
    "### Methods\n",
    "\n",
    "Some custom methods I need in this notebook."
   ]
  },
  {
   "cell_type": "code",
   "execution_count": 5,
   "metadata": {
    "code_folding": [],
    "collapsed": true,
    "hidden": true
   },
   "outputs": [],
   "source": [
    "def merge_aggregated_outputs_multiple_exps(exp_idxs, **kwargs):\n",
    "    \"\"\"\n",
    "    Merge aggregated outputs from multiple experiments.\n",
    "    \"\"\"\n",
    "    \n",
    "    f = collect_aggregated_outputs_from_exp\n",
    "    \n",
    "    gen = (f(exp_idx, **kwargs) for exp_idx in exp_idxs)\n",
    "    \n",
    "    result = {}\n",
    "    for g in gen:\n",
    "        result = {k: pd.concat([result.get(k, None),v], sort=False)\n",
    "                  for k,v in g.items()}    \n",
    "        \n",
    "    return result\n",
    "\n",
    "def collect_aggregated_outputs_from_exp(exp_idx, **kwargs):\n",
    "    \"\"\"\n",
    "    Load the aggregated outputs by a single experiment.\n",
    "    \"\"\"\n",
    "    \n",
    "    # Preliminaries\n",
    "    dfs = {}\n",
    "    \n",
    "    # Actions\n",
    "    re = RunExp.load(idx=exp_idx, **kwargs)\n",
    "    for output in re.aggr_outputs:\n",
    "        dfs[output] = re.load_output(kind=output)\n",
    "    return dfs"
   ]
  },
  {
   "cell_type": "markdown",
   "metadata": {},
   "source": [
    "## Global Parameters\n",
    "\n",
    "This is the single most important thing you need to specify, i.e., from which experiments do you want to collect the results?"
   ]
  },
  {
   "cell_type": "code",
   "execution_count": 6,
   "metadata": {
    "collapsed": true
   },
   "outputs": [],
   "source": [
    "exp_idxs = [10,13,15,17]"
   ]
  },
  {
   "cell_type": "markdown",
   "metadata": {},
   "source": [
    "## Collect Data\n",
    "\n",
    "Now, the actual work starts."
   ]
  },
  {
   "cell_type": "code",
   "execution_count": 7,
   "metadata": {
    "collapsed": true
   },
   "outputs": [],
   "source": [
    "dfs = merge_aggregated_outputs_multiple_exps(exp_idxs, root_dir=root_dir)"
   ]
  },
  {
   "cell_type": "code",
   "execution_count": 8,
   "metadata": {},
   "outputs": [
    {
     "data": {
      "text/plain": [
       "dict_keys(['mod_config', 'qry_codes', 'timings', 'results'])"
      ]
     },
     "execution_count": 8,
     "metadata": {},
     "output_type": "execute_result"
    }
   ],
   "source": [
    "dfs.keys()"
   ]
  },
  {
   "cell_type": "code",
   "execution_count": 9,
   "metadata": {
    "collapsed": true
   },
   "outputs": [],
   "source": [
    "df_res = preprocess_aggr_df(dfs['results'], kind='res')\n",
    "df_qry = preprocess_aggr_df(dfs['qry_codes'], kind='qry')\n",
    "df_cfg = preprocess_aggr_df(dfs['mod_config'], kind='cfg')\n",
    "df_tmg = preprocess_aggr_df(dfs['timings'], kind='tmg')"
   ]
  },
  {
   "cell_type": "code",
   "execution_count": 10,
   "metadata": {
    "collapsed": true,
    "scrolled": true
   },
   "outputs": [],
   "source": [
    "#df_cfg.head()\n",
    "#df_res.head()\n",
    "#df_tmg.head()\n",
    "#df_qry.head()"
   ]
  },
  {
   "cell_type": "code",
   "execution_count": 11,
   "metadata": {},
   "outputs": [
    {
     "data": {
      "text/html": [
       "<div>\n",
       "<style scoped>\n",
       "    .dataframe tbody tr th:only-of-type {\n",
       "        vertical-align: middle;\n",
       "    }\n",
       "\n",
       "    .dataframe tbody tr th {\n",
       "        vertical-align: top;\n",
       "    }\n",
       "\n",
       "    .dataframe thead th {\n",
       "        text-align: right;\n",
       "    }\n",
       "</style>\n",
       "<table border=\"1\" class=\"dataframe\">\n",
       "  <thead>\n",
       "    <tr style=\"text-align: right;\">\n",
       "      <th></th>\n",
       "      <th>dataset</th>\n",
       "      <th>predict.algo</th>\n",
       "      <th>mod.type</th>\n",
       "      <th>mod.keyword</th>\n",
       "      <th>predict.param</th>\n",
       "      <th>predict.its</th>\n",
       "      <th>fit.sel.its</th>\n",
       "      <th>fit.sel.param</th>\n",
       "      <th>fit.ind.max_depth</th>\n",
       "      <th>fit.ind.type</th>\n",
       "      <th>name</th>\n",
       "    </tr>\n",
       "    <tr>\n",
       "      <th>idx</th>\n",
       "      <th></th>\n",
       "      <th></th>\n",
       "      <th></th>\n",
       "      <th></th>\n",
       "      <th></th>\n",
       "      <th></th>\n",
       "      <th></th>\n",
       "      <th></th>\n",
       "      <th></th>\n",
       "      <th></th>\n",
       "      <th></th>\n",
       "    </tr>\n",
       "  </thead>\n",
       "  <tbody>\n",
       "    <tr>\n",
       "      <th>674</th>\n",
       "      <td>nltcs</td>\n",
       "      <td>MI</td>\n",
       "      <td>Mercs</td>\n",
       "      <td>md16</td>\n",
       "      <td>0.95</td>\n",
       "      <td>0.1</td>\n",
       "      <td>4.0</td>\n",
       "      <td>2.0</td>\n",
       "      <td>16.0</td>\n",
       "      <td>DT</td>\n",
       "      <td>predict.algo=MI|mod.type=Mercs|mod.keyword=md1...</td>\n",
       "    </tr>\n",
       "    <tr>\n",
       "      <th>675</th>\n",
       "      <td>nltcs</td>\n",
       "      <td>MAFI</td>\n",
       "      <td>Mercs</td>\n",
       "      <td>md16</td>\n",
       "      <td>0.95</td>\n",
       "      <td>0.1</td>\n",
       "      <td>4.0</td>\n",
       "      <td>2.0</td>\n",
       "      <td>16.0</td>\n",
       "      <td>DT</td>\n",
       "      <td>predict.algo=MAFI|mod.type=Mercs|mod.keyword=m...</td>\n",
       "    </tr>\n",
       "    <tr>\n",
       "      <th>676</th>\n",
       "      <td>msnbc</td>\n",
       "      <td>MI</td>\n",
       "      <td>Mercs</td>\n",
       "      <td>md16</td>\n",
       "      <td>0.95</td>\n",
       "      <td>0.1</td>\n",
       "      <td>4.0</td>\n",
       "      <td>2.0</td>\n",
       "      <td>16.0</td>\n",
       "      <td>DT</td>\n",
       "      <td>predict.algo=MI|mod.type=Mercs|mod.keyword=md1...</td>\n",
       "    </tr>\n",
       "    <tr>\n",
       "      <th>677</th>\n",
       "      <td>msnbc</td>\n",
       "      <td>MAFI</td>\n",
       "      <td>Mercs</td>\n",
       "      <td>md16</td>\n",
       "      <td>0.95</td>\n",
       "      <td>0.1</td>\n",
       "      <td>4.0</td>\n",
       "      <td>2.0</td>\n",
       "      <td>16.0</td>\n",
       "      <td>DT</td>\n",
       "      <td>predict.algo=MAFI|mod.type=Mercs|mod.keyword=m...</td>\n",
       "    </tr>\n",
       "    <tr>\n",
       "      <th>678</th>\n",
       "      <td>jester</td>\n",
       "      <td>MI</td>\n",
       "      <td>Mercs</td>\n",
       "      <td>md16</td>\n",
       "      <td>0.95</td>\n",
       "      <td>0.1</td>\n",
       "      <td>4.0</td>\n",
       "      <td>2.0</td>\n",
       "      <td>16.0</td>\n",
       "      <td>DT</td>\n",
       "      <td>predict.algo=MI|mod.type=Mercs|mod.keyword=md1...</td>\n",
       "    </tr>\n",
       "  </tbody>\n",
       "</table>\n",
       "</div>"
      ],
      "text/plain": [
       "    dataset predict.algo mod.type mod.keyword  predict.param  predict.its  \\\n",
       "idx                                                                         \n",
       "674   nltcs           MI    Mercs        md16           0.95          0.1   \n",
       "675   nltcs         MAFI    Mercs        md16           0.95          0.1   \n",
       "676   msnbc           MI    Mercs        md16           0.95          0.1   \n",
       "677   msnbc         MAFI    Mercs        md16           0.95          0.1   \n",
       "678  jester           MI    Mercs        md16           0.95          0.1   \n",
       "\n",
       "     fit.sel.its  fit.sel.param  fit.ind.max_depth fit.ind.type  \\\n",
       "idx                                                               \n",
       "674          4.0            2.0               16.0           DT   \n",
       "675          4.0            2.0               16.0           DT   \n",
       "676          4.0            2.0               16.0           DT   \n",
       "677          4.0            2.0               16.0           DT   \n",
       "678          4.0            2.0               16.0           DT   \n",
       "\n",
       "                                                  name  \n",
       "idx                                                     \n",
       "674  predict.algo=MI|mod.type=Mercs|mod.keyword=md1...  \n",
       "675  predict.algo=MAFI|mod.type=Mercs|mod.keyword=m...  \n",
       "676  predict.algo=MI|mod.type=Mercs|mod.keyword=md1...  \n",
       "677  predict.algo=MAFI|mod.type=Mercs|mod.keyword=m...  \n",
       "678  predict.algo=MI|mod.type=Mercs|mod.keyword=md1...  "
      ]
     },
     "execution_count": 11,
     "metadata": {},
     "output_type": "execute_result"
    }
   ],
   "source": [
    "df_cfg.head()"
   ]
  },
  {
   "cell_type": "code",
   "execution_count": 12,
   "metadata": {
    "collapsed": true
   },
   "outputs": [],
   "source": [
    "df_lpt = build_relative_time_df(df_tmg,\n",
    "                                df_cfg,\n",
    "                                baseline_filter=[('mod.keyword', 'md16'), ('predict.algo', 'MI')],\n",
    "                                baseline_column='inf_time',\n",
    "                                group_on=('predict.algo', 'predict.its', 'predict.param'))"
   ]
  },
  {
   "cell_type": "code",
   "execution_count": 13,
   "metadata": {},
   "outputs": [
    {
     "data": {
      "text/html": [
       "<div>\n",
       "<style scoped>\n",
       "    .dataframe tbody tr th:only-of-type {\n",
       "        vertical-align: middle;\n",
       "    }\n",
       "\n",
       "    .dataframe tbody tr th {\n",
       "        vertical-align: top;\n",
       "    }\n",
       "\n",
       "    .dataframe thead th {\n",
       "        text-align: right;\n",
       "    }\n",
       "</style>\n",
       "<table border=\"1\" class=\"dataframe\">\n",
       "  <thead>\n",
       "    <tr style=\"text-align: right;\">\n",
       "      <th></th>\n",
       "      <th></th>\n",
       "      <th>ind_time</th>\n",
       "      <th>inf_time</th>\n",
       "      <th>dataset</th>\n",
       "      <th>predict.algo</th>\n",
       "      <th>mod.type</th>\n",
       "      <th>mod.keyword</th>\n",
       "      <th>predict.param</th>\n",
       "      <th>predict.its</th>\n",
       "      <th>fit.sel.its</th>\n",
       "      <th>fit.sel.param</th>\n",
       "      <th>fit.ind.max_depth</th>\n",
       "      <th>fit.ind.type</th>\n",
       "      <th>baseline_inf_time</th>\n",
       "      <th>relative_inf_time</th>\n",
       "    </tr>\n",
       "    <tr>\n",
       "      <th>idx</th>\n",
       "      <th>name</th>\n",
       "      <th></th>\n",
       "      <th></th>\n",
       "      <th></th>\n",
       "      <th></th>\n",
       "      <th></th>\n",
       "      <th></th>\n",
       "      <th></th>\n",
       "      <th></th>\n",
       "      <th></th>\n",
       "      <th></th>\n",
       "      <th></th>\n",
       "      <th></th>\n",
       "      <th></th>\n",
       "      <th></th>\n",
       "    </tr>\n",
       "  </thead>\n",
       "  <tbody>\n",
       "    <tr>\n",
       "      <th>674</th>\n",
       "      <th>predict.algo=MI|predict.param=0.95|predict.its=0.1</th>\n",
       "      <td>1.707582</td>\n",
       "      <td>0.022731</td>\n",
       "      <td>nltcs</td>\n",
       "      <td>MI</td>\n",
       "      <td>Mercs</td>\n",
       "      <td>md16</td>\n",
       "      <td>0.95</td>\n",
       "      <td>0.1</td>\n",
       "      <td>4.0</td>\n",
       "      <td>2.0</td>\n",
       "      <td>16.0</td>\n",
       "      <td>DT</td>\n",
       "      <td>0.022731</td>\n",
       "      <td>1.000000</td>\n",
       "    </tr>\n",
       "    <tr>\n",
       "      <th>675</th>\n",
       "      <th>predict.algo=MAFI|predict.param=0.95|predict.its=0.1</th>\n",
       "      <td>1.707582</td>\n",
       "      <td>0.018550</td>\n",
       "      <td>nltcs</td>\n",
       "      <td>MAFI</td>\n",
       "      <td>Mercs</td>\n",
       "      <td>md16</td>\n",
       "      <td>0.95</td>\n",
       "      <td>0.1</td>\n",
       "      <td>4.0</td>\n",
       "      <td>2.0</td>\n",
       "      <td>16.0</td>\n",
       "      <td>DT</td>\n",
       "      <td>0.022731</td>\n",
       "      <td>0.816075</td>\n",
       "    </tr>\n",
       "    <tr>\n",
       "      <th>676</th>\n",
       "      <th>predict.algo=MI|predict.param=0.95|predict.its=0.1</th>\n",
       "      <td>72.326585</td>\n",
       "      <td>0.131463</td>\n",
       "      <td>msnbc</td>\n",
       "      <td>MI</td>\n",
       "      <td>Mercs</td>\n",
       "      <td>md16</td>\n",
       "      <td>0.95</td>\n",
       "      <td>0.1</td>\n",
       "      <td>4.0</td>\n",
       "      <td>2.0</td>\n",
       "      <td>16.0</td>\n",
       "      <td>DT</td>\n",
       "      <td>0.131463</td>\n",
       "      <td>1.000000</td>\n",
       "    </tr>\n",
       "    <tr>\n",
       "      <th>677</th>\n",
       "      <th>predict.algo=MAFI|predict.param=0.95|predict.its=0.1</th>\n",
       "      <td>72.326585</td>\n",
       "      <td>0.099202</td>\n",
       "      <td>msnbc</td>\n",
       "      <td>MAFI</td>\n",
       "      <td>Mercs</td>\n",
       "      <td>md16</td>\n",
       "      <td>0.95</td>\n",
       "      <td>0.1</td>\n",
       "      <td>4.0</td>\n",
       "      <td>2.0</td>\n",
       "      <td>16.0</td>\n",
       "      <td>DT</td>\n",
       "      <td>0.131463</td>\n",
       "      <td>0.754601</td>\n",
       "    </tr>\n",
       "    <tr>\n",
       "      <th>678</th>\n",
       "      <th>predict.algo=MI|predict.param=0.95|predict.its=0.1</th>\n",
       "      <td>45.259171</td>\n",
       "      <td>0.083209</td>\n",
       "      <td>jester</td>\n",
       "      <td>MI</td>\n",
       "      <td>Mercs</td>\n",
       "      <td>md16</td>\n",
       "      <td>0.95</td>\n",
       "      <td>0.1</td>\n",
       "      <td>4.0</td>\n",
       "      <td>2.0</td>\n",
       "      <td>16.0</td>\n",
       "      <td>DT</td>\n",
       "      <td>0.083209</td>\n",
       "      <td>1.000000</td>\n",
       "    </tr>\n",
       "  </tbody>\n",
       "</table>\n",
       "</div>"
      ],
      "text/plain": [
       "                                                         ind_time  inf_time  \\\n",
       "idx name                                                                      \n",
       "674 predict.algo=MI|predict.param=0.95|predict.its=0.1   1.707582  0.022731   \n",
       "675 predict.algo=MAFI|predict.param=0.95|predict.it...   1.707582  0.018550   \n",
       "676 predict.algo=MI|predict.param=0.95|predict.its=0.1  72.326585  0.131463   \n",
       "677 predict.algo=MAFI|predict.param=0.95|predict.it...  72.326585  0.099202   \n",
       "678 predict.algo=MI|predict.param=0.95|predict.its=0.1  45.259171  0.083209   \n",
       "\n",
       "                                                       dataset predict.algo  \\\n",
       "idx name                                                                      \n",
       "674 predict.algo=MI|predict.param=0.95|predict.its=0.1   nltcs           MI   \n",
       "675 predict.algo=MAFI|predict.param=0.95|predict.it...   nltcs         MAFI   \n",
       "676 predict.algo=MI|predict.param=0.95|predict.its=0.1   msnbc           MI   \n",
       "677 predict.algo=MAFI|predict.param=0.95|predict.it...   msnbc         MAFI   \n",
       "678 predict.algo=MI|predict.param=0.95|predict.its=0.1  jester           MI   \n",
       "\n",
       "                                                       mod.type mod.keyword  \\\n",
       "idx name                                                                      \n",
       "674 predict.algo=MI|predict.param=0.95|predict.its=0.1    Mercs        md16   \n",
       "675 predict.algo=MAFI|predict.param=0.95|predict.it...    Mercs        md16   \n",
       "676 predict.algo=MI|predict.param=0.95|predict.its=0.1    Mercs        md16   \n",
       "677 predict.algo=MAFI|predict.param=0.95|predict.it...    Mercs        md16   \n",
       "678 predict.algo=MI|predict.param=0.95|predict.its=0.1    Mercs        md16   \n",
       "\n",
       "                                                        predict.param  \\\n",
       "idx name                                                                \n",
       "674 predict.algo=MI|predict.param=0.95|predict.its=0.1           0.95   \n",
       "675 predict.algo=MAFI|predict.param=0.95|predict.it...           0.95   \n",
       "676 predict.algo=MI|predict.param=0.95|predict.its=0.1           0.95   \n",
       "677 predict.algo=MAFI|predict.param=0.95|predict.it...           0.95   \n",
       "678 predict.algo=MI|predict.param=0.95|predict.its=0.1           0.95   \n",
       "\n",
       "                                                        predict.its  \\\n",
       "idx name                                                              \n",
       "674 predict.algo=MI|predict.param=0.95|predict.its=0.1          0.1   \n",
       "675 predict.algo=MAFI|predict.param=0.95|predict.it...          0.1   \n",
       "676 predict.algo=MI|predict.param=0.95|predict.its=0.1          0.1   \n",
       "677 predict.algo=MAFI|predict.param=0.95|predict.it...          0.1   \n",
       "678 predict.algo=MI|predict.param=0.95|predict.its=0.1          0.1   \n",
       "\n",
       "                                                        fit.sel.its  \\\n",
       "idx name                                                              \n",
       "674 predict.algo=MI|predict.param=0.95|predict.its=0.1          4.0   \n",
       "675 predict.algo=MAFI|predict.param=0.95|predict.it...          4.0   \n",
       "676 predict.algo=MI|predict.param=0.95|predict.its=0.1          4.0   \n",
       "677 predict.algo=MAFI|predict.param=0.95|predict.it...          4.0   \n",
       "678 predict.algo=MI|predict.param=0.95|predict.its=0.1          4.0   \n",
       "\n",
       "                                                        fit.sel.param  \\\n",
       "idx name                                                                \n",
       "674 predict.algo=MI|predict.param=0.95|predict.its=0.1            2.0   \n",
       "675 predict.algo=MAFI|predict.param=0.95|predict.it...            2.0   \n",
       "676 predict.algo=MI|predict.param=0.95|predict.its=0.1            2.0   \n",
       "677 predict.algo=MAFI|predict.param=0.95|predict.it...            2.0   \n",
       "678 predict.algo=MI|predict.param=0.95|predict.its=0.1            2.0   \n",
       "\n",
       "                                                        fit.ind.max_depth  \\\n",
       "idx name                                                                    \n",
       "674 predict.algo=MI|predict.param=0.95|predict.its=0.1               16.0   \n",
       "675 predict.algo=MAFI|predict.param=0.95|predict.it...               16.0   \n",
       "676 predict.algo=MI|predict.param=0.95|predict.its=0.1               16.0   \n",
       "677 predict.algo=MAFI|predict.param=0.95|predict.it...               16.0   \n",
       "678 predict.algo=MI|predict.param=0.95|predict.its=0.1               16.0   \n",
       "\n",
       "                                                       fit.ind.type  \\\n",
       "idx name                                                              \n",
       "674 predict.algo=MI|predict.param=0.95|predict.its=0.1           DT   \n",
       "675 predict.algo=MAFI|predict.param=0.95|predict.it...           DT   \n",
       "676 predict.algo=MI|predict.param=0.95|predict.its=0.1           DT   \n",
       "677 predict.algo=MAFI|predict.param=0.95|predict.it...           DT   \n",
       "678 predict.algo=MI|predict.param=0.95|predict.its=0.1           DT   \n",
       "\n",
       "                                                        baseline_inf_time  \\\n",
       "idx name                                                                    \n",
       "674 predict.algo=MI|predict.param=0.95|predict.its=0.1           0.022731   \n",
       "675 predict.algo=MAFI|predict.param=0.95|predict.it...           0.022731   \n",
       "676 predict.algo=MI|predict.param=0.95|predict.its=0.1           0.131463   \n",
       "677 predict.algo=MAFI|predict.param=0.95|predict.it...           0.131463   \n",
       "678 predict.algo=MI|predict.param=0.95|predict.its=0.1           0.083209   \n",
       "\n",
       "                                                        relative_inf_time  \n",
       "idx name                                                                   \n",
       "674 predict.algo=MI|predict.param=0.95|predict.its=0.1           1.000000  \n",
       "675 predict.algo=MAFI|predict.param=0.95|predict.it...           0.816075  \n",
       "676 predict.algo=MI|predict.param=0.95|predict.its=0.1           1.000000  \n",
       "677 predict.algo=MAFI|predict.param=0.95|predict.it...           0.754601  \n",
       "678 predict.algo=MI|predict.param=0.95|predict.its=0.1           1.000000  "
      ]
     },
     "execution_count": 13,
     "metadata": {},
     "output_type": "execute_result"
    }
   ],
   "source": [
    "df_lpt.head()"
   ]
  },
  {
   "cell_type": "markdown",
   "metadata": {},
   "source": [
    "## Layout"
   ]
  },
  {
   "cell_type": "code",
   "execution_count": 14,
   "metadata": {
    "collapsed": true
   },
   "outputs": [],
   "source": [
    "graph_style = {'width':             '85%',\n",
    "               'float':             'right',\n",
    "               'z-index':            1,\n",
    "               'position':           'relative',\n",
    "               'margin-bottom':      '2cm'}\n",
    "\n",
    "dropdown_menu_style = {'width':            '14%',\n",
    "                       'backgroundColor':  'rgb(250, 250, 250)',\n",
    "                       'float':            'left',\n",
    "                       'z-index':            0,\n",
    "                       'position':          'relative',\n",
    "                       'border':            '1px solid gray'}\n",
    "\n",
    "slider_menu_style = {'width':             '95%',\n",
    "                     'backgroundColor':  'rgb(250, 250, 250)',\n",
    "                     'float':            'left',\n",
    "                     'margin-left':       '1cm',\n",
    "                     'margin-bottom':     '2cm'}\n",
    "\n",
    "extra_style = {'border':            '1px solid black'}\n",
    "\n",
    "sep = html.Div(style={'clear': 'both'})\n",
    "\n",
    "txt_box_style = {'width':             '25%',\n",
    "                 'float':             'left',\n",
    "                 'z-index':            1,\n",
    "                 'position':           'relative',\n",
    "                 'margin-left':       '2cm',\n",
    "                 'border':            '1px solid gray'}"
   ]
  },
  {
   "cell_type": "markdown",
   "metadata": {},
   "source": [
    "## Menus"
   ]
  },
  {
   "cell_type": "markdown",
   "metadata": {},
   "source": [
    "### Dropdown"
   ]
  },
  {
   "cell_type": "code",
   "execution_count": 15,
   "metadata": {},
   "outputs": [
    {
     "name": "stderr",
     "output_type": "stream",
     "text": [
      "/cw/dtailocal/Dropbox/Files/KUL/research/codebases/homework/src/exp/visual/menus.py:84: UserWarning:\n",
      "\n",
      "\n",
      "            Could not sort this column. Typically because there is a mix\n",
      "            of int/float and strings.\n",
      "            \n",
      "\n"
     ]
    }
   ],
   "source": [
    "# Dropdown Menus\n",
    "perf_dd_menus = generate_dropdown_menus_from_df(df_cfg, ignore_columns=['name'])\n",
    "\n",
    "perf_dd_menus = html.Div(perf_dd_menus,\n",
    "                         style=dropdown_menu_style)"
   ]
  },
  {
   "cell_type": "markdown",
   "metadata": {},
   "source": [
    "## Static App"
   ]
  },
  {
   "cell_type": "code",
   "execution_count": 16,
   "metadata": {
    "collapsed": true
   },
   "outputs": [],
   "source": [
    "#df_lpt.head()"
   ]
  },
  {
   "cell_type": "code",
   "execution_count": 17,
   "metadata": {
    "collapsed": true
   },
   "outputs": [],
   "source": [
    "scatterplot_fig = generate_graph(df_lpt,\n",
    "                                 kind='scatter',\n",
    "                                 x_field='dataset',\n",
    "                                 y_field='relative_inf_time')\n",
    "\n",
    "perf_graph = dcc.Graph(id='scatterplot', \n",
    "                       figure=scatterplot_fig)\n",
    "\n",
    "stat_perf_contents = html.Div([perf_graph],\n",
    "                              style=graph_style)"
   ]
  },
  {
   "cell_type": "markdown",
   "metadata": {},
   "source": [
    "## Dynamic App\n",
    "\n",
    "Re-uses some stuff from the static configuration."
   ]
  },
  {
   "cell_type": "markdown",
   "metadata": {},
   "source": [
    "### Initialization"
   ]
  },
  {
   "cell_type": "code",
   "execution_count": 18,
   "metadata": {
    "collapsed": true
   },
   "outputs": [],
   "source": [
    "dyn_perf_contents = [perf_dd_menus,\n",
    "                     stat_perf_contents]"
   ]
  },
  {
   "cell_type": "code",
   "execution_count": 19,
   "metadata": {
    "collapsed": true
   },
   "outputs": [],
   "source": [
    "# Init App.\n",
    "app = dash.Dash()\n",
    "app.layout = html.Div(dyn_perf_contents)"
   ]
  },
  {
   "cell_type": "code",
   "execution_count": 20,
   "metadata": {
    "collapsed": true
   },
   "outputs": [],
   "source": [
    "menu_inputs, menu_names = extract_menu_inputs_menu_names_from_layout(app.layout)\n",
    "#menu_names"
   ]
  },
  {
   "cell_type": "markdown",
   "metadata": {},
   "source": [
    "### Main Callback\n",
    "\n",
    "This callback method needs to handle everything at once."
   ]
  },
  {
   "cell_type": "code",
   "execution_count": null,
   "metadata": {
    "collapsed": true
   },
   "outputs": [],
   "source": [
    "@app.callback(\n",
    "    Output('scatterplot', 'figure'),\n",
    "    menu_inputs)\n",
    "def update_lineplot(*args):\n",
    "    \n",
    "    menus = zip(menu_names, args)\n",
    "    \n",
    "    df_filt = df_lpt\n",
    "    \n",
    "    for name, values in menus:\n",
    "        print(name)\n",
    "        df_filt = filter_dataframe(df_filt, name, values)\n",
    "\n",
    "\n",
    "    scatterplot_fig = generate_graph(df_filt,\n",
    "                                     kind='scatter',\n",
    "                                     x_field='dataset',\n",
    "                                     y_field='relative_inf_time')\n",
    "    \n",
    "    return scatterplot_fig"
   ]
  },
  {
   "cell_type": "markdown",
   "metadata": {},
   "source": [
    "## Run App\n",
    "\n",
    "Run the actual browser applet."
   ]
  },
  {
   "cell_type": "code",
   "execution_count": null,
   "metadata": {},
   "outputs": [
    {
     "name": "stderr",
     "output_type": "stream",
     "text": [
      " * Running on http://127.0.0.1:8886/ (Press CTRL+C to quit)\n",
      "127.0.0.1 - - [12/Feb/2019 16:52:49] \"GET / HTTP/1.1\" 200 -\n",
      "127.0.0.1 - - [12/Feb/2019 16:52:49] \"GET /_dash-layout HTTP/1.1\" 200 -\n",
      "127.0.0.1 - - [12/Feb/2019 16:52:49] \"GET /_dash-dependencies HTTP/1.1\" 200 -\n",
      "127.0.0.1 - - [12/Feb/2019 16:52:49] \"POST /_dash-update-component HTTP/1.1\" 200 -\n"
     ]
    },
    {
     "name": "stdout",
     "output_type": "stream",
     "text": [
      "dataset\n",
      "predict.algo\n",
      "mod.type\n",
      "mod.keyword\n",
      "predict.param\n",
      "predict.its\n",
      "fit.sel.its\n",
      "fit.sel.param\n",
      "fit.ind.max_depth\n",
      "fit.ind.type\n"
     ]
    },
    {
     "name": "stderr",
     "output_type": "stream",
     "text": [
      "/cw/dtailocal/Dropbox/Files/KUL/research/codebases/homework/src/exp/visual/plots.py:199: SettingWithCopyWarning:\n",
      "\n",
      "\n",
      "A value is trying to be set on a copy of a slice from a DataFrame\n",
      "\n",
      "See the caveats in the documentation: http://pandas.pydata.org/pandas-docs/stable/indexing.html#indexing-view-versus-copy\n",
      "\n",
      "127.0.0.1 - - [12/Feb/2019 16:52:58] \"POST /_dash-update-component HTTP/1.1\" 200 -\n"
     ]
    },
    {
     "name": "stdout",
     "output_type": "stream",
     "text": [
      "dataset\n",
      "predict.algo\n",
      "mod.type\n",
      "mod.keyword\n",
      "predict.param\n",
      "predict.its\n",
      "fit.sel.its\n",
      "fit.sel.param\n",
      "fit.ind.max_depth\n",
      "fit.ind.type\n"
     ]
    },
    {
     "name": "stderr",
     "output_type": "stream",
     "text": [
      "127.0.0.1 - - [12/Feb/2019 16:52:59] \"POST /_dash-update-component HTTP/1.1\" 200 -\n"
     ]
    },
    {
     "name": "stdout",
     "output_type": "stream",
     "text": [
      "dataset\n",
      "predict.algo\n",
      "mod.type\n",
      "mod.keyword\n",
      "predict.param\n",
      "predict.its\n",
      "fit.sel.its\n",
      "fit.sel.param\n",
      "fit.ind.max_depth\n",
      "fit.ind.type\n"
     ]
    },
    {
     "name": "stderr",
     "output_type": "stream",
     "text": [
      "127.0.0.1 - - [12/Feb/2019 16:53:00] \"POST /_dash-update-component HTTP/1.1\" 200 -\n"
     ]
    },
    {
     "name": "stdout",
     "output_type": "stream",
     "text": [
      "dataset\n",
      "predict.algo\n",
      "mod.type\n",
      "mod.keyword\n",
      "predict.param\n",
      "predict.its\n",
      "fit.sel.its\n",
      "fit.sel.param\n",
      "fit.ind.max_depth\n",
      "fit.ind.type\n"
     ]
    },
    {
     "name": "stderr",
     "output_type": "stream",
     "text": [
      "127.0.0.1 - - [12/Feb/2019 16:53:01] \"POST /_dash-update-component HTTP/1.1\" 200 -\n"
     ]
    },
    {
     "name": "stdout",
     "output_type": "stream",
     "text": [
      "dataset\n",
      "predict.algo\n",
      "mod.type\n",
      "mod.keyword\n",
      "predict.param\n",
      "predict.its\n",
      "fit.sel.its\n",
      "fit.sel.param\n",
      "fit.ind.max_depth\n",
      "fit.ind.type\n"
     ]
    },
    {
     "name": "stderr",
     "output_type": "stream",
     "text": [
      "127.0.0.1 - - [12/Feb/2019 16:53:02] \"POST /_dash-update-component HTTP/1.1\" 200 -\n"
     ]
    },
    {
     "name": "stdout",
     "output_type": "stream",
     "text": [
      "dataset\n",
      "predict.algo\n",
      "mod.type\n",
      "mod.keyword\n",
      "predict.param\n",
      "predict.its\n",
      "fit.sel.its\n",
      "fit.sel.param\n",
      "fit.ind.max_depth\n",
      "fit.ind.type\n"
     ]
    },
    {
     "name": "stderr",
     "output_type": "stream",
     "text": [
      "127.0.0.1 - - [12/Feb/2019 16:53:03] \"POST /_dash-update-component HTTP/1.1\" 200 -\n"
     ]
    },
    {
     "name": "stdout",
     "output_type": "stream",
     "text": [
      "dataset\n",
      "predict.algo\n",
      "mod.type\n",
      "mod.keyword\n",
      "predict.param\n",
      "predict.its\n",
      "fit.sel.its\n",
      "fit.sel.param\n",
      "fit.ind.max_depth\n",
      "fit.ind.type\n"
     ]
    },
    {
     "name": "stderr",
     "output_type": "stream",
     "text": [
      "127.0.0.1 - - [12/Feb/2019 16:59:53] \"POST /_dash-update-component HTTP/1.1\" 200 -\n"
     ]
    },
    {
     "name": "stdout",
     "output_type": "stream",
     "text": [
      "dataset\n",
      "predict.algo\n",
      "mod.type\n",
      "mod.keyword\n",
      "predict.param\n",
      "predict.its\n",
      "fit.sel.its\n",
      "fit.sel.param\n",
      "fit.ind.max_depth\n",
      "fit.ind.type\n"
     ]
    },
    {
     "name": "stderr",
     "output_type": "stream",
     "text": [
      "127.0.0.1 - - [12/Feb/2019 16:59:55] \"POST /_dash-update-component HTTP/1.1\" 200 -\n"
     ]
    },
    {
     "name": "stdout",
     "output_type": "stream",
     "text": [
      "dataset\n",
      "predict.algo\n",
      "mod.type\n",
      "mod.keyword\n",
      "predict.param\n",
      "predict.its\n",
      "fit.sel.its\n",
      "fit.sel.param\n",
      "fit.ind.max_depth\n",
      "fit.ind.type\n"
     ]
    },
    {
     "name": "stderr",
     "output_type": "stream",
     "text": [
      "127.0.0.1 - - [12/Feb/2019 16:59:56] \"POST /_dash-update-component HTTP/1.1\" 200 -\n"
     ]
    },
    {
     "name": "stdout",
     "output_type": "stream",
     "text": [
      "dataset\n",
      "predict.algo\n",
      "mod.type\n",
      "mod.keyword\n",
      "predict.param\n",
      "predict.its\n",
      "fit.sel.its\n",
      "fit.sel.param\n",
      "fit.ind.max_depth\n",
      "fit.ind.type\n"
     ]
    },
    {
     "name": "stderr",
     "output_type": "stream",
     "text": [
      "127.0.0.1 - - [12/Feb/2019 16:59:58] \"POST /_dash-update-component HTTP/1.1\" 200 -\n"
     ]
    },
    {
     "name": "stdout",
     "output_type": "stream",
     "text": [
      "dataset\n",
      "predict.algo\n",
      "mod.type\n",
      "mod.keyword\n",
      "predict.param\n",
      "predict.its\n",
      "fit.sel.its\n",
      "fit.sel.param\n",
      "fit.ind.max_depth\n",
      "fit.ind.type\n"
     ]
    },
    {
     "name": "stderr",
     "output_type": "stream",
     "text": [
      "127.0.0.1 - - [12/Feb/2019 16:59:59] \"POST /_dash-update-component HTTP/1.1\" 200 -\n"
     ]
    },
    {
     "name": "stdout",
     "output_type": "stream",
     "text": [
      "dataset\n",
      "predict.algo\n",
      "mod.type\n",
      "mod.keyword\n",
      "predict.param\n",
      "predict.its\n",
      "fit.sel.its\n",
      "fit.sel.param\n",
      "fit.ind.max_depth\n",
      "fit.ind.type\n"
     ]
    },
    {
     "name": "stderr",
     "output_type": "stream",
     "text": [
      "127.0.0.1 - - [12/Feb/2019 17:00:00] \"POST /_dash-update-component HTTP/1.1\" 200 -\n"
     ]
    },
    {
     "name": "stdout",
     "output_type": "stream",
     "text": [
      "dataset\n",
      "predict.algo\n",
      "mod.type\n",
      "mod.keyword\n",
      "predict.param\n",
      "predict.its\n",
      "fit.sel.its\n",
      "fit.sel.param\n",
      "fit.ind.max_depth\n",
      "fit.ind.type\n"
     ]
    },
    {
     "name": "stderr",
     "output_type": "stream",
     "text": [
      "127.0.0.1 - - [12/Feb/2019 17:00:01] \"POST /_dash-update-component HTTP/1.1\" 200 -\n"
     ]
    },
    {
     "name": "stdout",
     "output_type": "stream",
     "text": [
      "dataset\n",
      "predict.algo\n",
      "mod.type\n",
      "mod.keyword\n",
      "predict.param\n",
      "predict.its\n",
      "fit.sel.its\n",
      "fit.sel.param\n",
      "fit.ind.max_depth\n",
      "fit.ind.type\n"
     ]
    },
    {
     "name": "stderr",
     "output_type": "stream",
     "text": [
      "127.0.0.1 - - [12/Feb/2019 17:00:03] \"POST /_dash-update-component HTTP/1.1\" 200 -\n"
     ]
    },
    {
     "name": "stdout",
     "output_type": "stream",
     "text": [
      "dataset\n",
      "predict.algo\n",
      "mod.type\n",
      "mod.keyword\n",
      "predict.param\n",
      "predict.its\n",
      "fit.sel.its\n",
      "fit.sel.param\n",
      "fit.ind.max_depth\n",
      "fit.ind.type\n"
     ]
    },
    {
     "name": "stderr",
     "output_type": "stream",
     "text": [
      "127.0.0.1 - - [12/Feb/2019 17:00:04] \"POST /_dash-update-component HTTP/1.1\" 200 -\n"
     ]
    },
    {
     "name": "stdout",
     "output_type": "stream",
     "text": [
      "dataset\n",
      "predict.algo\n",
      "mod.type\n",
      "mod.keyword\n",
      "predict.param\n",
      "predict.its\n",
      "fit.sel.its\n",
      "fit.sel.param\n",
      "fit.ind.max_depth\n",
      "fit.ind.type\n"
     ]
    },
    {
     "name": "stderr",
     "output_type": "stream",
     "text": [
      "127.0.0.1 - - [12/Feb/2019 17:00:06] \"POST /_dash-update-component HTTP/1.1\" 200 -\n"
     ]
    },
    {
     "name": "stdout",
     "output_type": "stream",
     "text": [
      "dataset\n",
      "predict.algo\n",
      "mod.type\n",
      "mod.keyword\n",
      "predict.param\n",
      "predict.its\n",
      "fit.sel.its\n",
      "fit.sel.param\n",
      "fit.ind.max_depth\n",
      "fit.ind.type\n"
     ]
    },
    {
     "name": "stderr",
     "output_type": "stream",
     "text": [
      "127.0.0.1 - - [12/Feb/2019 17:00:07] \"POST /_dash-update-component HTTP/1.1\" 200 -\n"
     ]
    },
    {
     "name": "stdout",
     "output_type": "stream",
     "text": [
      "dataset\n",
      "predict.algo\n",
      "mod.type\n",
      "mod.keyword\n",
      "predict.param\n",
      "predict.its\n",
      "fit.sel.its\n",
      "fit.sel.param\n",
      "fit.ind.max_depth\n",
      "fit.ind.type\n"
     ]
    },
    {
     "name": "stderr",
     "output_type": "stream",
     "text": [
      "127.0.0.1 - - [12/Feb/2019 17:00:09] \"POST /_dash-update-component HTTP/1.1\" 200 -\n"
     ]
    },
    {
     "name": "stdout",
     "output_type": "stream",
     "text": [
      "dataset\n",
      "predict.algo\n",
      "mod.type\n",
      "mod.keyword\n",
      "predict.param\n",
      "predict.its\n",
      "fit.sel.its\n",
      "fit.sel.param\n",
      "fit.ind.max_depth\n",
      "fit.ind.type\n"
     ]
    }
   ],
   "source": [
    "app.run_server(port=8886)"
   ]
  }
 ],
 "metadata": {
  "kernelspec": {
   "display_name": "Python [default]",
   "language": "python",
   "name": "python3"
  },
  "language_info": {
   "codemirror_mode": {
    "name": "ipython",
    "version": 3
   },
   "file_extension": ".py",
   "mimetype": "text/x-python",
   "name": "python",
   "nbconvert_exporter": "python",
   "pygments_lexer": "ipython3",
   "version": "3.6.8"
  },
  "toc": {
   "nav_menu": {},
   "number_sections": true,
   "sideBar": true,
   "skip_h1_title": true,
   "toc_cell": false,
   "toc_position": {
    "height": "calc(100% - 180px)",
    "left": "10px",
    "top": "150px",
    "width": "241px"
   },
   "toc_section_display": "block",
   "toc_window_display": true
  }
 },
 "nbformat": 4,
 "nbformat_minor": 2
}
