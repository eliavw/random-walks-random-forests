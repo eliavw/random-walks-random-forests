{
 "cells": [
  {
   "cell_type": "markdown",
   "metadata": {},
   "source": [
    "# Visualization - Relative Timings App\n",
    "\n",
    "Relative timings between different methods.\n",
    "\n",
    "A plot inspired by one in the COBRAS paper."
   ]
  },
  {
   "cell_type": "markdown",
   "metadata": {},
   "source": [
    "## Preliminaries"
   ]
  },
  {
   "cell_type": "markdown",
   "metadata": {
    "heading_collapsed": true
   },
   "source": [
    "### Imports"
   ]
  },
  {
   "cell_type": "code",
   "execution_count": 1,
   "metadata": {
    "collapsed": true,
    "hidden": true
   },
   "outputs": [],
   "source": [
    "# Imports\n",
    "import os\n",
    "import numpy as np\n",
    "import pandas as pd\n",
    "import json\n",
    "import sys\n",
    "import pickle as pkl\n",
    "import warnings\n",
    "\n",
    "from os.path import dirname\n",
    "\n",
    "# Dash\n",
    "import dash\n",
    "import dash_core_components as dcc\n",
    "import dash_html_components as html\n",
    "import plotly.graph_objs as go\n",
    "from dash.dependencies import Input, Output, State"
   ]
  },
  {
   "cell_type": "code",
   "execution_count": 2,
   "metadata": {
    "collapsed": true,
    "hidden": true
   },
   "outputs": [],
   "source": [
    "# Custom\n",
    "\n",
    "root_dir = dirname(dirname(os.getcwd()))\n",
    "src_dir = os.path.join(root_dir, 'src')\n",
    "sys.path.append(src_dir)\n",
    "\n",
    "import exp\n",
    "from exp.utils.extra import mem_usage\n",
    "from exp.runner.RunExp import RunExp\n",
    "from exp.runner.RunMercs import RunMercs\n",
    "#from exp.eval.preprocess import (preprocess_aggr_df,\n",
    "                                 #build_df_plt,\n",
    "                                #build_df_lineplot)\n",
    "        \n",
    "        \n",
    "        \n",
    "from exp.visual.menus import (generate_dropdown_menu,\n",
    "                              generate_dropdown_menus_from_df,\n",
    "                              generate_slider_menu)\n",
    "from exp.visual.plots import (generate_graph)\n",
    "from exp.visual.callback import (extract_menu_inputs_menu_names_from_layout,\n",
    "                                filter_dataframe)"
   ]
  },
  {
   "cell_type": "code",
   "execution_count": 3,
   "metadata": {
    "collapsed": true,
    "hidden": true
   },
   "outputs": [],
   "source": [
    "from exp.eval.preprocess import *"
   ]
  },
  {
   "cell_type": "code",
   "execution_count": 4,
   "metadata": {
    "hidden": true
   },
   "outputs": [
    {
     "data": {
      "text/plain": [
       "'/cw/dtailocal/Dropbox/Files/KUL/research/codebases/homework'"
      ]
     },
     "execution_count": 4,
     "metadata": {},
     "output_type": "execute_result"
    }
   ],
   "source": [
    "root_dir"
   ]
  },
  {
   "cell_type": "markdown",
   "metadata": {
    "heading_collapsed": true
   },
   "source": [
    "### Methods\n",
    "\n",
    "Some custom methods I need in this notebook."
   ]
  },
  {
   "cell_type": "code",
   "execution_count": 5,
   "metadata": {
    "code_folding": [],
    "collapsed": true,
    "hidden": true
   },
   "outputs": [],
   "source": [
    "def merge_aggregated_outputs_multiple_exps(exp_idxs, **kwargs):\n",
    "    \"\"\"\n",
    "    Merge aggregated outputs from multiple experiments.\n",
    "    \"\"\"\n",
    "    \n",
    "    f = collect_aggregated_outputs_from_exp\n",
    "    \n",
    "    gen = (f(exp_idx, **kwargs) for exp_idx in exp_idxs)\n",
    "    \n",
    "    result = {}\n",
    "    for g in gen:\n",
    "        result = {k: pd.concat([result.get(k, None),v], sort=False)\n",
    "                  for k,v in g.items()}    \n",
    "        \n",
    "    return result\n",
    "\n",
    "def collect_aggregated_outputs_from_exp(exp_idx, **kwargs):\n",
    "    \"\"\"\n",
    "    Load the aggregated outputs by a single experiment.\n",
    "    \"\"\"\n",
    "    \n",
    "    # Preliminaries\n",
    "    dfs = {}\n",
    "    \n",
    "    # Actions\n",
    "    re = RunExp.load(idx=exp_idx, **kwargs)\n",
    "    for output in re.aggr_outputs:\n",
    "        dfs[output] = re.load_output(kind=output)\n",
    "    return dfs"
   ]
  },
  {
   "cell_type": "markdown",
   "metadata": {},
   "source": [
    "## Global Parameters\n",
    "\n",
    "This is the single most important thing you need to specify, i.e., from which experiments do you want to collect the results?"
   ]
  },
  {
   "cell_type": "code",
   "execution_count": 6,
   "metadata": {
    "collapsed": true
   },
   "outputs": [],
   "source": [
    "exp_idxs = [1,2,3]"
   ]
  },
  {
   "cell_type": "markdown",
   "metadata": {},
   "source": [
    "## Collect Data\n",
    "\n",
    "Now, the actual work starts."
   ]
  },
  {
   "cell_type": "code",
   "execution_count": 7,
   "metadata": {
    "collapsed": true
   },
   "outputs": [],
   "source": [
    "dfs = merge_aggregated_outputs_multiple_exps(exp_idxs, root_dir=root_dir)"
   ]
  },
  {
   "cell_type": "code",
   "execution_count": 28,
   "metadata": {},
   "outputs": [],
   "source": [
    "df_res = preprocess_aggr_df(dfs['results'], kind='res')\n",
    "df_qry = preprocess_aggr_df(dfs['qry_codes'], kind='qry')\n",
    "df_cfg = preprocess_aggr_df(dfs['mod_config'], kind='cfg')\n",
    "df_tmg = preprocess_aggr_df(dfs['timings'], kind='tmg')"
   ]
  },
  {
   "cell_type": "code",
   "execution_count": 34,
   "metadata": {},
   "outputs": [
    {
     "data": {
      "text/html": [
       "<div>\n",
       "<style scoped>\n",
       "    .dataframe tbody tr th:only-of-type {\n",
       "        vertical-align: middle;\n",
       "    }\n",
       "\n",
       "    .dataframe tbody tr th {\n",
       "        vertical-align: top;\n",
       "    }\n",
       "\n",
       "    .dataframe thead th {\n",
       "        text-align: right;\n",
       "    }\n",
       "</style>\n",
       "<table border=\"1\" class=\"dataframe\">\n",
       "  <thead>\n",
       "    <tr style=\"text-align: right;\">\n",
       "      <th></th>\n",
       "      <th></th>\n",
       "      <th></th>\n",
       "      <th>macro_f1</th>\n",
       "    </tr>\n",
       "    <tr>\n",
       "      <th>idx</th>\n",
       "      <th>f_idx</th>\n",
       "      <th>q_idx</th>\n",
       "      <th></th>\n",
       "    </tr>\n",
       "  </thead>\n",
       "  <tbody>\n",
       "    <tr>\n",
       "      <th rowspan=\"5\" valign=\"top\">359</th>\n",
       "      <th rowspan=\"5\" valign=\"top\">0</th>\n",
       "      <th>0</th>\n",
       "      <td>0.804711</td>\n",
       "    </tr>\n",
       "    <tr>\n",
       "      <th>1</th>\n",
       "      <td>0.774152</td>\n",
       "    </tr>\n",
       "    <tr>\n",
       "      <th>2</th>\n",
       "      <td>0.779767</td>\n",
       "    </tr>\n",
       "    <tr>\n",
       "      <th>3</th>\n",
       "      <td>0.530433</td>\n",
       "    </tr>\n",
       "    <tr>\n",
       "      <th>4</th>\n",
       "      <td>0.679154</td>\n",
       "    </tr>\n",
       "  </tbody>\n",
       "</table>\n",
       "</div>"
      ],
      "text/plain": [
       "                 macro_f1\n",
       "idx f_idx q_idx          \n",
       "359 0     0      0.804711\n",
       "          1      0.774152\n",
       "          2      0.779767\n",
       "          3      0.530433\n",
       "          4      0.679154"
      ]
     },
     "execution_count": 34,
     "metadata": {},
     "output_type": "execute_result"
    }
   ],
   "source": [
    "df_res.head()"
   ]
  },
  {
   "cell_type": "code",
   "execution_count": 35,
   "metadata": {},
   "outputs": [
    {
     "data": {
      "text/html": [
       "<div>\n",
       "<style scoped>\n",
       "    .dataframe tbody tr th:only-of-type {\n",
       "        vertical-align: middle;\n",
       "    }\n",
       "\n",
       "    .dataframe tbody tr th {\n",
       "        vertical-align: top;\n",
       "    }\n",
       "\n",
       "    .dataframe thead th {\n",
       "        text-align: right;\n",
       "    }\n",
       "</style>\n",
       "<table border=\"1\" class=\"dataframe\">\n",
       "  <thead>\n",
       "    <tr style=\"text-align: right;\">\n",
       "      <th></th>\n",
       "      <th></th>\n",
       "      <th></th>\n",
       "      <th>ind_time</th>\n",
       "      <th>inf_time</th>\n",
       "    </tr>\n",
       "    <tr>\n",
       "      <th>idx</th>\n",
       "      <th>f_idx</th>\n",
       "      <th>q_idx</th>\n",
       "      <th></th>\n",
       "      <th></th>\n",
       "    </tr>\n",
       "  </thead>\n",
       "  <tbody>\n",
       "    <tr>\n",
       "      <th rowspan=\"5\" valign=\"top\">359</th>\n",
       "      <th rowspan=\"5\" valign=\"top\">0</th>\n",
       "      <th>0</th>\n",
       "      <td>2.645484</td>\n",
       "      <td>0.021886</td>\n",
       "    </tr>\n",
       "    <tr>\n",
       "      <th>1</th>\n",
       "      <td>2.645484</td>\n",
       "      <td>0.019425</td>\n",
       "    </tr>\n",
       "    <tr>\n",
       "      <th>2</th>\n",
       "      <td>2.645484</td>\n",
       "      <td>0.023968</td>\n",
       "    </tr>\n",
       "    <tr>\n",
       "      <th>3</th>\n",
       "      <td>2.645484</td>\n",
       "      <td>0.019199</td>\n",
       "    </tr>\n",
       "    <tr>\n",
       "      <th>4</th>\n",
       "      <td>2.645484</td>\n",
       "      <td>0.017643</td>\n",
       "    </tr>\n",
       "  </tbody>\n",
       "</table>\n",
       "</div>"
      ],
      "text/plain": [
       "                 ind_time  inf_time\n",
       "idx f_idx q_idx                    \n",
       "359 0     0      2.645484  0.021886\n",
       "          1      2.645484  0.019425\n",
       "          2      2.645484  0.023968\n",
       "          3      2.645484  0.019199\n",
       "          4      2.645484  0.017643"
      ]
     },
     "execution_count": 35,
     "metadata": {},
     "output_type": "execute_result"
    }
   ],
   "source": [
    "df_tmg.head()"
   ]
  },
  {
   "cell_type": "code",
   "execution_count": 38,
   "metadata": {},
   "outputs": [
    {
     "data": {
      "text/html": [
       "<div>\n",
       "<style scoped>\n",
       "    .dataframe tbody tr th:only-of-type {\n",
       "        vertical-align: middle;\n",
       "    }\n",
       "\n",
       "    .dataframe tbody tr th {\n",
       "        vertical-align: top;\n",
       "    }\n",
       "\n",
       "    .dataframe thead th {\n",
       "        text-align: right;\n",
       "    }\n",
       "</style>\n",
       "<table border=\"1\" class=\"dataframe\">\n",
       "  <thead>\n",
       "    <tr style=\"text-align: right;\">\n",
       "      <th></th>\n",
       "      <th></th>\n",
       "      <th>targ</th>\n",
       "      <th>t_idx</th>\n",
       "      <th>perc_miss</th>\n",
       "    </tr>\n",
       "    <tr>\n",
       "      <th>idx</th>\n",
       "      <th>q_idx</th>\n",
       "      <th></th>\n",
       "      <th></th>\n",
       "      <th></th>\n",
       "    </tr>\n",
       "  </thead>\n",
       "  <tbody>\n",
       "    <tr>\n",
       "      <th rowspan=\"5\" valign=\"top\">296</th>\n",
       "      <th>0</th>\n",
       "      <td>(4,)</td>\n",
       "      <td>4</td>\n",
       "      <td>0.00</td>\n",
       "    </tr>\n",
       "    <tr>\n",
       "      <th>1</th>\n",
       "      <td>(4,)</td>\n",
       "      <td>4</td>\n",
       "      <td>6.25</td>\n",
       "    </tr>\n",
       "    <tr>\n",
       "      <th>2</th>\n",
       "      <td>(4,)</td>\n",
       "      <td>4</td>\n",
       "      <td>18.75</td>\n",
       "    </tr>\n",
       "    <tr>\n",
       "      <th>3</th>\n",
       "      <td>(4,)</td>\n",
       "      <td>4</td>\n",
       "      <td>25.00</td>\n",
       "    </tr>\n",
       "    <tr>\n",
       "      <th>4</th>\n",
       "      <td>(4,)</td>\n",
       "      <td>4</td>\n",
       "      <td>37.50</td>\n",
       "    </tr>\n",
       "  </tbody>\n",
       "</table>\n",
       "</div>"
      ],
      "text/plain": [
       "           targ  t_idx  perc_miss\n",
       "idx q_idx                        \n",
       "296 0      (4,)      4       0.00\n",
       "    1      (4,)      4       6.25\n",
       "    2      (4,)      4      18.75\n",
       "    3      (4,)      4      25.00\n",
       "    4      (4,)      4      37.50"
      ]
     },
     "execution_count": 38,
     "metadata": {},
     "output_type": "execute_result"
    }
   ],
   "source": [
    "df_qry.head()"
   ]
  },
  {
   "cell_type": "code",
   "execution_count": 39,
   "metadata": {},
   "outputs": [
    {
     "data": {
      "text/html": [
       "<div>\n",
       "<style scoped>\n",
       "    .dataframe tbody tr th:only-of-type {\n",
       "        vertical-align: middle;\n",
       "    }\n",
       "\n",
       "    .dataframe tbody tr th {\n",
       "        vertical-align: top;\n",
       "    }\n",
       "\n",
       "    .dataframe thead th {\n",
       "        text-align: right;\n",
       "    }\n",
       "</style>\n",
       "<table border=\"1\" class=\"dataframe\">\n",
       "  <thead>\n",
       "    <tr style=\"text-align: right;\">\n",
       "      <th></th>\n",
       "      <th>dataset</th>\n",
       "      <th>predict.algo</th>\n",
       "      <th>predict.its</th>\n",
       "      <th>predict.param</th>\n",
       "      <th>fit.sel.param</th>\n",
       "      <th>fit.ind.max_depth</th>\n",
       "      <th>fit.ind.type</th>\n",
       "      <th>fit.sel.its</th>\n",
       "      <th>mod.keyword</th>\n",
       "      <th>mod.type</th>\n",
       "      <th>fit.ind.flatten</th>\n",
       "      <th>name</th>\n",
       "    </tr>\n",
       "    <tr>\n",
       "      <th>idx</th>\n",
       "      <th></th>\n",
       "      <th></th>\n",
       "      <th></th>\n",
       "      <th></th>\n",
       "      <th></th>\n",
       "      <th></th>\n",
       "      <th></th>\n",
       "      <th></th>\n",
       "      <th></th>\n",
       "      <th></th>\n",
       "      <th></th>\n",
       "      <th></th>\n",
       "    </tr>\n",
       "  </thead>\n",
       "  <tbody>\n",
       "    <tr>\n",
       "      <th>296</th>\n",
       "      <td>nltcs</td>\n",
       "      <td>RW</td>\n",
       "      <td>16.0</td>\n",
       "      <td>1.0</td>\n",
       "      <td>2</td>\n",
       "      <td>16</td>\n",
       "      <td>DT</td>\n",
       "      <td>4</td>\n",
       "      <td>md16</td>\n",
       "      <td>Mercs</td>\n",
       "      <td>NaN</td>\n",
       "      <td>predict.algo=RW|predict.its=16.0|predict.param...</td>\n",
       "    </tr>\n",
       "    <tr>\n",
       "      <th>297</th>\n",
       "      <td>msnbc</td>\n",
       "      <td>RW</td>\n",
       "      <td>16.0</td>\n",
       "      <td>1.0</td>\n",
       "      <td>2</td>\n",
       "      <td>16</td>\n",
       "      <td>DT</td>\n",
       "      <td>4</td>\n",
       "      <td>md16</td>\n",
       "      <td>Mercs</td>\n",
       "      <td>NaN</td>\n",
       "      <td>predict.algo=RW|predict.its=16.0|predict.param...</td>\n",
       "    </tr>\n",
       "    <tr>\n",
       "      <th>298</th>\n",
       "      <td>jester</td>\n",
       "      <td>RW</td>\n",
       "      <td>16.0</td>\n",
       "      <td>1.0</td>\n",
       "      <td>2</td>\n",
       "      <td>16</td>\n",
       "      <td>DT</td>\n",
       "      <td>4</td>\n",
       "      <td>md16</td>\n",
       "      <td>Mercs</td>\n",
       "      <td>NaN</td>\n",
       "      <td>predict.algo=RW|predict.its=16.0|predict.param...</td>\n",
       "    </tr>\n",
       "    <tr>\n",
       "      <th>299</th>\n",
       "      <td>kdd</td>\n",
       "      <td>RW</td>\n",
       "      <td>16.0</td>\n",
       "      <td>1.0</td>\n",
       "      <td>2</td>\n",
       "      <td>16</td>\n",
       "      <td>DT</td>\n",
       "      <td>4</td>\n",
       "      <td>md16</td>\n",
       "      <td>Mercs</td>\n",
       "      <td>NaN</td>\n",
       "      <td>predict.algo=RW|predict.its=16.0|predict.param...</td>\n",
       "    </tr>\n",
       "    <tr>\n",
       "      <th>300</th>\n",
       "      <td>plants</td>\n",
       "      <td>RW</td>\n",
       "      <td>16.0</td>\n",
       "      <td>1.0</td>\n",
       "      <td>2</td>\n",
       "      <td>16</td>\n",
       "      <td>DT</td>\n",
       "      <td>4</td>\n",
       "      <td>md16</td>\n",
       "      <td>Mercs</td>\n",
       "      <td>NaN</td>\n",
       "      <td>predict.algo=RW|predict.its=16.0|predict.param...</td>\n",
       "    </tr>\n",
       "  </tbody>\n",
       "</table>\n",
       "</div>"
      ],
      "text/plain": [
       "    dataset predict.algo  predict.its  predict.param  fit.sel.param  \\\n",
       "idx                                                                   \n",
       "296   nltcs           RW         16.0            1.0              2   \n",
       "297   msnbc           RW         16.0            1.0              2   \n",
       "298  jester           RW         16.0            1.0              2   \n",
       "299     kdd           RW         16.0            1.0              2   \n",
       "300  plants           RW         16.0            1.0              2   \n",
       "\n",
       "     fit.ind.max_depth fit.ind.type  fit.sel.its mod.keyword mod.type  \\\n",
       "idx                                                                     \n",
       "296                 16           DT            4        md16    Mercs   \n",
       "297                 16           DT            4        md16    Mercs   \n",
       "298                 16           DT            4        md16    Mercs   \n",
       "299                 16           DT            4        md16    Mercs   \n",
       "300                 16           DT            4        md16    Mercs   \n",
       "\n",
       "    fit.ind.flatten                                               name  \n",
       "idx                                                                     \n",
       "296             NaN  predict.algo=RW|predict.its=16.0|predict.param...  \n",
       "297             NaN  predict.algo=RW|predict.its=16.0|predict.param...  \n",
       "298             NaN  predict.algo=RW|predict.its=16.0|predict.param...  \n",
       "299             NaN  predict.algo=RW|predict.its=16.0|predict.param...  \n",
       "300             NaN  predict.algo=RW|predict.its=16.0|predict.param...  "
      ]
     },
     "execution_count": 39,
     "metadata": {},
     "output_type": "execute_result"
    }
   ],
   "source": [
    "df_cfg.head()"
   ]
  },
  {
   "cell_type": "code",
   "execution_count": null,
   "metadata": {
    "collapsed": true
   },
   "outputs": [],
   "source": []
  },
  {
   "cell_type": "code",
   "execution_count": 15,
   "metadata": {},
   "outputs": [
    {
     "data": {
      "text/html": [
       "<div>\n",
       "<style scoped>\n",
       "    .dataframe tbody tr th:only-of-type {\n",
       "        vertical-align: middle;\n",
       "    }\n",
       "\n",
       "    .dataframe tbody tr th {\n",
       "        vertical-align: top;\n",
       "    }\n",
       "\n",
       "    .dataframe thead th {\n",
       "        text-align: right;\n",
       "    }\n",
       "</style>\n",
       "<table border=\"1\" class=\"dataframe\">\n",
       "  <thead>\n",
       "    <tr style=\"text-align: right;\">\n",
       "      <th></th>\n",
       "      <th></th>\n",
       "      <th>ind_time</th>\n",
       "      <th>inf_time</th>\n",
       "      <th>dataset</th>\n",
       "      <th>predict.algo</th>\n",
       "      <th>predict.its</th>\n",
       "      <th>predict.param</th>\n",
       "      <th>fit.sel.param</th>\n",
       "      <th>fit.ind.max_depth</th>\n",
       "      <th>fit.ind.type</th>\n",
       "      <th>fit.sel.its</th>\n",
       "      <th>mod.keyword</th>\n",
       "      <th>mod.type</th>\n",
       "      <th>fit.ind.flatten</th>\n",
       "      <th>inf_time_base</th>\n",
       "      <th>inf_time_rel</th>\n",
       "    </tr>\n",
       "    <tr>\n",
       "      <th>idx</th>\n",
       "      <th>name</th>\n",
       "      <th></th>\n",
       "      <th></th>\n",
       "      <th></th>\n",
       "      <th></th>\n",
       "      <th></th>\n",
       "      <th></th>\n",
       "      <th></th>\n",
       "      <th></th>\n",
       "      <th></th>\n",
       "      <th></th>\n",
       "      <th></th>\n",
       "      <th></th>\n",
       "      <th></th>\n",
       "      <th></th>\n",
       "      <th></th>\n",
       "    </tr>\n",
       "  </thead>\n",
       "  <tbody>\n",
       "    <tr>\n",
       "      <th>296</th>\n",
       "      <th>predict.algo=RW|predict.its=16.0</th>\n",
       "      <td>2.645484</td>\n",
       "      <td>0.039692</td>\n",
       "      <td>nltcs</td>\n",
       "      <td>RW</td>\n",
       "      <td>16.0</td>\n",
       "      <td>1.0</td>\n",
       "      <td>2</td>\n",
       "      <td>16</td>\n",
       "      <td>DT</td>\n",
       "      <td>4</td>\n",
       "      <td>md16</td>\n",
       "      <td>Mercs</td>\n",
       "      <td>NaN</td>\n",
       "      <td>0.070153</td>\n",
       "      <td>0.565794</td>\n",
       "    </tr>\n",
       "    <tr>\n",
       "      <th>297</th>\n",
       "      <th>predict.algo=RW|predict.its=16.0</th>\n",
       "      <td>29.564063</td>\n",
       "      <td>0.183264</td>\n",
       "      <td>msnbc</td>\n",
       "      <td>RW</td>\n",
       "      <td>16.0</td>\n",
       "      <td>1.0</td>\n",
       "      <td>2</td>\n",
       "      <td>16</td>\n",
       "      <td>DT</td>\n",
       "      <td>4</td>\n",
       "      <td>md16</td>\n",
       "      <td>Mercs</td>\n",
       "      <td>NaN</td>\n",
       "      <td>0.353498</td>\n",
       "      <td>0.518430</td>\n",
       "    </tr>\n",
       "    <tr>\n",
       "      <th>298</th>\n",
       "      <th>predict.algo=RW|predict.its=16.0</th>\n",
       "      <td>64.346555</td>\n",
       "      <td>0.185694</td>\n",
       "      <td>jester</td>\n",
       "      <td>RW</td>\n",
       "      <td>16.0</td>\n",
       "      <td>1.0</td>\n",
       "      <td>2</td>\n",
       "      <td>16</td>\n",
       "      <td>DT</td>\n",
       "      <td>4</td>\n",
       "      <td>md16</td>\n",
       "      <td>Mercs</td>\n",
       "      <td>NaN</td>\n",
       "      <td>0.292883</td>\n",
       "      <td>0.634022</td>\n",
       "    </tr>\n",
       "    <tr>\n",
       "      <th>299</th>\n",
       "      <th>predict.algo=RW|predict.its=16.0</th>\n",
       "      <td>136.599056</td>\n",
       "      <td>0.383417</td>\n",
       "      <td>kdd</td>\n",
       "      <td>RW</td>\n",
       "      <td>16.0</td>\n",
       "      <td>1.0</td>\n",
       "      <td>2</td>\n",
       "      <td>16</td>\n",
       "      <td>DT</td>\n",
       "      <td>4</td>\n",
       "      <td>md16</td>\n",
       "      <td>Mercs</td>\n",
       "      <td>NaN</td>\n",
       "      <td>0.456529</td>\n",
       "      <td>0.839852</td>\n",
       "    </tr>\n",
       "    <tr>\n",
       "      <th>300</th>\n",
       "      <th>predict.algo=RW|predict.its=16.0</th>\n",
       "      <td>19.191730</td>\n",
       "      <td>0.105925</td>\n",
       "      <td>plants</td>\n",
       "      <td>RW</td>\n",
       "      <td>16.0</td>\n",
       "      <td>1.0</td>\n",
       "      <td>2</td>\n",
       "      <td>16</td>\n",
       "      <td>DT</td>\n",
       "      <td>4</td>\n",
       "      <td>md16</td>\n",
       "      <td>Mercs</td>\n",
       "      <td>NaN</td>\n",
       "      <td>0.190590</td>\n",
       "      <td>0.555774</td>\n",
       "    </tr>\n",
       "  </tbody>\n",
       "</table>\n",
       "</div>"
      ],
      "text/plain": [
       "                                        ind_time  inf_time dataset  \\\n",
       "idx name                                                             \n",
       "296 predict.algo=RW|predict.its=16.0    2.645484  0.039692   nltcs   \n",
       "297 predict.algo=RW|predict.its=16.0   29.564063  0.183264   msnbc   \n",
       "298 predict.algo=RW|predict.its=16.0   64.346555  0.185694  jester   \n",
       "299 predict.algo=RW|predict.its=16.0  136.599056  0.383417     kdd   \n",
       "300 predict.algo=RW|predict.its=16.0   19.191730  0.105925  plants   \n",
       "\n",
       "                                     predict.algo  predict.its  predict.param  \\\n",
       "idx name                                                                        \n",
       "296 predict.algo=RW|predict.its=16.0           RW         16.0            1.0   \n",
       "297 predict.algo=RW|predict.its=16.0           RW         16.0            1.0   \n",
       "298 predict.algo=RW|predict.its=16.0           RW         16.0            1.0   \n",
       "299 predict.algo=RW|predict.its=16.0           RW         16.0            1.0   \n",
       "300 predict.algo=RW|predict.its=16.0           RW         16.0            1.0   \n",
       "\n",
       "                                      fit.sel.param  fit.ind.max_depth  \\\n",
       "idx name                                                                 \n",
       "296 predict.algo=RW|predict.its=16.0              2                 16   \n",
       "297 predict.algo=RW|predict.its=16.0              2                 16   \n",
       "298 predict.algo=RW|predict.its=16.0              2                 16   \n",
       "299 predict.algo=RW|predict.its=16.0              2                 16   \n",
       "300 predict.algo=RW|predict.its=16.0              2                 16   \n",
       "\n",
       "                                     fit.ind.type  fit.sel.its mod.keyword  \\\n",
       "idx name                                                                     \n",
       "296 predict.algo=RW|predict.its=16.0           DT            4        md16   \n",
       "297 predict.algo=RW|predict.its=16.0           DT            4        md16   \n",
       "298 predict.algo=RW|predict.its=16.0           DT            4        md16   \n",
       "299 predict.algo=RW|predict.its=16.0           DT            4        md16   \n",
       "300 predict.algo=RW|predict.its=16.0           DT            4        md16   \n",
       "\n",
       "                                     mod.type fit.ind.flatten  inf_time_base  \\\n",
       "idx name                                                                       \n",
       "296 predict.algo=RW|predict.its=16.0    Mercs             NaN       0.070153   \n",
       "297 predict.algo=RW|predict.its=16.0    Mercs             NaN       0.353498   \n",
       "298 predict.algo=RW|predict.its=16.0    Mercs             NaN       0.292883   \n",
       "299 predict.algo=RW|predict.its=16.0    Mercs             NaN       0.456529   \n",
       "300 predict.algo=RW|predict.its=16.0    Mercs             NaN       0.190590   \n",
       "\n",
       "                                      inf_time_rel  \n",
       "idx name                                            \n",
       "296 predict.algo=RW|predict.its=16.0      0.565794  \n",
       "297 predict.algo=RW|predict.its=16.0      0.518430  \n",
       "298 predict.algo=RW|predict.its=16.0      0.634022  \n",
       "299 predict.algo=RW|predict.its=16.0      0.839852  \n",
       "300 predict.algo=RW|predict.its=16.0      0.555774  "
      ]
     },
     "execution_count": 15,
     "metadata": {},
     "output_type": "execute_result"
    }
   ],
   "source": [
    "df_lpt = build_df_tmg_default(df_tmg,\n",
    "                              df_cfg,\n",
    "                              include_columns=('mod.keyword', 'predict.algo', 'predict.its'),\n",
    "                              baseline=('predict.algo', 'MI') )\n",
    "df_lpt.head()"
   ]
  },
  {
   "cell_type": "code",
   "execution_count": 16,
   "metadata": {},
   "outputs": [
    {
     "data": {
      "text/plain": [
       "array(['predict.algo=RW|predict.its=16.0',\n",
       "       'predict.algo=RW|predict.its=32.0',\n",
       "       'predict.algo=IT|predict.its=2.0',\n",
       "       'predict.algo=IT|predict.its=8.0',\n",
       "       'predict.algo=IT|predict.its=16.0',\n",
       "       'predict.algo=MI|predict.its=0.1',\n",
       "       'predict.algo=MAFI|predict.its=0.1'], dtype=object)"
      ]
     },
     "execution_count": 16,
     "metadata": {},
     "output_type": "execute_result"
    }
   ],
   "source": [
    "df_lpt.index.get_level_values(level='name').unique().values"
   ]
  },
  {
   "cell_type": "markdown",
   "metadata": {},
   "source": [
    "## Plot Config"
   ]
  },
  {
   "cell_type": "markdown",
   "metadata": {
    "heading_collapsed": true
   },
   "source": [
    "### Layout"
   ]
  },
  {
   "cell_type": "code",
   "execution_count": 17,
   "metadata": {
    "collapsed": true,
    "hidden": true
   },
   "outputs": [],
   "source": [
    "graph_style = {'width':             '85%',\n",
    "               'float':             'right',\n",
    "               'z-index':            1,\n",
    "               'position':           'relative',\n",
    "               'margin-bottom':      '2cm'}\n",
    "\n",
    "dropdown_menu_style = {'width':            '14%',\n",
    "                       'backgroundColor':  'rgb(250, 250, 250)',\n",
    "                       'float':            'left',\n",
    "                       'z-index':            0,\n",
    "                       'position':          'relative',\n",
    "                       'border':            '1px solid gray'}\n",
    "\n",
    "slider_menu_style = {'width':             '95%',\n",
    "                     'backgroundColor':  'rgb(250, 250, 250)',\n",
    "                     'float':            'left',\n",
    "                     'margin-left':       '1cm',\n",
    "                     'margin-bottom':     '2cm'}\n",
    "\n",
    "extra_style = {'border':            '1px solid black'}\n",
    "\n",
    "sep = html.Div(style={'clear': 'both'})\n",
    "\n",
    "txt_box_style = {'width':             '25%',\n",
    "                 'float':             'left',\n",
    "                 'z-index':            1,\n",
    "                 'position':           'relative',\n",
    "                 'margin-left':       '2cm',\n",
    "                 'border':            '1px solid gray'}"
   ]
  },
  {
   "cell_type": "markdown",
   "metadata": {
    "heading_collapsed": true
   },
   "source": [
    "### Menus"
   ]
  },
  {
   "cell_type": "markdown",
   "metadata": {
    "heading_collapsed": true,
    "hidden": true
   },
   "source": [
    "#### Dropdown"
   ]
  },
  {
   "cell_type": "code",
   "execution_count": 18,
   "metadata": {
    "collapsed": true,
    "hidden": true
   },
   "outputs": [],
   "source": [
    "# Dropdown Menus\n",
    "perf_dd_menus = generate_dropdown_menus_from_df(df_cfg, ignore_columns=['name'])"
   ]
  },
  {
   "cell_type": "code",
   "execution_count": 19,
   "metadata": {
    "collapsed": true,
    "hidden": true
   },
   "outputs": [],
   "source": [
    "# Extra DropDown menus\n",
    "targ_idx_dd = generate_dropdown_menus_from_df(df_qry, relevant_columns=['t_idx'])\n",
    "show_data_dd = generate_dropdown_menu(\"show_data\", [False, True], labels=['No', 'Yes'], default=0, multi=False)\n",
    "rank_score_dd = generate_dropdown_menu(\"y_field\",\n",
    "                                       ['rank',\n",
    "                                        'score',\n",
    "                                        'aligned_rank',\n",
    "                                        'global_aligned_rank',\n",
    "                                        'global_dataset_aligned_rank'],\n",
    "                                       labels=['Avg. Rank', 'Avg. F1-Score','Aligned Rank','Global Aligned Rank', 'GDS Aligned Rank'],\n",
    "                                       default='score',\n",
    "                                       multi=False)\n",
    "\n",
    "perf_dd_menus.extend(targ_idx_dd)\n",
    "perf_dd_menus.extend(show_data_dd)\n",
    "perf_dd_menus.extend(rank_score_dd)\n",
    "\n",
    "perf_dd_menus = html.Div(perf_dd_menus,\n",
    "                         style=dropdown_menu_style)"
   ]
  },
  {
   "cell_type": "markdown",
   "metadata": {
    "heading_collapsed": true,
    "hidden": true
   },
   "source": [
    "#### Sliders"
   ]
  },
  {
   "cell_type": "code",
   "execution_count": 20,
   "metadata": {
    "collapsed": true,
    "hidden": true
   },
   "outputs": [],
   "source": [
    "perf_sl_menus = generate_slider_menu('perc_miss')\n",
    "perf_sl_menus.extend(generate_slider_menu('base_perf'))\n",
    "\n",
    "perf_sl_menus = html.Div(perf_sl_menus,\n",
    "                         style=slider_menu_style)"
   ]
  },
  {
   "cell_type": "markdown",
   "metadata": {},
   "source": [
    "## Static App"
   ]
  },
  {
   "cell_type": "code",
   "execution_count": 21,
   "metadata": {},
   "outputs": [
    {
     "data": {
      "text/html": [
       "<div>\n",
       "<style scoped>\n",
       "    .dataframe tbody tr th:only-of-type {\n",
       "        vertical-align: middle;\n",
       "    }\n",
       "\n",
       "    .dataframe tbody tr th {\n",
       "        vertical-align: top;\n",
       "    }\n",
       "\n",
       "    .dataframe thead th {\n",
       "        text-align: right;\n",
       "    }\n",
       "</style>\n",
       "<table border=\"1\" class=\"dataframe\">\n",
       "  <thead>\n",
       "    <tr style=\"text-align: right;\">\n",
       "      <th></th>\n",
       "      <th></th>\n",
       "      <th>ind_time</th>\n",
       "      <th>inf_time</th>\n",
       "      <th>dataset</th>\n",
       "      <th>predict.algo</th>\n",
       "      <th>predict.its</th>\n",
       "      <th>predict.param</th>\n",
       "      <th>fit.sel.param</th>\n",
       "      <th>fit.ind.max_depth</th>\n",
       "      <th>fit.ind.type</th>\n",
       "      <th>fit.sel.its</th>\n",
       "      <th>mod.keyword</th>\n",
       "      <th>mod.type</th>\n",
       "      <th>fit.ind.flatten</th>\n",
       "      <th>inf_time_base</th>\n",
       "      <th>inf_time_rel</th>\n",
       "    </tr>\n",
       "    <tr>\n",
       "      <th>idx</th>\n",
       "      <th>name</th>\n",
       "      <th></th>\n",
       "      <th></th>\n",
       "      <th></th>\n",
       "      <th></th>\n",
       "      <th></th>\n",
       "      <th></th>\n",
       "      <th></th>\n",
       "      <th></th>\n",
       "      <th></th>\n",
       "      <th></th>\n",
       "      <th></th>\n",
       "      <th></th>\n",
       "      <th></th>\n",
       "      <th></th>\n",
       "      <th></th>\n",
       "    </tr>\n",
       "  </thead>\n",
       "  <tbody>\n",
       "    <tr>\n",
       "      <th>296</th>\n",
       "      <th>predict.algo=RW|predict.its=16.0</th>\n",
       "      <td>2.645484</td>\n",
       "      <td>0.039692</td>\n",
       "      <td>nltcs</td>\n",
       "      <td>RW</td>\n",
       "      <td>16.0</td>\n",
       "      <td>1.0</td>\n",
       "      <td>2</td>\n",
       "      <td>16</td>\n",
       "      <td>DT</td>\n",
       "      <td>4</td>\n",
       "      <td>md16</td>\n",
       "      <td>Mercs</td>\n",
       "      <td>NaN</td>\n",
       "      <td>0.070153</td>\n",
       "      <td>0.565794</td>\n",
       "    </tr>\n",
       "    <tr>\n",
       "      <th>297</th>\n",
       "      <th>predict.algo=RW|predict.its=16.0</th>\n",
       "      <td>29.564063</td>\n",
       "      <td>0.183264</td>\n",
       "      <td>msnbc</td>\n",
       "      <td>RW</td>\n",
       "      <td>16.0</td>\n",
       "      <td>1.0</td>\n",
       "      <td>2</td>\n",
       "      <td>16</td>\n",
       "      <td>DT</td>\n",
       "      <td>4</td>\n",
       "      <td>md16</td>\n",
       "      <td>Mercs</td>\n",
       "      <td>NaN</td>\n",
       "      <td>0.353498</td>\n",
       "      <td>0.518430</td>\n",
       "    </tr>\n",
       "    <tr>\n",
       "      <th>298</th>\n",
       "      <th>predict.algo=RW|predict.its=16.0</th>\n",
       "      <td>64.346555</td>\n",
       "      <td>0.185694</td>\n",
       "      <td>jester</td>\n",
       "      <td>RW</td>\n",
       "      <td>16.0</td>\n",
       "      <td>1.0</td>\n",
       "      <td>2</td>\n",
       "      <td>16</td>\n",
       "      <td>DT</td>\n",
       "      <td>4</td>\n",
       "      <td>md16</td>\n",
       "      <td>Mercs</td>\n",
       "      <td>NaN</td>\n",
       "      <td>0.292883</td>\n",
       "      <td>0.634022</td>\n",
       "    </tr>\n",
       "    <tr>\n",
       "      <th>299</th>\n",
       "      <th>predict.algo=RW|predict.its=16.0</th>\n",
       "      <td>136.599056</td>\n",
       "      <td>0.383417</td>\n",
       "      <td>kdd</td>\n",
       "      <td>RW</td>\n",
       "      <td>16.0</td>\n",
       "      <td>1.0</td>\n",
       "      <td>2</td>\n",
       "      <td>16</td>\n",
       "      <td>DT</td>\n",
       "      <td>4</td>\n",
       "      <td>md16</td>\n",
       "      <td>Mercs</td>\n",
       "      <td>NaN</td>\n",
       "      <td>0.456529</td>\n",
       "      <td>0.839852</td>\n",
       "    </tr>\n",
       "    <tr>\n",
       "      <th>300</th>\n",
       "      <th>predict.algo=RW|predict.its=16.0</th>\n",
       "      <td>19.191730</td>\n",
       "      <td>0.105925</td>\n",
       "      <td>plants</td>\n",
       "      <td>RW</td>\n",
       "      <td>16.0</td>\n",
       "      <td>1.0</td>\n",
       "      <td>2</td>\n",
       "      <td>16</td>\n",
       "      <td>DT</td>\n",
       "      <td>4</td>\n",
       "      <td>md16</td>\n",
       "      <td>Mercs</td>\n",
       "      <td>NaN</td>\n",
       "      <td>0.190590</td>\n",
       "      <td>0.555774</td>\n",
       "    </tr>\n",
       "  </tbody>\n",
       "</table>\n",
       "</div>"
      ],
      "text/plain": [
       "                                        ind_time  inf_time dataset  \\\n",
       "idx name                                                             \n",
       "296 predict.algo=RW|predict.its=16.0    2.645484  0.039692   nltcs   \n",
       "297 predict.algo=RW|predict.its=16.0   29.564063  0.183264   msnbc   \n",
       "298 predict.algo=RW|predict.its=16.0   64.346555  0.185694  jester   \n",
       "299 predict.algo=RW|predict.its=16.0  136.599056  0.383417     kdd   \n",
       "300 predict.algo=RW|predict.its=16.0   19.191730  0.105925  plants   \n",
       "\n",
       "                                     predict.algo  predict.its  predict.param  \\\n",
       "idx name                                                                        \n",
       "296 predict.algo=RW|predict.its=16.0           RW         16.0            1.0   \n",
       "297 predict.algo=RW|predict.its=16.0           RW         16.0            1.0   \n",
       "298 predict.algo=RW|predict.its=16.0           RW         16.0            1.0   \n",
       "299 predict.algo=RW|predict.its=16.0           RW         16.0            1.0   \n",
       "300 predict.algo=RW|predict.its=16.0           RW         16.0            1.0   \n",
       "\n",
       "                                      fit.sel.param  fit.ind.max_depth  \\\n",
       "idx name                                                                 \n",
       "296 predict.algo=RW|predict.its=16.0              2                 16   \n",
       "297 predict.algo=RW|predict.its=16.0              2                 16   \n",
       "298 predict.algo=RW|predict.its=16.0              2                 16   \n",
       "299 predict.algo=RW|predict.its=16.0              2                 16   \n",
       "300 predict.algo=RW|predict.its=16.0              2                 16   \n",
       "\n",
       "                                     fit.ind.type  fit.sel.its mod.keyword  \\\n",
       "idx name                                                                     \n",
       "296 predict.algo=RW|predict.its=16.0           DT            4        md16   \n",
       "297 predict.algo=RW|predict.its=16.0           DT            4        md16   \n",
       "298 predict.algo=RW|predict.its=16.0           DT            4        md16   \n",
       "299 predict.algo=RW|predict.its=16.0           DT            4        md16   \n",
       "300 predict.algo=RW|predict.its=16.0           DT            4        md16   \n",
       "\n",
       "                                     mod.type fit.ind.flatten  inf_time_base  \\\n",
       "idx name                                                                       \n",
       "296 predict.algo=RW|predict.its=16.0    Mercs             NaN       0.070153   \n",
       "297 predict.algo=RW|predict.its=16.0    Mercs             NaN       0.353498   \n",
       "298 predict.algo=RW|predict.its=16.0    Mercs             NaN       0.292883   \n",
       "299 predict.algo=RW|predict.its=16.0    Mercs             NaN       0.456529   \n",
       "300 predict.algo=RW|predict.its=16.0    Mercs             NaN       0.190590   \n",
       "\n",
       "                                      inf_time_rel  \n",
       "idx name                                            \n",
       "296 predict.algo=RW|predict.its=16.0      0.565794  \n",
       "297 predict.algo=RW|predict.its=16.0      0.518430  \n",
       "298 predict.algo=RW|predict.its=16.0      0.634022  \n",
       "299 predict.algo=RW|predict.its=16.0      0.839852  \n",
       "300 predict.algo=RW|predict.its=16.0      0.555774  "
      ]
     },
     "execution_count": 21,
     "metadata": {},
     "output_type": "execute_result"
    }
   ],
   "source": [
    "df_lpt.head()"
   ]
  },
  {
   "cell_type": "code",
   "execution_count": 22,
   "metadata": {
    "collapsed": true
   },
   "outputs": [],
   "source": [
    "scatterplot_fig = generate_graph(df_lpt,\n",
    "                                 kind='scatter',\n",
    "                                 x_field='dataset',\n",
    "                                 y_field='inf_time_rel')\n",
    "\n",
    "perf_graph = dcc.Graph(id='scatterplot', \n",
    "                       figure=scatterplot_fig)\n",
    "\n",
    "stat_perf_contents = html.Div([perf_graph],\n",
    "                              style=graph_style)"
   ]
  },
  {
   "cell_type": "markdown",
   "metadata": {},
   "source": [
    "## Dynamic App\n",
    "\n",
    "Re-uses some stuff from the static configuration."
   ]
  },
  {
   "cell_type": "markdown",
   "metadata": {},
   "source": [
    "### Initialization"
   ]
  },
  {
   "cell_type": "code",
   "execution_count": 23,
   "metadata": {
    "collapsed": true
   },
   "outputs": [],
   "source": [
    "dyn_perf_contents = [perf_dd_menus,\n",
    "                     stat_perf_contents,\n",
    "                     sep,\n",
    "                     perf_sl_menus]"
   ]
  },
  {
   "cell_type": "code",
   "execution_count": 24,
   "metadata": {
    "collapsed": true
   },
   "outputs": [],
   "source": [
    "# Init App.\n",
    "app = dash.Dash()\n",
    "app.layout = html.Div(dyn_perf_contents)"
   ]
  },
  {
   "cell_type": "code",
   "execution_count": 25,
   "metadata": {
    "collapsed": true
   },
   "outputs": [],
   "source": [
    "menu_inputs, menu_names = extract_menu_inputs_menu_names_from_layout(app.layout)\n",
    "#menu_names"
   ]
  },
  {
   "cell_type": "markdown",
   "metadata": {},
   "source": [
    "### Main Callback\n",
    "\n",
    "This callback method needs to handle everything at once."
   ]
  },
  {
   "cell_type": "code",
   "execution_count": 26,
   "metadata": {
    "collapsed": true
   },
   "outputs": [],
   "source": [
    "@app.callback(\n",
    "    Output('scatterplot', 'figure'),\n",
    "    menu_inputs)\n",
    "def update_lineplot(*args):\n",
    "    \n",
    "    menus = zip(menu_names, args)\n",
    "\n",
    "    lineplot_fig = figure = generate_graph(df_lpt,\n",
    "                                       kind='scatter',\n",
    "                                       x_field='dataset',\n",
    "                                       y_field='inf_time_rel')\n",
    "    \n",
    "    return lineplot_fig"
   ]
  },
  {
   "cell_type": "markdown",
   "metadata": {},
   "source": [
    "### Run App\n",
    "\n",
    "Run the actual browser applet."
   ]
  },
  {
   "cell_type": "code",
   "execution_count": 27,
   "metadata": {},
   "outputs": [
    {
     "name": "stderr",
     "output_type": "stream",
     "text": [
      " * Running on http://127.0.0.1:8886/ (Press CTRL+C to quit)\n"
     ]
    }
   ],
   "source": [
    "app.run_server(port=8886)"
   ]
  }
 ],
 "metadata": {
  "kernelspec": {
   "display_name": "Python [default]",
   "language": "python",
   "name": "python3"
  },
  "language_info": {
   "codemirror_mode": {
    "name": "ipython",
    "version": 3
   },
   "file_extension": ".py",
   "mimetype": "text/x-python",
   "name": "python",
   "nbconvert_exporter": "python",
   "pygments_lexer": "ipython3",
   "version": "3.6.8"
  },
  "toc": {
   "nav_menu": {},
   "number_sections": true,
   "sideBar": true,
   "skip_h1_title": true,
   "toc_cell": false,
   "toc_position": {
    "height": "calc(100% - 180px)",
    "left": "10px",
    "top": "150px",
    "width": "241px"
   },
   "toc_section_display": "block",
   "toc_window_display": true
  }
 },
 "nbformat": 4,
 "nbformat_minor": 2
}
