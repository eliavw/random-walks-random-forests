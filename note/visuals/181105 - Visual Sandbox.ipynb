{
 "cells": [
  {
   "cell_type": "markdown",
   "metadata": {},
   "source": [
    "# Visualization sandbox\n",
    "\n",
    "First notebook in which I try to visualize my new datastructures."
   ]
  },
  {
   "cell_type": "markdown",
   "metadata": {
    "heading_collapsed": true
   },
   "source": [
    "## Imports"
   ]
  },
  {
   "cell_type": "code",
   "execution_count": 1,
   "metadata": {
    "collapsed": true,
    "hidden": true
   },
   "outputs": [],
   "source": [
    "# Imports\n",
    "import os\n",
    "import numpy as np\n",
    "import pandas as pd\n",
    "import json\n",
    "import sys\n",
    "import pickle as pkl\n",
    "import warnings\n",
    "\n",
    "from os.path import dirname"
   ]
  },
  {
   "cell_type": "code",
   "execution_count": 2,
   "metadata": {
    "collapsed": true,
    "hidden": true
   },
   "outputs": [],
   "source": [
    "# Custom\n",
    "\n",
    "root_dir = dirname(dirname(os.getcwd()))\n",
    "src_dir = os.path.join(root_dir, 'src')\n",
    "sys.path.append(src_dir)\n",
    "\n",
    "import exp\n",
    "from exp.utils.extra import mem_usage\n",
    "from exp.runner.RunExp import RunExp\n",
    "from exp.runner.RunMercs import RunMercs"
   ]
  },
  {
   "cell_type": "markdown",
   "metadata": {
    "heading_collapsed": true
   },
   "source": [
    "## Methods"
   ]
  },
  {
   "cell_type": "code",
   "execution_count": 3,
   "metadata": {
    "code_folding": [
     0,
     15
    ],
    "hidden": true
   },
   "outputs": [],
   "source": [
    "def merge_aggregated_outputs_multiple_exps(exp_idxs, **kwargs):\n",
    "    \"\"\"\n",
    "    Merge aggregated outputs from multiple experiments.\n",
    "    \"\"\"\n",
    "    \n",
    "    f = collect_aggregated_outputs_from_exp\n",
    "    \n",
    "    gen = (f(exp_idx, **kwargs) for exp_idx in exp_idxs)\n",
    "    \n",
    "    result = {}\n",
    "    for g in gen:\n",
    "        result = {k: pd.concat([result.get(k, None),v], sort=False)\n",
    "                  for k,v in g.items()}    \n",
    "    return result\n",
    "\n",
    "def collect_aggregated_outputs_from_exp(exp_idx, **kwargs):\n",
    "    \"\"\"\n",
    "    Load the aggregated outputs by a single experiment.\n",
    "    \"\"\"\n",
    "    \n",
    "    # Preliminaries\n",
    "    dfs = {}\n",
    "    \n",
    "    # Actions\n",
    "    re = RunExp.load(idx=exp_idx, **kwargs)\n",
    "    for output in re.aggr_outputs:\n",
    "        dfs[output] = re.load_output(kind=output)\n",
    "    return dfs"
   ]
  },
  {
   "cell_type": "code",
   "execution_count": 4,
   "metadata": {
    "hidden": true
   },
   "outputs": [],
   "source": [
    "# Transformation 0\n",
    "def insert_category_dtype(df):\n",
    "    for col in df:\n",
    "        if not pd.api.types.is_numeric_dtype(df[col].dtype):\n",
    "            df[col] = df[col].astype('category')\n",
    "        else:\n",
    "            pass\n",
    "    return df"
   ]
  },
  {
   "cell_type": "code",
   "execution_count": 5,
   "metadata": {
    "collapsed": true,
    "hidden": true
   },
   "outputs": [],
   "source": [
    "# Transformation 1\n",
    "def build_f_dict(df):\n",
    "    f_dict = {col:np.mean \n",
    "                  if pd.api.types.is_numeric_dtype(df[col])\n",
    "                  else 'first'\n",
    "              for col in df}\n",
    "    return f_dict"
   ]
  },
  {
   "cell_type": "code",
   "execution_count": 6,
   "metadata": {
    "code_folding": [
     30,
     41,
     56
    ],
    "collapsed": true,
    "hidden": true
   },
   "outputs": [],
   "source": [
    "# Transformation 2\n",
    "def insert_targ_idx_column(df):\n",
    "    df['t_idx'] = df.targ.cat.codes\n",
    "    return df\n",
    "\n",
    "\n",
    "def insert_base_perf_column(df, column_name='macro_f1'):\n",
    "    def f(row):\n",
    "        return row[column_name] * 100 if row['perc_miss'] <= 0.01 else np.nan\n",
    "\n",
    "    df['base_perf'] = df.apply(f, axis=1)\n",
    "\n",
    "    df.fillna(method='ffill', inplace=True)\n",
    "    return df\n",
    "\n",
    "\n",
    "def insert_name_column(df, **format_key_kwargs):\n",
    "    \"\"\"\n",
    "    Insert the canonical name column in the dataframe\n",
    "    \n",
    "    \"\"\"\n",
    "    \n",
    "    df['name'] = df.apply(lambda x: derive_name(x,\n",
    "                                                drop_dataset=True,\n",
    "                                                **format_key_kwargs),\n",
    "                          axis=1)\n",
    "    return df\n",
    "\n",
    "\n",
    "# Helpers - Insert Name Column\n",
    "def format_key(k, retain=2, delimiter='.', **kwargs):\n",
    "    l = k.split(delimiter)\n",
    "\n",
    "    if len(l) > retain:\n",
    "        l = l[-retain:]\n",
    "\n",
    "    formatted_key = delimiter.join(l)\n",
    "\n",
    "    return formatted_key\n",
    "\n",
    "\n",
    "def dict_to_str(d):\n",
    "    s = str(d)\n",
    "\n",
    "    for char in {\"{\", \"}\", \"'\"}:\n",
    "        s = s.replace(char, \"\")\n",
    "\n",
    "    for char in {\", \"}:\n",
    "        s = s.replace(char, \"|\")\n",
    "\n",
    "    for char in {\": \"}:\n",
    "        s = s.replace(char, \"=\")\n",
    "        \n",
    "    return s\n",
    "\n",
    "\n",
    "def derive_name(row, drop_dataset=True, **format_key_kwargs):\n",
    "    keys = row.index.values.tolist()\n",
    "    vals = row.values.tolist()\n",
    "    \n",
    "    d = {format_key(k, **format_key_kwargs): v\n",
    "         for k,v in zip(keys,vals)}\n",
    "    \n",
    "    if drop_dataset:\n",
    "        d.pop('dataset', None)\n",
    "        \n",
    "    name = dict_to_str(d)\n",
    "    return name\n"
   ]
  },
  {
   "cell_type": "markdown",
   "metadata": {
    "collapsed": true
   },
   "source": [
    "## Factory Floor\n",
    "\n",
    "Testing Area"
   ]
  },
  {
   "cell_type": "code",
   "execution_count": 7,
   "metadata": {},
   "outputs": [],
   "source": [
    "exp_idxs = [1]\n",
    "dfs = merge_aggregated_outputs_multiple_exps(exp_idxs)"
   ]
  },
  {
   "cell_type": "markdown",
   "metadata": {},
   "source": [
    "### Transformation Zero\n",
    "\n",
    "Convert all non-numeric columns to categories (after all, that is what they are)."
   ]
  },
  {
   "cell_type": "code",
   "execution_count": 8,
   "metadata": {},
   "outputs": [
    {
     "name": "stdout",
     "output_type": "stream",
     "text": [
      "\n",
      "    Inserting category dtypes into: timings\n",
      "    \n",
      "\n",
      "    6.72 kiloB\n",
      "    \n",
      "\n",
      "    6.72 kiloB\n",
      "    \n",
      "\n",
      "    Inserting category dtypes into: mod_config\n",
      "    \n",
      "\n",
      "    1.60 kiloB\n",
      "    \n",
      "\n",
      "    0.77 kiloB\n",
      "    \n",
      "\n",
      "    Inserting category dtypes into: results\n",
      "    \n",
      "\n",
      "    4.15 kiloB\n",
      "    \n",
      "\n",
      "    4.15 kiloB\n",
      "    \n",
      "\n",
      "    Inserting category dtypes into: qry_codes\n",
      "    \n",
      "\n",
      "    17.04 kiloB\n",
      "    \n",
      "\n",
      "    8.92 kiloB\n",
      "    \n"
     ]
    }
   ],
   "source": [
    "for k,v in dfs.items():\n",
    "    msg = \"\"\"\n",
    "    Inserting category dtypes into: {}\n",
    "    \"\"\".format(k)\n",
    "    print(msg)\n",
    "    mem_usage(v)\n",
    "    dfs[k] = insert_category_dtype(v)\n",
    "    mem_usage(dfs[k])"
   ]
  },
  {
   "cell_type": "markdown",
   "metadata": {},
   "source": [
    "### Transformation One\n",
    "\n",
    "Average over folds, removing one level of multi-index."
   ]
  },
  {
   "cell_type": "code",
   "execution_count": 9,
   "metadata": {},
   "outputs": [
    {
     "name": "stdout",
     "output_type": "stream",
     "text": [
      "\n",
      "    4.15 kiloB\n",
      "    \n"
     ]
    },
    {
     "data": {
      "text/html": [
       "<div>\n",
       "<style scoped>\n",
       "    .dataframe tbody tr th:only-of-type {\n",
       "        vertical-align: middle;\n",
       "    }\n",
       "\n",
       "    .dataframe tbody tr th {\n",
       "        vertical-align: top;\n",
       "    }\n",
       "\n",
       "    .dataframe thead th {\n",
       "        text-align: right;\n",
       "    }\n",
       "</style>\n",
       "<table border=\"1\" class=\"dataframe\">\n",
       "  <thead>\n",
       "    <tr style=\"text-align: right;\">\n",
       "      <th></th>\n",
       "      <th></th>\n",
       "      <th></th>\n",
       "      <th>macro_f1</th>\n",
       "    </tr>\n",
       "    <tr>\n",
       "      <th>idx</th>\n",
       "      <th>f_idx</th>\n",
       "      <th>q_idx</th>\n",
       "      <th></th>\n",
       "    </tr>\n",
       "  </thead>\n",
       "  <tbody>\n",
       "    <tr>\n",
       "      <th rowspan=\"5\" valign=\"top\">10</th>\n",
       "      <th rowspan=\"5\" valign=\"top\">0</th>\n",
       "      <th>0</th>\n",
       "      <td>0.768758</td>\n",
       "    </tr>\n",
       "    <tr>\n",
       "      <th>1</th>\n",
       "      <td>0.775196</td>\n",
       "    </tr>\n",
       "    <tr>\n",
       "      <th>2</th>\n",
       "      <td>0.775028</td>\n",
       "    </tr>\n",
       "    <tr>\n",
       "      <th>3</th>\n",
       "      <td>0.816400</td>\n",
       "    </tr>\n",
       "    <tr>\n",
       "      <th>4</th>\n",
       "      <td>0.813912</td>\n",
       "    </tr>\n",
       "  </tbody>\n",
       "</table>\n",
       "</div>"
      ],
      "text/plain": [
       "                 macro_f1\n",
       "idx f_idx q_idx          \n",
       "10  0     0      0.768758\n",
       "          1      0.775196\n",
       "          2      0.775028\n",
       "          3      0.816400\n",
       "          4      0.813912"
      ]
     },
     "execution_count": 9,
     "metadata": {},
     "output_type": "execute_result"
    }
   ],
   "source": [
    "df_res = dfs['results']\n",
    "mem_usage(df_res)\n",
    "df_res.head()"
   ]
  },
  {
   "cell_type": "code",
   "execution_count": 10,
   "metadata": {},
   "outputs": [
    {
     "name": "stdout",
     "output_type": "stream",
     "text": [
      "\n",
      "    1.15 kiloB\n",
      "    \n"
     ]
    },
    {
     "data": {
      "text/html": [
       "<div>\n",
       "<style scoped>\n",
       "    .dataframe tbody tr th:only-of-type {\n",
       "        vertical-align: middle;\n",
       "    }\n",
       "\n",
       "    .dataframe tbody tr th {\n",
       "        vertical-align: top;\n",
       "    }\n",
       "\n",
       "    .dataframe thead th {\n",
       "        text-align: right;\n",
       "    }\n",
       "</style>\n",
       "<table border=\"1\" class=\"dataframe\">\n",
       "  <thead>\n",
       "    <tr style=\"text-align: right;\">\n",
       "      <th></th>\n",
       "      <th></th>\n",
       "      <th>macro_f1</th>\n",
       "    </tr>\n",
       "    <tr>\n",
       "      <th>idx</th>\n",
       "      <th>q_idx</th>\n",
       "      <th></th>\n",
       "    </tr>\n",
       "  </thead>\n",
       "  <tbody>\n",
       "    <tr>\n",
       "      <th rowspan=\"5\" valign=\"top\">10</th>\n",
       "      <th>0</th>\n",
       "      <td>0.770414</td>\n",
       "    </tr>\n",
       "    <tr>\n",
       "      <th>1</th>\n",
       "      <td>0.776917</td>\n",
       "    </tr>\n",
       "    <tr>\n",
       "      <th>2</th>\n",
       "      <td>0.779902</td>\n",
       "    </tr>\n",
       "    <tr>\n",
       "      <th>3</th>\n",
       "      <td>0.812266</td>\n",
       "    </tr>\n",
       "    <tr>\n",
       "      <th>4</th>\n",
       "      <td>0.815355</td>\n",
       "    </tr>\n",
       "  </tbody>\n",
       "</table>\n",
       "</div>"
      ],
      "text/plain": [
       "           macro_f1\n",
       "idx q_idx          \n",
       "10  0      0.770414\n",
       "    1      0.776917\n",
       "    2      0.779902\n",
       "    3      0.812266\n",
       "    4      0.815355"
      ]
     },
     "execution_count": 10,
     "metadata": {},
     "output_type": "execute_result"
    }
   ],
   "source": [
    "f_dict = build_f_dict(df_res)\n",
    "df_res = df_res.groupby(level=['idx', 'q_idx']).agg(f_dict)\n",
    "\n",
    "mem_usage(df_res)\n",
    "df_res.head()"
   ]
  },
  {
   "cell_type": "code",
   "execution_count": 11,
   "metadata": {},
   "outputs": [
    {
     "name": "stdout",
     "output_type": "stream",
     "text": [
      "\n",
      "    8.92 kiloB\n",
      "    \n"
     ]
    },
    {
     "data": {
      "text/html": [
       "<div>\n",
       "<style scoped>\n",
       "    .dataframe tbody tr th:only-of-type {\n",
       "        vertical-align: middle;\n",
       "    }\n",
       "\n",
       "    .dataframe tbody tr th {\n",
       "        vertical-align: top;\n",
       "    }\n",
       "\n",
       "    .dataframe thead th {\n",
       "        text-align: right;\n",
       "    }\n",
       "</style>\n",
       "<table border=\"1\" class=\"dataframe\">\n",
       "  <thead>\n",
       "    <tr style=\"text-align: right;\">\n",
       "      <th></th>\n",
       "      <th></th>\n",
       "      <th></th>\n",
       "      <th>targ</th>\n",
       "      <th>perc_miss</th>\n",
       "    </tr>\n",
       "    <tr>\n",
       "      <th>idx</th>\n",
       "      <th>f_idx</th>\n",
       "      <th>q_idx</th>\n",
       "      <th></th>\n",
       "      <th></th>\n",
       "    </tr>\n",
       "  </thead>\n",
       "  <tbody>\n",
       "    <tr>\n",
       "      <th rowspan=\"5\" valign=\"top\">10</th>\n",
       "      <th rowspan=\"5\" valign=\"top\">0</th>\n",
       "      <th>0</th>\n",
       "      <td>(0,)</td>\n",
       "      <td>0.0</td>\n",
       "    </tr>\n",
       "    <tr>\n",
       "      <th>1</th>\n",
       "      <td>(1,)</td>\n",
       "      <td>0.0</td>\n",
       "    </tr>\n",
       "    <tr>\n",
       "      <th>2</th>\n",
       "      <td>(2,)</td>\n",
       "      <td>0.0</td>\n",
       "    </tr>\n",
       "    <tr>\n",
       "      <th>3</th>\n",
       "      <td>(3,)</td>\n",
       "      <td>0.0</td>\n",
       "    </tr>\n",
       "    <tr>\n",
       "      <th>4</th>\n",
       "      <td>(4,)</td>\n",
       "      <td>0.0</td>\n",
       "    </tr>\n",
       "  </tbody>\n",
       "</table>\n",
       "</div>"
      ],
      "text/plain": [
       "                 targ  perc_miss\n",
       "idx f_idx q_idx                 \n",
       "10  0     0      (0,)        0.0\n",
       "          1      (1,)        0.0\n",
       "          2      (2,)        0.0\n",
       "          3      (3,)        0.0\n",
       "          4      (4,)        0.0"
      ]
     },
     "execution_count": 11,
     "metadata": {},
     "output_type": "execute_result"
    }
   ],
   "source": [
    "df_qry = dfs['qry_codes']\n",
    "mem_usage(df_qry)\n",
    "df_qry.head()"
   ]
  },
  {
   "cell_type": "code",
   "execution_count": 12,
   "metadata": {},
   "outputs": [
    {
     "data": {
      "text/plain": [
       "targ         category\n",
       "perc_miss     float64\n",
       "dtype: object"
      ]
     },
     "execution_count": 12,
     "metadata": {},
     "output_type": "execute_result"
    }
   ],
   "source": [
    "df_qry.dtypes"
   ]
  },
  {
   "cell_type": "code",
   "execution_count": 13,
   "metadata": {},
   "outputs": [
    {
     "name": "stdout",
     "output_type": "stream",
     "text": [
      "\n",
      "    3.73 kiloB\n",
      "    \n"
     ]
    },
    {
     "data": {
      "text/html": [
       "<div>\n",
       "<style scoped>\n",
       "    .dataframe tbody tr th:only-of-type {\n",
       "        vertical-align: middle;\n",
       "    }\n",
       "\n",
       "    .dataframe tbody tr th {\n",
       "        vertical-align: top;\n",
       "    }\n",
       "\n",
       "    .dataframe thead th {\n",
       "        text-align: right;\n",
       "    }\n",
       "</style>\n",
       "<table border=\"1\" class=\"dataframe\">\n",
       "  <thead>\n",
       "    <tr style=\"text-align: right;\">\n",
       "      <th></th>\n",
       "      <th></th>\n",
       "      <th>targ</th>\n",
       "      <th>perc_miss</th>\n",
       "    </tr>\n",
       "    <tr>\n",
       "      <th>idx</th>\n",
       "      <th>q_idx</th>\n",
       "      <th></th>\n",
       "      <th></th>\n",
       "    </tr>\n",
       "  </thead>\n",
       "  <tbody>\n",
       "    <tr>\n",
       "      <th rowspan=\"5\" valign=\"top\">10</th>\n",
       "      <th>0</th>\n",
       "      <td>(0,)</td>\n",
       "      <td>0.0</td>\n",
       "    </tr>\n",
       "    <tr>\n",
       "      <th>1</th>\n",
       "      <td>(1,)</td>\n",
       "      <td>0.0</td>\n",
       "    </tr>\n",
       "    <tr>\n",
       "      <th>2</th>\n",
       "      <td>(2,)</td>\n",
       "      <td>0.0</td>\n",
       "    </tr>\n",
       "    <tr>\n",
       "      <th>3</th>\n",
       "      <td>(3,)</td>\n",
       "      <td>0.0</td>\n",
       "    </tr>\n",
       "    <tr>\n",
       "      <th>4</th>\n",
       "      <td>(4,)</td>\n",
       "      <td>0.0</td>\n",
       "    </tr>\n",
       "  </tbody>\n",
       "</table>\n",
       "</div>"
      ],
      "text/plain": [
       "           targ  perc_miss\n",
       "idx q_idx                 \n",
       "10  0      (0,)        0.0\n",
       "    1      (1,)        0.0\n",
       "    2      (2,)        0.0\n",
       "    3      (3,)        0.0\n",
       "    4      (4,)        0.0"
      ]
     },
     "execution_count": 13,
     "metadata": {},
     "output_type": "execute_result"
    }
   ],
   "source": [
    "f_dict = build_f_dict(df_qry)\n",
    "df_qry = df_qry.groupby(level=['idx', 'q_idx']).agg(f_dict)\n",
    "\n",
    "mem_usage(df_qry)\n",
    "df_qry.head()"
   ]
  },
  {
   "cell_type": "code",
   "execution_count": 14,
   "metadata": {},
   "outputs": [
    {
     "data": {
      "text/plain": [
       "targ          object\n",
       "perc_miss    float64\n",
       "dtype: object"
      ]
     },
     "execution_count": 14,
     "metadata": {},
     "output_type": "execute_result"
    }
   ],
   "source": [
    "df_qry.dtypes"
   ]
  },
  {
   "cell_type": "code",
   "execution_count": 15,
   "metadata": {},
   "outputs": [
    {
     "name": "stdout",
     "output_type": "stream",
     "text": [
      "\n",
      "    0.77 kiloB\n",
      "    \n"
     ]
    },
    {
     "data": {
      "text/html": [
       "<div>\n",
       "<style scoped>\n",
       "    .dataframe tbody tr th:only-of-type {\n",
       "        vertical-align: middle;\n",
       "    }\n",
       "\n",
       "    .dataframe tbody tr th {\n",
       "        vertical-align: top;\n",
       "    }\n",
       "\n",
       "    .dataframe thead th {\n",
       "        text-align: right;\n",
       "    }\n",
       "</style>\n",
       "<table border=\"1\" class=\"dataframe\">\n",
       "  <thead>\n",
       "    <tr style=\"text-align: right;\">\n",
       "      <th></th>\n",
       "      <th></th>\n",
       "      <th>dataset</th>\n",
       "      <th>ind.type</th>\n",
       "      <th>ind.max_depth</th>\n",
       "      <th>sel.its</th>\n",
       "      <th>sel.param</th>\n",
       "    </tr>\n",
       "    <tr>\n",
       "      <th>idx</th>\n",
       "      <th>f_idx</th>\n",
       "      <th></th>\n",
       "      <th></th>\n",
       "      <th></th>\n",
       "      <th></th>\n",
       "      <th></th>\n",
       "    </tr>\n",
       "  </thead>\n",
       "  <tbody>\n",
       "    <tr>\n",
       "      <th rowspan=\"5\" valign=\"top\">10</th>\n",
       "      <th>0</th>\n",
       "      <td>nltcs</td>\n",
       "      <td>DT</td>\n",
       "      <td>8</td>\n",
       "      <td>4</td>\n",
       "      <td>2</td>\n",
       "    </tr>\n",
       "    <tr>\n",
       "      <th>1</th>\n",
       "      <td>nltcs</td>\n",
       "      <td>DT</td>\n",
       "      <td>8</td>\n",
       "      <td>4</td>\n",
       "      <td>2</td>\n",
       "    </tr>\n",
       "    <tr>\n",
       "      <th>2</th>\n",
       "      <td>nltcs</td>\n",
       "      <td>DT</td>\n",
       "      <td>8</td>\n",
       "      <td>4</td>\n",
       "      <td>2</td>\n",
       "    </tr>\n",
       "    <tr>\n",
       "      <th>3</th>\n",
       "      <td>nltcs</td>\n",
       "      <td>DT</td>\n",
       "      <td>8</td>\n",
       "      <td>4</td>\n",
       "      <td>2</td>\n",
       "    </tr>\n",
       "    <tr>\n",
       "      <th>4</th>\n",
       "      <td>nltcs</td>\n",
       "      <td>DT</td>\n",
       "      <td>8</td>\n",
       "      <td>4</td>\n",
       "      <td>2</td>\n",
       "    </tr>\n",
       "  </tbody>\n",
       "</table>\n",
       "</div>"
      ],
      "text/plain": [
       "          dataset ind.type  ind.max_depth  sel.its  sel.param\n",
       "idx f_idx                                                    \n",
       "10  0       nltcs       DT              8        4          2\n",
       "    1       nltcs       DT              8        4          2\n",
       "    2       nltcs       DT              8        4          2\n",
       "    3       nltcs       DT              8        4          2\n",
       "    4       nltcs       DT              8        4          2"
      ]
     },
     "execution_count": 15,
     "metadata": {},
     "output_type": "execute_result"
    }
   ],
   "source": [
    "df_cfg = dfs['mod_config']\n",
    "mem_usage(df_cfg)\n",
    "df_cfg.head()"
   ]
  },
  {
   "cell_type": "code",
   "execution_count": 16,
   "metadata": {},
   "outputs": [
    {
     "name": "stdout",
     "output_type": "stream",
     "text": [
      "\n",
      "    0.30 kiloB\n",
      "    \n"
     ]
    },
    {
     "data": {
      "text/html": [
       "<div>\n",
       "<style scoped>\n",
       "    .dataframe tbody tr th:only-of-type {\n",
       "        vertical-align: middle;\n",
       "    }\n",
       "\n",
       "    .dataframe tbody tr th {\n",
       "        vertical-align: top;\n",
       "    }\n",
       "\n",
       "    .dataframe thead th {\n",
       "        text-align: right;\n",
       "    }\n",
       "</style>\n",
       "<table border=\"1\" class=\"dataframe\">\n",
       "  <thead>\n",
       "    <tr style=\"text-align: right;\">\n",
       "      <th></th>\n",
       "      <th>dataset</th>\n",
       "      <th>ind.type</th>\n",
       "      <th>ind.max_depth</th>\n",
       "      <th>sel.its</th>\n",
       "      <th>sel.param</th>\n",
       "    </tr>\n",
       "    <tr>\n",
       "      <th>idx</th>\n",
       "      <th></th>\n",
       "      <th></th>\n",
       "      <th></th>\n",
       "      <th></th>\n",
       "      <th></th>\n",
       "    </tr>\n",
       "  </thead>\n",
       "  <tbody>\n",
       "    <tr>\n",
       "      <th>10</th>\n",
       "      <td>nltcs</td>\n",
       "      <td>DT</td>\n",
       "      <td>8</td>\n",
       "      <td>4</td>\n",
       "      <td>2</td>\n",
       "    </tr>\n",
       "    <tr>\n",
       "      <th>11</th>\n",
       "      <td>jester</td>\n",
       "      <td>DT</td>\n",
       "      <td>8</td>\n",
       "      <td>4</td>\n",
       "      <td>2</td>\n",
       "    </tr>\n",
       "  </tbody>\n",
       "</table>\n",
       "</div>"
      ],
      "text/plain": [
       "    dataset ind.type  ind.max_depth  sel.its  sel.param\n",
       "idx                                                    \n",
       "10    nltcs       DT              8        4          2\n",
       "11   jester       DT              8        4          2"
      ]
     },
     "execution_count": 16,
     "metadata": {},
     "output_type": "execute_result"
    }
   ],
   "source": [
    "f_dict = build_f_dict(df_cfg)\n",
    "df_cfg = df_cfg.groupby(level=['idx']).agg(f_dict)\n",
    "\n",
    "mem_usage(df_cfg)\n",
    "df_cfg.head()"
   ]
  },
  {
   "cell_type": "markdown",
   "metadata": {},
   "source": [
    "### Transformation Two\n",
    "\n",
    "Add targ_idx to the query DataFrame."
   ]
  },
  {
   "cell_type": "code",
   "execution_count": 17,
   "metadata": {},
   "outputs": [
    {
     "name": "stdout",
     "output_type": "stream",
     "text": [
      "\n",
      "    3.73 kiloB\n",
      "    \n",
      "\n",
      "    5.67 kiloB\n",
      "    \n"
     ]
    }
   ],
   "source": [
    "mem_usage(df_qry)\n",
    "insert_category_dtype(df_qry)\n",
    "mem_usage(df_qry)"
   ]
  },
  {
   "cell_type": "code",
   "execution_count": 18,
   "metadata": {},
   "outputs": [
    {
     "name": "stdout",
     "output_type": "stream",
     "text": [
      "\n",
      "    5.74 kiloB\n",
      "    \n"
     ]
    },
    {
     "data": {
      "text/html": [
       "<div>\n",
       "<style scoped>\n",
       "    .dataframe tbody tr th:only-of-type {\n",
       "        vertical-align: middle;\n",
       "    }\n",
       "\n",
       "    .dataframe tbody tr th {\n",
       "        vertical-align: top;\n",
       "    }\n",
       "\n",
       "    .dataframe thead th {\n",
       "        text-align: right;\n",
       "    }\n",
       "</style>\n",
       "<table border=\"1\" class=\"dataframe\">\n",
       "  <thead>\n",
       "    <tr style=\"text-align: right;\">\n",
       "      <th></th>\n",
       "      <th></th>\n",
       "      <th>targ</th>\n",
       "      <th>perc_miss</th>\n",
       "      <th>t_idx</th>\n",
       "    </tr>\n",
       "    <tr>\n",
       "      <th>idx</th>\n",
       "      <th>q_idx</th>\n",
       "      <th></th>\n",
       "      <th></th>\n",
       "      <th></th>\n",
       "    </tr>\n",
       "  </thead>\n",
       "  <tbody>\n",
       "    <tr>\n",
       "      <th rowspan=\"5\" valign=\"top\">10</th>\n",
       "      <th>0</th>\n",
       "      <td>(0,)</td>\n",
       "      <td>0.0</td>\n",
       "      <td>0</td>\n",
       "    </tr>\n",
       "    <tr>\n",
       "      <th>1</th>\n",
       "      <td>(1,)</td>\n",
       "      <td>0.0</td>\n",
       "      <td>1</td>\n",
       "    </tr>\n",
       "    <tr>\n",
       "      <th>2</th>\n",
       "      <td>(2,)</td>\n",
       "      <td>0.0</td>\n",
       "      <td>2</td>\n",
       "    </tr>\n",
       "    <tr>\n",
       "      <th>3</th>\n",
       "      <td>(3,)</td>\n",
       "      <td>0.0</td>\n",
       "      <td>3</td>\n",
       "    </tr>\n",
       "    <tr>\n",
       "      <th>4</th>\n",
       "      <td>(4,)</td>\n",
       "      <td>0.0</td>\n",
       "      <td>4</td>\n",
       "    </tr>\n",
       "  </tbody>\n",
       "</table>\n",
       "</div>"
      ],
      "text/plain": [
       "           targ  perc_miss  t_idx\n",
       "idx q_idx                        \n",
       "10  0      (0,)        0.0      0\n",
       "    1      (1,)        0.0      1\n",
       "    2      (2,)        0.0      2\n",
       "    3      (3,)        0.0      3\n",
       "    4      (4,)        0.0      4"
      ]
     },
     "execution_count": 18,
     "metadata": {},
     "output_type": "execute_result"
    }
   ],
   "source": [
    "df_qry = insert_targ_idx_column(df_qry)\n",
    "mem_usage(df_qry)\n",
    "df_qry.head()"
   ]
  },
  {
   "cell_type": "markdown",
   "metadata": {},
   "source": [
    "### Transformation Four\n",
    "\n",
    "Add name column to df_cfg."
   ]
  },
  {
   "cell_type": "code",
   "execution_count": 19,
   "metadata": {
    "code_folding": [
     0,
     10
    ]
   },
   "outputs": [
    {
     "data": {
      "text/html": [
       "<div>\n",
       "<style scoped>\n",
       "    .dataframe tbody tr th:only-of-type {\n",
       "        vertical-align: middle;\n",
       "    }\n",
       "\n",
       "    .dataframe tbody tr th {\n",
       "        vertical-align: top;\n",
       "    }\n",
       "\n",
       "    .dataframe thead th {\n",
       "        text-align: right;\n",
       "    }\n",
       "</style>\n",
       "<table border=\"1\" class=\"dataframe\">\n",
       "  <thead>\n",
       "    <tr style=\"text-align: right;\">\n",
       "      <th></th>\n",
       "      <th>dataset</th>\n",
       "      <th>ind.type</th>\n",
       "      <th>ind.max_depth</th>\n",
       "      <th>sel.its</th>\n",
       "      <th>sel.param</th>\n",
       "    </tr>\n",
       "    <tr>\n",
       "      <th>idx</th>\n",
       "      <th></th>\n",
       "      <th></th>\n",
       "      <th></th>\n",
       "      <th></th>\n",
       "      <th></th>\n",
       "    </tr>\n",
       "  </thead>\n",
       "  <tbody>\n",
       "    <tr>\n",
       "      <th>10</th>\n",
       "      <td>nltcs</td>\n",
       "      <td>DT</td>\n",
       "      <td>8</td>\n",
       "      <td>4</td>\n",
       "      <td>2</td>\n",
       "    </tr>\n",
       "    <tr>\n",
       "      <th>11</th>\n",
       "      <td>jester</td>\n",
       "      <td>DT</td>\n",
       "      <td>8</td>\n",
       "      <td>4</td>\n",
       "      <td>2</td>\n",
       "    </tr>\n",
       "  </tbody>\n",
       "</table>\n",
       "</div>"
      ],
      "text/plain": [
       "    dataset ind.type  ind.max_depth  sel.its  sel.param\n",
       "idx                                                    \n",
       "10    nltcs       DT              8        4          2\n",
       "11   jester       DT              8        4          2"
      ]
     },
     "execution_count": 19,
     "metadata": {},
     "output_type": "execute_result"
    }
   ],
   "source": [
    "df_cfg.head()"
   ]
  },
  {
   "cell_type": "code",
   "execution_count": 20,
   "metadata": {},
   "outputs": [
    {
     "name": "stdout",
     "output_type": "stream",
     "text": [
      "\n",
      "    0.51 kiloB\n",
      "    \n"
     ]
    },
    {
     "data": {
      "text/html": [
       "<div>\n",
       "<style scoped>\n",
       "    .dataframe tbody tr th:only-of-type {\n",
       "        vertical-align: middle;\n",
       "    }\n",
       "\n",
       "    .dataframe tbody tr th {\n",
       "        vertical-align: top;\n",
       "    }\n",
       "\n",
       "    .dataframe thead th {\n",
       "        text-align: right;\n",
       "    }\n",
       "</style>\n",
       "<table border=\"1\" class=\"dataframe\">\n",
       "  <thead>\n",
       "    <tr style=\"text-align: right;\">\n",
       "      <th></th>\n",
       "      <th>dataset</th>\n",
       "      <th>ind.type</th>\n",
       "      <th>ind.max_depth</th>\n",
       "      <th>sel.its</th>\n",
       "      <th>sel.param</th>\n",
       "      <th>name</th>\n",
       "    </tr>\n",
       "    <tr>\n",
       "      <th>idx</th>\n",
       "      <th></th>\n",
       "      <th></th>\n",
       "      <th></th>\n",
       "      <th></th>\n",
       "      <th></th>\n",
       "      <th></th>\n",
       "    </tr>\n",
       "  </thead>\n",
       "  <tbody>\n",
       "    <tr>\n",
       "      <th>10</th>\n",
       "      <td>nltcs</td>\n",
       "      <td>DT</td>\n",
       "      <td>8</td>\n",
       "      <td>4</td>\n",
       "      <td>2</td>\n",
       "      <td>ind.type=DT|ind.max_depth=8|sel.its=4|sel.param=2</td>\n",
       "    </tr>\n",
       "    <tr>\n",
       "      <th>11</th>\n",
       "      <td>jester</td>\n",
       "      <td>DT</td>\n",
       "      <td>8</td>\n",
       "      <td>4</td>\n",
       "      <td>2</td>\n",
       "      <td>ind.type=DT|ind.max_depth=8|sel.its=4|sel.param=2</td>\n",
       "    </tr>\n",
       "  </tbody>\n",
       "</table>\n",
       "</div>"
      ],
      "text/plain": [
       "    dataset ind.type  ind.max_depth  sel.its  sel.param  \\\n",
       "idx                                                       \n",
       "10    nltcs       DT              8        4          2   \n",
       "11   jester       DT              8        4          2   \n",
       "\n",
       "                                                  name  \n",
       "idx                                                     \n",
       "10   ind.type=DT|ind.max_depth=8|sel.its=4|sel.param=2  \n",
       "11   ind.type=DT|ind.max_depth=8|sel.its=4|sel.param=2  "
      ]
     },
     "execution_count": 20,
     "metadata": {},
     "output_type": "execute_result"
    }
   ],
   "source": [
    "df_cfg = insert_name_column(df_cfg)\n",
    "mem_usage(df_cfg)\n",
    "df_cfg.head()"
   ]
  },
  {
   "cell_type": "code",
   "execution_count": 21,
   "metadata": {},
   "outputs": [
    {
     "name": "stdout",
     "output_type": "stream",
     "text": [
      "\n",
      "    0.59 kiloB\n",
      "    \n"
     ]
    }
   ],
   "source": [
    "insert_category_dtype(df_cfg)\n",
    "mem_usage(df_cfg)"
   ]
  },
  {
   "cell_type": "markdown",
   "metadata": {},
   "source": [
    "### Merge\n",
    "\n",
    "Merge qry, cfg, res into one."
   ]
  },
  {
   "cell_type": "code",
   "execution_count": 22,
   "metadata": {
    "collapsed": true
   },
   "outputs": [],
   "source": [
    "def build_df_plt(df_res, df_qry, df_cfg):\n",
    "    \n",
    "    # Filter df_qry, df_cfg\n",
    "    df_qry_f = df_qry[['t_idx', 'perc_miss']]\n",
    "    df_cfg_f = df_cfg[['dataset', 'name']]\n",
    "    \n",
    "    # Join df_res, df_qry\n",
    "    idx_names = df_res.index.names\n",
    "    join_idx_names = ['idx', 'q_idx']\n",
    "    \n",
    "    df_1 = df_res.join(df_qry_f, how='inner', on=join_idx_names)\n",
    "    df_1.index.set_names(idx_names, inplace=True)\n",
    "    \n",
    "    # Add Base Performance\n",
    "    df_1 = insert_base_perf_column(df_1, column_name='macro_f1')\n",
    "    \n",
    "    # Join df_1, df_cfg (i.e. add dataset column)\n",
    "    idx_names = df_1.index.names\n",
    "    join_idx_names = ['idx']\n",
    "    \n",
    "    df_2 = df_1.join(df_cfg_f, how='inner', on=join_idx_names)\n",
    "    df_2.index.set_names(idx_names, inplace=True)\n",
    "    \n",
    "    # New Indices\n",
    "    idx_names = ['idx', 'name', 'q_idx']\n",
    "    df_2.reset_index(inplace=True)\n",
    "    df_2.set_index(idx_names, inplace=True)\n",
    "    df_2.sort_index(inplace=True)\n",
    "    \n",
    "    df_plt = df_2\n",
    "    return df_plt"
   ]
  },
  {
   "cell_type": "code",
   "execution_count": 23,
   "metadata": {},
   "outputs": [
    {
     "name": "stdout",
     "output_type": "stream",
     "text": [
      "\n",
      "    2.83 kiloB\n",
      "    \n"
     ]
    },
    {
     "data": {
      "text/html": [
       "<div>\n",
       "<style scoped>\n",
       "    .dataframe tbody tr th:only-of-type {\n",
       "        vertical-align: middle;\n",
       "    }\n",
       "\n",
       "    .dataframe tbody tr th {\n",
       "        vertical-align: top;\n",
       "    }\n",
       "\n",
       "    .dataframe thead th {\n",
       "        text-align: right;\n",
       "    }\n",
       "</style>\n",
       "<table border=\"1\" class=\"dataframe\">\n",
       "  <thead>\n",
       "    <tr style=\"text-align: right;\">\n",
       "      <th></th>\n",
       "      <th></th>\n",
       "      <th></th>\n",
       "      <th>macro_f1</th>\n",
       "      <th>t_idx</th>\n",
       "      <th>perc_miss</th>\n",
       "      <th>base_perf</th>\n",
       "      <th>dataset</th>\n",
       "    </tr>\n",
       "    <tr>\n",
       "      <th>idx</th>\n",
       "      <th>name</th>\n",
       "      <th>q_idx</th>\n",
       "      <th></th>\n",
       "      <th></th>\n",
       "      <th></th>\n",
       "      <th></th>\n",
       "      <th></th>\n",
       "    </tr>\n",
       "  </thead>\n",
       "  <tbody>\n",
       "    <tr>\n",
       "      <th rowspan=\"5\" valign=\"top\">10</th>\n",
       "      <th rowspan=\"5\" valign=\"top\">ind.type=DT|ind.max_depth=8|sel.its=4|sel.param=2</th>\n",
       "      <th>0</th>\n",
       "      <td>0.770414</td>\n",
       "      <td>0</td>\n",
       "      <td>0.0</td>\n",
       "      <td>77.04138</td>\n",
       "      <td>nltcs</td>\n",
       "    </tr>\n",
       "    <tr>\n",
       "      <th>1</th>\n",
       "      <td>0.776917</td>\n",
       "      <td>1</td>\n",
       "      <td>0.0</td>\n",
       "      <td>77.69168</td>\n",
       "      <td>nltcs</td>\n",
       "    </tr>\n",
       "    <tr>\n",
       "      <th>2</th>\n",
       "      <td>0.779902</td>\n",
       "      <td>2</td>\n",
       "      <td>0.0</td>\n",
       "      <td>77.99020</td>\n",
       "      <td>nltcs</td>\n",
       "    </tr>\n",
       "    <tr>\n",
       "      <th>3</th>\n",
       "      <td>0.812266</td>\n",
       "      <td>3</td>\n",
       "      <td>0.0</td>\n",
       "      <td>81.22664</td>\n",
       "      <td>nltcs</td>\n",
       "    </tr>\n",
       "    <tr>\n",
       "      <th>4</th>\n",
       "      <td>0.815355</td>\n",
       "      <td>4</td>\n",
       "      <td>0.0</td>\n",
       "      <td>81.53552</td>\n",
       "      <td>nltcs</td>\n",
       "    </tr>\n",
       "  </tbody>\n",
       "</table>\n",
       "</div>"
      ],
      "text/plain": [
       "                                                             macro_f1  t_idx  \\\n",
       "idx name                                              q_idx                    \n",
       "10  ind.type=DT|ind.max_depth=8|sel.its=4|sel.param=2 0      0.770414      0   \n",
       "                                                      1      0.776917      1   \n",
       "                                                      2      0.779902      2   \n",
       "                                                      3      0.812266      3   \n",
       "                                                      4      0.815355      4   \n",
       "\n",
       "                                                             perc_miss  \\\n",
       "idx name                                              q_idx              \n",
       "10  ind.type=DT|ind.max_depth=8|sel.its=4|sel.param=2 0            0.0   \n",
       "                                                      1            0.0   \n",
       "                                                      2            0.0   \n",
       "                                                      3            0.0   \n",
       "                                                      4            0.0   \n",
       "\n",
       "                                                             base_perf dataset  \n",
       "idx name                                              q_idx                     \n",
       "10  ind.type=DT|ind.max_depth=8|sel.its=4|sel.param=2 0       77.04138   nltcs  \n",
       "                                                      1       77.69168   nltcs  \n",
       "                                                      2       77.99020   nltcs  \n",
       "                                                      3       81.22664   nltcs  \n",
       "                                                      4       81.53552   nltcs  "
      ]
     },
     "execution_count": 23,
     "metadata": {},
     "output_type": "execute_result"
    }
   ],
   "source": [
    "df_plt = build_df_plt(df_res, df_qry, df_cfg)\n",
    "mem_usage(df_plt)\n",
    "df_plt.head()"
   ]
  },
  {
   "cell_type": "code",
   "execution_count": 24,
   "metadata": {},
   "outputs": [
    {
     "name": "stdout",
     "output_type": "stream",
     "text": [
      "\n",
      "    2.83 kiloB\n",
      "    \n"
     ]
    }
   ],
   "source": [
    "insert_category_dtype(df_plt)\n",
    "mem_usage(df_plt)"
   ]
  },
  {
   "cell_type": "code",
   "execution_count": 25,
   "metadata": {},
   "outputs": [
    {
     "data": {
      "text/plain": [
       "macro_f1      float64\n",
       "t_idx            int8\n",
       "perc_miss     float64\n",
       "base_perf     float64\n",
       "dataset      category\n",
       "dtype: object"
      ]
     },
     "execution_count": 25,
     "metadata": {},
     "output_type": "execute_result"
    }
   ],
   "source": [
    "df_plt.dtypes"
   ]
  },
  {
   "cell_type": "code",
   "execution_count": null,
   "metadata": {
    "collapsed": true
   },
   "outputs": [],
   "source": []
  }
 ],
 "metadata": {
  "kernelspec": {
   "display_name": "Python [default]",
   "language": "python",
   "name": "python3"
  },
  "language_info": {
   "codemirror_mode": {
    "name": "ipython",
    "version": 3
   },
   "file_extension": ".py",
   "mimetype": "text/x-python",
   "name": "python",
   "nbconvert_exporter": "python",
   "pygments_lexer": "ipython3",
   "version": "3.6.1"
  },
  "toc": {
   "nav_menu": {},
   "number_sections": true,
   "sideBar": true,
   "skip_h1_title": true,
   "toc_cell": false,
   "toc_position": {},
   "toc_section_display": "block",
   "toc_window_display": false
  }
 },
 "nbformat": 4,
 "nbformat_minor": 2
}
