{
 "cells": [
  {
   "cell_type": "markdown",
   "metadata": {},
   "source": [
    "# Generate models - sandbox\n",
    "\n",
    "Notebook that generates models. These models are meant to be somehow 'baselines' or standard models to reduce training time and increase reproducability."
   ]
  },
  {
   "cell_type": "markdown",
   "metadata": {
    "heading_collapsed": true
   },
   "source": [
    "## Preliminaries"
   ]
  },
  {
   "cell_type": "code",
   "execution_count": 1,
   "metadata": {
    "collapsed": true,
    "hidden": true
   },
   "outputs": [],
   "source": [
    "# imports\n",
    "\n",
    "import json\n",
    "import pandas as pd\n",
    "import pickle as pkl\n",
    "import os\n",
    "import sys\n",
    "from inspect import signature\n",
    "\n",
    "from os.path import dirname"
   ]
  },
  {
   "cell_type": "code",
   "execution_count": 2,
   "metadata": {
    "collapsed": true,
    "hidden": true
   },
   "outputs": [],
   "source": [
    "# Custom imports\n",
    "\n",
    "root_dir = dirname(dirname(os.getcwd()))\n",
    "src_dir = os.path.join(root_dir, 'src')\n",
    "libs_dir = os.path.join(root_dir, 'libs')\n",
    "sys.path.append(src_dir)\n",
    "sys.path.append(libs_dir)\n",
    "\n",
    "from exp.runner.RunExp import RunExp\n",
    "from exp.utils import filesystem as fs\n",
    "from exp.utils.extra import generate_keychain\n",
    "\n",
    "import mercs\n",
    "import PxS as pxs"
   ]
  },
  {
   "cell_type": "markdown",
   "metadata": {},
   "source": [
    "## Methods"
   ]
  },
  {
   "cell_type": "markdown",
   "metadata": {},
   "source": [
    "### Config"
   ]
  },
  {
   "cell_type": "markdown",
   "metadata": {},
   "source": [
    "#### IO"
   ]
  },
  {
   "cell_type": "code",
   "execution_count": 3,
   "metadata": {
    "collapsed": true
   },
   "outputs": [],
   "source": [
    "exp = RunExp()\n",
    "default_io_config_dirs = exp.default_io_config_dirs"
   ]
  },
  {
   "cell_type": "code",
   "execution_count": 4,
   "metadata": {
    "code_folding": [],
    "collapsed": true
   },
   "outputs": [],
   "source": [
    "def default_io_config_file(dirs=None, dataset=None, mod_type=None, mod_kw=None):\n",
    "    d={}\n",
    "    \n",
    "    train_fnames = fs.collect_fnames_from_folder(dirs['resc-data-ds'],\n",
    "                                                 criteria=['Train', 'bayesfusion'],\n",
    "                                                 indexed=True)\n",
    "        \n",
    "    d['train_data'] = train_fnames\n",
    "    \n",
    "    if dataset is not None and mod_type is not None and mod_kw is not None:\n",
    "        assert isinstance(dataset, str)\n",
    "        assert isinstance(mod_type, str)\n",
    "        assert isinstance(mod_kw, str)\n",
    "        \n",
    "        # Models (mod)\n",
    "        mod_base_fname = generate_keychain(['mod', mod_type, mod_kw], sep='_')\n",
    "        d['net'] = fs.gen_derived_fnames(train_fnames,\n",
    "                                               name=mod_base_fname,\n",
    "                                               extension='xdsl',\n",
    "                                               dname=dirs['resc-models-ds-models'],\n",
    "                                               indexed=True)\n",
    "        \n",
    "        \n",
    "        d['mod'] = fs.gen_derived_fnames(train_fnames,\n",
    "                                         name=mod_base_fname,\n",
    "                                         extension='pkl',\n",
    "                                         dname=dirs['resc-models-ds-models'],\n",
    "                                         indexed=True)\n",
    "        # Model configuration (mod_cfg)\n",
    "        mod_config_fname = generate_keychain(['mod','config', mod_type, mod_kw], sep='_')\n",
    "        d['mod-config'] = fs.gen_derived_fnames(dataset,\n",
    "                                                name=mod_config_fname,\n",
    "                                                extension='json',\n",
    "                                                dname=dirs['resc-models-ds-config'],\n",
    "                                                indexed=False)[0]\n",
    "    return d"
   ]
  },
  {
   "cell_type": "code",
   "execution_count": 5,
   "metadata": {
    "code_folding": [],
    "collapsed": true
   },
   "outputs": [],
   "source": [
    "def load_train_data(io_config, fold):\n",
    "    \n",
    "    train_data_fnames = io_config['file']['train_data']\n",
    "\n",
    "    train_data_fname = [t[1] for t in train_data_fnames\n",
    "                        if t[0] == fold][0]\n",
    "\n",
    "    return train_data_fname"
   ]
  },
  {
   "cell_type": "code",
   "execution_count": 6,
   "metadata": {
    "collapsed": true
   },
   "outputs": [],
   "source": [
    "def save_outputs(mod, mod_config, io_config, fold):\n",
    "    \n",
    "    mod_fname = [t[1] for t in io_config['file']['mod']\n",
    "                 if t[0] == fold][0]\n",
    "    mod_config_fname = io_config['file']['mod-config']\n",
    "\n",
    "    # Save config\n",
    "    fs.ensure_dir(os.path.dirname(mod_config_fname), empty=False)\n",
    "    with open(mod_config_fname, 'w') as f:\n",
    "        json.dump(mod_config, f, indent=4)\n",
    "        \n",
    "        \n",
    "    fs.ensure_dir(os.path.dirname(mod_fname), empty=False)\n",
    "    with open(mod_fname, 'wb') as f:\n",
    "        pkl.dump(mod, f)\n",
    "\n",
    "    return"
   ]
  },
  {
   "cell_type": "markdown",
   "metadata": {},
   "source": [
    "#### Induction"
   ]
  },
  {
   "cell_type": "code",
   "execution_count": 7,
   "metadata": {
    "code_folding": [
     8
    ],
    "collapsed": true
   },
   "outputs": [],
   "source": [
    "def induction(train_data_fname, mod_type, mod_config, io_config, fold):\n",
    "            \n",
    "    # Save model\n",
    "    mod_fname = [t[1] for t in io_config['file']['net']\n",
    "                 if t[0] == fold][0]\n",
    "    fs.ensure_dir(os.path.dirname(mod_fname), empty=False)\n",
    "\n",
    "    if mod_type in {'PxS'}:\n",
    "        model = pxs.PxS()\n",
    "        model.fit(train_data_fname, **mod_config, model_fname=mod_fname)\n",
    "    else:\n",
    "        msg = \"\"\"\n",
    "        Did not recognize model type: {}\n",
    "        \"\"\".format(mod_type)\n",
    "        raise ValueError(msg)    \n",
    "\n",
    "    return model"
   ]
  },
  {
   "cell_type": "code",
   "execution_count": 8,
   "metadata": {
    "collapsed": true
   },
   "outputs": [],
   "source": [
    "def generate_model(config, fold):\n",
    "    # Extract\n",
    "    io_config = config['io']\n",
    "    mod_type = config['mod_type']\n",
    "    mod_config = config['mod']\n",
    "    \n",
    "    # Actions\n",
    "    train_data_fname = load_train_data(io_config, fold)\n",
    "    mod = induction(train_data_fname, mod_type, mod_config, io_config, fold)\n",
    "    \n",
    "    return mod"
   ]
  },
  {
   "cell_type": "markdown",
   "metadata": {},
   "source": [
    "### Summary"
   ]
  },
  {
   "cell_type": "code",
   "execution_count": null,
   "metadata": {
    "code_folding": [],
    "collapsed": true
   },
   "outputs": [],
   "source": []
  },
  {
   "cell_type": "code",
   "execution_count": 9,
   "metadata": {
    "code_folding": [],
    "collapsed": true
   },
   "outputs": [],
   "source": [
    "def build_config(**kwargs):\n",
    "    \n",
    "    # Preliminaries\n",
    "    root_dir = kwargs.get('root_dir', '')\n",
    "    dataset = kwargs.get('dataset', 'nursery')\n",
    "    mod_type = kwargs.get('mod_type', 'mercs')\n",
    "    mod_kw = kwargs.get('mod_kw', 'basic')\n",
    "    mod_cfg = kwargs.get('mod_cfg', {})\n",
    "    \n",
    "    \n",
    "    config={}\n",
    "    config['io']={}\n",
    "    \n",
    "    # Mod-stuff\n",
    "    config['mod'] = mod_cfg\n",
    "    config['mod']['keyword'] = mod_kw\n",
    "    config['mod']['type'] = mod_type\n",
    "        \n",
    "    \n",
    "    # Actions\n",
    "    config['io']['dirs'] = default_io_config_dirs(root_dir=root_dir,\n",
    "                                                  dataset=dataset)\n",
    "    \n",
    "    \n",
    "    config['io']['file'] = default_io_config_file(dirs=config['io']['dirs'],\n",
    "                                                  dataset = dataset,\n",
    "                                                  mod_type=mod_type,\n",
    "                                                  mod_kw=mod_kw)\n",
    "    \n",
    "    # Folds\n",
    "    all_folds = [t[0] for t in config['io']['file']['train_data']]\n",
    "    folds = kwargs.get('folds', None)\n",
    "    \n",
    "    if folds is None:\n",
    "        config['folds'] =  all_folds\n",
    "    else:\n",
    "        assert set(folds) <= set(all_folds)\n",
    "        config['folds'] = folds\n",
    "\n",
    "    return config"
   ]
  },
  {
   "cell_type": "code",
   "execution_count": 10,
   "metadata": {
    "code_folding": [],
    "collapsed": true
   },
   "outputs": [],
   "source": [
    "def main(config):\n",
    "    # Prelimis\n",
    "    folds = config['folds'] \n",
    "    io_config = config['io']\n",
    "    mod_config = config['mod']\n",
    "    \n",
    "    # Actions\n",
    "    for fold in folds:\n",
    "        mod = generate_model(config, fold)\n",
    "        save_outputs(mod, mod_config, io_config, fold)\n",
    "        \n",
    "    return"
   ]
  },
  {
   "cell_type": "markdown",
   "metadata": {},
   "source": [
    "## Factory-Floor"
   ]
  },
  {
   "cell_type": "code",
   "execution_count": 11,
   "metadata": {
    "collapsed": true
   },
   "outputs": [],
   "source": [
    "ds = 'nltcs'\n",
    "mod_type = 'Mercs'\n",
    "mod_kw = 'default'\n",
    "\n",
    "config = build_config(root_dir=root_dir,\n",
    "                      dataset=ds,\n",
    "                      mod_type=mod_type,\n",
    "                      mod_kw=mod_kw)"
   ]
  },
  {
   "cell_type": "markdown",
   "metadata": {},
   "source": [
    "## Loop over ds"
   ]
  },
  {
   "cell_type": "code",
   "execution_count": 12,
   "metadata": {},
   "outputs": [
    {
     "data": {
      "text/plain": [
       "['ad',\n",
       " 'pumsb_star',\n",
       " 'msnbc',\n",
       " 'accidents',\n",
       " 'plants',\n",
       " 'bnetflix',\n",
       " 'book',\n",
       " 'baudio',\n",
       " 'kdd',\n",
       " 'tmovie',\n",
       " 'voting',\n",
       " 'msweb',\n",
       " 'nltcs',\n",
       " 'jester',\n",
       " 'tretail',\n",
       " 'cr52',\n",
       " 'dna',\n",
       " 'kosarek',\n",
       " 'cwebkb',\n",
       " 'c20ng',\n",
       " 'bbc']"
      ]
     },
     "execution_count": 12,
     "metadata": {},
     "output_type": "execute_result"
    }
   ],
   "source": [
    "dirs = default_io_config_dirs(root_dir=root_dir)\n",
    "all_datasets = os.listdir(dirs['resc-data'])\n",
    "all_datasets"
   ]
  },
  {
   "cell_type": "code",
   "execution_count": 13,
   "metadata": {},
   "outputs": [
    {
     "name": "stdout",
     "output_type": "stream",
     "text": [
      "DONE: nltcs\n"
     ]
    }
   ],
   "source": [
    "for ds in ['nltcs']:\n",
    "    mod_type = 'PxS'\n",
    "    mod_kw = 'default'\n",
    "    \n",
    "    config = build_config(root_dir=root_dir,\n",
    "                          dataset=ds,\n",
    "                          mod_type=mod_type,\n",
    "                          mod_kw=mod_kw)\n",
    "    main(config)\n",
    "    print(\"DONE: {}\".format(ds))"
   ]
  },
  {
   "cell_type": "code",
   "execution_count": 14,
   "metadata": {
    "collapsed": true
   },
   "outputs": [],
   "source": [
    "config = build_config(root_dir=root_dir,\n",
    "                          dataset=ds,\n",
    "                          mod_type=mod_type,\n",
    "                          mod_kw=mod_kw)"
   ]
  },
  {
   "cell_type": "code",
   "execution_count": null,
   "metadata": {
    "collapsed": true
   },
   "outputs": [],
   "source": []
  }
 ],
 "metadata": {
  "kernelspec": {
   "display_name": "Python [default]",
   "language": "python",
   "name": "python3"
  },
  "language_info": {
   "codemirror_mode": {
    "name": "ipython",
    "version": 3
   },
   "file_extension": ".py",
   "mimetype": "text/x-python",
   "name": "python",
   "nbconvert_exporter": "python",
   "pygments_lexer": "ipython3",
   "version": "3.6.8"
  },
  "toc": {
   "nav_menu": {},
   "number_sections": true,
   "sideBar": true,
   "skip_h1_title": true,
   "toc_cell": false,
   "toc_position": {},
   "toc_section_display": "block",
   "toc_window_display": false
  }
 },
 "nbformat": 4,
 "nbformat_minor": 2
}
