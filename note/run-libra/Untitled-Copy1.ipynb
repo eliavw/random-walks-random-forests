{
 "cells": [
  {
   "cell_type": "markdown",
   "metadata": {},
   "source": [
    "# Run Libra\n",
    "\n",
    "Testing a fresher version of my wrapper"
   ]
  },
  {
   "cell_type": "markdown",
   "metadata": {},
   "source": [
    "## Imports"
   ]
  },
  {
   "cell_type": "code",
   "execution_count": 1,
   "metadata": {
    "collapsed": true
   },
   "outputs": [],
   "source": [
    "import os\n",
    "import sys\n",
    "import numpy as np\n",
    "import pandas as pd\n",
    "\n",
    "from os.path import dirname"
   ]
  },
  {
   "cell_type": "code",
   "execution_count": 2,
   "metadata": {
    "collapsed": true
   },
   "outputs": [],
   "source": [
    "# Custom imports\n",
    "root_dir = dirname(dirname(os.getcwd()))\n",
    "src_dir = os.path.join(root_dir, 'src')\n",
    "libs_dir = os.path.join(root_dir, 'libs')\n",
    "\n",
    "sys.path.append(src_dir)\n",
    "sys.path.append(libs_dir)\n",
    "\n",
    "import PxL as pxl"
   ]
  },
  {
   "cell_type": "markdown",
   "metadata": {},
   "source": [
    "## Init"
   ]
  },
  {
   "cell_type": "code",
   "execution_count": 3,
   "metadata": {
    "collapsed": true
   },
   "outputs": [],
   "source": [
    "this_cwd = os.path.join(os.getcwd(), \"tmp\")"
   ]
  },
  {
   "cell_type": "code",
   "execution_count": 4,
   "metadata": {
    "collapsed": true
   },
   "outputs": [],
   "source": [
    "clf = pxl.PxL(cwd=this_cwd)"
   ]
  },
  {
   "cell_type": "code",
   "execution_count": 5,
   "metadata": {
    "collapsed": true
   },
   "outputs": [],
   "source": [
    "#dir(clf)"
   ]
  },
  {
   "cell_type": "markdown",
   "metadata": {},
   "source": [
    "## Fit"
   ]
  },
  {
   "cell_type": "code",
   "execution_count": 6,
   "metadata": {
    "collapsed": true
   },
   "outputs": [],
   "source": [
    "train_fname = \"../resc/train.csv\" # Relative wrt this_cwd"
   ]
  },
  {
   "cell_type": "code",
   "execution_count": 7,
   "metadata": {},
   "outputs": [
    {
     "data": {
      "text/plain": [
       "{'algo': 'bnlearn', 'o': 'model.bn'}"
      ]
     },
     "execution_count": 7,
     "metadata": {},
     "output_type": "execute_result"
    }
   ],
   "source": [
    "clf.cfg_fit"
   ]
  },
  {
   "cell_type": "code",
   "execution_count": 8,
   "metadata": {},
   "outputs": [
    {
     "name": "stdout",
     "output_type": "stream",
     "text": [
      "\n",
      "        Generated command: ['/home/elia/.opam/system/bin/libra', 'bnlearn', '-o', '/cw/dtailocal/Dropbox/Files/KUL/research/codebases/homework/note/run-libra/tmp/model.bn', '-i', '/cw/dtailocal/Dropbox/Files/KUL/research/codebases/homework/note/run-libra/tmp/../resc/train.csv']\n",
      "        \n",
      "\n",
      "\n",
      "        log_fname:          /cw/dtailocal/Dropbox/Files/KUL/research/codebases/homework/note/run-libra/tmp/140710849694352_PxL_log_fit\n",
      "        log_dir:            /cw/dtailocal/Dropbox/Files/KUL/research/codebases/homework/note/run-libra/tmp\n",
      "        log_bfn:            140710849694352_PxL_log_fit\n",
      "        success_log_fnames: ['140710849694352_PxL_log_fit.success.log']\n",
      "        \n",
      "\n"
     ]
    },
    {
     "data": {
      "text/plain": [
       "0"
      ]
     },
     "execution_count": 8,
     "metadata": {},
     "output_type": "execute_result"
    }
   ],
   "source": [
    "clf.fit(i=train_fname, algo=\"bnlearn\")"
   ]
  },
  {
   "cell_type": "code",
   "execution_count": 9,
   "metadata": {},
   "outputs": [
    {
     "data": {
      "text/plain": [
       "{'algo': 'bnlearn',\n",
       " 'i': '/cw/dtailocal/Dropbox/Files/KUL/research/codebases/homework/note/run-libra/tmp/../resc/train.csv',\n",
       " 'o': '/cw/dtailocal/Dropbox/Files/KUL/research/codebases/homework/note/run-libra/tmp/model.bn'}"
      ]
     },
     "execution_count": 9,
     "metadata": {},
     "output_type": "execute_result"
    }
   ],
   "source": [
    "clf.cfg_fit"
   ]
  },
  {
   "cell_type": "code",
   "execution_count": 10,
   "metadata": {},
   "outputs": [
    {
     "data": {
      "text/plain": [
       "'/home/elia/.opam/system/bin/libra'"
      ]
     },
     "execution_count": 10,
     "metadata": {},
     "output_type": "execute_result"
    }
   ],
   "source": [
    "clf.libra_install"
   ]
  },
  {
   "cell_type": "markdown",
   "metadata": {},
   "source": [
    "## Predict\n",
    "\n",
    "Laatste loodjes."
   ]
  },
  {
   "cell_type": "markdown",
   "metadata": {},
   "source": [
    "### Load Queries"
   ]
  },
  {
   "cell_type": "code",
   "execution_count": 11,
   "metadata": {},
   "outputs": [],
   "source": [
    "qry_fname = \"resc/qry_it.npy\""
   ]
  },
  {
   "cell_type": "code",
   "execution_count": 12,
   "metadata": {},
   "outputs": [
    {
     "data": {
      "text/plain": [
       "array([[ 0,  0,  0, ...,  0,  0,  0],\n",
       "       [ 0,  0,  0, ...,  0,  0,  0],\n",
       "       [ 0,  0, -1, ...,  0,  0,  0],\n",
       "       ...,\n",
       "       [ 0, -1,  1, ..., -1, -1, -1],\n",
       "       [ 0, -1,  1, ..., -1, -1, -1],\n",
       "       [-1, -1,  1, ..., -1, -1, -1]])"
      ]
     },
     "execution_count": 12,
     "metadata": {},
     "output_type": "execute_result"
    }
   ],
   "source": [
    "q_codes = np.load(qry_fname)\n",
    "q_codes"
   ]
  },
  {
   "cell_type": "code",
   "execution_count": 13,
   "metadata": {},
   "outputs": [],
   "source": [
    "q_code = q_codes[86]"
   ]
  },
  {
   "cell_type": "code",
   "execution_count": 14,
   "metadata": {},
   "outputs": [
    {
     "data": {
      "text/plain": [
       "([0, 1, 3, 5, 7, 8, 9, 10, 11, 12, 13, 15], [14])"
      ]
     },
     "execution_count": 14,
     "metadata": {},
     "output_type": "execute_result"
    }
   ],
   "source": [
    "miss_idx, targ_idx = np.where(q_code==-1)[0].tolist(), np.where(q_code==1)[0].tolist()\n",
    "miss_idx, targ_idx"
   ]
  },
  {
   "cell_type": "markdown",
   "metadata": {},
   "source": [
    "### Do prediction"
   ]
  },
  {
   "cell_type": "code",
   "execution_count": 15,
   "metadata": {
    "collapsed": true
   },
   "outputs": [],
   "source": [
    "test_fname = \"../resc/test.csv\" # Relative wrt cwd"
   ]
  },
  {
   "cell_type": "code",
   "execution_count": null,
   "metadata": {
    "collapsed": true
   },
   "outputs": [],
   "source": []
  },
  {
   "cell_type": "code",
   "execution_count": 16,
   "metadata": {},
   "outputs": [
    {
     "name": "stdout",
     "output_type": "stream",
     "text": [
      "\n",
      "        pred log at:        /cw/dtailocal/Dropbox/Files/KUL/research/codebases/homework/note/run-libra/tmp/140710849694352_PxL_log_predict\n",
      "        \n",
      "\n",
      "\n",
      "        Generated command: ['/home/elia/.opam/system/bin/libra', 'maxprod', '-ev', '/cw/dtailocal/Dropbox/Files/KUL/research/codebases/homework/note/run-libra/tmp/evidence.csv', '-mo', '/cw/dtailocal/Dropbox/Files/KUL/research/codebases/homework/note/run-libra/tmp/pred.csv', '-m', '/cw/dtailocal/Dropbox/Files/KUL/research/codebases/homework/note/run-libra/tmp/model.bn']\n",
      "        \n",
      "\n",
      "\n",
      "        log_fname:          /cw/dtailocal/Dropbox/Files/KUL/research/codebases/homework/note/run-libra/tmp/140710849694352_PxL_log_predict\n",
      "        log_dir:            /cw/dtailocal/Dropbox/Files/KUL/research/codebases/homework/note/run-libra/tmp\n",
      "        log_bfn:            140710849694352_PxL_log_predict\n",
      "        success_log_fnames: ['140710849694352_PxL_log_predict.success.log']\n",
      "        \n",
      "\n"
     ]
    },
    {
     "data": {
      "text/plain": [
       "array([[0],\n",
       "       [0],\n",
       "       [0],\n",
       "       ...,\n",
       "       [0],\n",
       "       [0],\n",
       "       [0]])"
      ]
     },
     "execution_count": 16,
     "metadata": {},
     "output_type": "execute_result"
    }
   ],
   "source": [
    "clf.predict(test_fname, targ_idx=targ_idx, miss_idx=miss_idx, algo=\"maxprod\", mpe=False)"
   ]
  },
  {
   "cell_type": "code",
   "execution_count": 17,
   "metadata": {},
   "outputs": [
    {
     "data": {
      "text/plain": [
       "88.716123789"
      ]
     },
     "execution_count": 17,
     "metadata": {},
     "output_type": "execute_result"
    }
   ],
   "source": [
    "clf.s['model_data']['inf_time']"
   ]
  }
 ],
 "metadata": {
  "kernelspec": {
   "display_name": "Python [default]",
   "language": "python",
   "name": "python3"
  },
  "language_info": {
   "codemirror_mode": {
    "name": "ipython",
    "version": 3
   },
   "file_extension": ".py",
   "mimetype": "text/x-python",
   "name": "python",
   "nbconvert_exporter": "python",
   "pygments_lexer": "ipython3",
   "version": "3.6.1"
  },
  "toc": {
   "nav_menu": {},
   "number_sections": true,
   "sideBar": true,
   "skip_h1_title": true,
   "toc_cell": false,
   "toc_position": {},
   "toc_section_display": "block",
   "toc_window_display": false
  }
 },
 "nbformat": 4,
 "nbformat_minor": 2
}
