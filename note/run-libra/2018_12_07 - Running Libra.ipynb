{
 "cells": [
  {
   "cell_type": "markdown",
   "metadata": {},
   "source": [
    "# Run Libra\n",
    "\n",
    "Here I set up my Libra-wrapper for future use."
   ]
  },
  {
   "cell_type": "markdown",
   "metadata": {},
   "source": [
    "## Imports"
   ]
  },
  {
   "cell_type": "code",
   "execution_count": 1,
   "metadata": {
    "collapsed": true
   },
   "outputs": [],
   "source": [
    "import os\n",
    "import sys\n",
    "import numpy as np\n",
    "import pandas as pd\n",
    "\n",
    "from os.path import dirname"
   ]
  },
  {
   "cell_type": "code",
   "execution_count": 2,
   "metadata": {
    "collapsed": true
   },
   "outputs": [],
   "source": [
    "# Custom imports\n",
    "root_dir = dirname(dirname(os.getcwd()))\n",
    "src_dir = os.path.join(root_dir, 'src')\n",
    "libs_dir = os.path.join(root_dir, 'libs')\n",
    "\n",
    "sys.path.append(src_dir)\n",
    "sys.path.append(libs_dir)\n",
    "\n",
    "import PxL as pxl"
   ]
  },
  {
   "cell_type": "markdown",
   "metadata": {},
   "source": [
    "## Initialize"
   ]
  },
  {
   "cell_type": "code",
   "execution_count": 3,
   "metadata": {},
   "outputs": [],
   "source": [
    "clf = pxl.PxL()"
   ]
  },
  {
   "cell_type": "code",
   "execution_count": 4,
   "metadata": {
    "collapsed": true
   },
   "outputs": [],
   "source": [
    "#dir(clf)"
   ]
  },
  {
   "cell_type": "code",
   "execution_count": null,
   "metadata": {
    "collapsed": true
   },
   "outputs": [],
   "source": []
  },
  {
   "cell_type": "markdown",
   "metadata": {},
   "source": [
    "lgtm"
   ]
  },
  {
   "cell_type": "markdown",
   "metadata": {},
   "source": [
    "## Fit"
   ]
  },
  {
   "cell_type": "code",
   "execution_count": 5,
   "metadata": {
    "collapsed": true
   },
   "outputs": [],
   "source": [
    "train_fname = './resc/train.csv'"
   ]
  },
  {
   "cell_type": "code",
   "execution_count": 6,
   "metadata": {},
   "outputs": [
    {
     "name": "stdout",
     "output_type": "stream",
     "text": [
      "\n",
      "        Generated command: ['/home/elia/.opam/system/bin/libra', 'bnlearn', '-i', '/cw/dtailocal/Dropbox/Files/KUL/research/codebases/homework/note/run-libra/./resc/train.csv', '-o', '/cw/dtailocal/Dropbox/Files/KUL/research/codebases/homework/note/run-libra/model.bn']\n",
      "        \n",
      "\n",
      "\n",
      "        log_fname:          /cw/dtailocal/Dropbox/Files/KUL/research/codebases/homework/note/run-libra/139944400402584_PxL_log_fit\n",
      "        log_dir:            /cw/dtailocal/Dropbox/Files/KUL/research/codebases/homework/note/run-libra\n",
      "        log_bfn:            139944400402584_PxL_log_fit\n",
      "        success_log_fnames: ['139944400402584_PxL_log_fit.success.log']\n",
      "        \n",
      "\n"
     ]
    },
    {
     "data": {
      "text/plain": [
       "0"
      ]
     },
     "execution_count": 6,
     "metadata": {},
     "output_type": "execute_result"
    }
   ],
   "source": [
    "clf.fit(train_fname=train_fname, algo=\"bnl\")"
   ]
  },
  {
   "cell_type": "code",
   "execution_count": 7,
   "metadata": {},
   "outputs": [
    {
     "name": "stderr",
     "output_type": "stream",
     "text": [
      "No traceback available to show.\n"
     ]
    }
   ],
   "source": [
    "%tb"
   ]
  },
  {
   "cell_type": "markdown",
   "metadata": {},
   "source": [
    "lgtm"
   ]
  },
  {
   "cell_type": "markdown",
   "metadata": {},
   "source": [
    "## Predict"
   ]
  },
  {
   "cell_type": "code",
   "execution_count": 8,
   "metadata": {
    "collapsed": true
   },
   "outputs": [],
   "source": [
    "test_fname = './resc/test.csv'"
   ]
  },
  {
   "cell_type": "code",
   "execution_count": 9,
   "metadata": {},
   "outputs": [
    {
     "name": "stdout",
     "output_type": "stream",
     "text": [
      "\n",
      "        cfg = {'model_fname': '/cw/dtailocal/Dropbox/Files/KUL/research/codebases/homework/note/run-libra/model.bn', 'evidence_fname': '/cw/dtailocal/Dropbox/Files/KUL/research/codebases/homework/note/run-libra/evidence.csv', 'out_fname': '/cw/dtailocal/Dropbox/Files/KUL/research/codebases/homework/note/run-libra/result.csv', 'algo': 'maxprod'}\n",
      "        \n",
      "\n",
      "\n",
      "        Generated command: ['/home/elia/.opam/system/bin/libra', 'maxprod', '-m', '/cw/dtailocal/Dropbox/Files/KUL/research/codebases/homework/note/run-libra/model.bn', '-ev', '/cw/dtailocal/Dropbox/Files/KUL/research/codebases/homework/note/run-libra/evidence.csv', '-mo', '/cw/dtailocal/Dropbox/Files/KUL/research/codebases/homework/note/run-libra/result.csv']\n",
      "        \n",
      "\n",
      "\n",
      "        Out_fname: /cw/dtailocal/Dropbox/Files/KUL/research/codebases/homework/note/run-libra/result.csv\n",
      "        \n",
      "\n",
      "\n",
      "        log_fname:          /cw/dtailocal/Dropbox/Files/KUL/research/codebases/homework/note/run-libra/139944400402584_PxL_log_predict\n",
      "        log_dir:            /cw/dtailocal/Dropbox/Files/KUL/research/codebases/homework/note/run-libra\n",
      "        log_bfn:            139944400402584_PxL_log_predict\n",
      "        success_log_fnames: ['139944400402584_PxL_log_predict.success.log']\n",
      "        \n",
      "\n",
      "9 1432\n"
     ]
    }
   ],
   "source": [
    "i=9\n",
    "res = clf.predict(test_fname='./resc/test.csv', algo=\"maxprod\", targ_idx=[i], miss_idx=[0])\n",
    "print(i, np.sum(res))"
   ]
  },
  {
   "cell_type": "code",
   "execution_count": 10,
   "metadata": {},
   "outputs": [
    {
     "data": {
      "text/plain": [
       "2158"
      ]
     },
     "execution_count": 10,
     "metadata": {},
     "output_type": "execute_result"
    }
   ],
   "source": [
    "len(res)"
   ]
  },
  {
   "cell_type": "code",
   "execution_count": 11,
   "metadata": {},
   "outputs": [
    {
     "name": "stdout",
     "output_type": "stream",
     "text": [
      "\n",
      "        cfg = {'model_fname': '/cw/dtailocal/Dropbox/Files/KUL/research/codebases/homework/note/run-libra/model.bn', 'evidence_fname': '/cw/dtailocal/Dropbox/Files/KUL/research/codebases/homework/note/run-libra/evidence.csv', 'out_fname': '/cw/dtailocal/Dropbox/Files/KUL/research/codebases/homework/note/run-libra/result.csv', 'algo': 'icm', 'restarts': 10}\n",
      "        \n",
      "\n",
      "\n",
      "        Generated command: ['/home/elia/.opam/system/bin/libra', 'icm', '-m', '/cw/dtailocal/Dropbox/Files/KUL/research/codebases/homework/note/run-libra/model.bn', '-ev', '/cw/dtailocal/Dropbox/Files/KUL/research/codebases/homework/note/run-libra/evidence.csv', '-mo', '/cw/dtailocal/Dropbox/Files/KUL/research/codebases/homework/note/run-libra/result.csv', '-restarts', '10']\n",
      "        \n",
      "\n",
      "\n",
      "        Out_fname: /cw/dtailocal/Dropbox/Files/KUL/research/codebases/homework/note/run-libra/result.csv\n",
      "        \n",
      "\n",
      "\n",
      "        log_fname:          /cw/dtailocal/Dropbox/Files/KUL/research/codebases/homework/note/run-libra/139944400402584_PxL_log_predict\n",
      "        log_dir:            /cw/dtailocal/Dropbox/Files/KUL/research/codebases/homework/note/run-libra\n",
      "        log_bfn:            139944400402584_PxL_log_predict\n",
      "        success_log_fnames: ['139944400402584_PxL_log_predict.success.log']\n",
      "        \n",
      "\n"
     ]
    },
    {
     "data": {
      "text/plain": [
       "0"
      ]
     },
     "execution_count": 11,
     "metadata": {},
     "output_type": "execute_result"
    }
   ],
   "source": [
    "res = clf.predict(test_fname='./resc/test.csv', algo=\"icm\", targ_idx=[9], miss_idx=[0], restarts=10)\n",
    "np.sum(res)"
   ]
  },
  {
   "cell_type": "code",
   "execution_count": 12,
   "metadata": {},
   "outputs": [
    {
     "data": {
      "text/plain": [
       "array([[0],\n",
       "       [0],\n",
       "       [0],\n",
       "       ...,\n",
       "       [0],\n",
       "       [0],\n",
       "       [0]])"
      ]
     },
     "execution_count": 12,
     "metadata": {},
     "output_type": "execute_result"
    }
   ],
   "source": [
    "res"
   ]
  },
  {
   "cell_type": "markdown",
   "metadata": {
    "collapsed": true
   },
   "source": [
    "## Minimal implementation\n",
    "\n",
    "I think this will be nice in the future"
   ]
  },
  {
   "cell_type": "code",
   "execution_count": 16,
   "metadata": {},
   "outputs": [],
   "source": [
    "m = pxl.PxL(cwd = \"./tmp\")"
   ]
  },
  {
   "cell_type": "code",
   "execution_count": 17,
   "metadata": {},
   "outputs": [
    {
     "data": {
      "text/plain": [
       "{'algo': 'bnlearn', 'o': 'model.bn'}"
      ]
     },
     "execution_count": 17,
     "metadata": {},
     "output_type": "execute_result"
    }
   ],
   "source": [
    "m.cfg_fit"
   ]
  },
  {
   "cell_type": "code",
   "execution_count": 18,
   "metadata": {},
   "outputs": [
    {
     "name": "stdout",
     "output_type": "stream",
     "text": [
      "\n",
      "        Generated command: ['/home/elia/.opam/system/bin/libra', 'bnlearn', '-o', './tmp/model.bn', '-i', './tmp/../resc/test.csv']\n",
      "        \n",
      "\n"
     ]
    }
   ],
   "source": [
    "m.fit_new(i=\"../resc/test.csv\", algo=\"bnlearn\")"
   ]
  }
 ],
 "metadata": {
  "kernelspec": {
   "display_name": "Python [default]",
   "language": "python",
   "name": "python3"
  },
  "language_info": {
   "codemirror_mode": {
    "name": "ipython",
    "version": 3
   },
   "file_extension": ".py",
   "mimetype": "text/x-python",
   "name": "python",
   "nbconvert_exporter": "python",
   "pygments_lexer": "ipython3",
   "version": "3.6.1"
  },
  "toc": {
   "nav_menu": {},
   "number_sections": true,
   "sideBar": true,
   "skip_h1_title": true,
   "toc_cell": false,
   "toc_position": {},
   "toc_section_display": "block",
   "toc_window_display": false
  }
 },
 "nbformat": 4,
 "nbformat_minor": 2
}
