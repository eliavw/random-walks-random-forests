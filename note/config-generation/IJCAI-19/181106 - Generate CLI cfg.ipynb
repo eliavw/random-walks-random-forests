{
 "cells": [
  {
   "cell_type": "markdown",
   "metadata": {},
   "source": [
    "# Generate CLI configs\n",
    "\n",
    "Generate config files suitable for the CLI."
   ]
  },
  {
   "cell_type": "markdown",
   "metadata": {},
   "source": [
    "## Preliminaries"
   ]
  },
  {
   "cell_type": "markdown",
   "metadata": {
    "heading_collapsed": true
   },
   "source": [
    "### Imports"
   ]
  },
  {
   "cell_type": "code",
   "execution_count": 1,
   "metadata": {
    "collapsed": true,
    "hidden": true
   },
   "outputs": [],
   "source": [
    "# Imports\n",
    "import os\n",
    "import numpy as np\n",
    "import pandas as pd\n",
    "import json\n",
    "import sys\n",
    "import pickle as pkl\n",
    "import warnings\n",
    "\n",
    "from os.path import dirname"
   ]
  },
  {
   "cell_type": "code",
   "execution_count": 2,
   "metadata": {
    "collapsed": true,
    "hidden": true
   },
   "outputs": [],
   "source": [
    "# Custom Imports\n",
    "root_dir = dirname(dirname(os.getcwd()))\n",
    "src_dir = os.path.join(root_dir, 'src')\n",
    "sys.path.append(src_dir)\n",
    "\n",
    "from exp.utils.filesystem import ensure_dir"
   ]
  },
  {
   "cell_type": "markdown",
   "metadata": {
    "heading_collapsed": true
   },
   "source": [
    "### Methods"
   ]
  },
  {
   "cell_type": "code",
   "execution_count": 3,
   "metadata": {
    "collapsed": true,
    "hidden": true
   },
   "outputs": [],
   "source": [
    "def save_parameters(d, fname, folder=None, fresh=False):\n",
    "    \n",
    "    if folder is not None:\n",
    "        ensure_dir(folder, empty=fresh)\n",
    "        \n",
    "    ext = \"json\"\n",
    "    fname = os.path.join(folder, fname) + '.' + ext\n",
    "    \n",
    "    with open(fname, 'w') as f:\n",
    "        json.dump(d, f, indent=4, sort_keys=True)\n",
    "    return fname"
   ]
  },
  {
   "cell_type": "markdown",
   "metadata": {},
   "source": [
    "### Global Variables"
   ]
  },
  {
   "cell_type": "code",
   "execution_count": 4,
   "metadata": {
    "collapsed": true
   },
   "outputs": [],
   "source": [
    "demo_datasets = ['nltcs',\n",
    "                 'msnbc',\n",
    "                 'jester']"
   ]
  },
  {
   "cell_type": "code",
   "execution_count": 5,
   "metadata": {
    "collapsed": true
   },
   "outputs": [],
   "source": [
    "# small datasets: < 101 variables\n",
    "small_datasets = ['kdd',\n",
    "                  'plants',\n",
    "                  'baudio',\n",
    "                  'bnetflix']\n",
    "\n",
    "small_datasets = demo_datasets + small_datasets"
   ]
  },
  {
   "cell_type": "code",
   "execution_count": 6,
   "metadata": {
    "collapsed": true
   },
   "outputs": [],
   "source": [
    "# middle datasets: (100 < x < 501) variables\n",
    "medium_datasets = ['accidents',\n",
    "                   'tretail',\n",
    "                   'pumsb_star',\n",
    "                   'dna',\n",
    "                   'kosarek',\n",
    "                   'msweb',\n",
    "                   'book',\n",
    "                   'tmovie']"
   ]
  },
  {
   "cell_type": "code",
   "execution_count": 7,
   "metadata": {
    "collapsed": true
   },
   "outputs": [],
   "source": [
    "# large datasets: 500 < x variables\n",
    "large_datasets = ['cwebkb',\n",
    "                  'cr52',\n",
    "                  'c20ng',\n",
    "                  'bbc',\n",
    "                  'voting',\n",
    "                  'ad']"
   ]
  },
  {
   "cell_type": "code",
   "execution_count": 8,
   "metadata": {
    "collapsed": true
   },
   "outputs": [],
   "source": [
    "all_datasets = small_datasets + medium_datasets + large_datasets"
   ]
  },
  {
   "cell_type": "code",
   "execution_count": 9,
   "metadata": {
    "collapsed": true
   },
   "outputs": [],
   "source": [
    "hr_in_s = 60*60"
   ]
  },
  {
   "cell_type": "markdown",
   "metadata": {
    "heading_collapsed": true
   },
   "source": [
    "## Adv Demo\n",
    "\n",
    "We generate some configs for a more extensive demo for our framework."
   ]
  },
  {
   "cell_type": "markdown",
   "metadata": {
    "heading_collapsed": true,
    "hidden": true
   },
   "source": [
    "### Fixed Parameters"
   ]
  },
  {
   "cell_type": "raw",
   "metadata": {
    "collapsed": true,
    "hidden": true
   },
   "source": [
    "cfg_folder = 'Demo'"
   ]
  },
  {
   "cell_type": "raw",
   "metadata": {
    "collapsed": true,
    "hidden": true
   },
   "source": [
    "# Fixed parameters\n",
    "timeout_hrs = 1 * hr_in_s\n",
    "folds = [0,1]"
   ]
  },
  {
   "cell_type": "raw",
   "metadata": {
    "collapsed": true,
    "hidden": true
   },
   "source": [
    "meta_parameters = {'RunMercs.folds':                   folds,\n",
    "                   'RunMercs.timeout':                 timeout_hrs,\n",
    "                   'RunMercs.qry.keyword':            'iterative'}\n",
    "\n",
    "fixed_exploration = {'explore.dataset':                demo_datasets}\n",
    "\n",
    "ind_sel_parameters = {'RunMercs.Mercs.ind.type':       'DT',\n",
    "                      'RunMercs.Mercs.ind.max_depth':  6,\n",
    "                      'RunMercs.Mercs.sel.its':        4,\n",
    "                      'RunMercs.Mercs.sel.param':      2}"
   ]
  },
  {
   "cell_type": "raw",
   "metadata": {
    "collapsed": true,
    "hidden": true
   },
   "source": [
    "fixed_parameters = {**ind_sel_parameters,\n",
    "                    **meta_parameters,\n",
    "                    **fixed_exploration}"
   ]
  },
  {
   "cell_type": "markdown",
   "metadata": {
    "heading_collapsed": true,
    "hidden": true
   },
   "source": [
    "### Exploration"
   ]
  },
  {
   "cell_type": "raw",
   "metadata": {
    "collapsed": true,
    "hidden": true
   },
   "source": [
    "idx = 2"
   ]
  },
  {
   "cell_type": "raw",
   "metadata": {
    "collapsed": true,
    "hidden": true
   },
   "source": [
    "exp_parameters = {'idx':                                    idx,\n",
    "                  'explore.Mercs.pred.type':                ['MI', 'MA', 'MAFI'],\n",
    "                  'explore.Mercs.pred.param':               [0.95],\n",
    "                  'explore.Mercs.pred.its':                 [0.1]}"
   ]
  },
  {
   "cell_type": "raw",
   "metadata": {
    "hidden": true
   },
   "source": [
    "fname = str(exp_parameters['idx']) +'_' +  'demo_02'\n",
    "save_parameters({**fixed_parameters, **exp_parameters}, fname, folder=cfg_folder)"
   ]
  },
  {
   "cell_type": "markdown",
   "metadata": {},
   "source": [
    "## AAAI-19 Final Cut"
   ]
  },
  {
   "cell_type": "markdown",
   "metadata": {},
   "source": [
    "### Fixed Params"
   ]
  },
  {
   "cell_type": "raw",
   "metadata": {
    "collapsed": true
   },
   "source": [
    "# Fixed parameters\n",
    "cfg_folder = 'aaai19_repeat'\n",
    "\n",
    "timeout_hrs = 5 * hr_in_s\n",
    "folds = [0,1,2,3]\n",
    "\n",
    "start_idx = 10"
   ]
  },
  {
   "cell_type": "raw",
   "metadata": {
    "collapsed": true
   },
   "source": [
    "meta_parameters = {'RunMercs.folds':                   folds,\n",
    "                   'RunMercs.timeout':                 timeout_hrs,\n",
    "                   'RunMercs.qry.keyword':            'iterative'}\n",
    "\n",
    "fixed_exploration = {'explore.dataset':                all_datasets}\n",
    "\n",
    "ind_sel_parameters = {'RunMercs.Mercs.ind.type':       'DT',\n",
    "                      'RunMercs.Mercs.ind.max_depth':  4,\n",
    "                      'RunMercs.Mercs.sel.its':        4,\n",
    "                      'RunMercs.Mercs.sel.param':      2}"
   ]
  },
  {
   "cell_type": "raw",
   "metadata": {
    "collapsed": true
   },
   "source": [
    "fixed_parameters = {**ind_sel_parameters,\n",
    "                    **meta_parameters,\n",
    "                    **fixed_exploration}"
   ]
  },
  {
   "cell_type": "markdown",
   "metadata": {},
   "source": [
    "### Exploration - SL"
   ]
  },
  {
   "cell_type": "raw",
   "metadata": {
    "collapsed": true
   },
   "source": [
    "exp_parameters = {'idx':                                    start_idx + 0,\n",
    "                  'explore.Mercs.pred.type':                ['MI', 'MA', 'MAFI'],\n",
    "                  'explore.Mercs.pred.param':               [0.95],\n",
    "                  'explore.Mercs.pred.its':                 [0.1]}"
   ]
  },
  {
   "cell_type": "raw",
   "metadata": {
    "collapsed": true
   },
   "source": [
    "fname = str(exp_parameters['idx']) +'_' +  'pred_sl'"
   ]
  },
  {
   "cell_type": "raw",
   "metadata": {},
   "source": [
    "save_parameters({**fixed_parameters, **exp_parameters}, fname, folder=cfg_folder)"
   ]
  },
  {
   "cell_type": "markdown",
   "metadata": {},
   "source": [
    "### Exploration - IT"
   ]
  },
  {
   "cell_type": "raw",
   "metadata": {
    "collapsed": true
   },
   "source": [
    "exp_parameters = {'idx':                                    start_idx + 1,\n",
    "                  'explore.Mercs.pred.type':                ['IT'],\n",
    "                  'explore.Mercs.pred.param':               [0.1],\n",
    "                  'explore.Mercs.pred.its':                 [8]}"
   ]
  },
  {
   "cell_type": "raw",
   "metadata": {
    "collapsed": true
   },
   "source": [
    "fname = str(exp_parameters['idx']) +'_' +  'pred_it'"
   ]
  },
  {
   "cell_type": "raw",
   "metadata": {},
   "source": [
    "save_parameters({**fixed_parameters, **exp_parameters}, fname, folder=cfg_folder)"
   ]
  },
  {
   "cell_type": "markdown",
   "metadata": {},
   "source": [
    "### Exploration - RW"
   ]
  },
  {
   "cell_type": "raw",
   "metadata": {
    "collapsed": true
   },
   "source": [
    "exp_parameters = {'idx':                                    start_idx + 2,\n",
    "                  'explore.Mercs.pred.type':                ['RW'],\n",
    "                  'explore.Mercs.pred.param':               [2],\n",
    "                  'explore.Mercs.pred.its':                 [16]}"
   ]
  },
  {
   "cell_type": "raw",
   "metadata": {
    "collapsed": true
   },
   "source": [
    "fname = str(exp_parameters['idx']) +'_' +  'pred_rw'"
   ]
  },
  {
   "cell_type": "raw",
   "metadata": {},
   "source": [
    "save_parameters({**fixed_parameters, **exp_parameters}, fname, folder=cfg_folder)"
   ]
  },
  {
   "cell_type": "markdown",
   "metadata": {
    "heading_collapsed": true
   },
   "source": [
    "## Test Load Models"
   ]
  },
  {
   "cell_type": "markdown",
   "metadata": {
    "heading_collapsed": true,
    "hidden": true
   },
   "source": [
    "### Fixed Params"
   ]
  },
  {
   "cell_type": "raw",
   "metadata": {
    "collapsed": true,
    "hidden": true
   },
   "source": [
    "cfg_folder = 'load_test'"
   ]
  },
  {
   "cell_type": "raw",
   "metadata": {
    "collapsed": true,
    "hidden": true
   },
   "source": [
    "# Fixed parameters\n",
    "timeout_hrs = 1 * hr_in_s\n",
    "folds = [1,2]\n",
    "datasets = ['nltcs', 'bnetflix']"
   ]
  },
  {
   "cell_type": "raw",
   "metadata": {
    "collapsed": true,
    "hidden": true
   },
   "source": [
    "meta_parameters = {'RunMercs.folds':                   folds,\n",
    "                   'RunMercs.timeout':                 timeout_hrs,\n",
    "                   'RunMercs.qry.keyword':            'iterative'}\n",
    "\n",
    "fixed_exploration = {'explore.dataset':                datasets}\n",
    "\n",
    "ind_sel_parameters = {'RunMercs.mod.type':            'Mercs',\n",
    "                      'RunMercs.mod.keyword':         'default'}"
   ]
  },
  {
   "cell_type": "raw",
   "metadata": {
    "collapsed": true,
    "hidden": true
   },
   "source": [
    "fixed_parameters = {**ind_sel_parameters,\n",
    "                    **meta_parameters,\n",
    "                    **fixed_exploration}"
   ]
  },
  {
   "cell_type": "markdown",
   "metadata": {
    "heading_collapsed": true,
    "hidden": true
   },
   "source": [
    "### Exploration"
   ]
  },
  {
   "cell_type": "raw",
   "metadata": {
    "collapsed": true,
    "hidden": true
   },
   "source": [
    "idx = 3"
   ]
  },
  {
   "cell_type": "raw",
   "metadata": {
    "collapsed": true,
    "hidden": true
   },
   "source": [
    "exp_parameters = {'idx':                                    idx,\n",
    "                  'explore.Mercs.pred.type':                ['MI', 'MA', 'MAFI'],\n",
    "                  'explore.Mercs.pred.param':               [0.95],\n",
    "                  'explore.Mercs.pred.its':                 [0.1]}"
   ]
  },
  {
   "cell_type": "raw",
   "metadata": {
    "hidden": true
   },
   "source": [
    "fname = str(exp_parameters['idx']) +'_' +  'load_demo'\n",
    "save_parameters({**fixed_parameters, **exp_parameters}, fname, folder=cfg_folder)"
   ]
  },
  {
   "cell_type": "markdown",
   "metadata": {
    "heading_collapsed": true
   },
   "source": [
    "## SMILE Parallel"
   ]
  },
  {
   "cell_type": "markdown",
   "metadata": {
    "hidden": true
   },
   "source": [
    "### Fixed Params"
   ]
  },
  {
   "cell_type": "code",
   "execution_count": 10,
   "metadata": {
    "collapsed": true,
    "hidden": true
   },
   "outputs": [],
   "source": [
    "cfg_folder = 'smile_decent'"
   ]
  },
  {
   "cell_type": "code",
   "execution_count": 11,
   "metadata": {
    "collapsed": true,
    "hidden": true
   },
   "outputs": [],
   "source": [
    "# Fixed parameters\n",
    "timeout_hrs = 1 * hr_in_s\n",
    "folds = [0]\n",
    "child='RunSmileParallel'"
   ]
  },
  {
   "cell_type": "code",
   "execution_count": 12,
   "metadata": {
    "collapsed": true,
    "hidden": true
   },
   "outputs": [],
   "source": [
    "gen_parameters = {\"child\":                          child,\n",
    "                  child+\".folds\":                   folds,\n",
    "                  child+\".timeout\":                 timeout_hrs}\n",
    "\n",
    "qry_parameters = {child+\".qry.keyword\":             \"iterative\",\n",
    "                  child+\".nb_queries\":               550}\n",
    "\n",
    "mod_parameters = {child+\".mod.keyword\":             \"default\",\n",
    "                  child+\".mod.type\":                \"PxS\"}"
   ]
  },
  {
   "cell_type": "code",
   "execution_count": 13,
   "metadata": {
    "collapsed": true,
    "hidden": true
   },
   "outputs": [],
   "source": [
    "fixed_parameters = {**gen_parameters, **qry_parameters, **mod_parameters}"
   ]
  },
  {
   "cell_type": "markdown",
   "metadata": {
    "hidden": true
   },
   "source": [
    "### Exploration"
   ]
  },
  {
   "cell_type": "markdown",
   "metadata": {
    "hidden": true
   },
   "source": [
    "#### Small Datasets"
   ]
  },
  {
   "cell_type": "code",
   "execution_count": 14,
   "metadata": {
    "collapsed": true,
    "hidden": true
   },
   "outputs": [],
   "source": [
    "idx = 5"
   ]
  },
  {
   "cell_type": "code",
   "execution_count": 15,
   "metadata": {
    "collapsed": true,
    "hidden": true
   },
   "outputs": [],
   "source": [
    "exp_parameters = {'idx':            idx,\n",
    "                  'explore.dataset': all_datasets}"
   ]
  },
  {
   "cell_type": "code",
   "execution_count": 16,
   "metadata": {
    "hidden": true
   },
   "outputs": [
    {
     "data": {
      "text/plain": [
       "'smile_decent/5_decent.json'"
      ]
     },
     "execution_count": 16,
     "metadata": {},
     "output_type": "execute_result"
    }
   ],
   "source": [
    "fname = str(exp_parameters['idx']) +'_' +  'decent'\n",
    "save_parameters({**fixed_parameters, **exp_parameters}, fname, folder=cfg_folder)"
   ]
  }
 ],
 "metadata": {
  "kernelspec": {
   "display_name": "Python [default]",
   "language": "python",
   "name": "python3"
  },
  "language_info": {
   "codemirror_mode": {
    "name": "ipython",
    "version": 3
   },
   "file_extension": ".py",
   "mimetype": "text/x-python",
   "name": "python",
   "nbconvert_exporter": "python",
   "pygments_lexer": "ipython3",
   "version": "3.6.8"
  },
  "toc": {
   "nav_menu": {},
   "number_sections": true,
   "sideBar": true,
   "skip_h1_title": true,
   "toc_cell": false,
   "toc_position": {},
   "toc_section_display": "block",
   "toc_window_display": true
  }
 },
 "nbformat": 4,
 "nbformat_minor": 2
}
