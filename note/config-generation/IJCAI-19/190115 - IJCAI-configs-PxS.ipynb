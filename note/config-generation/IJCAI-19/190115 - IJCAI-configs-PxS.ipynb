{
 "cells": [
  {
   "cell_type": "markdown",
   "metadata": {},
   "source": [
    "# Generate CLI configs - PxS\n",
    "\n",
    "Generate config files suitable for the CLI for the IJCAI 2019 submission. This notebook makes the PxS libraries."
   ]
  },
  {
   "cell_type": "markdown",
   "metadata": {
    "heading_collapsed": true
   },
   "source": [
    "## Preliminaries"
   ]
  },
  {
   "cell_type": "markdown",
   "metadata": {
    "heading_collapsed": true,
    "hidden": true
   },
   "source": [
    "### Imports"
   ]
  },
  {
   "cell_type": "code",
   "execution_count": 1,
   "metadata": {
    "collapsed": true,
    "hidden": true
   },
   "outputs": [],
   "source": [
    "# Imports\n",
    "import os\n",
    "import numpy as np\n",
    "import pandas as pd\n",
    "import json\n",
    "import sys\n",
    "import pickle as pkl\n",
    "import warnings\n",
    "\n",
    "from os.path import dirname"
   ]
  },
  {
   "cell_type": "code",
   "execution_count": 2,
   "metadata": {
    "collapsed": true,
    "hidden": true
   },
   "outputs": [],
   "source": [
    "# Custom Imports\n",
    "root_dir = dirname(dirname(os.getcwd()))\n",
    "src_dir = os.path.join(root_dir, 'src')\n",
    "sys.path.append(src_dir)\n",
    "\n",
    "from exp.utils.filesystem import ensure_dir"
   ]
  },
  {
   "cell_type": "markdown",
   "metadata": {
    "heading_collapsed": true,
    "hidden": true
   },
   "source": [
    "### Methods"
   ]
  },
  {
   "cell_type": "code",
   "execution_count": 3,
   "metadata": {
    "collapsed": true,
    "hidden": true
   },
   "outputs": [],
   "source": [
    "def save_parameters(d, fname, folder=None, fresh=False):\n",
    "    \"\"\"\n",
    "    Function that saves the parameters as a json file.\n",
    "    \"\"\"\n",
    "    \n",
    "    if folder is not None:\n",
    "        ensure_dir(folder, empty=fresh)\n",
    "        \n",
    "    ext = \"json\"\n",
    "    fname = os.path.join(folder, fname) + '.' + ext\n",
    "    \n",
    "    with open(fname, 'w') as f:\n",
    "        json.dump(d, f, indent=4, sort_keys=True)\n",
    "    return fname"
   ]
  },
  {
   "cell_type": "markdown",
   "metadata": {
    "heading_collapsed": true,
    "hidden": true
   },
   "source": [
    "### Global Variables\n",
    "\n",
    "For all info dataset-related, cf. https://github.com/UCLA-StarAI/Density-Estimation-Datasets. That is the source. \n",
    "\n",
    "For the rest this section defines some lists and variables that will recur."
   ]
  },
  {
   "cell_type": "code",
   "execution_count": 4,
   "metadata": {
    "code_folding": [],
    "collapsed": true,
    "hidden": true
   },
   "outputs": [],
   "source": [
    "# tiny datasets < 20 variables\n",
    "tiny_datasets = ['nltcs',\n",
    "                 'msnbc']"
   ]
  },
  {
   "cell_type": "code",
   "execution_count": 5,
   "metadata": {
    "code_folding": [],
    "collapsed": true,
    "hidden": true
   },
   "outputs": [],
   "source": [
    "# small datasets: < 101 variables\n",
    "small_datasets = ['jester',\n",
    "                  'kdd',\n",
    "                  'plants',\n",
    "                  'baudio',\n",
    "                  'bnetflix']\n",
    "\n",
    "tiny_small_datasets = tiny_datasets + small_datasets"
   ]
  },
  {
   "cell_type": "code",
   "execution_count": 6,
   "metadata": {
    "code_folding": [
     1
    ],
    "collapsed": true,
    "hidden": true
   },
   "outputs": [],
   "source": [
    "# middle datasets: (100 < x < 501) variables\n",
    "medium_datasets = ['accidents',\n",
    "                   'tretail',\n",
    "                   'pumsb_star',\n",
    "                   'dna',\n",
    "                   'kosarek',\n",
    "                   'msweb',\n",
    "                   'book',\n",
    "                   'tmovie']"
   ]
  },
  {
   "cell_type": "code",
   "execution_count": 7,
   "metadata": {
    "code_folding": [
     1
    ],
    "collapsed": true,
    "hidden": true
   },
   "outputs": [],
   "source": [
    "# large datasets: 500 < x variables\n",
    "large_datasets = ['cwebkb',\n",
    "                  'cr52',\n",
    "                  'c20ng',\n",
    "                  'bbc',\n",
    "                  'voting',\n",
    "                  'ad']"
   ]
  },
  {
   "cell_type": "code",
   "execution_count": 8,
   "metadata": {
    "collapsed": true,
    "hidden": true
   },
   "outputs": [],
   "source": [
    "all_datasets = tiny_small_datasets + medium_datasets + large_datasets"
   ]
  },
  {
   "cell_type": "code",
   "execution_count": 9,
   "metadata": {
    "collapsed": true,
    "hidden": true
   },
   "outputs": [],
   "source": [
    "hr_in_s = 60*60"
   ]
  },
  {
   "cell_type": "markdown",
   "metadata": {},
   "source": [
    "## Local Demo"
   ]
  },
  {
   "cell_type": "markdown",
   "metadata": {},
   "source": [
    "### Fixed Parameters\n",
    "\n",
    "Defining some fixed parameters."
   ]
  },
  {
   "cell_type": "code",
   "execution_count": 10,
   "metadata": {
    "collapsed": true
   },
   "outputs": [],
   "source": [
    "cfg_folder = 'ijcai-local-PxS'\n",
    "child = 'RunSmileParallel'"
   ]
  },
  {
   "cell_type": "code",
   "execution_count": 11,
   "metadata": {
    "collapsed": true
   },
   "outputs": [],
   "source": [
    "to_hrs =  1 * hr_in_s # locally, I invest a max of 1 hr.\n",
    "folds = [0]           # One fold."
   ]
  },
  {
   "cell_type": "code",
   "execution_count": 12,
   "metadata": {
    "collapsed": true
   },
   "outputs": [],
   "source": [
    "gen_parameters = {\"child\":                            child,\n",
    "                  child + \".folds\":                   folds,\n",
    "                  child + \".timeout\":                 to_hrs}\n",
    "\n",
    "qry_parameters = {child + \".qry.keyword\":             \"it-S\",\n",
    "                  child + \".nb_queries\":               100}\n",
    "\n",
    "mod_parameters = {child + \".mod.keyword\":             \"default\",\n",
    "                  child + \".mod.type\":                \"PxS\"}"
   ]
  },
  {
   "cell_type": "code",
   "execution_count": 13,
   "metadata": {
    "collapsed": true
   },
   "outputs": [],
   "source": [
    "fixed_parameters = {**gen_parameters, **qry_parameters, **mod_parameters}"
   ]
  },
  {
   "cell_type": "markdown",
   "metadata": {},
   "source": [
    "### Exploration\n",
    "\n",
    "Here we define the grid that has to be searched."
   ]
  },
  {
   "cell_type": "code",
   "execution_count": 14,
   "metadata": {
    "collapsed": true
   },
   "outputs": [],
   "source": [
    "idx = 100"
   ]
  },
  {
   "cell_type": "code",
   "execution_count": 15,
   "metadata": {
    "collapsed": true
   },
   "outputs": [],
   "source": [
    "exp_parameters = {'idx':             idx,\n",
    "                  'explore.dataset': tiny_datasets}"
   ]
  },
  {
   "cell_type": "code",
   "execution_count": 16,
   "metadata": {},
   "outputs": [
    {
     "data": {
      "text/plain": [
       "'ijcai-local-PxS/100_PxS-local.json'"
      ]
     },
     "execution_count": 16,
     "metadata": {},
     "output_type": "execute_result"
    }
   ],
   "source": [
    "fname = str(exp_parameters['idx']) +'_' +  'PxS-local'\n",
    "save_parameters({**fixed_parameters, **exp_parameters}, fname, folder=cfg_folder)"
   ]
  },
  {
   "cell_type": "markdown",
   "metadata": {},
   "source": [
    "## Remote Lite"
   ]
  },
  {
   "cell_type": "markdown",
   "metadata": {},
   "source": [
    "### Fixed Params"
   ]
  },
  {
   "cell_type": "code",
   "execution_count": 17,
   "metadata": {
    "collapsed": true
   },
   "outputs": [],
   "source": [
    "cfg_folder = 'ijcai-PxS-A'\n",
    "child = 'RunSmileParallel'"
   ]
  },
  {
   "cell_type": "code",
   "execution_count": 18,
   "metadata": {
    "collapsed": true
   },
   "outputs": [],
   "source": [
    "to_hrs =  1 * hr_in_s # locally, I invest a max of 1 hr.\n",
    "folds = [0]           # One fold."
   ]
  },
  {
   "cell_type": "code",
   "execution_count": 19,
   "metadata": {
    "collapsed": true
   },
   "outputs": [],
   "source": [
    "gen_parameters = {\"child\":                            child,\n",
    "                  child + \".folds\":                   folds,\n",
    "                  child + \".timeout\":                 to_hrs}\n",
    "\n",
    "qry_parameters = {child + \".qry.keyword\":             \"it-S\",\n",
    "                  child + \".nb_queries\":               100}\n",
    "\n",
    "mod_parameters = {child + \".mod.keyword\":             \"default\",\n",
    "                  child + \".mod.type\":                \"PxS\"}\n",
    "\n",
    "fixed_parameters = {**gen_parameters, **qry_parameters, **mod_parameters}"
   ]
  },
  {
   "cell_type": "markdown",
   "metadata": {},
   "source": [
    "### Exploration"
   ]
  },
  {
   "cell_type": "code",
   "execution_count": 20,
   "metadata": {
    "collapsed": true
   },
   "outputs": [],
   "source": [
    "idx = 100"
   ]
  },
  {
   "cell_type": "code",
   "execution_count": 21,
   "metadata": {
    "collapsed": true
   },
   "outputs": [],
   "source": [
    "exp_parameters = {'idx':             idx,\n",
    "                  'explore.dataset': tiny_small_datasets}"
   ]
  },
  {
   "cell_type": "code",
   "execution_count": 22,
   "metadata": {},
   "outputs": [
    {
     "data": {
      "text/plain": [
       "'ijcai-PxS-A/100_PxS-A.json'"
      ]
     },
     "execution_count": 22,
     "metadata": {},
     "output_type": "execute_result"
    }
   ],
   "source": [
    "fname = str(exp_parameters['idx']) +'_' +  'PxS-A'\n",
    "save_parameters({**fixed_parameters, **exp_parameters}, fname, folder=cfg_folder)"
   ]
  }
 ],
 "metadata": {
  "kernelspec": {
   "display_name": "Python [default]",
   "language": "python",
   "name": "python3"
  },
  "language_info": {
   "codemirror_mode": {
    "name": "ipython",
    "version": 3
   },
   "file_extension": ".py",
   "mimetype": "text/x-python",
   "name": "python",
   "nbconvert_exporter": "python",
   "pygments_lexer": "ipython3",
   "version": "3.6.8"
  },
  "toc": {
   "nav_menu": {},
   "number_sections": true,
   "sideBar": true,
   "skip_h1_title": true,
   "toc_cell": false,
   "toc_position": {},
   "toc_section_display": "block",
   "toc_window_display": true
  }
 },
 "nbformat": 4,
 "nbformat_minor": 2
}
