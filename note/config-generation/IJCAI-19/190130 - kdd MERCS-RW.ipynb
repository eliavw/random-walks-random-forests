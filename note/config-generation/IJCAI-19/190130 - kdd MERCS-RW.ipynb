{
 "cells": [
  {
   "cell_type": "markdown",
   "metadata": {},
   "source": [
    "# Generate CLI configs\n",
    "\n",
    "Generate config files suitable for the CLI for the KDD 2019 submission."
   ]
  },
  {
   "cell_type": "markdown",
   "metadata": {},
   "source": [
    "## Preliminaries"
   ]
  },
  {
   "cell_type": "markdown",
   "metadata": {
    "heading_collapsed": true
   },
   "source": [
    "### Imports"
   ]
  },
  {
   "cell_type": "code",
   "execution_count": 1,
   "metadata": {
    "collapsed": true,
    "hidden": true
   },
   "outputs": [],
   "source": [
    "# Imports\n",
    "import os\n",
    "import numpy as np\n",
    "import pandas as pd\n",
    "import json\n",
    "import sys\n",
    "import pickle as pkl\n",
    "import warnings\n",
    "from datetime import datetime\n",
    "\n",
    "from os.path import dirname"
   ]
  },
  {
   "cell_type": "code",
   "execution_count": 2,
   "metadata": {
    "collapsed": true,
    "hidden": true
   },
   "outputs": [],
   "source": [
    "# Custom Imports\n",
    "root_dir = dirname(dirname(os.getcwd()))\n",
    "src_dir = os.path.join(root_dir, 'src')\n",
    "sys.path.append(src_dir)\n",
    "\n",
    "from exp.utils.filesystem import ensure_dir"
   ]
  },
  {
   "cell_type": "markdown",
   "metadata": {
    "heading_collapsed": true
   },
   "source": [
    "### Methods"
   ]
  },
  {
   "cell_type": "code",
   "execution_count": 3,
   "metadata": {
    "collapsed": true,
    "hidden": true
   },
   "outputs": [],
   "source": [
    "def save_parameters(d, fname, folder=None, fresh=False):\n",
    "    \"\"\"\n",
    "    Function that saves the parameters as a json file.\n",
    "    \"\"\"\n",
    "    \n",
    "    if folder is not None:\n",
    "        ensure_dir(folder, empty=fresh)\n",
    "        \n",
    "    ext = \"json\"\n",
    "    fname = os.path.join(folder, fname) + '.' + ext\n",
    "    \n",
    "    with open(fname, 'w') as f:\n",
    "        json.dump(d, f, indent=4, sort_keys=True)\n",
    "    return fname"
   ]
  },
  {
   "cell_type": "markdown",
   "metadata": {},
   "source": [
    "### Global Variables\n",
    "\n",
    "For all info dataset-related, cf. https://github.com/UCLA-StarAI/Density-Estimation-Datasets. That is the source. \n",
    "\n",
    "For the rest this section defines some lists and variables that will recur."
   ]
  },
  {
   "cell_type": "code",
   "execution_count": 4,
   "metadata": {
    "code_folding": [],
    "collapsed": true
   },
   "outputs": [],
   "source": [
    "# tiny datasets < 20 variables\n",
    "tiny_datasets = ['nltcs',\n",
    "                 'msnbc']"
   ]
  },
  {
   "cell_type": "code",
   "execution_count": 5,
   "metadata": {
    "code_folding": [],
    "collapsed": true
   },
   "outputs": [],
   "source": [
    "# small datasets: < 101 variables\n",
    "small_datasets = ['jester',\n",
    "                  'kdd',\n",
    "                  'plants',\n",
    "                  'baudio',\n",
    "                  'bnetflix']"
   ]
  },
  {
   "cell_type": "code",
   "execution_count": 6,
   "metadata": {
    "code_folding": [],
    "collapsed": true
   },
   "outputs": [],
   "source": [
    "# middle datasets: (100 < x < 501) variables\n",
    "medium_datasets = ['accidents',\n",
    "                   'tretail',\n",
    "                   'pumsb_star',\n",
    "                   'dna',\n",
    "                   'kosarek',\n",
    "                   'msweb',\n",
    "                   'book',\n",
    "                   'tmovie']"
   ]
  },
  {
   "cell_type": "code",
   "execution_count": 7,
   "metadata": {
    "code_folding": [],
    "collapsed": true
   },
   "outputs": [],
   "source": [
    "# large datasets: 500 < x variables\n",
    "large_datasets = ['cwebkb',\n",
    "                  'cr52',\n",
    "                  'c20ng',\n",
    "                  'bbc',\n",
    "                  'voting',\n",
    "                  'ad']"
   ]
  },
  {
   "cell_type": "code",
   "execution_count": 8,
   "metadata": {
    "collapsed": true
   },
   "outputs": [],
   "source": [
    "tiny_small_datasets = tiny_datasets + small_datasets\n",
    "medium_large_datasets = medium_datasets + large_datasets\n",
    "all_datasets = tiny_datasets + small_datasets + medium_datasets + large_datasets"
   ]
  },
  {
   "cell_type": "code",
   "execution_count": 9,
   "metadata": {
    "collapsed": true
   },
   "outputs": [],
   "source": [
    "hr_in_s = 60*60\n",
    "datecode = \"{:%y%m%d}\".format(datetime.now())"
   ]
  },
  {
   "cell_type": "code",
   "execution_count": null,
   "metadata": {
    "collapsed": true
   },
   "outputs": [],
   "source": []
  },
  {
   "cell_type": "code",
   "execution_count": 10,
   "metadata": {
    "collapsed": true
   },
   "outputs": [],
   "source": [
    "to_hrs =  1 * hr_in_s # locally, I invest a max of 1 hr.\n",
    "folds = [0]           # One fold."
   ]
  },
  {
   "cell_type": "code",
   "execution_count": 11,
   "metadata": {
    "collapsed": true
   },
   "outputs": [],
   "source": [
    "meta_parameters = {'RunMercs.folds':                   folds,\n",
    "                   'RunMercs.timeout':                 to_hrs,\n",
    "                   'RunMercs.qry.keyword':            'it-S'}\n",
    "\n",
    "fixed_exploration = {'explore.dataset':                tiny_small_datasets}\n",
    "\n",
    "ind_sel_parameters = {'RunMercs.Mercs.ind.type':       'DT',\n",
    "                      'RunMercs.Mercs.ind.max_depth':  4,\n",
    "                      'RunMercs.Mercs.sel.its':        4,\n",
    "                      'RunMercs.Mercs.sel.param':      2}"
   ]
  },
  {
   "cell_type": "code",
   "execution_count": 12,
   "metadata": {
    "collapsed": true
   },
   "outputs": [],
   "source": [
    "fixed_parameters = {**ind_sel_parameters,\n",
    "                    **meta_parameters,\n",
    "                    **fixed_exploration}"
   ]
  },
  {
   "cell_type": "markdown",
   "metadata": {
    "collapsed": true
   },
   "source": [
    "## Remote-All\n",
    "\n",
    "Exploration for RW-params"
   ]
  },
  {
   "cell_type": "code",
   "execution_count": 13,
   "metadata": {
    "collapsed": true
   },
   "outputs": [],
   "source": [
    "cfg_folder = datecode+'-kdd-mercs-rw'\n",
    "to_hrs =  int(2 * hr_in_s) # I invest a max of 2 hr.\n",
    "folds = [0]           # One fold.\n",
    "start_idx = 20"
   ]
  },
  {
   "cell_type": "markdown",
   "metadata": {},
   "source": [
    "### Fixed Params"
   ]
  },
  {
   "cell_type": "code",
   "execution_count": 14,
   "metadata": {
    "collapsed": true
   },
   "outputs": [],
   "source": [
    "meta_parameters = {'RunMercs.folds':                   folds,\n",
    "                   'RunMercs.timeout':                 to_hrs,\n",
    "                   'RunMercs.qry.keyword':            'it-S'}\n",
    "\n",
    "fixed_exploration = {'explore.dataset':                all_datasets,\n",
    "                     'explore.Mercs.ind.max_depth':    [4]}\n",
    "\n",
    "ind_parameters = {'RunMercs.Mercs.ind.type':       'DT'}\n",
    "\n",
    "sel_parameters = {'RunMercs.Mercs.sel.its':        8,\n",
    "                  'RunMercs.Mercs.sel.param':      2}\n",
    "\n",
    "fixed_parameters = {**ind_parameters,\n",
    "                    **sel_parameters,\n",
    "                    **meta_parameters,\n",
    "                    **fixed_exploration}"
   ]
  },
  {
   "cell_type": "markdown",
   "metadata": {},
   "source": [
    "### Single Layer"
   ]
  },
  {
   "cell_type": "raw",
   "metadata": {
    "collapsed": true
   },
   "source": [
    "exp_parameters = {'idx':                                    start_idx + 0,\n",
    "                  'explore.Mercs.pred.type':                ['MI'],\n",
    "                  'explore.Mercs.pred.param':               [0.95],\n",
    "                  'explore.Mercs.pred.its':                 [0.1]}"
   ]
  },
  {
   "cell_type": "raw",
   "metadata": {},
   "source": [
    "fname = str(exp_parameters['idx']) +'_' +  'mercs-sl'\n",
    "save_parameters({**fixed_parameters, **exp_parameters}, fname, folder=cfg_folder)"
   ]
  },
  {
   "cell_type": "markdown",
   "metadata": {},
   "source": [
    "### Multi-Layer"
   ]
  },
  {
   "cell_type": "raw",
   "metadata": {},
   "source": [
    "exp_parameters = {'idx':                                    start_idx + 1,\n",
    "                  'explore.Mercs.pred.type':                ['IT'],\n",
    "                  'explore.Mercs.pred.param':               [0.1],\n",
    "                  'explore.Mercs.pred.its':                 [8]}\n",
    "\n",
    "fname = str(exp_parameters['idx']) +'_' +  'mercs-it'\n",
    "save_parameters({**fixed_parameters, **exp_parameters}, fname, folder=cfg_folder)"
   ]
  },
  {
   "cell_type": "code",
   "execution_count": 15,
   "metadata": {},
   "outputs": [
    {
     "data": {
      "text/plain": [
       "'190131-kdd-mercs-rw/30_mercs-rw.json'"
      ]
     },
     "execution_count": 15,
     "metadata": {},
     "output_type": "execute_result"
    }
   ],
   "source": [
    "\n",
    "\n",
    "exp_parameters = {'idx':                                    30,\n",
    "                  'explore.Mercs.pred.type':                ['RW'],\n",
    "                  'explore.Mercs.pred.param':               [2,4,16],\n",
    "                  'explore.Mercs.pred.its':                 [16]}\n",
    "\n",
    "fname = str(exp_parameters['idx']) +'_' +  'mercs-rw'\n",
    "save_parameters({**fixed_parameters, **exp_parameters}, fname, folder=cfg_folder)"
   ]
  },
  {
   "cell_type": "code",
   "execution_count": null,
   "metadata": {
    "collapsed": true
   },
   "outputs": [],
   "source": []
  },
  {
   "cell_type": "code",
   "execution_count": null,
   "metadata": {
    "collapsed": true
   },
   "outputs": [],
   "source": []
  }
 ],
 "metadata": {
  "kernelspec": {
   "display_name": "Python [default]",
   "language": "python",
   "name": "python3"
  },
  "language_info": {
   "codemirror_mode": {
    "name": "ipython",
    "version": 3
   },
   "file_extension": ".py",
   "mimetype": "text/x-python",
   "name": "python",
   "nbconvert_exporter": "python",
   "pygments_lexer": "ipython3",
   "version": "3.6.8"
  },
  "toc": {
   "nav_menu": {},
   "number_sections": true,
   "sideBar": true,
   "skip_h1_title": true,
   "toc_cell": false,
   "toc_position": {},
   "toc_section_display": "block",
   "toc_window_display": true
  }
 },
 "nbformat": 4,
 "nbformat_minor": 2
}
