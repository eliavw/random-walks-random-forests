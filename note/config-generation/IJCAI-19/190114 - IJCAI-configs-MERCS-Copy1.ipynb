{
 "cells": [
  {
   "cell_type": "markdown",
   "metadata": {},
   "source": [
    "# Generate CLI configs\n",
    "\n",
    "Generate config files suitable for the CLI for the IJCAI 2019 submission."
   ]
  },
  {
   "cell_type": "markdown",
   "metadata": {
    "heading_collapsed": true
   },
   "source": [
    "## Preliminaries"
   ]
  },
  {
   "cell_type": "markdown",
   "metadata": {
    "heading_collapsed": true,
    "hidden": true
   },
   "source": [
    "### Imports"
   ]
  },
  {
   "cell_type": "code",
   "execution_count": 1,
   "metadata": {
    "collapsed": true,
    "hidden": true
   },
   "outputs": [],
   "source": [
    "# Imports\n",
    "import os\n",
    "import numpy as np\n",
    "import pandas as pd\n",
    "import json\n",
    "import sys\n",
    "import pickle as pkl\n",
    "import warnings\n",
    "\n",
    "from os.path import dirname"
   ]
  },
  {
   "cell_type": "code",
   "execution_count": 2,
   "metadata": {
    "collapsed": true,
    "hidden": true
   },
   "outputs": [],
   "source": [
    "# Custom Imports\n",
    "root_dir = dirname(dirname(os.getcwd()))\n",
    "src_dir = os.path.join(root_dir, 'src')\n",
    "sys.path.append(src_dir)\n",
    "\n",
    "from exp.utils.filesystem import ensure_dir"
   ]
  },
  {
   "cell_type": "markdown",
   "metadata": {
    "heading_collapsed": true,
    "hidden": true
   },
   "source": [
    "### Methods"
   ]
  },
  {
   "cell_type": "code",
   "execution_count": 3,
   "metadata": {
    "collapsed": true,
    "hidden": true
   },
   "outputs": [],
   "source": [
    "def save_parameters(d, fname, folder=None, fresh=False):\n",
    "    \"\"\"\n",
    "    Function that saves the parameters as a json file.\n",
    "    \"\"\"\n",
    "    \n",
    "    if folder is not None:\n",
    "        ensure_dir(folder, empty=fresh)\n",
    "        \n",
    "    ext = \"json\"\n",
    "    fname = os.path.join(folder, fname) + '.' + ext\n",
    "    \n",
    "    with open(fname, 'w') as f:\n",
    "        json.dump(d, f, indent=4, sort_keys=True)\n",
    "    return fname"
   ]
  },
  {
   "cell_type": "markdown",
   "metadata": {
    "heading_collapsed": true,
    "hidden": true
   },
   "source": [
    "### Global Variables\n",
    "\n",
    "For all info dataset-related, cf. https://github.com/UCLA-StarAI/Density-Estimation-Datasets. That is the source. \n",
    "\n",
    "For the rest this section defines some lists and variables that will recur."
   ]
  },
  {
   "cell_type": "code",
   "execution_count": 4,
   "metadata": {
    "code_folding": [],
    "collapsed": true,
    "hidden": true
   },
   "outputs": [],
   "source": [
    "# tiny datasets < 20 variables\n",
    "tiny_datasets = ['nltcs',\n",
    "                 'msnbc']"
   ]
  },
  {
   "cell_type": "code",
   "execution_count": 5,
   "metadata": {
    "code_folding": [],
    "collapsed": true,
    "hidden": true
   },
   "outputs": [],
   "source": [
    "# small datasets: < 101 variables\n",
    "small_datasets = ['jester',\n",
    "                  'kdd',\n",
    "                  'plants',\n",
    "                  'baudio',\n",
    "                  'bnetflix']\n",
    "\n",
    "tiny_small_datasets = tiny_datasets + small_datasets"
   ]
  },
  {
   "cell_type": "code",
   "execution_count": 6,
   "metadata": {
    "code_folding": [
     1
    ],
    "collapsed": true,
    "hidden": true
   },
   "outputs": [],
   "source": [
    "# middle datasets: (100 < x < 501) variables\n",
    "medium_datasets = ['accidents',\n",
    "                   'tretail',\n",
    "                   'pumsb_star',\n",
    "                   'dna',\n",
    "                   'kosarek',\n",
    "                   'msweb',\n",
    "                   'book',\n",
    "                   'tmovie']"
   ]
  },
  {
   "cell_type": "code",
   "execution_count": 7,
   "metadata": {
    "code_folding": [
     1
    ],
    "collapsed": true,
    "hidden": true
   },
   "outputs": [],
   "source": [
    "# large datasets: 500 < x variables\n",
    "large_datasets = ['cwebkb',\n",
    "                  'cr52',\n",
    "                  'c20ng',\n",
    "                  'bbc',\n",
    "                  'voting',\n",
    "                  'ad']"
   ]
  },
  {
   "cell_type": "code",
   "execution_count": 8,
   "metadata": {
    "collapsed": true,
    "hidden": true
   },
   "outputs": [],
   "source": [
    "all_datasets = tiny_small_datasets + medium_datasets + large_datasets"
   ]
  },
  {
   "cell_type": "code",
   "execution_count": 9,
   "metadata": {
    "collapsed": true,
    "hidden": true
   },
   "outputs": [],
   "source": [
    "hr_in_s = 60*60"
   ]
  },
  {
   "cell_type": "markdown",
   "metadata": {},
   "source": [
    "## Local Demo - MERCS"
   ]
  },
  {
   "cell_type": "markdown",
   "metadata": {
    "heading_collapsed": true
   },
   "source": [
    "### Fixed Parameters\n",
    "\n",
    "Defining some fixed parameters."
   ]
  },
  {
   "cell_type": "code",
   "execution_count": 10,
   "metadata": {
    "collapsed": true,
    "hidden": true
   },
   "outputs": [],
   "source": [
    "cfg_folder = 'ijcai-local'"
   ]
  },
  {
   "cell_type": "code",
   "execution_count": 11,
   "metadata": {
    "collapsed": true,
    "hidden": true
   },
   "outputs": [],
   "source": [
    "to_hrs =  1 * hr_in_s # locally, I invest a max of 1 hr.\n",
    "folds = [0]           # One fold."
   ]
  },
  {
   "cell_type": "code",
   "execution_count": 12,
   "metadata": {
    "collapsed": true,
    "hidden": true
   },
   "outputs": [],
   "source": [
    "meta_parameters = {'RunMercs.folds':                   folds,\n",
    "                   'RunMercs.timeout':                 to_hrs,\n",
    "                   'RunMercs.qry.keyword':            'it-S'}\n",
    "\n",
    "fixed_exploration = {'explore.dataset':                tiny_small_datasets}\n",
    "\n",
    "ind_sel_parameters = {'RunMercs.Mercs.ind.type':       'DT',\n",
    "                      'RunMercs.Mercs.ind.max_depth':  4,\n",
    "                      'RunMercs.Mercs.sel.its':        4,\n",
    "                      'RunMercs.Mercs.sel.param':      2}"
   ]
  },
  {
   "cell_type": "code",
   "execution_count": 13,
   "metadata": {
    "collapsed": true,
    "hidden": true
   },
   "outputs": [],
   "source": [
    "fixed_parameters = {**ind_sel_parameters,\n",
    "                    **meta_parameters,\n",
    "                    **fixed_exploration}"
   ]
  },
  {
   "cell_type": "markdown",
   "metadata": {
    "heading_collapsed": true
   },
   "source": [
    "### Exploration\n",
    "\n",
    "Here we define the grid that has to be searched."
   ]
  },
  {
   "cell_type": "code",
   "execution_count": 14,
   "metadata": {
    "collapsed": true,
    "hidden": true
   },
   "outputs": [],
   "source": [
    "idx = 70"
   ]
  },
  {
   "cell_type": "code",
   "execution_count": 15,
   "metadata": {
    "collapsed": true,
    "hidden": true
   },
   "outputs": [],
   "source": [
    "exp_parameters = {'idx':                                    idx,\n",
    "                  'explore.Mercs.pred.type':                ['MI', 'MA', 'MAFI'],\n",
    "                  'explore.Mercs.pred.param':               [0.95],\n",
    "                  'explore.Mercs.pred.its':                 [0.1]}"
   ]
  },
  {
   "cell_type": "code",
   "execution_count": 16,
   "metadata": {
    "hidden": true
   },
   "outputs": [
    {
     "data": {
      "text/plain": [
       "'ijcai-local/70_local-mercs.json'"
      ]
     },
     "execution_count": 16,
     "metadata": {},
     "output_type": "execute_result"
    }
   ],
   "source": [
    "fname = str(exp_parameters['idx']) +'_' +  'local-mercs'\n",
    "save_parameters({**fixed_parameters, **exp_parameters}, fname, folder=cfg_folder)"
   ]
  },
  {
   "cell_type": "markdown",
   "metadata": {},
   "source": [
    "## Remote Lite\n",
    "\n",
    "Making the settings for a selection of `lightweight` remote experiments. This means:\n",
    "    \n",
    "    1. One fold\n",
    "    2. Small datasets only."
   ]
  },
  {
   "cell_type": "markdown",
   "metadata": {},
   "source": [
    "### Fixed Params"
   ]
  },
  {
   "cell_type": "code",
   "execution_count": 17,
   "metadata": {
    "collapsed": true
   },
   "outputs": [],
   "source": [
    "cfg_folder = 'ijcai-mercs-A'\n",
    "to_hrs =  1 * hr_in_s # I invest a max of 1 hr.\n",
    "folds = [0]           # One fold.\n",
    "start_idx = 1"
   ]
  },
  {
   "cell_type": "code",
   "execution_count": 18,
   "metadata": {
    "collapsed": true
   },
   "outputs": [],
   "source": [
    "meta_parameters = {'RunMercs.folds':                   folds,\n",
    "                   'RunMercs.timeout':                 to_hrs,\n",
    "                   'RunMercs.qry.keyword':            'it-S'}\n",
    "\n",
    "fixed_exploration = {'explore.dataset':                tiny_small_datasets}\n",
    "\n",
    "ind_sel_parameters = {'RunMercs.Mercs.ind.type':       'DT',\n",
    "                      'RunMercs.Mercs.ind.max_depth':  8,\n",
    "                      'RunMercs.Mercs.sel.its':        4,\n",
    "                      'RunMercs.Mercs.sel.param':      2}"
   ]
  },
  {
   "cell_type": "code",
   "execution_count": 19,
   "metadata": {
    "collapsed": true
   },
   "outputs": [],
   "source": [
    "fixed_parameters = {**ind_sel_parameters,\n",
    "                    **meta_parameters,\n",
    "                    **fixed_exploration}"
   ]
  },
  {
   "cell_type": "markdown",
   "metadata": {},
   "source": [
    "### Exploration: mercs-sl\n",
    "\n",
    "Single-layer MERCS exploration."
   ]
  },
  {
   "cell_type": "code",
   "execution_count": 20,
   "metadata": {
    "collapsed": true
   },
   "outputs": [],
   "source": [
    "exp_parameters = {'idx':                                    start_idx + 0,\n",
    "                  'explore.Mercs.pred.type':                ['MI', 'MA', 'MAFI'],\n",
    "                  'explore.Mercs.pred.param':               [0.95],\n",
    "                  'explore.Mercs.pred.its':                 [0.1]}"
   ]
  },
  {
   "cell_type": "code",
   "execution_count": 21,
   "metadata": {},
   "outputs": [
    {
     "data": {
      "text/plain": [
       "'ijcai-mercs-A/1_mercs-sl.json'"
      ]
     },
     "execution_count": 21,
     "metadata": {},
     "output_type": "execute_result"
    }
   ],
   "source": [
    "fname = str(exp_parameters['idx']) +'_' +  'mercs-sl'\n",
    "save_parameters({**fixed_parameters, **exp_parameters}, fname, folder=cfg_folder)"
   ]
  },
  {
   "cell_type": "markdown",
   "metadata": {},
   "source": [
    "### Exploration: mercs-ml\n",
    "\n",
    "Multi-layer MERCS exploration."
   ]
  },
  {
   "cell_type": "code",
   "execution_count": 22,
   "metadata": {
    "collapsed": true
   },
   "outputs": [],
   "source": [
    "exp_parameters = {'idx':                                    start_idx + 1,\n",
    "                  'explore.Mercs.pred.type':                ['IT'],\n",
    "                  'explore.Mercs.pred.param':               [0.1],\n",
    "                  'explore.Mercs.pred.its':                 [8]}"
   ]
  },
  {
   "cell_type": "code",
   "execution_count": 23,
   "metadata": {},
   "outputs": [
    {
     "data": {
      "text/plain": [
       "'ijcai-mercs-A/2_mercs-it.json'"
      ]
     },
     "execution_count": 23,
     "metadata": {},
     "output_type": "execute_result"
    }
   ],
   "source": [
    "fname = str(exp_parameters['idx']) +'_' +  'mercs-it'\n",
    "save_parameters({**fixed_parameters, **exp_parameters}, fname, folder=cfg_folder)"
   ]
  },
  {
   "cell_type": "code",
   "execution_count": 24,
   "metadata": {
    "collapsed": true
   },
   "outputs": [],
   "source": [
    "exp_parameters = {'idx':                                    start_idx + 2,\n",
    "                  'explore.Mercs.pred.type':                ['RW'],\n",
    "                  'explore.Mercs.pred.param':               [2],\n",
    "                  'explore.Mercs.pred.its':                 [16]}"
   ]
  },
  {
   "cell_type": "code",
   "execution_count": 25,
   "metadata": {},
   "outputs": [
    {
     "data": {
      "text/plain": [
       "'ijcai-mercs-A/3_mercs-rw.json'"
      ]
     },
     "execution_count": 25,
     "metadata": {},
     "output_type": "execute_result"
    }
   ],
   "source": [
    "fname = str(exp_parameters['idx']) +'_' +  'mercs-rw'\n",
    "save_parameters({**fixed_parameters, **exp_parameters}, fname, folder=cfg_folder)"
   ]
  }
 ],
 "metadata": {
  "kernelspec": {
   "display_name": "Python [default]",
   "language": "python",
   "name": "python3"
  },
  "language_info": {
   "codemirror_mode": {
    "name": "ipython",
    "version": 3
   },
   "file_extension": ".py",
   "mimetype": "text/x-python",
   "name": "python",
   "nbconvert_exporter": "python",
   "pygments_lexer": "ipython3",
   "version": "3.6.8"
  },
  "toc": {
   "nav_menu": {},
   "number_sections": true,
   "sideBar": true,
   "skip_h1_title": true,
   "toc_cell": false,
   "toc_position": {},
   "toc_section_display": "block",
   "toc_window_display": true
  }
 },
 "nbformat": 4,
 "nbformat_minor": 2
}
