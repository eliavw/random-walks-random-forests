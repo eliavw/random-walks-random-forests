{
 "cells": [
  {
   "cell_type": "markdown",
   "metadata": {},
   "source": [
    "# Generate CLI configs\n",
    "\n",
    "Generate config files suitable for the CLI for the KDD 2019 submission."
   ]
  },
  {
   "cell_type": "markdown",
   "metadata": {},
   "source": [
    "## Preliminaries"
   ]
  },
  {
   "cell_type": "markdown",
   "metadata": {},
   "source": [
    "### Imports"
   ]
  },
  {
   "cell_type": "code",
   "execution_count": 1,
   "metadata": {
    "collapsed": true
   },
   "outputs": [],
   "source": [
    "# Imports\n",
    "import os\n",
    "import numpy as np\n",
    "import pandas as pd\n",
    "import json\n",
    "import sys\n",
    "import pickle as pkl\n",
    "import warnings\n",
    "\n",
    "from datetime import datetime\n",
    "from os.path import dirname"
   ]
  },
  {
   "cell_type": "code",
   "execution_count": 2,
   "metadata": {
    "collapsed": true
   },
   "outputs": [],
   "source": [
    "# Custom Imports\n",
    "root_dir = dirname(dirname(os.getcwd()))\n",
    "src_dir = os.path.join(root_dir, 'src')\n",
    "cli_dir = os.path.join(root_dir, 'cli')\n",
    "cli_cfg_dir = os.path.join(cli_dir, 'config')\n",
    "sys.path.append(src_dir)\n",
    "\n",
    "from exp.utils.filesystem import ensure_dir"
   ]
  },
  {
   "cell_type": "markdown",
   "metadata": {
    "heading_collapsed": true
   },
   "source": [
    "### Methods"
   ]
  },
  {
   "cell_type": "code",
   "execution_count": 3,
   "metadata": {
    "collapsed": true,
    "hidden": true
   },
   "outputs": [],
   "source": [
    "def save_parameters(d, fname, folder=None, fresh=False):\n",
    "    \"\"\"\n",
    "    Function that saves the parameters as a json file.\n",
    "    \"\"\"\n",
    "    \n",
    "    if folder is not None:\n",
    "        ensure_dir(folder, empty=fresh)\n",
    "        \n",
    "    ext = \"json\"\n",
    "    fname = os.path.join(folder, fname) + '.' + ext\n",
    "    \n",
    "    with open(fname, 'w') as f:\n",
    "        json.dump(d, f, indent=4, sort_keys=True)\n",
    "    return fname"
   ]
  },
  {
   "cell_type": "markdown",
   "metadata": {},
   "source": [
    "### Global Variables\n",
    "\n",
    "For all info dataset-related, cf. https://github.com/UCLA-StarAI/Density-Estimation-Datasets. That is the source. \n",
    "\n",
    "For the rest this section defines some lists and variables that will recur."
   ]
  },
  {
   "cell_type": "code",
   "execution_count": 4,
   "metadata": {
    "code_folding": [],
    "collapsed": true
   },
   "outputs": [],
   "source": [
    "# tiny datasets < 20 variables\n",
    "tiny_datasets = ['nltcs',\n",
    "                 'msnbc']"
   ]
  },
  {
   "cell_type": "code",
   "execution_count": 5,
   "metadata": {
    "code_folding": [],
    "collapsed": true
   },
   "outputs": [],
   "source": [
    "# small datasets: < 101 variables\n",
    "small_datasets = ['jester',\n",
    "                  'kdd',\n",
    "                  'plants',\n",
    "                  'baudio',\n",
    "                  'bnetflix']"
   ]
  },
  {
   "cell_type": "code",
   "execution_count": 6,
   "metadata": {
    "code_folding": [],
    "collapsed": true
   },
   "outputs": [],
   "source": [
    "# middle datasets: (100 < x < 501) variables\n",
    "medium_datasets = ['accidents',\n",
    "                   'tretail',\n",
    "                   'pumsb_star',\n",
    "                   'dna',\n",
    "                   'kosarek',\n",
    "                   'msweb',\n",
    "                   'book',\n",
    "                   'tmovie']"
   ]
  },
  {
   "cell_type": "code",
   "execution_count": 7,
   "metadata": {
    "code_folding": [],
    "collapsed": true
   },
   "outputs": [],
   "source": [
    "# large datasets: 500 < x variables\n",
    "large_datasets = ['cwebkb',\n",
    "                  'cr52',\n",
    "                  'c20ng',\n",
    "                  'bbc',\n",
    "                  'voting',\n",
    "                  'ad']"
   ]
  },
  {
   "cell_type": "markdown",
   "metadata": {},
   "source": [
    "Some aggregates of these;"
   ]
  },
  {
   "cell_type": "code",
   "execution_count": 8,
   "metadata": {},
   "outputs": [],
   "source": [
    "tiny_small_datasets = tiny_datasets + small_datasets\n",
    "medium_large_datasets = medium_datasets + large_datasets\n",
    "all_datasets = tiny_datasets + small_datasets + medium_datasets + large_datasets"
   ]
  },
  {
   "cell_type": "markdown",
   "metadata": {},
   "source": [
    "Some global time variables"
   ]
  },
  {
   "cell_type": "code",
   "execution_count": 9,
   "metadata": {
    "collapsed": true
   },
   "outputs": [],
   "source": [
    "hr_in_s = 60*60\n",
    "datecode = \"{:%y%m%d}\".format(datetime.now())"
   ]
  },
  {
   "cell_type": "markdown",
   "metadata": {},
   "source": [
    "## Local Demo - MERCS"
   ]
  },
  {
   "cell_type": "markdown",
   "metadata": {},
   "source": [
    "### Fixed Parameters\n",
    "\n",
    "Defining some fixed parameters."
   ]
  },
  {
   "cell_type": "code",
   "execution_count": 10,
   "metadata": {
    "collapsed": true
   },
   "outputs": [],
   "source": [
    "cfg_dir = datecode + '-mercs-load'\n",
    "cfg_dir = os.path.join(cli_cfg_dir, cfg_dir)\n",
    "child = 'RunMercs'\n",
    "model = 'Mercs'"
   ]
  },
  {
   "cell_type": "code",
   "execution_count": 11,
   "metadata": {
    "collapsed": true
   },
   "outputs": [],
   "source": [
    "to_hrs =  1 * hr_in_s # locally, I invest a max of 1 hr.\n",
    "folds = [0]           # One fold."
   ]
  },
  {
   "cell_type": "code",
   "execution_count": 12,
   "metadata": {
    "collapsed": true
   },
   "outputs": [],
   "source": [
    "gen_parameters = {child + '.folds':                   folds,\n",
    "                  child + '.timeout':                 int(to_hrs)}\n",
    "\n",
    "qry_parameters = {child + '.qry.keyword':            'it-S'}\n",
    "\n",
    "mod_parameters = {child + '.mod.type':     model,\n",
    "                  child + '.mod.keyword': 'kdd2'}\n",
    "\n",
    "fixed_exploration = {'explore.dataset':                tiny_datasets}\n"
   ]
  },
  {
   "cell_type": "code",
   "execution_count": 13,
   "metadata": {
    "collapsed": true
   },
   "outputs": [],
   "source": [
    "fixed_parameters = {**gen_parameters,\n",
    "                    **qry_parameters,\n",
    "                    **mod_parameters,\n",
    "                    **fixed_exploration}"
   ]
  },
  {
   "cell_type": "markdown",
   "metadata": {},
   "source": [
    "### Exploration\n",
    "\n",
    "Here we define the grid that has to be searched."
   ]
  },
  {
   "cell_type": "code",
   "execution_count": 14,
   "metadata": {
    "collapsed": true
   },
   "outputs": [],
   "source": [
    "idx = 1"
   ]
  },
  {
   "cell_type": "code",
   "execution_count": 15,
   "metadata": {
    "collapsed": true
   },
   "outputs": [],
   "source": [
    "prefix = 'explore' + '.' + model\n",
    "exp_parameters = {'idx':                                idx,\n",
    "                  prefix + '.pred.type':                ['MI', 'MA', 'MAFI'],\n",
    "                  prefix + '.pred.param':               [0.95],\n",
    "                  prefix + '.pred.its':                 [0.1]}"
   ]
  },
  {
   "cell_type": "code",
   "execution_count": 16,
   "metadata": {},
   "outputs": [
    {
     "data": {
      "text/plain": [
       "'/cw/dtailocal/Dropbox/Files/KUL/research/codebases/homework/cli/config/190201-mercs-load/1_local-mercs-load.json'"
      ]
     },
     "execution_count": 16,
     "metadata": {},
     "output_type": "execute_result"
    }
   ],
   "source": [
    "fname = str(exp_parameters['idx']) +'_' +  'local-mercs-load'\n",
    "save_parameters({**fixed_parameters, **exp_parameters}, fname, folder=cfg_dir, fresh=True)"
   ]
  }
 ],
 "metadata": {
  "kernelspec": {
   "display_name": "Python [default]",
   "language": "python",
   "name": "python3"
  },
  "language_info": {
   "codemirror_mode": {
    "name": "ipython",
    "version": 3
   },
   "file_extension": ".py",
   "mimetype": "text/x-python",
   "name": "python",
   "nbconvert_exporter": "python",
   "pygments_lexer": "ipython3",
   "version": "3.6.8"
  },
  "toc": {
   "nav_menu": {},
   "number_sections": true,
   "sideBar": true,
   "skip_h1_title": true,
   "toc_cell": false,
   "toc_position": {},
   "toc_section_display": "block",
   "toc_window_display": true
  }
 },
 "nbformat": 4,
 "nbformat_minor": 2
}
