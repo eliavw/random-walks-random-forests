{
 "cells": [
  {
   "cell_type": "markdown",
   "metadata": {},
   "source": [
    "# Convert Datasets to BayesFusion Format\n",
    "\n",
    "Smile (and PxS) needs headers, otherwise it crashes. This script quickly converts."
   ]
  },
  {
   "cell_type": "markdown",
   "metadata": {},
   "source": [
    "## Imports"
   ]
  },
  {
   "cell_type": "code",
   "execution_count": 5,
   "metadata": {
    "collapsed": true
   },
   "outputs": [],
   "source": [
    "# imports\n",
    "import json\n",
    "import pandas as pd\n",
    "import os\n",
    "import sys\n",
    "from os.path import dirname"
   ]
  },
  {
   "cell_type": "code",
   "execution_count": 6,
   "metadata": {
    "collapsed": true
   },
   "outputs": [],
   "source": [
    "# Custom imports\n",
    "root_dir = dirname(dirname(os.getcwd()))\n",
    "src_dir = os.path.join(root_dir, 'src')\n",
    "resc_dir = os.path.join(root_dir, 'resc')\n",
    "data_dir = os.path.join(resc_dir, 'data', 'tidy')"
   ]
  },
  {
   "cell_type": "code",
   "execution_count": 7,
   "metadata": {},
   "outputs": [],
   "source": [
    "datasets  =os.listdir(data_dir)\n",
    "#datasets"
   ]
  },
  {
   "cell_type": "markdown",
   "metadata": {},
   "source": [
    "## Actions"
   ]
  },
  {
   "cell_type": "markdown",
   "metadata": {},
   "source": [
    "### Read - Modify -Write File\n",
    "\n",
    "Just hardcoded edits of the files we care about."
   ]
  },
  {
   "cell_type": "code",
   "execution_count": 4,
   "metadata": {
    "collapsed": true
   },
   "outputs": [],
   "source": [
    "def read_modify_write(in_fname):\n",
    "    \n",
    "    if 'bayesfusion' in in_fname:\n",
    "        return\n",
    "    elif '.csv' not in in_fname:\n",
    "        return\n",
    "    else:\n",
    "        # Read\n",
    "        df = pd.read_csv(in_fname, header=None)\n",
    "        \n",
    "        # Modify\n",
    "        bf_columns = [\"att_{}\".format(x) for x in df.columns.values]\n",
    "        df.columns = bf_columns\n",
    "        \n",
    "        # Write\n",
    "        base, ext = os.path.splitext(in_fname)\n",
    "        out_fname = base+\"_bayesfusion\"+ext\n",
    "        df.to_csv(out_fname, index=False)\n",
    "        \n",
    "        msg = \"\"\"\n",
    "        Succesful modification of file: {}\n",
    "        Results written to: {}\n",
    "        \"\"\".format(in_fname, out_fname)\n",
    "        #print(msg)\n",
    "        \n",
    "    return"
   ]
  },
  {
   "cell_type": "markdown",
   "metadata": {},
   "source": [
    "## Modify entire dir"
   ]
  },
  {
   "cell_type": "code",
   "execution_count": 5,
   "metadata": {},
   "outputs": [
    {
     "data": {
      "text/plain": [
       "'/cw/dtailocal/Dropbox/Files/KUL/research/codebases/homework/resc/data/tidy/nltcs'"
      ]
     },
     "execution_count": 5,
     "metadata": {},
     "output_type": "execute_result"
    }
   ],
   "source": [
    "ds = 'nltcs'\n",
    "ds_dir = os.path.join(data_dir, ds)\n",
    "ds_dir "
   ]
  },
  {
   "cell_type": "code",
   "execution_count": 12,
   "metadata": {
    "collapsed": true
   },
   "outputs": [],
   "source": [
    "def bayesfusionize_dir(directory):\n",
    "    ds_fnames = [os.path.join(directory, x) for x in os.listdir(directory)]\n",
    "    ds_fnames.sort()\n",
    "    for f in ds_fnames:\n",
    "        read_modify_write(f)\n",
    "    return \"Yessir\""
   ]
  },
  {
   "cell_type": "raw",
   "metadata": {},
   "source": [
    "bayesfusionize_dir(ds_dir)"
   ]
  },
  {
   "cell_type": "markdown",
   "metadata": {},
   "source": [
    "## All datasets"
   ]
  },
  {
   "cell_type": "code",
   "execution_count": 9,
   "metadata": {
    "scrolled": true
   },
   "outputs": [
    {
     "data": {
      "text/plain": [
       "['/cw/dtailocal/Dropbox/Files/KUL/research/codebases/homework/resc/data/tidy/accidents',\n",
       " '/cw/dtailocal/Dropbox/Files/KUL/research/codebases/homework/resc/data/tidy/ad',\n",
       " '/cw/dtailocal/Dropbox/Files/KUL/research/codebases/homework/resc/data/tidy/adult',\n",
       " '/cw/dtailocal/Dropbox/Files/KUL/research/codebases/homework/resc/data/tidy/baudio',\n",
       " '/cw/dtailocal/Dropbox/Files/KUL/research/codebases/homework/resc/data/tidy/bbc',\n",
       " '/cw/dtailocal/Dropbox/Files/KUL/research/codebases/homework/resc/data/tidy/bnetflix',\n",
       " '/cw/dtailocal/Dropbox/Files/KUL/research/codebases/homework/resc/data/tidy/book',\n",
       " '/cw/dtailocal/Dropbox/Files/KUL/research/codebases/homework/resc/data/tidy/c20ng',\n",
       " '/cw/dtailocal/Dropbox/Files/KUL/research/codebases/homework/resc/data/tidy/cr52',\n",
       " '/cw/dtailocal/Dropbox/Files/KUL/research/codebases/homework/resc/data/tidy/cwebkb',\n",
       " '/cw/dtailocal/Dropbox/Files/KUL/research/codebases/homework/resc/data/tidy/dna',\n",
       " '/cw/dtailocal/Dropbox/Files/KUL/research/codebases/homework/resc/data/tidy/jester',\n",
       " '/cw/dtailocal/Dropbox/Files/KUL/research/codebases/homework/resc/data/tidy/kdd',\n",
       " '/cw/dtailocal/Dropbox/Files/KUL/research/codebases/homework/resc/data/tidy/kosarek',\n",
       " '/cw/dtailocal/Dropbox/Files/KUL/research/codebases/homework/resc/data/tidy/msnbc',\n",
       " '/cw/dtailocal/Dropbox/Files/KUL/research/codebases/homework/resc/data/tidy/msweb',\n",
       " '/cw/dtailocal/Dropbox/Files/KUL/research/codebases/homework/resc/data/tidy/nltcs',\n",
       " '/cw/dtailocal/Dropbox/Files/KUL/research/codebases/homework/resc/data/tidy/plants',\n",
       " '/cw/dtailocal/Dropbox/Files/KUL/research/codebases/homework/resc/data/tidy/pumsb_star',\n",
       " '/cw/dtailocal/Dropbox/Files/KUL/research/codebases/homework/resc/data/tidy/tmovie',\n",
       " '/cw/dtailocal/Dropbox/Files/KUL/research/codebases/homework/resc/data/tidy/tretail',\n",
       " '/cw/dtailocal/Dropbox/Files/KUL/research/codebases/homework/resc/data/tidy/voting']"
      ]
     },
     "execution_count": 9,
     "metadata": {},
     "output_type": "execute_result"
    }
   ],
   "source": [
    "datasets = os.listdir(data_dir)\n",
    "datasets.sort()\n",
    "ds_dirs = [os.path.join(data_dir, ds) for ds in datasets]\n",
    "ds_dirs "
   ]
  },
  {
   "cell_type": "code",
   "execution_count": null,
   "metadata": {
    "collapsed": true
   },
   "outputs": [],
   "source": [
    "import joblib\n",
    "from joblib import Parallel, delayed\n",
    "\n",
    "Parallel(n_jobs=8)(delayed(bayesfusionize_dir)(ds) for ds in datasets)"
   ]
  },
  {
   "cell_type": "raw",
   "metadata": {
    "scrolled": false
   },
   "source": [
    "for ds in datasets:\n",
    "    ds_dir = os.path.join(data_dir, ds)\n",
    "    bayesfusionize_dir(ds_dir)\n",
    "    msg = \"\"\"\n",
    "    Dataset: {} done.\n",
    "    \"\"\".format(ds)\n",
    "    print(msg)"
   ]
  }
 ],
 "metadata": {
  "kernelspec": {
   "display_name": "Python [default]",
   "language": "python",
   "name": "python3"
  },
  "language_info": {
   "codemirror_mode": {
    "name": "ipython",
    "version": 3
   },
   "file_extension": ".py",
   "mimetype": "text/x-python",
   "name": "python",
   "nbconvert_exporter": "python",
   "pygments_lexer": "ipython3",
   "version": "3.6.1"
  },
  "toc": {
   "nav_menu": {},
   "number_sections": true,
   "sideBar": true,
   "skip_h1_title": true,
   "toc_cell": false,
   "toc_position": {},
   "toc_section_display": "block",
   "toc_window_display": false
  }
 },
 "nbformat": 4,
 "nbformat_minor": 2
}
