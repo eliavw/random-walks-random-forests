{
 "cells": [
  {
   "cell_type": "markdown",
   "metadata": {},
   "source": [
    "# RunExp\n",
    "\n",
    "We demonstrate how this goes"
   ]
  },
  {
   "cell_type": "markdown",
   "metadata": {},
   "source": [
    "## Preliminaries"
   ]
  },
  {
   "cell_type": "code",
   "execution_count": 1,
   "metadata": {
    "collapsed": true
   },
   "outputs": [],
   "source": [
    "import os\n",
    "import numpy as np\n",
    "import pandas as pd\n",
    "import sys\n",
    "import pprint\n",
    "\n",
    "\n",
    "from os.path import dirname"
   ]
  },
  {
   "cell_type": "code",
   "execution_count": 2,
   "metadata": {
    "collapsed": true
   },
   "outputs": [],
   "source": [
    "# Custom imports\n",
    "root_dir = dirname(dirname(os.getcwd()))\n",
    "src_dir = os.path.join(root_dir, 'src')\n",
    "sys.path.append(src_dir)\n",
    "\n",
    "import exp\n",
    "from exp.runner.RunExp import RunExp\n",
    "from exp.utils.run import run_script"
   ]
  },
  {
   "cell_type": "markdown",
   "metadata": {},
   "source": [
    "## Actual code"
   ]
  },
  {
   "cell_type": "code",
   "execution_count": 3,
   "metadata": {
    "collapsed": true
   },
   "outputs": [],
   "source": [
    "exp = RunExp()"
   ]
  },
  {
   "cell_type": "code",
   "execution_count": 4,
   "metadata": {
    "collapsed": true
   },
   "outputs": [],
   "source": [
    "fixed_params = {'idx': 3}"
   ]
  },
  {
   "cell_type": "code",
   "execution_count": 5,
   "metadata": {
    "collapsed": true
   },
   "outputs": [],
   "source": [
    "explore_params = {'explore.dataset':      ['nltcs', 'bnetflix'],\n",
    "                  'explore.Mercs.pred.its.':    [1,2,3],\n",
    "                  'explore.Mercs.pred.param':   [0.95,0.99]}"
   ]
  },
  {
   "cell_type": "code",
   "execution_count": 6,
   "metadata": {
    "collapsed": true
   },
   "outputs": [],
   "source": [
    "runmercs_params = {'RunMercs.folds':   [0,1,2],\n",
    "                   'RunMercs.timeout': 120}"
   ]
  },
  {
   "cell_type": "code",
   "execution_count": 7,
   "metadata": {
    "collapsed": true
   },
   "outputs": [],
   "source": [
    "params = {**fixed_params, **runmercs_params, **explore_params}"
   ]
  },
  {
   "cell_type": "code",
   "execution_count": 8,
   "metadata": {
    "collapsed": true
   },
   "outputs": [],
   "source": [
    "exp.make_config(**params)"
   ]
  },
  {
   "cell_type": "markdown",
   "metadata": {},
   "source": [
    "Let's inspect the config"
   ]
  },
  {
   "cell_type": "code",
   "execution_count": 9,
   "metadata": {},
   "outputs": [
    {
     "data": {
      "text/plain": [
       "dict_keys(['io', 'timeout', 'child', 'explore', 'RunMercs', 'idx'])"
      ]
     },
     "execution_count": 9,
     "metadata": {},
     "output_type": "execute_result"
    }
   ],
   "source": [
    "exp.config.keys()"
   ]
  },
  {
   "cell_type": "code",
   "execution_count": 10,
   "metadata": {},
   "outputs": [
    {
     "data": {
      "text/plain": [
       "{'dataset': ['nltcs', 'bnetflix'],\n",
       " 'Mercs.pred.its.': [1, 2, 3],\n",
       " 'Mercs.pred.param': [0.95, 0.99]}"
      ]
     },
     "execution_count": 10,
     "metadata": {},
     "output_type": "execute_result"
    }
   ],
   "source": [
    "exp.config['explore']"
   ]
  },
  {
   "cell_type": "code",
   "execution_count": 11,
   "metadata": {},
   "outputs": [
    {
     "data": {
      "text/plain": [
       "{'folds': [0, 1, 2], 'timeout': 120}"
      ]
     },
     "execution_count": 11,
     "metadata": {},
     "output_type": "execute_result"
    }
   ],
   "source": [
    "exp.config['RunMercs']"
   ]
  },
  {
   "cell_type": "code",
   "execution_count": 12,
   "metadata": {},
   "outputs": [
    {
     "data": {
      "text/plain": [
       "3"
      ]
     },
     "execution_count": 12,
     "metadata": {},
     "output_type": "execute_result"
    }
   ],
   "source": [
    "exp.config['idx']"
   ]
  },
  {
   "cell_type": "code",
   "execution_count": 13,
   "metadata": {},
   "outputs": [
    {
     "data": {
      "text/plain": [
       "'/cw/dtailocal/Dropbox/Files/KUL/Research/1_codebases/homework/prod/RunExp/000003/logs/run_exp_log'"
      ]
     },
     "execution_count": 13,
     "metadata": {},
     "output_type": "execute_result"
    }
   ],
   "source": [
    "exp.config['io']['file']['log']"
   ]
  },
  {
   "cell_type": "code",
   "execution_count": 14,
   "metadata": {},
   "outputs": [
    {
     "data": {
      "text/plain": [
       "60"
      ]
     },
     "execution_count": 14,
     "metadata": {},
     "output_type": "execute_result"
    }
   ],
   "source": [
    "exp.config['timeout']"
   ]
  },
  {
   "cell_type": "markdown",
   "metadata": {},
   "source": [
    "That looks alright. Now let us try running this."
   ]
  },
  {
   "cell_type": "code",
   "execution_count": 15,
   "metadata": {
    "collapsed": true
   },
   "outputs": [],
   "source": [
    "exp.run()"
   ]
  },
  {
   "cell_type": "code",
   "execution_count": 16,
   "metadata": {
    "collapsed": true
   },
   "outputs": [],
   "source": [
    "df = exp.load_commands()"
   ]
  },
  {
   "cell_type": "code",
   "execution_count": 17,
   "metadata": {},
   "outputs": [
    {
     "data": {
      "text/html": [
       "<div>\n",
       "<style scoped>\n",
       "    .dataframe tbody tr th:only-of-type {\n",
       "        vertical-align: middle;\n",
       "    }\n",
       "\n",
       "    .dataframe tbody tr th {\n",
       "        vertical-align: top;\n",
       "    }\n",
       "\n",
       "    .dataframe thead th {\n",
       "        text-align: right;\n",
       "    }\n",
       "</style>\n",
       "<table border=\"1\" class=\"dataframe\">\n",
       "  <thead>\n",
       "    <tr style=\"text-align: right;\">\n",
       "      <th></th>\n",
       "      <th>script_fname</th>\n",
       "      <th>config_fname</th>\n",
       "      <th>log_fname</th>\n",
       "      <th>fold</th>\n",
       "      <th>timeout</th>\n",
       "    </tr>\n",
       "  </thead>\n",
       "  <tbody>\n",
       "    <tr>\n",
       "      <th>0</th>\n",
       "      <td>/cw/dtailocal/Dropbox/Files/KUL/Research/1_cod...</td>\n",
       "      <td>/cw/dtailocal/Dropbox/Files/KUL/Research/1_cod...</td>\n",
       "      <td>/cw/dtailocal/Dropbox/Files/KUL/Research/1_cod...</td>\n",
       "      <td>0</td>\n",
       "      <td>120</td>\n",
       "    </tr>\n",
       "    <tr>\n",
       "      <th>1</th>\n",
       "      <td>/cw/dtailocal/Dropbox/Files/KUL/Research/1_cod...</td>\n",
       "      <td>/cw/dtailocal/Dropbox/Files/KUL/Research/1_cod...</td>\n",
       "      <td>/cw/dtailocal/Dropbox/Files/KUL/Research/1_cod...</td>\n",
       "      <td>1</td>\n",
       "      <td>120</td>\n",
       "    </tr>\n",
       "    <tr>\n",
       "      <th>2</th>\n",
       "      <td>/cw/dtailocal/Dropbox/Files/KUL/Research/1_cod...</td>\n",
       "      <td>/cw/dtailocal/Dropbox/Files/KUL/Research/1_cod...</td>\n",
       "      <td>/cw/dtailocal/Dropbox/Files/KUL/Research/1_cod...</td>\n",
       "      <td>2</td>\n",
       "      <td>120</td>\n",
       "    </tr>\n",
       "    <tr>\n",
       "      <th>3</th>\n",
       "      <td>/cw/dtailocal/Dropbox/Files/KUL/Research/1_cod...</td>\n",
       "      <td>/cw/dtailocal/Dropbox/Files/KUL/Research/1_cod...</td>\n",
       "      <td>/cw/dtailocal/Dropbox/Files/KUL/Research/1_cod...</td>\n",
       "      <td>0</td>\n",
       "      <td>120</td>\n",
       "    </tr>\n",
       "    <tr>\n",
       "      <th>4</th>\n",
       "      <td>/cw/dtailocal/Dropbox/Files/KUL/Research/1_cod...</td>\n",
       "      <td>/cw/dtailocal/Dropbox/Files/KUL/Research/1_cod...</td>\n",
       "      <td>/cw/dtailocal/Dropbox/Files/KUL/Research/1_cod...</td>\n",
       "      <td>1</td>\n",
       "      <td>120</td>\n",
       "    </tr>\n",
       "    <tr>\n",
       "      <th>5</th>\n",
       "      <td>/cw/dtailocal/Dropbox/Files/KUL/Research/1_cod...</td>\n",
       "      <td>/cw/dtailocal/Dropbox/Files/KUL/Research/1_cod...</td>\n",
       "      <td>/cw/dtailocal/Dropbox/Files/KUL/Research/1_cod...</td>\n",
       "      <td>2</td>\n",
       "      <td>120</td>\n",
       "    </tr>\n",
       "    <tr>\n",
       "      <th>6</th>\n",
       "      <td>/cw/dtailocal/Dropbox/Files/KUL/Research/1_cod...</td>\n",
       "      <td>/cw/dtailocal/Dropbox/Files/KUL/Research/1_cod...</td>\n",
       "      <td>/cw/dtailocal/Dropbox/Files/KUL/Research/1_cod...</td>\n",
       "      <td>0</td>\n",
       "      <td>120</td>\n",
       "    </tr>\n",
       "    <tr>\n",
       "      <th>7</th>\n",
       "      <td>/cw/dtailocal/Dropbox/Files/KUL/Research/1_cod...</td>\n",
       "      <td>/cw/dtailocal/Dropbox/Files/KUL/Research/1_cod...</td>\n",
       "      <td>/cw/dtailocal/Dropbox/Files/KUL/Research/1_cod...</td>\n",
       "      <td>1</td>\n",
       "      <td>120</td>\n",
       "    </tr>\n",
       "    <tr>\n",
       "      <th>8</th>\n",
       "      <td>/cw/dtailocal/Dropbox/Files/KUL/Research/1_cod...</td>\n",
       "      <td>/cw/dtailocal/Dropbox/Files/KUL/Research/1_cod...</td>\n",
       "      <td>/cw/dtailocal/Dropbox/Files/KUL/Research/1_cod...</td>\n",
       "      <td>2</td>\n",
       "      <td>120</td>\n",
       "    </tr>\n",
       "    <tr>\n",
       "      <th>9</th>\n",
       "      <td>/cw/dtailocal/Dropbox/Files/KUL/Research/1_cod...</td>\n",
       "      <td>/cw/dtailocal/Dropbox/Files/KUL/Research/1_cod...</td>\n",
       "      <td>/cw/dtailocal/Dropbox/Files/KUL/Research/1_cod...</td>\n",
       "      <td>0</td>\n",
       "      <td>120</td>\n",
       "    </tr>\n",
       "    <tr>\n",
       "      <th>10</th>\n",
       "      <td>/cw/dtailocal/Dropbox/Files/KUL/Research/1_cod...</td>\n",
       "      <td>/cw/dtailocal/Dropbox/Files/KUL/Research/1_cod...</td>\n",
       "      <td>/cw/dtailocal/Dropbox/Files/KUL/Research/1_cod...</td>\n",
       "      <td>1</td>\n",
       "      <td>120</td>\n",
       "    </tr>\n",
       "    <tr>\n",
       "      <th>11</th>\n",
       "      <td>/cw/dtailocal/Dropbox/Files/KUL/Research/1_cod...</td>\n",
       "      <td>/cw/dtailocal/Dropbox/Files/KUL/Research/1_cod...</td>\n",
       "      <td>/cw/dtailocal/Dropbox/Files/KUL/Research/1_cod...</td>\n",
       "      <td>2</td>\n",
       "      <td>120</td>\n",
       "    </tr>\n",
       "    <tr>\n",
       "      <th>12</th>\n",
       "      <td>/cw/dtailocal/Dropbox/Files/KUL/Research/1_cod...</td>\n",
       "      <td>/cw/dtailocal/Dropbox/Files/KUL/Research/1_cod...</td>\n",
       "      <td>/cw/dtailocal/Dropbox/Files/KUL/Research/1_cod...</td>\n",
       "      <td>0</td>\n",
       "      <td>120</td>\n",
       "    </tr>\n",
       "    <tr>\n",
       "      <th>13</th>\n",
       "      <td>/cw/dtailocal/Dropbox/Files/KUL/Research/1_cod...</td>\n",
       "      <td>/cw/dtailocal/Dropbox/Files/KUL/Research/1_cod...</td>\n",
       "      <td>/cw/dtailocal/Dropbox/Files/KUL/Research/1_cod...</td>\n",
       "      <td>1</td>\n",
       "      <td>120</td>\n",
       "    </tr>\n",
       "    <tr>\n",
       "      <th>14</th>\n",
       "      <td>/cw/dtailocal/Dropbox/Files/KUL/Research/1_cod...</td>\n",
       "      <td>/cw/dtailocal/Dropbox/Files/KUL/Research/1_cod...</td>\n",
       "      <td>/cw/dtailocal/Dropbox/Files/KUL/Research/1_cod...</td>\n",
       "      <td>2</td>\n",
       "      <td>120</td>\n",
       "    </tr>\n",
       "    <tr>\n",
       "      <th>15</th>\n",
       "      <td>/cw/dtailocal/Dropbox/Files/KUL/Research/1_cod...</td>\n",
       "      <td>/cw/dtailocal/Dropbox/Files/KUL/Research/1_cod...</td>\n",
       "      <td>/cw/dtailocal/Dropbox/Files/KUL/Research/1_cod...</td>\n",
       "      <td>0</td>\n",
       "      <td>120</td>\n",
       "    </tr>\n",
       "    <tr>\n",
       "      <th>16</th>\n",
       "      <td>/cw/dtailocal/Dropbox/Files/KUL/Research/1_cod...</td>\n",
       "      <td>/cw/dtailocal/Dropbox/Files/KUL/Research/1_cod...</td>\n",
       "      <td>/cw/dtailocal/Dropbox/Files/KUL/Research/1_cod...</td>\n",
       "      <td>1</td>\n",
       "      <td>120</td>\n",
       "    </tr>\n",
       "    <tr>\n",
       "      <th>17</th>\n",
       "      <td>/cw/dtailocal/Dropbox/Files/KUL/Research/1_cod...</td>\n",
       "      <td>/cw/dtailocal/Dropbox/Files/KUL/Research/1_cod...</td>\n",
       "      <td>/cw/dtailocal/Dropbox/Files/KUL/Research/1_cod...</td>\n",
       "      <td>2</td>\n",
       "      <td>120</td>\n",
       "    </tr>\n",
       "    <tr>\n",
       "      <th>18</th>\n",
       "      <td>/cw/dtailocal/Dropbox/Files/KUL/Research/1_cod...</td>\n",
       "      <td>/cw/dtailocal/Dropbox/Files/KUL/Research/1_cod...</td>\n",
       "      <td>/cw/dtailocal/Dropbox/Files/KUL/Research/1_cod...</td>\n",
       "      <td>0</td>\n",
       "      <td>120</td>\n",
       "    </tr>\n",
       "    <tr>\n",
       "      <th>19</th>\n",
       "      <td>/cw/dtailocal/Dropbox/Files/KUL/Research/1_cod...</td>\n",
       "      <td>/cw/dtailocal/Dropbox/Files/KUL/Research/1_cod...</td>\n",
       "      <td>/cw/dtailocal/Dropbox/Files/KUL/Research/1_cod...</td>\n",
       "      <td>1</td>\n",
       "      <td>120</td>\n",
       "    </tr>\n",
       "    <tr>\n",
       "      <th>20</th>\n",
       "      <td>/cw/dtailocal/Dropbox/Files/KUL/Research/1_cod...</td>\n",
       "      <td>/cw/dtailocal/Dropbox/Files/KUL/Research/1_cod...</td>\n",
       "      <td>/cw/dtailocal/Dropbox/Files/KUL/Research/1_cod...</td>\n",
       "      <td>2</td>\n",
       "      <td>120</td>\n",
       "    </tr>\n",
       "    <tr>\n",
       "      <th>21</th>\n",
       "      <td>/cw/dtailocal/Dropbox/Files/KUL/Research/1_cod...</td>\n",
       "      <td>/cw/dtailocal/Dropbox/Files/KUL/Research/1_cod...</td>\n",
       "      <td>/cw/dtailocal/Dropbox/Files/KUL/Research/1_cod...</td>\n",
       "      <td>0</td>\n",
       "      <td>120</td>\n",
       "    </tr>\n",
       "    <tr>\n",
       "      <th>22</th>\n",
       "      <td>/cw/dtailocal/Dropbox/Files/KUL/Research/1_cod...</td>\n",
       "      <td>/cw/dtailocal/Dropbox/Files/KUL/Research/1_cod...</td>\n",
       "      <td>/cw/dtailocal/Dropbox/Files/KUL/Research/1_cod...</td>\n",
       "      <td>1</td>\n",
       "      <td>120</td>\n",
       "    </tr>\n",
       "    <tr>\n",
       "      <th>23</th>\n",
       "      <td>/cw/dtailocal/Dropbox/Files/KUL/Research/1_cod...</td>\n",
       "      <td>/cw/dtailocal/Dropbox/Files/KUL/Research/1_cod...</td>\n",
       "      <td>/cw/dtailocal/Dropbox/Files/KUL/Research/1_cod...</td>\n",
       "      <td>2</td>\n",
       "      <td>120</td>\n",
       "    </tr>\n",
       "    <tr>\n",
       "      <th>24</th>\n",
       "      <td>/cw/dtailocal/Dropbox/Files/KUL/Research/1_cod...</td>\n",
       "      <td>/cw/dtailocal/Dropbox/Files/KUL/Research/1_cod...</td>\n",
       "      <td>/cw/dtailocal/Dropbox/Files/KUL/Research/1_cod...</td>\n",
       "      <td>0</td>\n",
       "      <td>120</td>\n",
       "    </tr>\n",
       "    <tr>\n",
       "      <th>25</th>\n",
       "      <td>/cw/dtailocal/Dropbox/Files/KUL/Research/1_cod...</td>\n",
       "      <td>/cw/dtailocal/Dropbox/Files/KUL/Research/1_cod...</td>\n",
       "      <td>/cw/dtailocal/Dropbox/Files/KUL/Research/1_cod...</td>\n",
       "      <td>1</td>\n",
       "      <td>120</td>\n",
       "    </tr>\n",
       "    <tr>\n",
       "      <th>26</th>\n",
       "      <td>/cw/dtailocal/Dropbox/Files/KUL/Research/1_cod...</td>\n",
       "      <td>/cw/dtailocal/Dropbox/Files/KUL/Research/1_cod...</td>\n",
       "      <td>/cw/dtailocal/Dropbox/Files/KUL/Research/1_cod...</td>\n",
       "      <td>2</td>\n",
       "      <td>120</td>\n",
       "    </tr>\n",
       "    <tr>\n",
       "      <th>27</th>\n",
       "      <td>/cw/dtailocal/Dropbox/Files/KUL/Research/1_cod...</td>\n",
       "      <td>/cw/dtailocal/Dropbox/Files/KUL/Research/1_cod...</td>\n",
       "      <td>/cw/dtailocal/Dropbox/Files/KUL/Research/1_cod...</td>\n",
       "      <td>0</td>\n",
       "      <td>120</td>\n",
       "    </tr>\n",
       "    <tr>\n",
       "      <th>28</th>\n",
       "      <td>/cw/dtailocal/Dropbox/Files/KUL/Research/1_cod...</td>\n",
       "      <td>/cw/dtailocal/Dropbox/Files/KUL/Research/1_cod...</td>\n",
       "      <td>/cw/dtailocal/Dropbox/Files/KUL/Research/1_cod...</td>\n",
       "      <td>1</td>\n",
       "      <td>120</td>\n",
       "    </tr>\n",
       "    <tr>\n",
       "      <th>29</th>\n",
       "      <td>/cw/dtailocal/Dropbox/Files/KUL/Research/1_cod...</td>\n",
       "      <td>/cw/dtailocal/Dropbox/Files/KUL/Research/1_cod...</td>\n",
       "      <td>/cw/dtailocal/Dropbox/Files/KUL/Research/1_cod...</td>\n",
       "      <td>2</td>\n",
       "      <td>120</td>\n",
       "    </tr>\n",
       "    <tr>\n",
       "      <th>30</th>\n",
       "      <td>/cw/dtailocal/Dropbox/Files/KUL/Research/1_cod...</td>\n",
       "      <td>/cw/dtailocal/Dropbox/Files/KUL/Research/1_cod...</td>\n",
       "      <td>/cw/dtailocal/Dropbox/Files/KUL/Research/1_cod...</td>\n",
       "      <td>0</td>\n",
       "      <td>120</td>\n",
       "    </tr>\n",
       "    <tr>\n",
       "      <th>31</th>\n",
       "      <td>/cw/dtailocal/Dropbox/Files/KUL/Research/1_cod...</td>\n",
       "      <td>/cw/dtailocal/Dropbox/Files/KUL/Research/1_cod...</td>\n",
       "      <td>/cw/dtailocal/Dropbox/Files/KUL/Research/1_cod...</td>\n",
       "      <td>1</td>\n",
       "      <td>120</td>\n",
       "    </tr>\n",
       "    <tr>\n",
       "      <th>32</th>\n",
       "      <td>/cw/dtailocal/Dropbox/Files/KUL/Research/1_cod...</td>\n",
       "      <td>/cw/dtailocal/Dropbox/Files/KUL/Research/1_cod...</td>\n",
       "      <td>/cw/dtailocal/Dropbox/Files/KUL/Research/1_cod...</td>\n",
       "      <td>2</td>\n",
       "      <td>120</td>\n",
       "    </tr>\n",
       "    <tr>\n",
       "      <th>33</th>\n",
       "      <td>/cw/dtailocal/Dropbox/Files/KUL/Research/1_cod...</td>\n",
       "      <td>/cw/dtailocal/Dropbox/Files/KUL/Research/1_cod...</td>\n",
       "      <td>/cw/dtailocal/Dropbox/Files/KUL/Research/1_cod...</td>\n",
       "      <td>0</td>\n",
       "      <td>120</td>\n",
       "    </tr>\n",
       "    <tr>\n",
       "      <th>34</th>\n",
       "      <td>/cw/dtailocal/Dropbox/Files/KUL/Research/1_cod...</td>\n",
       "      <td>/cw/dtailocal/Dropbox/Files/KUL/Research/1_cod...</td>\n",
       "      <td>/cw/dtailocal/Dropbox/Files/KUL/Research/1_cod...</td>\n",
       "      <td>1</td>\n",
       "      <td>120</td>\n",
       "    </tr>\n",
       "    <tr>\n",
       "      <th>35</th>\n",
       "      <td>/cw/dtailocal/Dropbox/Files/KUL/Research/1_cod...</td>\n",
       "      <td>/cw/dtailocal/Dropbox/Files/KUL/Research/1_cod...</td>\n",
       "      <td>/cw/dtailocal/Dropbox/Files/KUL/Research/1_cod...</td>\n",
       "      <td>2</td>\n",
       "      <td>120</td>\n",
       "    </tr>\n",
       "  </tbody>\n",
       "</table>\n",
       "</div>"
      ],
      "text/plain": [
       "                                         script_fname  \\\n",
       "0   /cw/dtailocal/Dropbox/Files/KUL/Research/1_cod...   \n",
       "1   /cw/dtailocal/Dropbox/Files/KUL/Research/1_cod...   \n",
       "2   /cw/dtailocal/Dropbox/Files/KUL/Research/1_cod...   \n",
       "3   /cw/dtailocal/Dropbox/Files/KUL/Research/1_cod...   \n",
       "4   /cw/dtailocal/Dropbox/Files/KUL/Research/1_cod...   \n",
       "5   /cw/dtailocal/Dropbox/Files/KUL/Research/1_cod...   \n",
       "6   /cw/dtailocal/Dropbox/Files/KUL/Research/1_cod...   \n",
       "7   /cw/dtailocal/Dropbox/Files/KUL/Research/1_cod...   \n",
       "8   /cw/dtailocal/Dropbox/Files/KUL/Research/1_cod...   \n",
       "9   /cw/dtailocal/Dropbox/Files/KUL/Research/1_cod...   \n",
       "10  /cw/dtailocal/Dropbox/Files/KUL/Research/1_cod...   \n",
       "11  /cw/dtailocal/Dropbox/Files/KUL/Research/1_cod...   \n",
       "12  /cw/dtailocal/Dropbox/Files/KUL/Research/1_cod...   \n",
       "13  /cw/dtailocal/Dropbox/Files/KUL/Research/1_cod...   \n",
       "14  /cw/dtailocal/Dropbox/Files/KUL/Research/1_cod...   \n",
       "15  /cw/dtailocal/Dropbox/Files/KUL/Research/1_cod...   \n",
       "16  /cw/dtailocal/Dropbox/Files/KUL/Research/1_cod...   \n",
       "17  /cw/dtailocal/Dropbox/Files/KUL/Research/1_cod...   \n",
       "18  /cw/dtailocal/Dropbox/Files/KUL/Research/1_cod...   \n",
       "19  /cw/dtailocal/Dropbox/Files/KUL/Research/1_cod...   \n",
       "20  /cw/dtailocal/Dropbox/Files/KUL/Research/1_cod...   \n",
       "21  /cw/dtailocal/Dropbox/Files/KUL/Research/1_cod...   \n",
       "22  /cw/dtailocal/Dropbox/Files/KUL/Research/1_cod...   \n",
       "23  /cw/dtailocal/Dropbox/Files/KUL/Research/1_cod...   \n",
       "24  /cw/dtailocal/Dropbox/Files/KUL/Research/1_cod...   \n",
       "25  /cw/dtailocal/Dropbox/Files/KUL/Research/1_cod...   \n",
       "26  /cw/dtailocal/Dropbox/Files/KUL/Research/1_cod...   \n",
       "27  /cw/dtailocal/Dropbox/Files/KUL/Research/1_cod...   \n",
       "28  /cw/dtailocal/Dropbox/Files/KUL/Research/1_cod...   \n",
       "29  /cw/dtailocal/Dropbox/Files/KUL/Research/1_cod...   \n",
       "30  /cw/dtailocal/Dropbox/Files/KUL/Research/1_cod...   \n",
       "31  /cw/dtailocal/Dropbox/Files/KUL/Research/1_cod...   \n",
       "32  /cw/dtailocal/Dropbox/Files/KUL/Research/1_cod...   \n",
       "33  /cw/dtailocal/Dropbox/Files/KUL/Research/1_cod...   \n",
       "34  /cw/dtailocal/Dropbox/Files/KUL/Research/1_cod...   \n",
       "35  /cw/dtailocal/Dropbox/Files/KUL/Research/1_cod...   \n",
       "\n",
       "                                         config_fname  \\\n",
       "0   /cw/dtailocal/Dropbox/Files/KUL/Research/1_cod...   \n",
       "1   /cw/dtailocal/Dropbox/Files/KUL/Research/1_cod...   \n",
       "2   /cw/dtailocal/Dropbox/Files/KUL/Research/1_cod...   \n",
       "3   /cw/dtailocal/Dropbox/Files/KUL/Research/1_cod...   \n",
       "4   /cw/dtailocal/Dropbox/Files/KUL/Research/1_cod...   \n",
       "5   /cw/dtailocal/Dropbox/Files/KUL/Research/1_cod...   \n",
       "6   /cw/dtailocal/Dropbox/Files/KUL/Research/1_cod...   \n",
       "7   /cw/dtailocal/Dropbox/Files/KUL/Research/1_cod...   \n",
       "8   /cw/dtailocal/Dropbox/Files/KUL/Research/1_cod...   \n",
       "9   /cw/dtailocal/Dropbox/Files/KUL/Research/1_cod...   \n",
       "10  /cw/dtailocal/Dropbox/Files/KUL/Research/1_cod...   \n",
       "11  /cw/dtailocal/Dropbox/Files/KUL/Research/1_cod...   \n",
       "12  /cw/dtailocal/Dropbox/Files/KUL/Research/1_cod...   \n",
       "13  /cw/dtailocal/Dropbox/Files/KUL/Research/1_cod...   \n",
       "14  /cw/dtailocal/Dropbox/Files/KUL/Research/1_cod...   \n",
       "15  /cw/dtailocal/Dropbox/Files/KUL/Research/1_cod...   \n",
       "16  /cw/dtailocal/Dropbox/Files/KUL/Research/1_cod...   \n",
       "17  /cw/dtailocal/Dropbox/Files/KUL/Research/1_cod...   \n",
       "18  /cw/dtailocal/Dropbox/Files/KUL/Research/1_cod...   \n",
       "19  /cw/dtailocal/Dropbox/Files/KUL/Research/1_cod...   \n",
       "20  /cw/dtailocal/Dropbox/Files/KUL/Research/1_cod...   \n",
       "21  /cw/dtailocal/Dropbox/Files/KUL/Research/1_cod...   \n",
       "22  /cw/dtailocal/Dropbox/Files/KUL/Research/1_cod...   \n",
       "23  /cw/dtailocal/Dropbox/Files/KUL/Research/1_cod...   \n",
       "24  /cw/dtailocal/Dropbox/Files/KUL/Research/1_cod...   \n",
       "25  /cw/dtailocal/Dropbox/Files/KUL/Research/1_cod...   \n",
       "26  /cw/dtailocal/Dropbox/Files/KUL/Research/1_cod...   \n",
       "27  /cw/dtailocal/Dropbox/Files/KUL/Research/1_cod...   \n",
       "28  /cw/dtailocal/Dropbox/Files/KUL/Research/1_cod...   \n",
       "29  /cw/dtailocal/Dropbox/Files/KUL/Research/1_cod...   \n",
       "30  /cw/dtailocal/Dropbox/Files/KUL/Research/1_cod...   \n",
       "31  /cw/dtailocal/Dropbox/Files/KUL/Research/1_cod...   \n",
       "32  /cw/dtailocal/Dropbox/Files/KUL/Research/1_cod...   \n",
       "33  /cw/dtailocal/Dropbox/Files/KUL/Research/1_cod...   \n",
       "34  /cw/dtailocal/Dropbox/Files/KUL/Research/1_cod...   \n",
       "35  /cw/dtailocal/Dropbox/Files/KUL/Research/1_cod...   \n",
       "\n",
       "                                            log_fname  fold  timeout  \n",
       "0   /cw/dtailocal/Dropbox/Files/KUL/Research/1_cod...     0      120  \n",
       "1   /cw/dtailocal/Dropbox/Files/KUL/Research/1_cod...     1      120  \n",
       "2   /cw/dtailocal/Dropbox/Files/KUL/Research/1_cod...     2      120  \n",
       "3   /cw/dtailocal/Dropbox/Files/KUL/Research/1_cod...     0      120  \n",
       "4   /cw/dtailocal/Dropbox/Files/KUL/Research/1_cod...     1      120  \n",
       "5   /cw/dtailocal/Dropbox/Files/KUL/Research/1_cod...     2      120  \n",
       "6   /cw/dtailocal/Dropbox/Files/KUL/Research/1_cod...     0      120  \n",
       "7   /cw/dtailocal/Dropbox/Files/KUL/Research/1_cod...     1      120  \n",
       "8   /cw/dtailocal/Dropbox/Files/KUL/Research/1_cod...     2      120  \n",
       "9   /cw/dtailocal/Dropbox/Files/KUL/Research/1_cod...     0      120  \n",
       "10  /cw/dtailocal/Dropbox/Files/KUL/Research/1_cod...     1      120  \n",
       "11  /cw/dtailocal/Dropbox/Files/KUL/Research/1_cod...     2      120  \n",
       "12  /cw/dtailocal/Dropbox/Files/KUL/Research/1_cod...     0      120  \n",
       "13  /cw/dtailocal/Dropbox/Files/KUL/Research/1_cod...     1      120  \n",
       "14  /cw/dtailocal/Dropbox/Files/KUL/Research/1_cod...     2      120  \n",
       "15  /cw/dtailocal/Dropbox/Files/KUL/Research/1_cod...     0      120  \n",
       "16  /cw/dtailocal/Dropbox/Files/KUL/Research/1_cod...     1      120  \n",
       "17  /cw/dtailocal/Dropbox/Files/KUL/Research/1_cod...     2      120  \n",
       "18  /cw/dtailocal/Dropbox/Files/KUL/Research/1_cod...     0      120  \n",
       "19  /cw/dtailocal/Dropbox/Files/KUL/Research/1_cod...     1      120  \n",
       "20  /cw/dtailocal/Dropbox/Files/KUL/Research/1_cod...     2      120  \n",
       "21  /cw/dtailocal/Dropbox/Files/KUL/Research/1_cod...     0      120  \n",
       "22  /cw/dtailocal/Dropbox/Files/KUL/Research/1_cod...     1      120  \n",
       "23  /cw/dtailocal/Dropbox/Files/KUL/Research/1_cod...     2      120  \n",
       "24  /cw/dtailocal/Dropbox/Files/KUL/Research/1_cod...     0      120  \n",
       "25  /cw/dtailocal/Dropbox/Files/KUL/Research/1_cod...     1      120  \n",
       "26  /cw/dtailocal/Dropbox/Files/KUL/Research/1_cod...     2      120  \n",
       "27  /cw/dtailocal/Dropbox/Files/KUL/Research/1_cod...     0      120  \n",
       "28  /cw/dtailocal/Dropbox/Files/KUL/Research/1_cod...     1      120  \n",
       "29  /cw/dtailocal/Dropbox/Files/KUL/Research/1_cod...     2      120  \n",
       "30  /cw/dtailocal/Dropbox/Files/KUL/Research/1_cod...     0      120  \n",
       "31  /cw/dtailocal/Dropbox/Files/KUL/Research/1_cod...     1      120  \n",
       "32  /cw/dtailocal/Dropbox/Files/KUL/Research/1_cod...     2      120  \n",
       "33  /cw/dtailocal/Dropbox/Files/KUL/Research/1_cod...     0      120  \n",
       "34  /cw/dtailocal/Dropbox/Files/KUL/Research/1_cod...     1      120  \n",
       "35  /cw/dtailocal/Dropbox/Files/KUL/Research/1_cod...     2      120  "
      ]
     },
     "execution_count": 17,
     "metadata": {},
     "output_type": "execute_result"
    }
   ],
   "source": [
    "df"
   ]
  }
 ],
 "metadata": {
  "kernelspec": {
   "display_name": "Python [default]",
   "language": "python",
   "name": "python3"
  },
  "language_info": {
   "codemirror_mode": {
    "name": "ipython",
    "version": 3
   },
   "file_extension": ".py",
   "mimetype": "text/x-python",
   "name": "python",
   "nbconvert_exporter": "python",
   "pygments_lexer": "ipython3",
   "version": "3.6.1"
  },
  "toc": {
   "nav_menu": {},
   "number_sections": true,
   "sideBar": true,
   "skip_h1_title": true,
   "toc_cell": false,
   "toc_position": {},
   "toc_section_display": "block",
   "toc_window_display": false
  }
 },
 "nbformat": 4,
 "nbformat_minor": 2
}
