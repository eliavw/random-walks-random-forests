{
 "cells": [
  {
   "cell_type": "markdown",
   "metadata": {},
   "source": [
    "# Dev RunMercs\n",
    "\n",
    "Development notebook to test my refactor of this script."
   ]
  },
  {
   "cell_type": "markdown",
   "metadata": {},
   "source": [
    "## Prelims"
   ]
  },
  {
   "cell_type": "code",
   "execution_count": 1,
   "metadata": {
    "collapsed": true
   },
   "outputs": [],
   "source": [
    "import os\n",
    "import numpy as np\n",
    "import pandas as pd\n",
    "import sys\n",
    "import pprint\n",
    "\n",
    "\n",
    "from os.path import dirname"
   ]
  },
  {
   "cell_type": "code",
   "execution_count": 1,
   "metadata": {},
   "outputs": [
    {
     "ename": "NameError",
     "evalue": "name 'dirname' is not defined",
     "output_type": "error",
     "traceback": [
      "\u001b[0;31m---------------------------------------------------------------------------\u001b[0m",
      "\u001b[0;31mNameError\u001b[0m                                 Traceback (most recent call last)",
      "\u001b[0;32m<ipython-input-1-c6e5bad8e86d>\u001b[0m in \u001b[0;36m<module>\u001b[0;34m()\u001b[0m\n\u001b[1;32m      1\u001b[0m \u001b[0;31m# Custom imports\u001b[0m\u001b[0;34m\u001b[0m\u001b[0;34m\u001b[0m\u001b[0m\n\u001b[0;32m----> 2\u001b[0;31m \u001b[0mroot_dir\u001b[0m \u001b[0;34m=\u001b[0m \u001b[0mdirname\u001b[0m\u001b[0;34m(\u001b[0m\u001b[0mdirname\u001b[0m\u001b[0;34m(\u001b[0m\u001b[0mos\u001b[0m\u001b[0;34m.\u001b[0m\u001b[0mgetcwd\u001b[0m\u001b[0;34m(\u001b[0m\u001b[0;34m)\u001b[0m\u001b[0;34m)\u001b[0m\u001b[0;34m)\u001b[0m\u001b[0;34m\u001b[0m\u001b[0m\n\u001b[0m\u001b[1;32m      3\u001b[0m \u001b[0msrc_dir\u001b[0m \u001b[0;34m=\u001b[0m \u001b[0mos\u001b[0m\u001b[0;34m.\u001b[0m\u001b[0mpath\u001b[0m\u001b[0;34m.\u001b[0m\u001b[0mjoin\u001b[0m\u001b[0;34m(\u001b[0m\u001b[0mroot_dir\u001b[0m\u001b[0;34m,\u001b[0m \u001b[0;34m'src'\u001b[0m\u001b[0;34m)\u001b[0m\u001b[0;34m\u001b[0m\u001b[0m\n\u001b[1;32m      4\u001b[0m \u001b[0msys\u001b[0m\u001b[0;34m.\u001b[0m\u001b[0mpath\u001b[0m\u001b[0;34m.\u001b[0m\u001b[0mappend\u001b[0m\u001b[0;34m(\u001b[0m\u001b[0msrc_dir\u001b[0m\u001b[0;34m)\u001b[0m\u001b[0;34m\u001b[0m\u001b[0m\n\u001b[1;32m      5\u001b[0m \u001b[0;34m\u001b[0m\u001b[0m\n",
      "\u001b[0;31mNameError\u001b[0m: name 'dirname' is not defined"
     ]
    }
   ],
   "source": [
    "# Custom imports\n",
    "root_dir = dirname(dirname(os.getcwd()))\n",
    "src_dir = os.path.join(root_dir, 'src')\n",
    "sys.path.append(src_dir)\n",
    "\n",
    "import exp\n",
    "from exp.runner.RunMercs import RunMercs\n",
    "from exp.utils.run import run_script"
   ]
  },
  {
   "cell_type": "markdown",
   "metadata": {},
   "source": [
    "## Actual Tryouts"
   ]
  },
  {
   "cell_type": "code",
   "execution_count": 3,
   "metadata": {
    "collapsed": true
   },
   "outputs": [],
   "source": [
    "pp = pprint.PrettyPrinter(indent=2)"
   ]
  },
  {
   "cell_type": "code",
   "execution_count": 4,
   "metadata": {
    "collapsed": true
   },
   "outputs": [],
   "source": [
    "rm = RunMercs()"
   ]
  },
  {
   "cell_type": "code",
   "execution_count": 5,
   "metadata": {
    "collapsed": true
   },
   "outputs": [],
   "source": [
    "kwargs = {'Mercs.pred.its': 5,\n",
    "          'Mercs.ind.max_depth': 2,\n",
    "          'Mercs.other.category.and stuff': 42,\n",
    "          'eval.kinds': ['macro_f1', 'micro_f1', 'weigh_f1'],\n",
    "          'folds': [0,1]}\n",
    "rm.make_config(dataset='nltcs', idx=1, **kwargs)"
   ]
  },
  {
   "cell_type": "code",
   "execution_count": 6,
   "metadata": {},
   "outputs": [
    {
     "data": {
      "text/plain": [
       "dict_keys(['script', 'train_data', 'test_data', 'config', 'mod-config', 'logs', 'timings', 'results', 'qry-config'])"
      ]
     },
     "execution_count": 6,
     "metadata": {},
     "output_type": "execute_result"
    }
   ],
   "source": [
    "rm.config['io']['file'].keys()"
   ]
  },
  {
   "cell_type": "code",
   "execution_count": 23,
   "metadata": {},
   "outputs": [
    {
     "data": {
      "text/plain": [
       "{'Mercs': {'ind.max_depth': 2, 'other.category.and stuff': 42, 'pred.its': 10},\n",
       " 'dataset': 'nltcs',\n",
       " 'eval': {'kinds': ['macro_f1', 'micro_f1', 'weigh_f1']},\n",
       " 'folds': [0, 1],\n",
       " 'idx': 1,\n",
       " 'io': {'dirs': {'cmd': '/cw/dtailocal/Dropbox/Files/KUL/Research/1_codebases/homework/cmd/',\n",
       "   'prod': '/cw/dtailocal/Dropbox/Files/KUL/Research/1_codebases/homework/prod/RunMercs/000001',\n",
       "   'prod-config': '/cw/dtailocal/Dropbox/Files/KUL/Research/1_codebases/homework/prod/RunMercs/000001/config/',\n",
       "   'prod-logs': '/cw/dtailocal/Dropbox/Files/KUL/Research/1_codebases/homework/prod/RunMercs/000001/logs/',\n",
       "   'prod-results': '/cw/dtailocal/Dropbox/Files/KUL/Research/1_codebases/homework/prod/RunMercs/000001/results/',\n",
       "   'prod-timings': '/cw/dtailocal/Dropbox/Files/KUL/Research/1_codebases/homework/prod/RunMercs/000001/timings/',\n",
       "   'resc': '/cw/dtailocal/Dropbox/Files/KUL/Research/1_codebases/homework/resc/',\n",
       "   'resc-config': '/cw/dtailocal/Dropbox/Files/KUL/Research/1_codebases/homework/resc/config/',\n",
       "   'resc-config-ds': '/cw/dtailocal/Dropbox/Files/KUL/Research/1_codebases/homework/resc/config/nltcs/',\n",
       "   'resc-data': '/cw/dtailocal/Dropbox/Files/KUL/Research/1_codebases/homework/resc/data/tidy/',\n",
       "   'resc-data-ds': '/cw/dtailocal/Dropbox/Files/KUL/Research/1_codebases/homework/resc/data/tidy/nltcs/',\n",
       "   'resc-models': '/cw/dtailocal/Dropbox/Files/KUL/Research/1_codebases/homework/resc/models/',\n",
       "   'resc-models-ds': '/cw/dtailocal/Dropbox/Files/KUL/Research/1_codebases/homework/resc/models/nltcs/',\n",
       "   'resc-query': '/cw/dtailocal/Dropbox/Files/KUL/Research/1_codebases/homework/resc/query/',\n",
       "   'resc-query-ds': '/cw/dtailocal/Dropbox/Files/KUL/Research/1_codebases/homework/resc/query/nltcs/',\n",
       "   'root': '/cw/dtailocal/Dropbox/Files/KUL/Research/1_codebases/homework'},\n",
       "  'file': {'config': '/cw/dtailocal/Dropbox/Files/KUL/Research/1_codebases/homework/prod/RunMercs/000001/config/RunMercs.json',\n",
       "   'logs': [(0,\n",
       "     '/cw/dtailocal/Dropbox/Files/KUL/Research/1_codebases/homework/prod/RunMercs/000001/logs/nltcs_Test_F00_log'),\n",
       "    (1,\n",
       "     '/cw/dtailocal/Dropbox/Files/KUL/Research/1_codebases/homework/prod/RunMercs/000001/logs/nltcs_Test_F01_log')],\n",
       "   'mod-config': [(0,\n",
       "     '/cw/dtailocal/Dropbox/Files/KUL/Research/1_codebases/homework/prod/RunMercs/000001/config/nltcs_Train_F00_Mercs.pkl'),\n",
       "    (1,\n",
       "     '/cw/dtailocal/Dropbox/Files/KUL/Research/1_codebases/homework/prod/RunMercs/000001/config/nltcs_Train_F01_Mercs.pkl')],\n",
       "   'qry-config': '/cw/dtailocal/Dropbox/Files/KUL/Research/1_codebases/homework/resc/query/nltcs/query_iterative.json',\n",
       "   'results': [(0,\n",
       "     '/cw/dtailocal/Dropbox/Files/KUL/Research/1_codebases/homework/prod/RunMercs/000001/results/nltcs_Test_F00_results.csv'),\n",
       "    (1,\n",
       "     '/cw/dtailocal/Dropbox/Files/KUL/Research/1_codebases/homework/prod/RunMercs/000001/results/nltcs_Test_F01_results.csv')],\n",
       "   'script': '/cw/dtailocal/Dropbox/Files/KUL/Research/1_codebases/homework/cmd/run_mercs.py',\n",
       "   'test_data': [(0,\n",
       "     '/cw/dtailocal/Dropbox/Files/KUL/Research/1_codebases/homework/resc/data/tidy/nltcs/nltcs_Test_F00.csv'),\n",
       "    (1,\n",
       "     '/cw/dtailocal/Dropbox/Files/KUL/Research/1_codebases/homework/resc/data/tidy/nltcs/nltcs_Test_F01.csv')],\n",
       "   'timings': [(0,\n",
       "     '/cw/dtailocal/Dropbox/Files/KUL/Research/1_codebases/homework/prod/RunMercs/000001/timings/nltcs_Test_F00_times.csv'),\n",
       "    (1,\n",
       "     '/cw/dtailocal/Dropbox/Files/KUL/Research/1_codebases/homework/prod/RunMercs/000001/timings/nltcs_Test_F01_times.csv')],\n",
       "   'train_data': [(0,\n",
       "     '/cw/dtailocal/Dropbox/Files/KUL/Research/1_codebases/homework/resc/data/tidy/nltcs/nltcs_Train_F00.csv'),\n",
       "    (1,\n",
       "     '/cw/dtailocal/Dropbox/Files/KUL/Research/1_codebases/homework/resc/data/tidy/nltcs/nltcs_Train_F01.csv')]}},\n",
       " 'qry': {},\n",
       " 'timeout': 60}"
      ]
     },
     "execution_count": 23,
     "metadata": {},
     "output_type": "execute_result"
    }
   ],
   "source": [
    "rm.config"
   ]
  },
  {
   "cell_type": "code",
   "execution_count": 8,
   "metadata": {
    "collapsed": true
   },
   "outputs": [],
   "source": [
    "s = 'YOLO'"
   ]
  },
  {
   "cell_type": "code",
   "execution_count": 9,
   "metadata": {},
   "outputs": [
    {
     "data": {
      "text/plain": [
       "True"
      ]
     },
     "execution_count": 9,
     "metadata": {},
     "output_type": "execute_result"
    }
   ],
   "source": [
    "s.startswith('YOL')"
   ]
  },
  {
   "cell_type": "code",
   "execution_count": 10,
   "metadata": {},
   "outputs": [
    {
     "data": {
      "text/plain": [
       "array([0., 0., 0., 0., 0., 0., 0., 0., 0., 0.])"
      ]
     },
     "execution_count": 10,
     "metadata": {},
     "output_type": "execute_result"
    }
   ],
   "source": [
    "timing_arr = np.zeros(10)\n",
    "timing_arr"
   ]
  },
  {
   "cell_type": "code",
   "execution_count": 11,
   "metadata": {},
   "outputs": [
    {
     "data": {
      "text/html": [
       "<div>\n",
       "<style scoped>\n",
       "    .dataframe tbody tr th:only-of-type {\n",
       "        vertical-align: middle;\n",
       "    }\n",
       "\n",
       "    .dataframe tbody tr th {\n",
       "        vertical-align: top;\n",
       "    }\n",
       "\n",
       "    .dataframe thead th {\n",
       "        text-align: right;\n",
       "    }\n",
       "</style>\n",
       "<table border=\"1\" class=\"dataframe\">\n",
       "  <thead>\n",
       "    <tr style=\"text-align: right;\">\n",
       "      <th></th>\n",
       "      <th>inf_time</th>\n",
       "      <th>ind_time</th>\n",
       "      <th>q_idx</th>\n",
       "    </tr>\n",
       "  </thead>\n",
       "  <tbody>\n",
       "    <tr>\n",
       "      <th>0</th>\n",
       "      <td>0.0</td>\n",
       "      <td>1.2</td>\n",
       "      <td>0</td>\n",
       "    </tr>\n",
       "    <tr>\n",
       "      <th>1</th>\n",
       "      <td>0.0</td>\n",
       "      <td>1.2</td>\n",
       "      <td>1</td>\n",
       "    </tr>\n",
       "    <tr>\n",
       "      <th>2</th>\n",
       "      <td>0.0</td>\n",
       "      <td>1.2</td>\n",
       "      <td>2</td>\n",
       "    </tr>\n",
       "    <tr>\n",
       "      <th>3</th>\n",
       "      <td>0.0</td>\n",
       "      <td>1.2</td>\n",
       "      <td>3</td>\n",
       "    </tr>\n",
       "    <tr>\n",
       "      <th>4</th>\n",
       "      <td>0.0</td>\n",
       "      <td>1.2</td>\n",
       "      <td>4</td>\n",
       "    </tr>\n",
       "    <tr>\n",
       "      <th>5</th>\n",
       "      <td>0.0</td>\n",
       "      <td>1.2</td>\n",
       "      <td>5</td>\n",
       "    </tr>\n",
       "    <tr>\n",
       "      <th>6</th>\n",
       "      <td>0.0</td>\n",
       "      <td>1.2</td>\n",
       "      <td>6</td>\n",
       "    </tr>\n",
       "    <tr>\n",
       "      <th>7</th>\n",
       "      <td>0.0</td>\n",
       "      <td>1.2</td>\n",
       "      <td>7</td>\n",
       "    </tr>\n",
       "    <tr>\n",
       "      <th>8</th>\n",
       "      <td>0.0</td>\n",
       "      <td>1.2</td>\n",
       "      <td>8</td>\n",
       "    </tr>\n",
       "    <tr>\n",
       "      <th>9</th>\n",
       "      <td>0.0</td>\n",
       "      <td>1.2</td>\n",
       "      <td>9</td>\n",
       "    </tr>\n",
       "  </tbody>\n",
       "</table>\n",
       "</div>"
      ],
      "text/plain": [
       "   inf_time  ind_time  q_idx\n",
       "0       0.0       1.2      0\n",
       "1       0.0       1.2      1\n",
       "2       0.0       1.2      2\n",
       "3       0.0       1.2      3\n",
       "4       0.0       1.2      4\n",
       "5       0.0       1.2      5\n",
       "6       0.0       1.2      6\n",
       "7       0.0       1.2      7\n",
       "8       0.0       1.2      8\n",
       "9       0.0       1.2      9"
      ]
     },
     "execution_count": 11,
     "metadata": {},
     "output_type": "execute_result"
    }
   ],
   "source": [
    "df = pd.DataFrame(timing_arr, columns=['inf_time'])\n",
    "df['ind_time'] = 1.2\n",
    "df['q_idx'] = df.index\n",
    "df"
   ]
  },
  {
   "cell_type": "code",
   "execution_count": 12,
   "metadata": {},
   "outputs": [
    {
     "data": {
      "text/plain": [
       "13.96"
      ]
     },
     "execution_count": 12,
     "metadata": {},
     "output_type": "execute_result"
    }
   ],
   "source": [
    "round(13.9555555,2)"
   ]
  },
  {
   "cell_type": "code",
   "execution_count": 13,
   "metadata": {},
   "outputs": [
    {
     "data": {
      "text/plain": [
       "{'Mercs': {'ind.max_depth': 2, 'other.category.and stuff': 42, 'pred.its': 5},\n",
       " 'dataset': 'nltcs',\n",
       " 'eval': {'kinds': ['macro_f1', 'micro_f1', 'weigh_f1']},\n",
       " 'folds': [0, 1],\n",
       " 'idx': 1,\n",
       " 'io': {'dirs': {'cmd': '/cw/dtailocal/Dropbox/Files/KUL/Research/1_codebases/homework/cmd/',\n",
       "   'prod': '/cw/dtailocal/Dropbox/Files/KUL/Research/1_codebases/homework/prod/RunMercs/000001',\n",
       "   'prod-config': '/cw/dtailocal/Dropbox/Files/KUL/Research/1_codebases/homework/prod/RunMercs/000001/config/',\n",
       "   'prod-logs': '/cw/dtailocal/Dropbox/Files/KUL/Research/1_codebases/homework/prod/RunMercs/000001/logs/',\n",
       "   'prod-results': '/cw/dtailocal/Dropbox/Files/KUL/Research/1_codebases/homework/prod/RunMercs/000001/results/',\n",
       "   'prod-timings': '/cw/dtailocal/Dropbox/Files/KUL/Research/1_codebases/homework/prod/RunMercs/000001/timings/',\n",
       "   'resc': '/cw/dtailocal/Dropbox/Files/KUL/Research/1_codebases/homework/resc/',\n",
       "   'resc-config': '/cw/dtailocal/Dropbox/Files/KUL/Research/1_codebases/homework/resc/config/',\n",
       "   'resc-config-ds': '/cw/dtailocal/Dropbox/Files/KUL/Research/1_codebases/homework/resc/config/nltcs/',\n",
       "   'resc-data': '/cw/dtailocal/Dropbox/Files/KUL/Research/1_codebases/homework/resc/data/tidy/',\n",
       "   'resc-data-ds': '/cw/dtailocal/Dropbox/Files/KUL/Research/1_codebases/homework/resc/data/tidy/nltcs/',\n",
       "   'resc-models': '/cw/dtailocal/Dropbox/Files/KUL/Research/1_codebases/homework/resc/models/',\n",
       "   'resc-models-ds': '/cw/dtailocal/Dropbox/Files/KUL/Research/1_codebases/homework/resc/models/nltcs/',\n",
       "   'resc-query': '/cw/dtailocal/Dropbox/Files/KUL/Research/1_codebases/homework/resc/query/',\n",
       "   'resc-query-ds': '/cw/dtailocal/Dropbox/Files/KUL/Research/1_codebases/homework/resc/query/nltcs/',\n",
       "   'root': '/cw/dtailocal/Dropbox/Files/KUL/Research/1_codebases/homework'},\n",
       "  'file': {'config': '/cw/dtailocal/Dropbox/Files/KUL/Research/1_codebases/homework/prod/RunMercs/000001/config/RunMercs.json',\n",
       "   'logs': [(0,\n",
       "     '/cw/dtailocal/Dropbox/Files/KUL/Research/1_codebases/homework/prod/RunMercs/000001/logs/nltcs_Test_F00_log'),\n",
       "    (1,\n",
       "     '/cw/dtailocal/Dropbox/Files/KUL/Research/1_codebases/homework/prod/RunMercs/000001/logs/nltcs_Test_F01_log')],\n",
       "   'mod-config': [(0,\n",
       "     '/cw/dtailocal/Dropbox/Files/KUL/Research/1_codebases/homework/prod/RunMercs/000001/config/nltcs_Train_F00_Mercs.pkl'),\n",
       "    (1,\n",
       "     '/cw/dtailocal/Dropbox/Files/KUL/Research/1_codebases/homework/prod/RunMercs/000001/config/nltcs_Train_F01_Mercs.pkl')],\n",
       "   'qry-config': '/cw/dtailocal/Dropbox/Files/KUL/Research/1_codebases/homework/resc/query/nltcs/query_iterative.json',\n",
       "   'results': [(0,\n",
       "     '/cw/dtailocal/Dropbox/Files/KUL/Research/1_codebases/homework/prod/RunMercs/000001/results/nltcs_Test_F00_results.csv'),\n",
       "    (1,\n",
       "     '/cw/dtailocal/Dropbox/Files/KUL/Research/1_codebases/homework/prod/RunMercs/000001/results/nltcs_Test_F01_results.csv')],\n",
       "   'script': '/cw/dtailocal/Dropbox/Files/KUL/Research/1_codebases/homework/cmd/run_mercs.py',\n",
       "   'test_data': [(0,\n",
       "     '/cw/dtailocal/Dropbox/Files/KUL/Research/1_codebases/homework/resc/data/tidy/nltcs/nltcs_Test_F00.csv'),\n",
       "    (1,\n",
       "     '/cw/dtailocal/Dropbox/Files/KUL/Research/1_codebases/homework/resc/data/tidy/nltcs/nltcs_Test_F01.csv')],\n",
       "   'timings': [(0,\n",
       "     '/cw/dtailocal/Dropbox/Files/KUL/Research/1_codebases/homework/prod/RunMercs/000001/timings/nltcs_Test_F00_times.csv'),\n",
       "    (1,\n",
       "     '/cw/dtailocal/Dropbox/Files/KUL/Research/1_codebases/homework/prod/RunMercs/000001/timings/nltcs_Test_F01_times.csv')],\n",
       "   'train_data': [(0,\n",
       "     '/cw/dtailocal/Dropbox/Files/KUL/Research/1_codebases/homework/resc/data/tidy/nltcs/nltcs_Train_F00.csv'),\n",
       "    (1,\n",
       "     '/cw/dtailocal/Dropbox/Files/KUL/Research/1_codebases/homework/resc/data/tidy/nltcs/nltcs_Train_F01.csv')]}},\n",
       " 'qry': {}}"
      ]
     },
     "execution_count": 13,
     "metadata": {},
     "output_type": "execute_result"
    }
   ],
   "source": [
    "rm.config"
   ]
  },
  {
   "cell_type": "code",
   "execution_count": 14,
   "metadata": {
    "collapsed": true
   },
   "outputs": [],
   "source": [
    "df = rm.generate_run_params(timeout=60)"
   ]
  },
  {
   "cell_type": "code",
   "execution_count": 15,
   "metadata": {},
   "outputs": [
    {
     "name": "stdout",
     "output_type": "stream",
     "text": [
      "\n",
      "    log_fname is:   /cw/dtailocal/Dropbox/Files/KUL/Research/1_codebases/homework/prod/RunMercs/000001/logs/nltcs_Test_F00_log\n",
      "\n",
      "    timeout is:     60\n",
      "\n",
      "    \n",
      "\n",
      "\n",
      "    log_fname is:   /cw/dtailocal/Dropbox/Files/KUL/Research/1_codebases/homework/prod/RunMercs/000001/logs/nltcs_Test_F01_log\n",
      "\n",
      "    timeout is:     60\n",
      "\n",
      "    \n",
      "\n"
     ]
    }
   ],
   "source": [
    "kwargs = {'Mercs.pred.its': 10}\n",
    "rm.run(timeout=60, **kwargs)"
   ]
  },
  {
   "cell_type": "code",
   "execution_count": 16,
   "metadata": {},
   "outputs": [
    {
     "data": {
      "text/plain": [
       "dict_keys(['script', 'train_data', 'test_data', 'config', 'mod-config', 'logs', 'timings', 'results', 'qry-config'])"
      ]
     },
     "execution_count": 16,
     "metadata": {},
     "output_type": "execute_result"
    }
   ],
   "source": [
    "rm.config['io']['file'].keys()"
   ]
  },
  {
   "cell_type": "code",
   "execution_count": 17,
   "metadata": {},
   "outputs": [
    {
     "data": {
      "text/plain": [
       "[('/cw/dtailocal/Dropbox/Files/KUL/Research/1_codebases/homework/cmd/run_mercs.py',\n",
       "  '/cw/dtailocal/Dropbox/Files/KUL/Research/1_codebases/homework/prod/RunMercs/000001/config/RunMercs.json',\n",
       "  '/cw/dtailocal/Dropbox/Files/KUL/Research/1_codebases/homework/prod/RunMercs/000001/logs/nltcs_Test_F00_log',\n",
       "  0,\n",
       "  60),\n",
       " ('/cw/dtailocal/Dropbox/Files/KUL/Research/1_codebases/homework/cmd/run_mercs.py',\n",
       "  '/cw/dtailocal/Dropbox/Files/KUL/Research/1_codebases/homework/prod/RunMercs/000001/config/RunMercs.json',\n",
       "  '/cw/dtailocal/Dropbox/Files/KUL/Research/1_codebases/homework/prod/RunMercs/000001/logs/nltcs_Test_F01_log',\n",
       "  1,\n",
       "  60)]"
      ]
     },
     "execution_count": 17,
     "metadata": {},
     "output_type": "execute_result"
    }
   ],
   "source": [
    "df.apply(tuple, axis=1).tolist()"
   ]
  },
  {
   "cell_type": "code",
   "execution_count": 18,
   "metadata": {},
   "outputs": [
    {
     "data": {
      "text/plain": [
       "[('/cw/dtailocal/Dropbox/Files/KUL/Research/1_codebases/homework/cmd/run_mercs.py',\n",
       "  '/cw/dtailocal/Dropbox/Files/KUL/Research/1_codebases/homework/prod/RunMercs/000001/config/RunMercs.json',\n",
       "  '/cw/dtailocal/Dropbox/Files/KUL/Research/1_codebases/homework/prod/RunMercs/000001/logs/nltcs_Test_F00_log',\n",
       "  0,\n",
       "  60),\n",
       " ('/cw/dtailocal/Dropbox/Files/KUL/Research/1_codebases/homework/cmd/run_mercs.py',\n",
       "  '/cw/dtailocal/Dropbox/Files/KUL/Research/1_codebases/homework/prod/RunMercs/000001/config/RunMercs.json',\n",
       "  '/cw/dtailocal/Dropbox/Files/KUL/Research/1_codebases/homework/prod/RunMercs/000001/logs/nltcs_Test_F01_log',\n",
       "  1,\n",
       "  60)]"
      ]
     },
     "execution_count": 18,
     "metadata": {},
     "output_type": "execute_result"
    }
   ],
   "source": [
    "list(df.itertuples(index=False, name=None))"
   ]
  },
  {
   "cell_type": "code",
   "execution_count": 19,
   "metadata": {
    "collapsed": true
   },
   "outputs": [],
   "source": [
    "def _extract_keywords(f):\n",
    "    parameters = signature(f).parameters\n",
    "\n",
    "    keywords = set(parameters.keys())\n",
    "    return keywords"
   ]
  },
  {
   "cell_type": "code",
   "execution_count": 20,
   "metadata": {
    "collapsed": true
   },
   "outputs": [],
   "source": [
    "from inspect import signature"
   ]
  },
  {
   "cell_type": "code",
   "execution_count": 21,
   "metadata": {},
   "outputs": [
    {
     "data": {
      "text/plain": [
       "{'config_fname', 'fold', 'log_fname', 'script_fname', 'timeout'}"
      ]
     },
     "execution_count": 21,
     "metadata": {},
     "output_type": "execute_result"
    }
   ],
   "source": [
    "_extract_keywords(run_script)"
   ]
  },
  {
   "cell_type": "code",
   "execution_count": 25,
   "metadata": {
    "collapsed": true
   },
   "outputs": [],
   "source": [
    "head_tuple = ('script_fname',\n",
    "                      'config_fname',\n",
    "                      'log_fname',\n",
    "                      'fold',\n",
    "                      'timeout')\n",
    "data_tuple = ('script_fname',\n",
    "              'config_fname',\n",
    "              'log_fname',\n",
    "              0,\n",
    "              60)\n",
    "tuple_list = [data_tuple] * 10"
   ]
  },
  {
   "cell_type": "code",
   "execution_count": 26,
   "metadata": {
    "collapsed": true
   },
   "outputs": [],
   "source": [
    "df = pd.DataFrame.from_records(tuple_list, columns=head_tuple)"
   ]
  },
  {
   "cell_type": "code",
   "execution_count": 27,
   "metadata": {},
   "outputs": [
    {
     "data": {
      "text/html": [
       "<div>\n",
       "<style scoped>\n",
       "    .dataframe tbody tr th:only-of-type {\n",
       "        vertical-align: middle;\n",
       "    }\n",
       "\n",
       "    .dataframe tbody tr th {\n",
       "        vertical-align: top;\n",
       "    }\n",
       "\n",
       "    .dataframe thead th {\n",
       "        text-align: right;\n",
       "    }\n",
       "</style>\n",
       "<table border=\"1\" class=\"dataframe\">\n",
       "  <thead>\n",
       "    <tr style=\"text-align: right;\">\n",
       "      <th></th>\n",
       "      <th>script_fname</th>\n",
       "      <th>config_fname</th>\n",
       "      <th>log_fname</th>\n",
       "      <th>fold</th>\n",
       "      <th>timeout</th>\n",
       "    </tr>\n",
       "  </thead>\n",
       "  <tbody>\n",
       "    <tr>\n",
       "      <th>0</th>\n",
       "      <td>script_fname</td>\n",
       "      <td>config_fname</td>\n",
       "      <td>log_fname</td>\n",
       "      <td>0</td>\n",
       "      <td>60</td>\n",
       "    </tr>\n",
       "    <tr>\n",
       "      <th>1</th>\n",
       "      <td>script_fname</td>\n",
       "      <td>config_fname</td>\n",
       "      <td>log_fname</td>\n",
       "      <td>0</td>\n",
       "      <td>60</td>\n",
       "    </tr>\n",
       "    <tr>\n",
       "      <th>2</th>\n",
       "      <td>script_fname</td>\n",
       "      <td>config_fname</td>\n",
       "      <td>log_fname</td>\n",
       "      <td>0</td>\n",
       "      <td>60</td>\n",
       "    </tr>\n",
       "    <tr>\n",
       "      <th>3</th>\n",
       "      <td>script_fname</td>\n",
       "      <td>config_fname</td>\n",
       "      <td>log_fname</td>\n",
       "      <td>0</td>\n",
       "      <td>60</td>\n",
       "    </tr>\n",
       "    <tr>\n",
       "      <th>4</th>\n",
       "      <td>script_fname</td>\n",
       "      <td>config_fname</td>\n",
       "      <td>log_fname</td>\n",
       "      <td>0</td>\n",
       "      <td>60</td>\n",
       "    </tr>\n",
       "    <tr>\n",
       "      <th>5</th>\n",
       "      <td>script_fname</td>\n",
       "      <td>config_fname</td>\n",
       "      <td>log_fname</td>\n",
       "      <td>0</td>\n",
       "      <td>60</td>\n",
       "    </tr>\n",
       "    <tr>\n",
       "      <th>6</th>\n",
       "      <td>script_fname</td>\n",
       "      <td>config_fname</td>\n",
       "      <td>log_fname</td>\n",
       "      <td>0</td>\n",
       "      <td>60</td>\n",
       "    </tr>\n",
       "    <tr>\n",
       "      <th>7</th>\n",
       "      <td>script_fname</td>\n",
       "      <td>config_fname</td>\n",
       "      <td>log_fname</td>\n",
       "      <td>0</td>\n",
       "      <td>60</td>\n",
       "    </tr>\n",
       "    <tr>\n",
       "      <th>8</th>\n",
       "      <td>script_fname</td>\n",
       "      <td>config_fname</td>\n",
       "      <td>log_fname</td>\n",
       "      <td>0</td>\n",
       "      <td>60</td>\n",
       "    </tr>\n",
       "    <tr>\n",
       "      <th>9</th>\n",
       "      <td>script_fname</td>\n",
       "      <td>config_fname</td>\n",
       "      <td>log_fname</td>\n",
       "      <td>0</td>\n",
       "      <td>60</td>\n",
       "    </tr>\n",
       "  </tbody>\n",
       "</table>\n",
       "</div>"
      ],
      "text/plain": [
       "   script_fname  config_fname  log_fname  fold  timeout\n",
       "0  script_fname  config_fname  log_fname     0       60\n",
       "1  script_fname  config_fname  log_fname     0       60\n",
       "2  script_fname  config_fname  log_fname     0       60\n",
       "3  script_fname  config_fname  log_fname     0       60\n",
       "4  script_fname  config_fname  log_fname     0       60\n",
       "5  script_fname  config_fname  log_fname     0       60\n",
       "6  script_fname  config_fname  log_fname     0       60\n",
       "7  script_fname  config_fname  log_fname     0       60\n",
       "8  script_fname  config_fname  log_fname     0       60\n",
       "9  script_fname  config_fname  log_fname     0       60"
      ]
     },
     "execution_count": 27,
     "metadata": {},
     "output_type": "execute_result"
    }
   ],
   "source": [
    "df"
   ]
  },
  {
   "cell_type": "code",
   "execution_count": 28,
   "metadata": {
    "collapsed": true
   },
   "outputs": [],
   "source": [
    "df2 = pd.DataFrame.from_records(tuple_list, columns=head_tuple)"
   ]
  },
  {
   "cell_type": "code",
   "execution_count": 30,
   "metadata": {},
   "outputs": [
    {
     "data": {
      "text/html": [
       "<div>\n",
       "<style scoped>\n",
       "    .dataframe tbody tr th:only-of-type {\n",
       "        vertical-align: middle;\n",
       "    }\n",
       "\n",
       "    .dataframe tbody tr th {\n",
       "        vertical-align: top;\n",
       "    }\n",
       "\n",
       "    .dataframe thead th {\n",
       "        text-align: right;\n",
       "    }\n",
       "</style>\n",
       "<table border=\"1\" class=\"dataframe\">\n",
       "  <thead>\n",
       "    <tr style=\"text-align: right;\">\n",
       "      <th></th>\n",
       "      <th>script_fname</th>\n",
       "      <th>config_fname</th>\n",
       "      <th>log_fname</th>\n",
       "      <th>fold</th>\n",
       "      <th>timeout</th>\n",
       "    </tr>\n",
       "  </thead>\n",
       "  <tbody>\n",
       "    <tr>\n",
       "      <th>0</th>\n",
       "      <td>script_fname</td>\n",
       "      <td>config_fname</td>\n",
       "      <td>log_fname</td>\n",
       "      <td>0</td>\n",
       "      <td>60</td>\n",
       "    </tr>\n",
       "    <tr>\n",
       "      <th>1</th>\n",
       "      <td>script_fname</td>\n",
       "      <td>config_fname</td>\n",
       "      <td>log_fname</td>\n",
       "      <td>0</td>\n",
       "      <td>60</td>\n",
       "    </tr>\n",
       "    <tr>\n",
       "      <th>2</th>\n",
       "      <td>script_fname</td>\n",
       "      <td>config_fname</td>\n",
       "      <td>log_fname</td>\n",
       "      <td>0</td>\n",
       "      <td>60</td>\n",
       "    </tr>\n",
       "    <tr>\n",
       "      <th>3</th>\n",
       "      <td>script_fname</td>\n",
       "      <td>config_fname</td>\n",
       "      <td>log_fname</td>\n",
       "      <td>0</td>\n",
       "      <td>60</td>\n",
       "    </tr>\n",
       "    <tr>\n",
       "      <th>4</th>\n",
       "      <td>script_fname</td>\n",
       "      <td>config_fname</td>\n",
       "      <td>log_fname</td>\n",
       "      <td>0</td>\n",
       "      <td>60</td>\n",
       "    </tr>\n",
       "    <tr>\n",
       "      <th>5</th>\n",
       "      <td>script_fname</td>\n",
       "      <td>config_fname</td>\n",
       "      <td>log_fname</td>\n",
       "      <td>0</td>\n",
       "      <td>60</td>\n",
       "    </tr>\n",
       "    <tr>\n",
       "      <th>6</th>\n",
       "      <td>script_fname</td>\n",
       "      <td>config_fname</td>\n",
       "      <td>log_fname</td>\n",
       "      <td>0</td>\n",
       "      <td>60</td>\n",
       "    </tr>\n",
       "    <tr>\n",
       "      <th>7</th>\n",
       "      <td>script_fname</td>\n",
       "      <td>config_fname</td>\n",
       "      <td>log_fname</td>\n",
       "      <td>0</td>\n",
       "      <td>60</td>\n",
       "    </tr>\n",
       "    <tr>\n",
       "      <th>8</th>\n",
       "      <td>script_fname</td>\n",
       "      <td>config_fname</td>\n",
       "      <td>log_fname</td>\n",
       "      <td>0</td>\n",
       "      <td>60</td>\n",
       "    </tr>\n",
       "    <tr>\n",
       "      <th>9</th>\n",
       "      <td>script_fname</td>\n",
       "      <td>config_fname</td>\n",
       "      <td>log_fname</td>\n",
       "      <td>0</td>\n",
       "      <td>60</td>\n",
       "    </tr>\n",
       "    <tr>\n",
       "      <th>10</th>\n",
       "      <td>script_fname</td>\n",
       "      <td>config_fname</td>\n",
       "      <td>log_fname</td>\n",
       "      <td>0</td>\n",
       "      <td>60</td>\n",
       "    </tr>\n",
       "    <tr>\n",
       "      <th>11</th>\n",
       "      <td>script_fname</td>\n",
       "      <td>config_fname</td>\n",
       "      <td>log_fname</td>\n",
       "      <td>0</td>\n",
       "      <td>60</td>\n",
       "    </tr>\n",
       "    <tr>\n",
       "      <th>12</th>\n",
       "      <td>script_fname</td>\n",
       "      <td>config_fname</td>\n",
       "      <td>log_fname</td>\n",
       "      <td>0</td>\n",
       "      <td>60</td>\n",
       "    </tr>\n",
       "    <tr>\n",
       "      <th>13</th>\n",
       "      <td>script_fname</td>\n",
       "      <td>config_fname</td>\n",
       "      <td>log_fname</td>\n",
       "      <td>0</td>\n",
       "      <td>60</td>\n",
       "    </tr>\n",
       "    <tr>\n",
       "      <th>14</th>\n",
       "      <td>script_fname</td>\n",
       "      <td>config_fname</td>\n",
       "      <td>log_fname</td>\n",
       "      <td>0</td>\n",
       "      <td>60</td>\n",
       "    </tr>\n",
       "    <tr>\n",
       "      <th>15</th>\n",
       "      <td>script_fname</td>\n",
       "      <td>config_fname</td>\n",
       "      <td>log_fname</td>\n",
       "      <td>0</td>\n",
       "      <td>60</td>\n",
       "    </tr>\n",
       "    <tr>\n",
       "      <th>16</th>\n",
       "      <td>script_fname</td>\n",
       "      <td>config_fname</td>\n",
       "      <td>log_fname</td>\n",
       "      <td>0</td>\n",
       "      <td>60</td>\n",
       "    </tr>\n",
       "    <tr>\n",
       "      <th>17</th>\n",
       "      <td>script_fname</td>\n",
       "      <td>config_fname</td>\n",
       "      <td>log_fname</td>\n",
       "      <td>0</td>\n",
       "      <td>60</td>\n",
       "    </tr>\n",
       "    <tr>\n",
       "      <th>18</th>\n",
       "      <td>script_fname</td>\n",
       "      <td>config_fname</td>\n",
       "      <td>log_fname</td>\n",
       "      <td>0</td>\n",
       "      <td>60</td>\n",
       "    </tr>\n",
       "    <tr>\n",
       "      <th>19</th>\n",
       "      <td>script_fname</td>\n",
       "      <td>config_fname</td>\n",
       "      <td>log_fname</td>\n",
       "      <td>0</td>\n",
       "      <td>60</td>\n",
       "    </tr>\n",
       "  </tbody>\n",
       "</table>\n",
       "</div>"
      ],
      "text/plain": [
       "    script_fname  config_fname  log_fname  fold  timeout\n",
       "0   script_fname  config_fname  log_fname     0       60\n",
       "1   script_fname  config_fname  log_fname     0       60\n",
       "2   script_fname  config_fname  log_fname     0       60\n",
       "3   script_fname  config_fname  log_fname     0       60\n",
       "4   script_fname  config_fname  log_fname     0       60\n",
       "5   script_fname  config_fname  log_fname     0       60\n",
       "6   script_fname  config_fname  log_fname     0       60\n",
       "7   script_fname  config_fname  log_fname     0       60\n",
       "8   script_fname  config_fname  log_fname     0       60\n",
       "9   script_fname  config_fname  log_fname     0       60\n",
       "10  script_fname  config_fname  log_fname     0       60\n",
       "11  script_fname  config_fname  log_fname     0       60\n",
       "12  script_fname  config_fname  log_fname     0       60\n",
       "13  script_fname  config_fname  log_fname     0       60\n",
       "14  script_fname  config_fname  log_fname     0       60\n",
       "15  script_fname  config_fname  log_fname     0       60\n",
       "16  script_fname  config_fname  log_fname     0       60\n",
       "17  script_fname  config_fname  log_fname     0       60\n",
       "18  script_fname  config_fname  log_fname     0       60\n",
       "19  script_fname  config_fname  log_fname     0       60"
      ]
     },
     "execution_count": 30,
     "metadata": {},
     "output_type": "execute_result"
    }
   ],
   "source": [
    "df.append(df2, ignore_index=True)"
   ]
  }
 ],
 "metadata": {
  "kernelspec": {
   "display_name": "Python [default]",
   "language": "python",
   "name": "python3"
  },
  "language_info": {
   "codemirror_mode": {
    "name": "ipython",
    "version": 3
   },
   "file_extension": ".py",
   "mimetype": "text/x-python",
   "name": "python",
   "nbconvert_exporter": "python",
   "pygments_lexer": "ipython3",
   "version": "3.6.1"
  },
  "toc": {
   "nav_menu": {},
   "number_sections": true,
   "sideBar": true,
   "skip_h1_title": true,
   "toc_cell": false,
   "toc_position": {},
   "toc_section_display": true,
   "toc_window_display": false
  }
 },
 "nbformat": 4,
 "nbformat_minor": 2
}
