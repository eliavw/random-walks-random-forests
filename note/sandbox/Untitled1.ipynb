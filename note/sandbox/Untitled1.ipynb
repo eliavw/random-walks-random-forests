{
 "cells": [
  {
   "cell_type": "code",
   "execution_count": null,
   "metadata": {
    "collapsed": true
   },
   "outputs": [],
   "source": []
  },
  {
   "cell_type": "code",
   "execution_count": 1,
   "metadata": {
    "collapsed": true
   },
   "outputs": [],
   "source": [
    "# Imports\n",
    "import os\n",
    "import numpy as np\n",
    "import pandas as pd\n",
    "import json\n",
    "import sys\n",
    "import pickle as pkl\n",
    "import warnings\n",
    "\n",
    "from os.path import dirname\n",
    "\n",
    "# Custom\n",
    "\n",
    "root_dir = dirname(dirname(os.getcwd()))\n",
    "src_dir = os.path.join(root_dir, 'src')\n",
    "sys.path.append(src_dir)\n",
    "\n",
    "import exp\n",
    "from exp.utils.extra import mem_usage\n",
    "from exp.utils.filesystem import *"
   ]
  },
  {
   "cell_type": "code",
   "execution_count": 2,
   "metadata": {
    "collapsed": true
   },
   "outputs": [],
   "source": [
    "def adapt_tuple(tup, q_idx):\n",
    "    q_appendix = gen_appendix(q_idx, kind='Q')\n",
    "    new_fname = insert_msg_in_fname(tup[1], q_appendix, sep='_')\n",
    "    \n",
    "    new_tuple = (tup[0], q_idx, new_fname)\n",
    "    return new_tuple"
   ]
  },
  {
   "cell_type": "code",
   "execution_count": 3,
   "metadata": {
    "collapsed": true
   },
   "outputs": [],
   "source": [
    "def _adapt_tuple_list(tuple_list, nb_queries):\n",
    "    \n",
    "    new_tuple_list = []\n",
    "    \n",
    "    for tup in tuple_list:\n",
    "        for q_idx in range(nb_queries):\n",
    "            new_tuple = adapt_tuple(tup, q_idx)\n",
    "            new_tuple_list.append(new_tuple)\n",
    "        \n",
    "    \n",
    "    return new_tuple_list"
   ]
  },
  {
   "cell_type": "code",
   "execution_count": 4,
   "metadata": {
    "collapsed": true
   },
   "outputs": [],
   "source": [
    "test = [(0, 'filename'), (1, 'filename_2')]"
   ]
  },
  {
   "cell_type": "code",
   "execution_count": 5,
   "metadata": {
    "collapsed": true
   },
   "outputs": [],
   "source": [
    "nb_queries = 10"
   ]
  },
  {
   "cell_type": "code",
   "execution_count": 6,
   "metadata": {},
   "outputs": [
    {
     "data": {
      "text/plain": [
       "[(0, 0, 'filename_Q0000'),\n",
       " (0, 1, 'filename_Q0001'),\n",
       " (0, 2, 'filename_Q0002'),\n",
       " (0, 3, 'filename_Q0003'),\n",
       " (0, 4, 'filename_Q0004'),\n",
       " (0, 5, 'filename_Q0005'),\n",
       " (0, 6, 'filename_Q0006'),\n",
       " (0, 7, 'filename_Q0007'),\n",
       " (0, 8, 'filename_Q0008'),\n",
       " (0, 9, 'filename_Q0009'),\n",
       " (1, 0, 'filename_2_Q0000'),\n",
       " (1, 1, 'filename_2_Q0001'),\n",
       " (1, 2, 'filename_2_Q0002'),\n",
       " (1, 3, 'filename_2_Q0003'),\n",
       " (1, 4, 'filename_2_Q0004'),\n",
       " (1, 5, 'filename_2_Q0005'),\n",
       " (1, 6, 'filename_2_Q0006'),\n",
       " (1, 7, 'filename_2_Q0007'),\n",
       " (1, 8, 'filename_2_Q0008'),\n",
       " (1, 9, 'filename_2_Q0009')]"
      ]
     },
     "execution_count": 6,
     "metadata": {},
     "output_type": "execute_result"
    }
   ],
   "source": [
    "adapt_tuple_list(test, nb_queries)"
   ]
  }
 ],
 "metadata": {
  "kernelspec": {
   "display_name": "Python [default]",
   "language": "python",
   "name": "python3"
  },
  "language_info": {
   "codemirror_mode": {
    "name": "ipython",
    "version": 3
   },
   "file_extension": ".py",
   "mimetype": "text/x-python",
   "name": "python",
   "nbconvert_exporter": "python",
   "pygments_lexer": "ipython3",
   "version": "3.6.8"
  },
  "toc": {
   "nav_menu": {},
   "number_sections": true,
   "sideBar": true,
   "skip_h1_title": true,
   "toc_cell": false,
   "toc_position": {},
   "toc_section_display": "block",
   "toc_window_display": false
  }
 },
 "nbformat": 4,
 "nbformat_minor": 2
}
