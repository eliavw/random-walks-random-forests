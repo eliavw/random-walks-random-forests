{
 "cells": [
  {
   "cell_type": "markdown",
   "metadata": {},
   "source": [
    "# Generate Mercs Inf \n",
    "\n",
    "Mercs inference configurations."
   ]
  },
  {
   "cell_type": "markdown",
   "metadata": {},
   "source": [
    "## Preliminaries"
   ]
  },
  {
   "cell_type": "markdown",
   "metadata": {
    "heading_collapsed": true
   },
   "source": [
    "### Imports"
   ]
  },
  {
   "cell_type": "code",
   "execution_count": 1,
   "metadata": {
    "collapsed": true,
    "hidden": true
   },
   "outputs": [],
   "source": [
    "# Imports\n",
    "import os\n",
    "import numpy as np\n",
    "import pandas as pd\n",
    "import json\n",
    "import sys\n",
    "import pickle as pkl\n",
    "import warnings\n",
    "\n",
    "from datetime import datetime\n",
    "from os.path import dirname"
   ]
  },
  {
   "cell_type": "code",
   "execution_count": 2,
   "metadata": {
    "collapsed": true,
    "hidden": true
   },
   "outputs": [],
   "source": [
    "# Custom Imports\n",
    "root_dir = dirname(dirname(os.getcwd()))\n",
    "src_dir = os.path.join(root_dir, 'src')\n",
    "cli_dir = os.path.join(root_dir, 'cli')\n",
    "cli_cfg_dir = os.path.join(cli_dir, 'config')\n",
    "sys.path.append(src_dir)\n",
    "\n",
    "from exp.utils.filesystem import ensure_dir"
   ]
  },
  {
   "cell_type": "markdown",
   "metadata": {
    "heading_collapsed": true
   },
   "source": [
    "### Methods"
   ]
  },
  {
   "cell_type": "code",
   "execution_count": 3,
   "metadata": {
    "collapsed": true,
    "hidden": true
   },
   "outputs": [],
   "source": [
    "def save_parameters(d, fname, folder=None, fresh=False):\n",
    "    \"\"\"\n",
    "    Function that saves the parameters as a json file.\n",
    "    \"\"\"\n",
    "    \n",
    "    if folder is not None:\n",
    "        ensure_dir(folder, empty=fresh)\n",
    "        \n",
    "    ext = \"json\"\n",
    "    fname = os.path.join(folder, fname) + '.' + ext\n",
    "    \n",
    "    with open(fname, 'w') as f:\n",
    "        json.dump(d, f, indent=4, sort_keys=True)\n",
    "    return fname"
   ]
  },
  {
   "cell_type": "markdown",
   "metadata": {},
   "source": [
    "### Global Variables\n",
    "\n",
    "For all info dataset-related, cf. https://github.com/UCLA-StarAI/Density-Estimation-Datasets. That is the source. \n",
    "\n",
    "For the rest this section defines some lists and variables that will recur."
   ]
  },
  {
   "cell_type": "code",
   "execution_count": 4,
   "metadata": {
    "code_folding": [],
    "collapsed": true
   },
   "outputs": [],
   "source": [
    "# tiny datasets < 20 variables\n",
    "tiny_datasets = ['nltcs',\n",
    "                 'msnbc']"
   ]
  },
  {
   "cell_type": "code",
   "execution_count": 5,
   "metadata": {
    "code_folding": [],
    "collapsed": true
   },
   "outputs": [],
   "source": [
    "# small datasets: < 101 variables\n",
    "small_datasets = ['jester',\n",
    "                  'kdd',\n",
    "                  'plants',\n",
    "                  'baudio',\n",
    "                  'bnetflix']\n",
    "\n",
    "tiny_small_datasets = tiny_datasets + small_datasets"
   ]
  },
  {
   "cell_type": "code",
   "execution_count": 6,
   "metadata": {
    "code_folding": [
     1
    ],
    "collapsed": true
   },
   "outputs": [],
   "source": [
    "# middle datasets: (100 < x < 501) variables\n",
    "medium_datasets = ['accidents',\n",
    "                   'tretail',\n",
    "                   'pumsb_star',\n",
    "                   'dna',\n",
    "                   'kosarek',\n",
    "                   'msweb',\n",
    "                   'book',\n",
    "                   'tmovie']"
   ]
  },
  {
   "cell_type": "code",
   "execution_count": 7,
   "metadata": {
    "code_folding": [
     1
    ],
    "collapsed": true
   },
   "outputs": [],
   "source": [
    "# large datasets: 500 < x variables\n",
    "large_datasets = ['cwebkb',\n",
    "                  'cr52',\n",
    "                  'c20ng',\n",
    "                  'bbc',\n",
    "                  'voting',\n",
    "                  'ad']"
   ]
  },
  {
   "cell_type": "code",
   "execution_count": 8,
   "metadata": {
    "collapsed": true
   },
   "outputs": [],
   "source": [
    "tiny_small_datasets = tiny_datasets + small_datasets\n",
    "medium_large_datasets = medium_datasets + large_datasets\n",
    "all_datasets = tiny_datasets + small_datasets + medium_datasets + large_datasets\n",
    "\n",
    "hr_in_s = 60*60\n",
    "datecode = \"{:%y%m%d}\".format(datetime.now())"
   ]
  },
  {
   "cell_type": "markdown",
   "metadata": {},
   "source": [
    "## Local Demo"
   ]
  },
  {
   "cell_type": "markdown",
   "metadata": {},
   "source": [
    "### Fixed Parameters\n",
    "\n",
    "Defining some fixed parameters."
   ]
  },
  {
   "cell_type": "code",
   "execution_count": 9,
   "metadata": {
    "collapsed": true
   },
   "outputs": [],
   "source": [
    "cfg_dir = datecode + '-mercs-inf-rw'\n",
    "cfg_dir = os.path.join(cli_cfg_dir, cfg_dir)\n",
    "child = 'RunMercs'"
   ]
  },
  {
   "cell_type": "code",
   "execution_count": 10,
   "metadata": {
    "collapsed": true
   },
   "outputs": [],
   "source": [
    "to_hrs =  int(1 * hr_in_s) \n",
    "folds = [0]                  "
   ]
  },
  {
   "cell_type": "code",
   "execution_count": 11,
   "metadata": {
    "collapsed": true
   },
   "outputs": [],
   "source": [
    "gen_parameters = {\"child\":                            child,\n",
    "                  child + \".folds\":                   folds,\n",
    "                  child + \".timeout\":                 to_hrs}\n",
    "\n",
    "qry_parameters = {child + \".qry.keyword\":             \"it-S\",\n",
    "                  child + \".nb_queries\":               20}\n",
    "\n",
    "\n",
    "mod_parameters = {\"keyword\":             \"md16\",\n",
    "                  \"type\":                \"Mercs\"}\n",
    "mod_parameters = {child + \".mod.\" + k:v for k,v in mod_parameters.items()}\n",
    "\n",
    "\n",
    "predict_parameters = {}"
   ]
  },
  {
   "cell_type": "code",
   "execution_count": 12,
   "metadata": {
    "collapsed": true
   },
   "outputs": [],
   "source": [
    "fixed_parameters = {**gen_parameters, **qry_parameters, **mod_parameters, **predict_parameters }"
   ]
  },
  {
   "cell_type": "markdown",
   "metadata": {},
   "source": [
    "### Exploration - SL\n",
    "\n",
    "Here we define the grid that has to be searched."
   ]
  },
  {
   "cell_type": "code",
   "execution_count": 13,
   "metadata": {
    "collapsed": true
   },
   "outputs": [],
   "source": [
    "idx = 12"
   ]
  },
  {
   "cell_type": "code",
   "execution_count": 14,
   "metadata": {
    "collapsed": true
   },
   "outputs": [],
   "source": [
    "exp_parameters = {\"idx\":                             idx,\n",
    "                  \"explore.dataset\":                 tiny_small_datasets,\n",
    "                  \"explore.Mercs.predict.algo\":      [\"MI\", \"MAFI\"],\n",
    "                  \"explore.Mercs.predict.its\":       [0.1],\n",
    "                  \"explore.Mercs.predict.param\":     [0.95]}"
   ]
  },
  {
   "cell_type": "code",
   "execution_count": 15,
   "metadata": {},
   "outputs": [
    {
     "data": {
      "text/plain": [
       "'/cw/dtailocal/Dropbox/Files/KUL/research/codebases/homework/cli/config/190211-mercs-inf-rw/12_mercs-inf-sl-md16.json'"
      ]
     },
     "execution_count": 15,
     "metadata": {},
     "output_type": "execute_result"
    }
   ],
   "source": [
    "fname = str(exp_parameters['idx']) +'_' +  \"mercs-inf-sl-md16\"\n",
    "save_parameters({**fixed_parameters, **exp_parameters}, fname, folder=cfg_dir, fresh=False)"
   ]
  },
  {
   "cell_type": "markdown",
   "metadata": {},
   "source": [
    "### Exploration - ML\n",
    "\n",
    "Here we define the grid that has to be searched."
   ]
  },
  {
   "cell_type": "code",
   "execution_count": 16,
   "metadata": {
    "collapsed": true
   },
   "outputs": [],
   "source": [
    "idx = 52"
   ]
  },
  {
   "cell_type": "code",
   "execution_count": 17,
   "metadata": {
    "collapsed": true
   },
   "outputs": [],
   "source": [
    "exp_parameters = {\"idx\":                             idx,\n",
    "                  \"explore.dataset\":                 tiny_small_datasets,\n",
    "                  \"explore.Mercs.predict.algo\":      [\"IT\"],\n",
    "                  \"explore.Mercs.predict.its\":       [8, 64],\n",
    "                  \"explore.Mercs.predict.param\":     [0.1]}"
   ]
  },
  {
   "cell_type": "code",
   "execution_count": 18,
   "metadata": {},
   "outputs": [
    {
     "data": {
      "text/plain": [
       "'/cw/dtailocal/Dropbox/Files/KUL/research/codebases/homework/cli/config/190211-mercs-inf-rw/52_mercs-inf-it.json'"
      ]
     },
     "execution_count": 18,
     "metadata": {},
     "output_type": "execute_result"
    }
   ],
   "source": [
    "fname = str(exp_parameters['idx']) +'_' +  \"mercs-inf-it\"\n",
    "save_parameters({**fixed_parameters, **exp_parameters}, fname, folder=cfg_dir)"
   ]
  },
  {
   "cell_type": "code",
   "execution_count": 19,
   "metadata": {
    "collapsed": true
   },
   "outputs": [],
   "source": [
    "idx = 53"
   ]
  },
  {
   "cell_type": "code",
   "execution_count": 20,
   "metadata": {
    "collapsed": true
   },
   "outputs": [],
   "source": [
    "exp_parameters = {\"idx\":                             idx,\n",
    "                  \"explore.dataset\":                 tiny_small_datasets,\n",
    "                  \"explore.Mercs.predict.algo\":      [\"RW\"],\n",
    "                  \"explore.Mercs.predict.its\":       [8, 64],\n",
    "                  \"explore.Mercs.predict.param\":     [1]}"
   ]
  },
  {
   "cell_type": "code",
   "execution_count": 21,
   "metadata": {},
   "outputs": [
    {
     "data": {
      "text/plain": [
       "'/cw/dtailocal/Dropbox/Files/KUL/research/codebases/homework/cli/config/190211-mercs-inf-rw/53_mercs-inf-rw.json'"
      ]
     },
     "execution_count": 21,
     "metadata": {},
     "output_type": "execute_result"
    }
   ],
   "source": [
    "fname = str(exp_parameters['idx']) +'_' +  \"mercs-inf-rw\"\n",
    "save_parameters({**fixed_parameters, **exp_parameters}, fname, folder=cfg_dir)"
   ]
  }
 ],
 "metadata": {
  "kernelspec": {
   "display_name": "Python [default]",
   "language": "python",
   "name": "python3"
  },
  "language_info": {
   "codemirror_mode": {
    "name": "ipython",
    "version": 3
   },
   "file_extension": ".py",
   "mimetype": "text/x-python",
   "name": "python",
   "nbconvert_exporter": "python",
   "pygments_lexer": "ipython3",
   "version": "3.6.8"
  },
  "toc": {
   "nav_menu": {},
   "number_sections": true,
   "sideBar": true,
   "skip_h1_title": true,
   "toc_cell": false,
   "toc_position": {},
   "toc_section_display": "block",
   "toc_window_display": true
  }
 },
 "nbformat": 4,
 "nbformat_minor": 2
}
