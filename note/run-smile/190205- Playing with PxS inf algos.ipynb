{
 "cells": [
  {
   "cell_type": "markdown",
   "metadata": {},
   "source": [
    "# Playing with the PxS Package\n",
    "\n",
    "My own wrapper for Bayesfusion SMILE"
   ]
  },
  {
   "cell_type": "markdown",
   "metadata": {},
   "source": [
    "## Imports"
   ]
  },
  {
   "cell_type": "code",
   "execution_count": 1,
   "metadata": {
    "collapsed": true
   },
   "outputs": [],
   "source": [
    "import os\n",
    "import sys\n",
    "import numpy as np\n",
    "\n",
    "from os.path import dirname"
   ]
  },
  {
   "cell_type": "code",
   "execution_count": 2,
   "metadata": {
    "collapsed": true
   },
   "outputs": [],
   "source": [
    "# Custom imports\n",
    "root_dir = dirname(dirname(os.getcwd()))\n",
    "src_dir = os.path.join(root_dir, 'src')\n",
    "libs_dir = os.path.join(root_dir, 'libs')\n",
    "\n",
    "sys.path.append(src_dir)\n",
    "sys.path.append(libs_dir)\n",
    "\n",
    "import PxS as pxs"
   ]
  },
  {
   "cell_type": "markdown",
   "metadata": {
    "collapsed": true
   },
   "source": [
    "## Playground"
   ]
  },
  {
   "cell_type": "code",
   "execution_count": 3,
   "metadata": {
    "collapsed": true
   },
   "outputs": [],
   "source": [
    "clf = pxs.PxS()"
   ]
  },
  {
   "cell_type": "code",
   "execution_count": 4,
   "metadata": {
    "collapsed": true
   },
   "outputs": [],
   "source": [
    "train_fname = './resc/train.csv'"
   ]
  },
  {
   "cell_type": "code",
   "execution_count": 7,
   "metadata": {},
   "outputs": [
    {
     "name": "stdout",
     "output_type": "stream",
     "text": [
      "\n",
      "        Generated command: ['./backend/fit', '-c', '/cw/dtailocal/Dropbox/Files/KUL/research/codebases/homework/note/run-smile/140440157550184_config_fit.json']\n",
      "        \n",
      "\n",
      "\n",
      "        log_fname:          /cw/dtailocal/Dropbox/Files/KUL/research/codebases/homework/note/run-smile/140440157550184_PxS_log_fit\n",
      "        log_dir:            /cw/dtailocal/Dropbox/Files/KUL/research/codebases/homework/note/run-smile\n",
      "        log_bfn:            140440157550184_PxS_log_fit\n",
      "        success_log_fnames: ['140440157550184_PxS_log_fit.success.log']\n",
      "        \n",
      "\n"
     ]
    },
    {
     "data": {
      "text/plain": [
       "0"
      ]
     },
     "execution_count": 7,
     "metadata": {},
     "output_type": "execute_result"
    }
   ],
   "source": [
    "clf.fit(train_fname)"
   ]
  },
  {
   "cell_type": "code",
   "execution_count": 12,
   "metadata": {},
   "outputs": [
    {
     "data": {
      "text/plain": [
       "{'AIS_sampling': 7,\n",
       " 'EPIS_sampling': 8,\n",
       " 'clustering': 0,\n",
       " 'henrion': 1,\n",
       " 'lauritzen': 0,\n",
       " 'likelihood_sampling': 3,\n",
       " 'linear_relevance_decomposition': 11,\n",
       " 'logic_sampling': 1,\n",
       " 'loopy_belief_propagation': 9,\n",
       " 'recursive_relevance_decomposition': 12}"
      ]
     },
     "execution_count": 12,
     "metadata": {},
     "output_type": "execute_result"
    }
   ],
   "source": [
    "clf.inference_algorithms"
   ]
  },
  {
   "cell_type": "code",
   "execution_count": 13,
   "metadata": {},
   "outputs": [
    {
     "name": "stdout",
     "output_type": "stream",
     "text": [
      "\n",
      "        pred_config:                {'test_fname': '/cw/dtailocal/Dropbox/Files/KUL/research/codebases/homework/note/run-smile/./resc/test.csv', 'out_fname': '/cw/dtailocal/Dropbox/Files/KUL/research/codebases/homework/note/run-smile/out.csv', 'model_fname': '/cw/dtailocal/Dropbox/Files/KUL/research/codebases/homework/note/run-smile/model.xdsl', 'inference_algorithm': 0, 'miss_idx': [], 'targ_idx': [14]}\n",
      "        type(targ_idx):             <class 'list'>\n",
      "        type(type(targ_idx[0])):    <class 'int'>\n",
      "        \n",
      "\n",
      "\n",
      "        Generated command: ['./backend/predict', '-c', '/cw/dtailocal/Dropbox/Files/KUL/research/codebases/homework/note/run-smile/140440157550184_config_predict.json']\n",
      "        \n",
      "\n",
      "\n",
      "        log_fname:          /cw/dtailocal/Dropbox/Files/KUL/research/codebases/homework/note/run-smile/140440157550184_PxS_log_predict\n",
      "        log_dir:            /cw/dtailocal/Dropbox/Files/KUL/research/codebases/homework/note/run-smile\n",
      "        log_bfn:            140440157550184_PxS_log_predict\n",
      "        success_log_fnames: ['140440157550184_PxS_log_predict.success.log']\n",
      "        \n",
      "\n"
     ]
    },
    {
     "data": {
      "text/plain": [
       "array([[0],\n",
       "       [0],\n",
       "       [0],\n",
       "       ...,\n",
       "       [0],\n",
       "       [0],\n",
       "       [1]])"
      ]
     },
     "execution_count": 13,
     "metadata": {},
     "output_type": "execute_result"
    }
   ],
   "source": [
    "clf.predict('./resc/test.csv', targ_idx=[14], miss_idx=[], inference_algo=\"AIS_sampling\")"
   ]
  },
  {
   "cell_type": "code",
   "execution_count": null,
   "metadata": {
    "collapsed": true
   },
   "outputs": [],
   "source": []
  }
 ],
 "metadata": {
  "kernelspec": {
   "display_name": "Python [default]",
   "language": "python",
   "name": "python3"
  },
  "language_info": {
   "codemirror_mode": {
    "name": "ipython",
    "version": 3
   },
   "file_extension": ".py",
   "mimetype": "text/x-python",
   "name": "python",
   "nbconvert_exporter": "python",
   "pygments_lexer": "ipython3",
   "version": "3.6.8"
  },
  "toc": {
   "nav_menu": {},
   "number_sections": true,
   "sideBar": true,
   "skip_h1_title": true,
   "toc_cell": false,
   "toc_position": {},
   "toc_section_display": "block",
   "toc_window_display": false
  }
 },
 "nbformat": 4,
 "nbformat_minor": 2
}
